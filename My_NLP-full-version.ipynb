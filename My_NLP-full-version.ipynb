{
 "cells": [
  {
   "cell_type": "code",
   "execution_count": 1,
   "id": "791f3b9b",
   "metadata": {},
   "outputs": [
    {
     "name": "stdout",
     "output_type": "stream",
     "text": [
      "Collecting wordcloud\n",
      "  Obtaining dependency information for wordcloud from https://files.pythonhosted.org/packages/40/ad/c22887189c23cc133ae7cbad48c71312f1a962b960fe7f51fd792808a307/wordcloud-1.9.3-cp311-cp311-manylinux_2_17_x86_64.manylinux2014_x86_64.whl.metadata\n",
      "  Downloading wordcloud-1.9.3-cp311-cp311-manylinux_2_17_x86_64.manylinux2014_x86_64.whl.metadata (3.4 kB)\n",
      "Requirement already satisfied: numpy>=1.6.1 in /home/vini/anaconda3/lib/python3.11/site-packages (from wordcloud) (1.24.3)\n",
      "Requirement already satisfied: pillow in /home/vini/anaconda3/lib/python3.11/site-packages (from wordcloud) (9.4.0)\n",
      "Requirement already satisfied: matplotlib in /home/vini/anaconda3/lib/python3.11/site-packages (from wordcloud) (3.7.2)\n",
      "Requirement already satisfied: contourpy>=1.0.1 in /home/vini/anaconda3/lib/python3.11/site-packages (from matplotlib->wordcloud) (1.0.5)\n",
      "Requirement already satisfied: cycler>=0.10 in /home/vini/anaconda3/lib/python3.11/site-packages (from matplotlib->wordcloud) (0.11.0)\n",
      "Requirement already satisfied: fonttools>=4.22.0 in /home/vini/anaconda3/lib/python3.11/site-packages (from matplotlib->wordcloud) (4.25.0)\n",
      "Requirement already satisfied: kiwisolver>=1.0.1 in /home/vini/anaconda3/lib/python3.11/site-packages (from matplotlib->wordcloud) (1.4.4)\n",
      "Requirement already satisfied: packaging>=20.0 in /home/vini/anaconda3/lib/python3.11/site-packages (from matplotlib->wordcloud) (23.1)\n",
      "Requirement already satisfied: pyparsing<3.1,>=2.3.1 in /home/vini/anaconda3/lib/python3.11/site-packages (from matplotlib->wordcloud) (3.0.9)\n",
      "Requirement already satisfied: python-dateutil>=2.7 in /home/vini/anaconda3/lib/python3.11/site-packages (from matplotlib->wordcloud) (2.8.2)\n",
      "Requirement already satisfied: six>=1.5 in /home/vini/anaconda3/lib/python3.11/site-packages (from python-dateutil>=2.7->matplotlib->wordcloud) (1.16.0)\n",
      "Downloading wordcloud-1.9.3-cp311-cp311-manylinux_2_17_x86_64.manylinux2014_x86_64.whl (548 kB)\n",
      "\u001b[2K   \u001b[38;2;114;156;31m━━━━━━━━━━━━━━━━━━━━━━━━━━━━━━━━━━━━━━━\u001b[0m \u001b[32m548.3/548.3 kB\u001b[0m \u001b[31m257.6 kB/s\u001b[0m eta \u001b[36m0:00:00\u001b[0mm eta \u001b[36m0:00:01\u001b[0m[36m0:00:01\u001b[0m\n",
      "\u001b[?25hInstalling collected packages: wordcloud\n",
      "Successfully installed wordcloud-1.9.3\n"
     ]
    }
   ],
   "source": [
    "\n",
    "!pip install wordcloud"
   ]
  },
  {
   "cell_type": "code",
   "execution_count": 2,
   "id": "48079863",
   "metadata": {},
   "outputs": [
    {
     "name": "stderr",
     "output_type": "stream",
     "text": [
      "[nltk_data] Downloading package stopwords to /home/vini/nltk_data...\n",
      "[nltk_data]   Package stopwords is already up-to-date!\n",
      "[nltk_data] Downloading package punkt to /home/vini/nltk_data...\n",
      "[nltk_data]   Package punkt is already up-to-date!\n",
      "[nltk_data] Downloading package wordnet to /home/vini/nltk_data...\n"
     ]
    },
    {
     "data": {
      "text/plain": [
       "True"
      ]
     },
     "execution_count": 2,
     "metadata": {},
     "output_type": "execute_result"
    }
   ],
   "source": [
    "from wordcloud import WordCloud\n",
    "import nltk\n",
    "from nltk.stem import WordNetLemmatizer\n",
    "from nltk.stem import PorterStemmer\n",
    "from nltk.corpus import stopwords\n",
    "from nltk.tokenize import word_tokenize\n",
    "import pandas as pd\n",
    "import matplotlib.pyplot as plt \n",
    "nltk.download(\"stopwords\")\n",
    "nltk.download(\"punkt\")\n",
    "nltk.download('wordnet')"
   ]
  },
  {
   "cell_type": "code",
   "execution_count": 3,
   "id": "5dae6e13",
   "metadata": {},
   "outputs": [],
   "source": [
    "corpus = \"\"\"The beneficiaries of the Women AI and Data Academy program are Amazons. \n",
    "They are currently learning data visualization, machine learning, deep learning, \n",
    "web scraping, as well as all the concepts of data and AI. \n",
    "They are gaining knowledge of the complete functioning of algorithms, \n",
    "from understanding the algorithms to implementing models, \n",
    "taking into account data retrieval, storage, and streaming for BI purposes.\"\"\""
   ]
  },
  {
   "cell_type": "code",
   "execution_count": 4,
   "id": "b7c30fd2",
   "metadata": {},
   "outputs": [],
   "source": [
    "corpus = corpus.lower()"
   ]
  },
  {
   "cell_type": "code",
   "execution_count": 5,
   "id": "43c4669c",
   "metadata": {},
   "outputs": [
    {
     "data": {
      "text/plain": [
       "'the beneficiaries of the women ai and data academy program are amazons. \\nthey are currently learning data visualization, machine learning, deep learning, \\nweb scraping, as well as all the concepts of data and ai. \\nthey are gaining knowledge of the complete functioning of algorithms, \\nfrom understanding the algorithms to implementing models, \\ntaking into account data retrieval, storage, and streaming for bi purposes.'"
      ]
     },
     "execution_count": 5,
     "metadata": {},
     "output_type": "execute_result"
    }
   ],
   "source": [
    "corpus"
   ]
  },
  {
   "cell_type": "code",
   "execution_count": 6,
   "id": "b772d9c1",
   "metadata": {},
   "outputs": [],
   "source": [
    "corpus = corpus.replace(\".\",' ').replace(\",\",\" \").replace('\\n',\" \").replace(\"  \",\" \").replace(\"   \",\" \")"
   ]
  },
  {
   "cell_type": "code",
   "execution_count": 7,
   "id": "589d5b7f",
   "metadata": {},
   "outputs": [
    {
     "data": {
      "text/plain": [
       "'the beneficiaries of the women ai and data academy program are amazons  they are currently learning data visualization machine learning deep learning  web scraping as well as all the concepts of data and ai  they are gaining knowledge of the complete functioning of algorithms  from understanding the algorithms to implementing models  taking into account data retrieval storage and streaming for bi purposes '"
      ]
     },
     "execution_count": 7,
     "metadata": {},
     "output_type": "execute_result"
    }
   ],
   "source": [
    "corpus"
   ]
  },
  {
   "cell_type": "code",
   "execution_count": 8,
   "id": "dd7fc362",
   "metadata": {},
   "outputs": [],
   "source": [
    "stop_w = stopwords.words(\"english\")"
   ]
  },
  {
   "cell_type": "code",
   "execution_count": 9,
   "id": "d16fdc16",
   "metadata": {},
   "outputs": [
    {
     "data": {
      "text/plain": [
       "['i',\n",
       " 'me',\n",
       " 'my',\n",
       " 'myself',\n",
       " 'we',\n",
       " 'our',\n",
       " 'ours',\n",
       " 'ourselves',\n",
       " 'you',\n",
       " \"you're\",\n",
       " \"you've\",\n",
       " \"you'll\",\n",
       " \"you'd\",\n",
       " 'your',\n",
       " 'yours',\n",
       " 'yourself',\n",
       " 'yourselves',\n",
       " 'he',\n",
       " 'him',\n",
       " 'his',\n",
       " 'himself',\n",
       " 'she',\n",
       " \"she's\",\n",
       " 'her',\n",
       " 'hers',\n",
       " 'herself',\n",
       " 'it',\n",
       " \"it's\",\n",
       " 'its',\n",
       " 'itself',\n",
       " 'they',\n",
       " 'them',\n",
       " 'their',\n",
       " 'theirs',\n",
       " 'themselves',\n",
       " 'what',\n",
       " 'which',\n",
       " 'who',\n",
       " 'whom',\n",
       " 'this',\n",
       " 'that',\n",
       " \"that'll\",\n",
       " 'these',\n",
       " 'those',\n",
       " 'am',\n",
       " 'is',\n",
       " 'are',\n",
       " 'was',\n",
       " 'were',\n",
       " 'be',\n",
       " 'been',\n",
       " 'being',\n",
       " 'have',\n",
       " 'has',\n",
       " 'had',\n",
       " 'having',\n",
       " 'do',\n",
       " 'does',\n",
       " 'did',\n",
       " 'doing',\n",
       " 'a',\n",
       " 'an',\n",
       " 'the',\n",
       " 'and',\n",
       " 'but',\n",
       " 'if',\n",
       " 'or',\n",
       " 'because',\n",
       " 'as',\n",
       " 'until',\n",
       " 'while',\n",
       " 'of',\n",
       " 'at',\n",
       " 'by',\n",
       " 'for',\n",
       " 'with',\n",
       " 'about',\n",
       " 'against',\n",
       " 'between',\n",
       " 'into',\n",
       " 'through',\n",
       " 'during',\n",
       " 'before',\n",
       " 'after',\n",
       " 'above',\n",
       " 'below',\n",
       " 'to',\n",
       " 'from',\n",
       " 'up',\n",
       " 'down',\n",
       " 'in',\n",
       " 'out',\n",
       " 'on',\n",
       " 'off',\n",
       " 'over',\n",
       " 'under',\n",
       " 'again',\n",
       " 'further',\n",
       " 'then',\n",
       " 'once',\n",
       " 'here',\n",
       " 'there',\n",
       " 'when',\n",
       " 'where',\n",
       " 'why',\n",
       " 'how',\n",
       " 'all',\n",
       " 'any',\n",
       " 'both',\n",
       " 'each',\n",
       " 'few',\n",
       " 'more',\n",
       " 'most',\n",
       " 'other',\n",
       " 'some',\n",
       " 'such',\n",
       " 'no',\n",
       " 'nor',\n",
       " 'not',\n",
       " 'only',\n",
       " 'own',\n",
       " 'same',\n",
       " 'so',\n",
       " 'than',\n",
       " 'too',\n",
       " 'very',\n",
       " 's',\n",
       " 't',\n",
       " 'can',\n",
       " 'will',\n",
       " 'just',\n",
       " 'don',\n",
       " \"don't\",\n",
       " 'should',\n",
       " \"should've\",\n",
       " 'now',\n",
       " 'd',\n",
       " 'll',\n",
       " 'm',\n",
       " 'o',\n",
       " 're',\n",
       " 've',\n",
       " 'y',\n",
       " 'ain',\n",
       " 'aren',\n",
       " \"aren't\",\n",
       " 'couldn',\n",
       " \"couldn't\",\n",
       " 'didn',\n",
       " \"didn't\",\n",
       " 'doesn',\n",
       " \"doesn't\",\n",
       " 'hadn',\n",
       " \"hadn't\",\n",
       " 'hasn',\n",
       " \"hasn't\",\n",
       " 'haven',\n",
       " \"haven't\",\n",
       " 'isn',\n",
       " \"isn't\",\n",
       " 'ma',\n",
       " 'mightn',\n",
       " \"mightn't\",\n",
       " 'mustn',\n",
       " \"mustn't\",\n",
       " 'needn',\n",
       " \"needn't\",\n",
       " 'shan',\n",
       " \"shan't\",\n",
       " 'shouldn',\n",
       " \"shouldn't\",\n",
       " 'wasn',\n",
       " \"wasn't\",\n",
       " 'weren',\n",
       " \"weren't\",\n",
       " 'won',\n",
       " \"won't\",\n",
       " 'wouldn',\n",
       " \"wouldn't\"]"
      ]
     },
     "execution_count": 9,
     "metadata": {},
     "output_type": "execute_result"
    }
   ],
   "source": [
    "stop_w"
   ]
  },
  {
   "cell_type": "code",
   "execution_count": 10,
   "id": "951af13e",
   "metadata": {},
   "outputs": [],
   "source": [
    "tokens = word_tokenize(corpus)"
   ]
  },
  {
   "cell_type": "code",
   "execution_count": 11,
   "id": "1d3ef694",
   "metadata": {},
   "outputs": [
    {
     "data": {
      "text/plain": [
       "['the',\n",
       " 'beneficiaries',\n",
       " 'of',\n",
       " 'the',\n",
       " 'women',\n",
       " 'ai',\n",
       " 'and',\n",
       " 'data',\n",
       " 'academy',\n",
       " 'program',\n",
       " 'are',\n",
       " 'amazons',\n",
       " 'they',\n",
       " 'are',\n",
       " 'currently',\n",
       " 'learning',\n",
       " 'data',\n",
       " 'visualization',\n",
       " 'machine',\n",
       " 'learning',\n",
       " 'deep',\n",
       " 'learning',\n",
       " 'web',\n",
       " 'scraping',\n",
       " 'as',\n",
       " 'well',\n",
       " 'as',\n",
       " 'all',\n",
       " 'the',\n",
       " 'concepts',\n",
       " 'of',\n",
       " 'data',\n",
       " 'and',\n",
       " 'ai',\n",
       " 'they',\n",
       " 'are',\n",
       " 'gaining',\n",
       " 'knowledge',\n",
       " 'of',\n",
       " 'the',\n",
       " 'complete',\n",
       " 'functioning',\n",
       " 'of',\n",
       " 'algorithms',\n",
       " 'from',\n",
       " 'understanding',\n",
       " 'the',\n",
       " 'algorithms',\n",
       " 'to',\n",
       " 'implementing',\n",
       " 'models',\n",
       " 'taking',\n",
       " 'into',\n",
       " 'account',\n",
       " 'data',\n",
       " 'retrieval',\n",
       " 'storage',\n",
       " 'and',\n",
       " 'streaming',\n",
       " 'for',\n",
       " 'bi',\n",
       " 'purposes']"
      ]
     },
     "execution_count": 11,
     "metadata": {},
     "output_type": "execute_result"
    }
   ],
   "source": [
    "tokens"
   ]
  },
  {
   "cell_type": "code",
   "execution_count": 12,
   "id": "8f516d1c",
   "metadata": {},
   "outputs": [],
   "source": [
    "stop_w_corpus = [ elt for elt in tokens if elt in stop_w]"
   ]
  },
  {
   "cell_type": "code",
   "execution_count": 13,
   "id": "621e14b0",
   "metadata": {},
   "outputs": [],
   "source": [
    "tokens = [ elt for elt in tokens if elt not in stop_w]"
   ]
  },
  {
   "cell_type": "code",
   "execution_count": 14,
   "id": "ea648a16",
   "metadata": {},
   "outputs": [
    {
     "data": {
      "text/plain": [
       "['beneficiaries',\n",
       " 'women',\n",
       " 'ai',\n",
       " 'data',\n",
       " 'academy',\n",
       " 'program',\n",
       " 'amazons',\n",
       " 'currently',\n",
       " 'learning',\n",
       " 'data',\n",
       " 'visualization',\n",
       " 'machine',\n",
       " 'learning',\n",
       " 'deep',\n",
       " 'learning',\n",
       " 'web',\n",
       " 'scraping',\n",
       " 'well',\n",
       " 'concepts',\n",
       " 'data',\n",
       " 'ai',\n",
       " 'gaining',\n",
       " 'knowledge',\n",
       " 'complete',\n",
       " 'functioning',\n",
       " 'algorithms',\n",
       " 'understanding',\n",
       " 'algorithms',\n",
       " 'implementing',\n",
       " 'models',\n",
       " 'taking',\n",
       " 'account',\n",
       " 'data',\n",
       " 'retrieval',\n",
       " 'storage',\n",
       " 'streaming',\n",
       " 'bi',\n",
       " 'purposes']"
      ]
     },
     "execution_count": 14,
     "metadata": {},
     "output_type": "execute_result"
    }
   ],
   "source": [
    "tokens"
   ]
  },
  {
   "cell_type": "code",
   "execution_count": 15,
   "id": "a7e7e5e4",
   "metadata": {},
   "outputs": [
    {
     "data": {
      "text/plain": [
       "['the',\n",
       " 'of',\n",
       " 'the',\n",
       " 'and',\n",
       " 'are',\n",
       " 'they',\n",
       " 'are',\n",
       " 'as',\n",
       " 'as',\n",
       " 'all',\n",
       " 'the',\n",
       " 'of',\n",
       " 'and',\n",
       " 'they',\n",
       " 'are',\n",
       " 'of',\n",
       " 'the',\n",
       " 'of',\n",
       " 'from',\n",
       " 'the',\n",
       " 'to',\n",
       " 'into',\n",
       " 'and',\n",
       " 'for']"
      ]
     },
     "execution_count": 15,
     "metadata": {},
     "output_type": "execute_result"
    }
   ],
   "source": [
    "stop_w_corpus"
   ]
  },
  {
   "cell_type": "code",
   "execution_count": 16,
   "id": "379a94de",
   "metadata": {},
   "outputs": [],
   "source": [
    "lemmatizer =  PorterStemmer()\n",
    "tokens = [PorterStemmer().stem(token) for token in tokens]"
   ]
  },
  {
   "cell_type": "markdown",
   "id": "bda0b79e",
   "metadata": {},
   "source": [
    "### tokens"
   ]
  },
  {
   "cell_type": "code",
   "execution_count": 17,
   "id": "979c96be",
   "metadata": {},
   "outputs": [],
   "source": [
    "dict_infos={k:tokens.count(k) for k in tokens}"
   ]
  },
  {
   "cell_type": "code",
   "execution_count": 18,
   "id": "68f132d3",
   "metadata": {},
   "outputs": [
    {
     "data": {
      "text/plain": [
       "{'beneficiari': 1,\n",
       " 'women': 1,\n",
       " 'ai': 2,\n",
       " 'data': 4,\n",
       " 'academi': 1,\n",
       " 'program': 1,\n",
       " 'amazon': 1,\n",
       " 'current': 1,\n",
       " 'learn': 3,\n",
       " 'visual': 1,\n",
       " 'machin': 1,\n",
       " 'deep': 1,\n",
       " 'web': 1,\n",
       " 'scrape': 1,\n",
       " 'well': 1,\n",
       " 'concept': 1,\n",
       " 'gain': 1,\n",
       " 'knowledg': 1,\n",
       " 'complet': 1,\n",
       " 'function': 1,\n",
       " 'algorithm': 2,\n",
       " 'understand': 1,\n",
       " 'implement': 1,\n",
       " 'model': 1,\n",
       " 'take': 1,\n",
       " 'account': 1,\n",
       " 'retriev': 1,\n",
       " 'storag': 1,\n",
       " 'stream': 1,\n",
       " 'bi': 1,\n",
       " 'purpos': 1}"
      ]
     },
     "execution_count": 18,
     "metadata": {},
     "output_type": "execute_result"
    }
   ],
   "source": [
    "dict_infos"
   ]
  },
  {
   "cell_type": "code",
   "execution_count": 19,
   "id": "8ee71bef",
   "metadata": {},
   "outputs": [
    {
     "data": {
      "text/html": [
       "<div>\n",
       "<style scoped>\n",
       "    .dataframe tbody tr th:only-of-type {\n",
       "        vertical-align: middle;\n",
       "    }\n",
       "\n",
       "    .dataframe tbody tr th {\n",
       "        vertical-align: top;\n",
       "    }\n",
       "\n",
       "    .dataframe thead th {\n",
       "        text-align: right;\n",
       "    }\n",
       "</style>\n",
       "<table border=\"1\" class=\"dataframe\">\n",
       "  <thead>\n",
       "    <tr style=\"text-align: right;\">\n",
       "      <th></th>\n",
       "      <th>beneficiari</th>\n",
       "      <th>women</th>\n",
       "      <th>ai</th>\n",
       "      <th>data</th>\n",
       "      <th>academi</th>\n",
       "      <th>program</th>\n",
       "      <th>amazon</th>\n",
       "      <th>current</th>\n",
       "      <th>learn</th>\n",
       "      <th>visual</th>\n",
       "      <th>...</th>\n",
       "      <th>understand</th>\n",
       "      <th>implement</th>\n",
       "      <th>model</th>\n",
       "      <th>take</th>\n",
       "      <th>account</th>\n",
       "      <th>retriev</th>\n",
       "      <th>storag</th>\n",
       "      <th>stream</th>\n",
       "      <th>bi</th>\n",
       "      <th>purpos</th>\n",
       "    </tr>\n",
       "  </thead>\n",
       "  <tbody>\n",
       "    <tr>\n",
       "      <th>0</th>\n",
       "      <td>1</td>\n",
       "      <td>1</td>\n",
       "      <td>2</td>\n",
       "      <td>4</td>\n",
       "      <td>1</td>\n",
       "      <td>1</td>\n",
       "      <td>1</td>\n",
       "      <td>1</td>\n",
       "      <td>3</td>\n",
       "      <td>1</td>\n",
       "      <td>...</td>\n",
       "      <td>1</td>\n",
       "      <td>1</td>\n",
       "      <td>1</td>\n",
       "      <td>1</td>\n",
       "      <td>1</td>\n",
       "      <td>1</td>\n",
       "      <td>1</td>\n",
       "      <td>1</td>\n",
       "      <td>1</td>\n",
       "      <td>1</td>\n",
       "    </tr>\n",
       "  </tbody>\n",
       "</table>\n",
       "<p>1 rows × 31 columns</p>\n",
       "</div>"
      ],
      "text/plain": [
       "   beneficiari  women  ai  data  academi  program  amazon  current  learn  \\\n",
       "0            1      1   2     4        1        1       1        1      3   \n",
       "\n",
       "   visual  ...  understand  implement  model  take  account  retriev  storag  \\\n",
       "0       1  ...           1          1      1     1        1        1       1   \n",
       "\n",
       "   stream  bi  purpos  \n",
       "0       1   1       1  \n",
       "\n",
       "[1 rows x 31 columns]"
      ]
     },
     "execution_count": 19,
     "metadata": {},
     "output_type": "execute_result"
    }
   ],
   "source": [
    "data = pd.DataFrame([dict_infos])\n",
    "data"
   ]
  },
  {
   "cell_type": "code",
   "execution_count": 20,
   "id": "c06b25b8",
   "metadata": {},
   "outputs": [
    {
     "data": {
      "text/html": [
       "<div>\n",
       "<style scoped>\n",
       "    .dataframe tbody tr th:only-of-type {\n",
       "        vertical-align: middle;\n",
       "    }\n",
       "\n",
       "    .dataframe tbody tr th {\n",
       "        vertical-align: top;\n",
       "    }\n",
       "\n",
       "    .dataframe thead th {\n",
       "        text-align: right;\n",
       "    }\n",
       "</style>\n",
       "<table border=\"1\" class=\"dataframe\">\n",
       "  <thead>\n",
       "    <tr style=\"text-align: right;\">\n",
       "      <th></th>\n",
       "      <th>index</th>\n",
       "      <th>0</th>\n",
       "    </tr>\n",
       "  </thead>\n",
       "  <tbody>\n",
       "    <tr>\n",
       "      <th>0</th>\n",
       "      <td>beneficiari</td>\n",
       "      <td>1</td>\n",
       "    </tr>\n",
       "    <tr>\n",
       "      <th>1</th>\n",
       "      <td>women</td>\n",
       "      <td>1</td>\n",
       "    </tr>\n",
       "    <tr>\n",
       "      <th>2</th>\n",
       "      <td>ai</td>\n",
       "      <td>2</td>\n",
       "    </tr>\n",
       "    <tr>\n",
       "      <th>3</th>\n",
       "      <td>data</td>\n",
       "      <td>4</td>\n",
       "    </tr>\n",
       "    <tr>\n",
       "      <th>4</th>\n",
       "      <td>academi</td>\n",
       "      <td>1</td>\n",
       "    </tr>\n",
       "    <tr>\n",
       "      <th>5</th>\n",
       "      <td>program</td>\n",
       "      <td>1</td>\n",
       "    </tr>\n",
       "    <tr>\n",
       "      <th>6</th>\n",
       "      <td>amazon</td>\n",
       "      <td>1</td>\n",
       "    </tr>\n",
       "    <tr>\n",
       "      <th>7</th>\n",
       "      <td>current</td>\n",
       "      <td>1</td>\n",
       "    </tr>\n",
       "    <tr>\n",
       "      <th>8</th>\n",
       "      <td>learn</td>\n",
       "      <td>3</td>\n",
       "    </tr>\n",
       "    <tr>\n",
       "      <th>9</th>\n",
       "      <td>visual</td>\n",
       "      <td>1</td>\n",
       "    </tr>\n",
       "    <tr>\n",
       "      <th>10</th>\n",
       "      <td>machin</td>\n",
       "      <td>1</td>\n",
       "    </tr>\n",
       "    <tr>\n",
       "      <th>11</th>\n",
       "      <td>deep</td>\n",
       "      <td>1</td>\n",
       "    </tr>\n",
       "    <tr>\n",
       "      <th>12</th>\n",
       "      <td>web</td>\n",
       "      <td>1</td>\n",
       "    </tr>\n",
       "    <tr>\n",
       "      <th>13</th>\n",
       "      <td>scrape</td>\n",
       "      <td>1</td>\n",
       "    </tr>\n",
       "    <tr>\n",
       "      <th>14</th>\n",
       "      <td>well</td>\n",
       "      <td>1</td>\n",
       "    </tr>\n",
       "    <tr>\n",
       "      <th>15</th>\n",
       "      <td>concept</td>\n",
       "      <td>1</td>\n",
       "    </tr>\n",
       "    <tr>\n",
       "      <th>16</th>\n",
       "      <td>gain</td>\n",
       "      <td>1</td>\n",
       "    </tr>\n",
       "    <tr>\n",
       "      <th>17</th>\n",
       "      <td>knowledg</td>\n",
       "      <td>1</td>\n",
       "    </tr>\n",
       "    <tr>\n",
       "      <th>18</th>\n",
       "      <td>complet</td>\n",
       "      <td>1</td>\n",
       "    </tr>\n",
       "    <tr>\n",
       "      <th>19</th>\n",
       "      <td>function</td>\n",
       "      <td>1</td>\n",
       "    </tr>\n",
       "    <tr>\n",
       "      <th>20</th>\n",
       "      <td>algorithm</td>\n",
       "      <td>2</td>\n",
       "    </tr>\n",
       "    <tr>\n",
       "      <th>21</th>\n",
       "      <td>understand</td>\n",
       "      <td>1</td>\n",
       "    </tr>\n",
       "    <tr>\n",
       "      <th>22</th>\n",
       "      <td>implement</td>\n",
       "      <td>1</td>\n",
       "    </tr>\n",
       "    <tr>\n",
       "      <th>23</th>\n",
       "      <td>model</td>\n",
       "      <td>1</td>\n",
       "    </tr>\n",
       "    <tr>\n",
       "      <th>24</th>\n",
       "      <td>take</td>\n",
       "      <td>1</td>\n",
       "    </tr>\n",
       "    <tr>\n",
       "      <th>25</th>\n",
       "      <td>account</td>\n",
       "      <td>1</td>\n",
       "    </tr>\n",
       "    <tr>\n",
       "      <th>26</th>\n",
       "      <td>retriev</td>\n",
       "      <td>1</td>\n",
       "    </tr>\n",
       "    <tr>\n",
       "      <th>27</th>\n",
       "      <td>storag</td>\n",
       "      <td>1</td>\n",
       "    </tr>\n",
       "    <tr>\n",
       "      <th>28</th>\n",
       "      <td>stream</td>\n",
       "      <td>1</td>\n",
       "    </tr>\n",
       "    <tr>\n",
       "      <th>29</th>\n",
       "      <td>bi</td>\n",
       "      <td>1</td>\n",
       "    </tr>\n",
       "    <tr>\n",
       "      <th>30</th>\n",
       "      <td>purpos</td>\n",
       "      <td>1</td>\n",
       "    </tr>\n",
       "  </tbody>\n",
       "</table>\n",
       "</div>"
      ],
      "text/plain": [
       "          index  0\n",
       "0   beneficiari  1\n",
       "1         women  1\n",
       "2            ai  2\n",
       "3          data  4\n",
       "4       academi  1\n",
       "5       program  1\n",
       "6        amazon  1\n",
       "7       current  1\n",
       "8         learn  3\n",
       "9        visual  1\n",
       "10       machin  1\n",
       "11         deep  1\n",
       "12          web  1\n",
       "13       scrape  1\n",
       "14         well  1\n",
       "15      concept  1\n",
       "16         gain  1\n",
       "17     knowledg  1\n",
       "18      complet  1\n",
       "19     function  1\n",
       "20    algorithm  2\n",
       "21   understand  1\n",
       "22    implement  1\n",
       "23        model  1\n",
       "24         take  1\n",
       "25      account  1\n",
       "26      retriev  1\n",
       "27       storag  1\n",
       "28       stream  1\n",
       "29           bi  1\n",
       "30       purpos  1"
      ]
     },
     "execution_count": 20,
     "metadata": {},
     "output_type": "execute_result"
    }
   ],
   "source": [
    "data.T.reset_index()"
   ]
  },
  {
   "cell_type": "code",
   "execution_count": 21,
   "id": "4aca27e5",
   "metadata": {},
   "outputs": [],
   "source": [
    "def get_stem (word):\n",
    "    stemmer = PorterStemmer()\n",
    "    return [PorterStemmer().stem(word) for tokens in word]"
   ]
  },
  {
   "cell_type": "code",
   "execution_count": 22,
   "id": "f2ed1997",
   "metadata": {},
   "outputs": [
    {
     "data": {
      "text/plain": [
       "['learn', 'learn', 'learn', 'learn', 'learn', 'learn', 'learn', 'learn']"
      ]
     },
     "execution_count": 22,
     "metadata": {},
     "output_type": "execute_result"
    }
   ],
   "source": [
    "get_stem(\"learning\")"
   ]
  },
  {
   "cell_type": "code",
   "execution_count": 23,
   "id": "304bee20",
   "metadata": {},
   "outputs": [],
   "source": [
    "def get_lemme(word):\n",
    "    lemmatizer = WordNetLemmatizer()\n",
    "    return lemmatizer.lemmatize(word)"
   ]
  },
  {
   "cell_type": "code",
   "execution_count": 24,
   "id": "a4ea6923",
   "metadata": {},
   "outputs": [
    {
     "data": {
      "text/plain": [
       "'learning'"
      ]
     },
     "execution_count": 24,
     "metadata": {},
     "output_type": "execute_result"
    }
   ],
   "source": [
    "get_lemme(\"learning\")"
   ]
  },
  {
   "cell_type": "code",
   "execution_count": 25,
   "id": "9ce4365b",
   "metadata": {},
   "outputs": [],
   "source": [
    "wordcloud = WordCloud().generate(\" \".join(tokens))"
   ]
  },
  {
   "cell_type": "code",
   "execution_count": 26,
   "id": "a7f31d0f",
   "metadata": {},
   "outputs": [
    {
     "data": {
      "image/png": "[encoded data removed]",
      "text/plain": [
       "<Figure size 640x480 with 1 Axes>"
      ]
     },
     "metadata": {},
     "output_type": "display_data"
    }
   ],
   "source": [
    "plt.imshow(wordcloud, interpolation='bilinear')\n",
    "plt.axis(\"off\")\n",
    "plt.show()"
   ]
  },
  {
   "cell_type": "code",
   "execution_count": 27,
   "id": "20436493",
   "metadata": {},
   "outputs": [],
   "source": [
    "tf_scores = dict_infos.copy()\n",
    "idf_scores = {token :1 for token in tokens}"
   ]
  },
  {
   "cell_type": "code",
   "execution_count": 28,
   "id": "807b8d6c",
   "metadata": {},
   "outputs": [],
   "source": [
    "tfidf_scores = {token:tf_scores[token]*idf_scores[token] for token in tokens}"
   ]
  },
  {
   "cell_type": "code",
   "execution_count": 29,
   "id": "7ec00e6a",
   "metadata": {},
   "outputs": [
    {
     "data": {
      "text/plain": [
       "{'beneficiari': 1,\n",
       " 'women': 1,\n",
       " 'ai': 2,\n",
       " 'data': 4,\n",
       " 'academi': 1,\n",
       " 'program': 1,\n",
       " 'amazon': 1,\n",
       " 'current': 1,\n",
       " 'learn': 3,\n",
       " 'visual': 1,\n",
       " 'machin': 1,\n",
       " 'deep': 1,\n",
       " 'web': 1,\n",
       " 'scrape': 1,\n",
       " 'well': 1,\n",
       " 'concept': 1,\n",
       " 'gain': 1,\n",
       " 'knowledg': 1,\n",
       " 'complet': 1,\n",
       " 'function': 1,\n",
       " 'algorithm': 2,\n",
       " 'understand': 1,\n",
       " 'implement': 1,\n",
       " 'model': 1,\n",
       " 'take': 1,\n",
       " 'account': 1,\n",
       " 'retriev': 1,\n",
       " 'storag': 1,\n",
       " 'stream': 1,\n",
       " 'bi': 1,\n",
       " 'purpos': 1}"
      ]
     },
     "execution_count": 29,
     "metadata": {},
     "output_type": "execute_result"
    }
   ],
   "source": [
    "tfidf_scores"
   ]
  },
  {
   "cell_type": "code",
   "execution_count": 31,
   "id": "8d9b3278",
   "metadata": {},
   "outputs": [],
   "source": [
    "# Day 3( Tue,Feb 6)"
   ]
  },
  {
   "cell_type": "code",
   "execution_count": 36,
   "id": "e0902678",
   "metadata": {},
   "outputs": [],
   "source": [
    "phrase1= 'Je suis un Data Analyste'\n",
    "phrase2= \"j'ai un projet de développement basé sur la technologie agricole\"\n",
    "phrase3= \" Je parle l'anglais et le japonais. Je pourrai traduire de francais vers l'anglais et du japonais vers le fongbé\""
   ]
  },
  {
   "cell_type": "code",
   "execution_count": 41,
   "id": "1d6883d1",
   "metadata": {},
   "outputs": [
    {
     "data": {
      "text/plain": [
       "['Je', 'suis', 'un', 'Data', 'Analyste']"
      ]
     },
     "execution_count": 41,
     "metadata": {},
     "output_type": "execute_result"
    }
   ],
   "source": [
    "token_1 = phrase1.split()\n",
    "token_1"
   ]
  },
  {
   "cell_type": "code",
   "execution_count": 42,
   "id": "4e293e8e",
   "metadata": {},
   "outputs": [],
   "source": [
    "token_1.extend(phrase2.split())"
   ]
  },
  {
   "cell_type": "code",
   "execution_count": 47,
   "id": "a48692b5",
   "metadata": {},
   "outputs": [],
   "source": [
    "token_2.extend(phrase3.split())"
   ]
  },
  {
   "cell_type": "code",
   "execution_count": 45,
   "id": "808c1e09",
   "metadata": {},
   "outputs": [
    {
     "data": {
      "text/plain": [
       "['Analyste',\n",
       " 'Je',\n",
       " \"j'ai\",\n",
       " 'un',\n",
       " 'de',\n",
       " 'projet',\n",
       " 'technologie',\n",
       " 'la',\n",
       " 'et',\n",
       " 'japonais.',\n",
       " 'francais',\n",
       " 'agricole',\n",
       " 'du',\n",
       " 'Data',\n",
       " 'fongbé',\n",
       " 'le',\n",
       " 'suis',\n",
       " 'développement',\n",
       " 'japonais',\n",
       " 'traduire',\n",
       " 'vers',\n",
       " 'parle',\n",
       " 'sur',\n",
       " 'basé',\n",
       " 'pourrai',\n",
       " \"l'anglais\"]"
      ]
     },
     "execution_count": 45,
     "metadata": {},
     "output_type": "execute_result"
    }
   ],
   "source": [
    "token_2 = list(set([elt for elt in phrase1.split() +  phrase2.split() +  phrase3.split()]))\n",
    "token_2"
   ]
  },
  {
   "cell_type": "code",
   "execution_count": 46,
   "id": "213fabca",
   "metadata": {},
   "outputs": [
    {
     "data": {
      "text/plain": [
       "[0,\n",
       " 0,\n",
       " 0,\n",
       " 0,\n",
       " 0,\n",
       " 0,\n",
       " 0,\n",
       " 0,\n",
       " 0,\n",
       " 0,\n",
       " 0,\n",
       " 0,\n",
       " 0,\n",
       " 0,\n",
       " 0,\n",
       " 0,\n",
       " 0,\n",
       " 0,\n",
       " 0,\n",
       " 0,\n",
       " 0,\n",
       " 0,\n",
       " 0,\n",
       " 0,\n",
       " 0,\n",
       " 0,\n",
       " 0,\n",
       " 0,\n",
       " 0,\n",
       " 0,\n",
       " 0,\n",
       " 0,\n",
       " 0,\n",
       " 0,\n",
       " 0,\n",
       " 0,\n",
       " 0,\n",
       " 0]"
      ]
     },
     "execution_count": 46,
     "metadata": {},
     "output_type": "execute_result"
    }
   ],
   "source": [
    "vec_1=[phrase1.count(elt) for elt in tokens]\n",
    "vec_1"
   ]
  },
  {
   "cell_type": "code",
   "execution_count": 48,
   "id": "40f6b182",
   "metadata": {},
   "outputs": [],
   "source": [
    "# Une fonction ou on donne juste une phrase pour faire les vecteurs\n",
    "def vectorize_sentence(sentence):\n",
    "    return [sentence.count(elt) for elt in tokens]"
   ]
  },
  {
   "cell_type": "code",
   "execution_count": 49,
   "id": "f8f773ae",
   "metadata": {},
   "outputs": [
    {
     "data": {
      "text/plain": [
       "[0,\n",
       " 0,\n",
       " 6,\n",
       " 0,\n",
       " 0,\n",
       " 0,\n",
       " 0,\n",
       " 0,\n",
       " 0,\n",
       " 0,\n",
       " 0,\n",
       " 0,\n",
       " 0,\n",
       " 0,\n",
       " 0,\n",
       " 0,\n",
       " 0,\n",
       " 0,\n",
       " 0,\n",
       " 0,\n",
       " 6,\n",
       " 0,\n",
       " 0,\n",
       " 0,\n",
       " 0,\n",
       " 0,\n",
       " 0,\n",
       " 0,\n",
       " 0,\n",
       " 0,\n",
       " 0,\n",
       " 0,\n",
       " 0,\n",
       " 0,\n",
       " 0,\n",
       " 0,\n",
       " 0,\n",
       " 0]"
      ]
     },
     "execution_count": 49,
     "metadata": {},
     "output_type": "execute_result"
    }
   ],
   "source": [
    "vectorize_sentence(phrase3)"
   ]
  },
  {
   "cell_type": "code",
   "execution_count": 56,
   "id": "ebccc665",
   "metadata": {},
   "outputs": [],
   "source": [
    "def vectorize_sentence(sentence,tokens) :\n",
    "    return [sentence.count(elt) for elt in token_2]\n"
   ]
  },
  {
   "cell_type": "code",
   "execution_count": 57,
   "id": "08d8c42a",
   "metadata": {},
   "outputs": [
    {
     "data": {
      "text/plain": [
       "[1,\n",
       " 1,\n",
       " 0,\n",
       " 1,\n",
       " 0,\n",
       " 0,\n",
       " 0,\n",
       " 0,\n",
       " 0,\n",
       " 0,\n",
       " 0,\n",
       " 0,\n",
       " 0,\n",
       " 1,\n",
       " 0,\n",
       " 0,\n",
       " 1,\n",
       " 0,\n",
       " 0,\n",
       " 0,\n",
       " 0,\n",
       " 0,\n",
       " 0,\n",
       " 0,\n",
       " 0,\n",
       " 0,\n",
       " 1,\n",
       " 0,\n",
       " 0,\n",
       " 0,\n",
       " 0,\n",
       " 0,\n",
       " 1,\n",
       " 0,\n",
       " 0,\n",
       " 0,\n",
       " 0,\n",
       " 0,\n",
       " 0,\n",
       " 0,\n",
       " 0,\n",
       " 0,\n",
       " 0,\n",
       " 0,\n",
       " 0]"
      ]
     },
     "execution_count": 57,
     "metadata": {},
     "output_type": "execute_result"
    }
   ],
   "source": [
    "vect_1 =  vectorize_sentence(phrase1,tokens)\n",
    "vect_1"
   ]
  },
  {
   "cell_type": "code",
   "execution_count": 58,
   "id": "010bb494",
   "metadata": {},
   "outputs": [
    {
     "data": {
      "text/plain": [
       "2"
      ]
     },
     "execution_count": 58,
     "metadata": {},
     "output_type": "execute_result"
    }
   ],
   "source": [
    "phrase2.count(\"d\")"
   ]
  },
  {
   "cell_type": "code",
   "execution_count": 59,
   "id": "4edc6980",
   "metadata": {},
   "outputs": [
    {
     "data": {
      "text/plain": [
       "[0,\n",
       " 0,\n",
       " 1,\n",
       " 1,\n",
       " 1,\n",
       " 1,\n",
       " 1,\n",
       " 1,\n",
       " 1,\n",
       " 0,\n",
       " 0,\n",
       " 1,\n",
       " 0,\n",
       " 0,\n",
       " 0,\n",
       " 1,\n",
       " 0,\n",
       " 1,\n",
       " 0,\n",
       " 0,\n",
       " 0,\n",
       " 0,\n",
       " 1,\n",
       " 1,\n",
       " 0,\n",
       " 0,\n",
       " 0,\n",
       " 0,\n",
       " 0,\n",
       " 1,\n",
       " 1,\n",
       " 0,\n",
       " 0,\n",
       " 0,\n",
       " 0,\n",
       " 1,\n",
       " 0,\n",
       " 0,\n",
       " 0,\n",
       " 1,\n",
       " 0,\n",
       " 0,\n",
       " 0,\n",
       " 1,\n",
       " 0]"
      ]
     },
     "execution_count": 59,
     "metadata": {},
     "output_type": "execute_result"
    }
   ],
   "source": [
    "vect_2 =  vectorize_sentence(phrase2,tokens)\n",
    "vect_2"
   ]
  },
  {
   "cell_type": "code",
   "execution_count": 60,
   "id": "3e1e70a5",
   "metadata": {},
   "outputs": [
    {
     "data": {
      "text/plain": [
       "[0,\n",
       " 2,\n",
       " 0,\n",
       " 0,\n",
       " 1,\n",
       " 0,\n",
       " 0,\n",
       " 2,\n",
       " 2,\n",
       " 1,\n",
       " 1,\n",
       " 0,\n",
       " 2,\n",
       " 0,\n",
       " 1,\n",
       " 3,\n",
       " 0,\n",
       " 0,\n",
       " 2,\n",
       " 1,\n",
       " 2,\n",
       " 1,\n",
       " 0,\n",
       " 0,\n",
       " 1,\n",
       " 2,\n",
       " 2,\n",
       " 1,\n",
       " 2,\n",
       " 2,\n",
       " 3,\n",
       " 1,\n",
       " 2,\n",
       " 1,\n",
       " 1,\n",
       " 1,\n",
       " 1,\n",
       " 2,\n",
       " 2,\n",
       " 2,\n",
       " 2,\n",
       " 2,\n",
       " 2,\n",
       " 3,\n",
       " 1]"
      ]
     },
     "execution_count": 60,
     "metadata": {},
     "output_type": "execute_result"
    }
   ],
   "source": [
    "vect_3 =  vectorize_sentence(phrase3,tokens)\n",
    "vect_3"
   ]
  },
  {
   "cell_type": "code",
   "execution_count": 61,
   "id": "53abee9c",
   "metadata": {},
   "outputs": [
    {
     "data": {
      "text/html": [
       "<div>\n",
       "<style scoped>\n",
       "    .dataframe tbody tr th:only-of-type {\n",
       "        vertical-align: middle;\n",
       "    }\n",
       "\n",
       "    .dataframe tbody tr th {\n",
       "        vertical-align: top;\n",
       "    }\n",
       "\n",
       "    .dataframe thead th {\n",
       "        text-align: right;\n",
       "    }\n",
       "</style>\n",
       "<table border=\"1\" class=\"dataframe\">\n",
       "  <thead>\n",
       "    <tr style=\"text-align: right;\">\n",
       "      <th></th>\n",
       "      <th>Analyste</th>\n",
       "      <th>Je</th>\n",
       "      <th>j'ai</th>\n",
       "      <th>un</th>\n",
       "      <th>de</th>\n",
       "      <th>projet</th>\n",
       "      <th>technologie</th>\n",
       "      <th>la</th>\n",
       "      <th>et</th>\n",
       "      <th>japonais.</th>\n",
       "      <th>...</th>\n",
       "      <th>de</th>\n",
       "      <th>francais</th>\n",
       "      <th>vers</th>\n",
       "      <th>l'anglais</th>\n",
       "      <th>et</th>\n",
       "      <th>du</th>\n",
       "      <th>japonais</th>\n",
       "      <th>vers</th>\n",
       "      <th>le</th>\n",
       "      <th>fongbé</th>\n",
       "    </tr>\n",
       "  </thead>\n",
       "  <tbody>\n",
       "    <tr>\n",
       "      <th>phrase1</th>\n",
       "      <td>1</td>\n",
       "      <td>1</td>\n",
       "      <td>0</td>\n",
       "      <td>1</td>\n",
       "      <td>0</td>\n",
       "      <td>0</td>\n",
       "      <td>0</td>\n",
       "      <td>0</td>\n",
       "      <td>0</td>\n",
       "      <td>0</td>\n",
       "      <td>...</td>\n",
       "      <td>0</td>\n",
       "      <td>0</td>\n",
       "      <td>0</td>\n",
       "      <td>0</td>\n",
       "      <td>0</td>\n",
       "      <td>0</td>\n",
       "      <td>0</td>\n",
       "      <td>0</td>\n",
       "      <td>0</td>\n",
       "      <td>0</td>\n",
       "    </tr>\n",
       "    <tr>\n",
       "      <th>phrase2</th>\n",
       "      <td>0</td>\n",
       "      <td>0</td>\n",
       "      <td>1</td>\n",
       "      <td>1</td>\n",
       "      <td>1</td>\n",
       "      <td>1</td>\n",
       "      <td>1</td>\n",
       "      <td>1</td>\n",
       "      <td>1</td>\n",
       "      <td>0</td>\n",
       "      <td>...</td>\n",
       "      <td>1</td>\n",
       "      <td>0</td>\n",
       "      <td>0</td>\n",
       "      <td>0</td>\n",
       "      <td>1</td>\n",
       "      <td>0</td>\n",
       "      <td>0</td>\n",
       "      <td>0</td>\n",
       "      <td>1</td>\n",
       "      <td>0</td>\n",
       "    </tr>\n",
       "    <tr>\n",
       "      <th>phrase3</th>\n",
       "      <td>0</td>\n",
       "      <td>2</td>\n",
       "      <td>0</td>\n",
       "      <td>0</td>\n",
       "      <td>1</td>\n",
       "      <td>0</td>\n",
       "      <td>0</td>\n",
       "      <td>2</td>\n",
       "      <td>2</td>\n",
       "      <td>1</td>\n",
       "      <td>...</td>\n",
       "      <td>1</td>\n",
       "      <td>1</td>\n",
       "      <td>2</td>\n",
       "      <td>2</td>\n",
       "      <td>2</td>\n",
       "      <td>2</td>\n",
       "      <td>2</td>\n",
       "      <td>2</td>\n",
       "      <td>3</td>\n",
       "      <td>1</td>\n",
       "    </tr>\n",
       "  </tbody>\n",
       "</table>\n",
       "<p>3 rows × 45 columns</p>\n",
       "</div>"
      ],
      "text/plain": [
       "         Analyste  Je  j'ai  un  de  projet  technologie  la  et  japonais.  \\\n",
       "phrase1         1   1     0   1   0       0            0   0   0          0   \n",
       "phrase2         0   0     1   1   1       1            1   1   1          0   \n",
       "phrase3         0   2     0   0   1       0            0   2   2          1   \n",
       "\n",
       "         ...  de  francais  vers  l'anglais  et  du  japonais  vers  le  \\\n",
       "phrase1  ...   0         0     0          0   0   0         0     0   0   \n",
       "phrase2  ...   1         0     0          0   1   0         0     0   1   \n",
       "phrase3  ...   1         1     2          2   2   2         2     2   3   \n",
       "\n",
       "         fongbé  \n",
       "phrase1       0  \n",
       "phrase2       0  \n",
       "phrase3       1  \n",
       "\n",
       "[3 rows x 45 columns]"
      ]
     },
     "execution_count": 61,
     "metadata": {},
     "output_type": "execute_result"
    }
   ],
   "source": [
    "data = pd.DataFrame([vect_1,vect_2,vect_3],columns=token_2,index=[\"phrase1\",\"phrase2\",\"phrase3\"])\n",
    "data"
   ]
  },
  {
   "cell_type": "code",
   "execution_count": null,
   "id": "bf0ffdda",
   "metadata": {},
   "outputs": [],
   "source": []
  }
 ],
 "metadata": {
  "kernelspec": {
   "display_name": "Python 3 (ipykernel)",
   "language": "python",
   "name": "python3"
  },
  "language_info": {
   "codemirror_mode": {
    "name": "ipython",
    "version": 3
   },
   "file_extension": ".py",
   "mimetype": "text/x-python",
   "name": "python",
   "nbconvert_exporter": "python",
   "pygments_lexer": "ipython3",
   "version": "3.11.5"
  }
 },
 "nbformat": 4,
 "nbformat_minor": 5
}
