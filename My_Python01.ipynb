{
 "cells": [
  {
   "cell_type": "code",
   "execution_count": 2,
   "id": "113800c4",
   "metadata": {},
   "outputs": [
    {
     "name": "stdout",
     "output_type": "stream",
     "text": [
      "85\n"
     ]
    }
   ],
   "source": [
    "print(0o125)"
   ]
  },
  {
   "cell_type": "code",
   "execution_count": 3,
   "id": "381abaeb",
   "metadata": {},
   "outputs": [
    {
     "name": "stdout",
     "output_type": "stream",
     "text": [
      "293\n"
     ]
    }
   ],
   "source": [
    "print(0x125)"
   ]
  },
  {
   "cell_type": "code",
   "execution_count": 7,
   "id": "fdba9847",
   "metadata": {},
   "outputs": [
    {
     "name": "stdout",
     "output_type": "stream",
     "text": [
      "0.23\n"
     ]
    }
   ],
   "source": [
    "print(.23)"
   ]
  },
  {
   "cell_type": "code",
   "execution_count": 8,
   "id": "f120f84a",
   "metadata": {},
   "outputs": [
    {
     "name": "stdout",
     "output_type": "stream",
     "text": [
      "1200000000.0\n"
     ]
    }
   ],
   "source": [
    "print(12E8)"
   ]
  },
  {
   "cell_type": "code",
   "execution_count": 9,
   "id": "c4cfebb3",
   "metadata": {},
   "outputs": [
    {
     "name": "stdout",
     "output_type": "stream",
     "text": [
      "1200000.0\n"
     ]
    }
   ],
   "source": [
    "print(12e5)"
   ]
  },
  {
   "cell_type": "code",
   "execution_count": 10,
   "id": "08244e08",
   "metadata": {},
   "outputs": [
    {
     "name": "stdout",
     "output_type": "stream",
     "text": [
      "-120000.0\n"
     ]
    }
   ],
   "source": [
    "print(-12e4)"
   ]
  },
  {
   "cell_type": "code",
   "execution_count": 13,
   "id": "bc787206",
   "metadata": {},
   "outputs": [
    {
     "name": "stdout",
     "output_type": "stream",
     "text": [
      "2.1254e-07\n"
     ]
    }
   ],
   "source": [
    "print(2.1254e-7)"
   ]
  },
  {
   "cell_type": "code",
   "execution_count": 14,
   "id": "b0d283c2",
   "metadata": {},
   "outputs": [
    {
     "name": "stdout",
     "output_type": "stream",
     "text": [
      "12.345\n"
     ]
    }
   ],
   "source": [
    "print(12.345)"
   ]
  },
  {
   "cell_type": "code",
   "execution_count": 26,
   "id": "8991ada1",
   "metadata": {},
   "outputs": [
    {
     "name": "stdout",
     "output_type": "stream",
     "text": [
      "J'aime Cisco\\ Skills1.ipynb\n"
     ]
    }
   ],
   "source": [
    "print(\"J'aime Cisco\\ Skills1.ipynb\")"
   ]
  },
  {
   "cell_type": "code",
   "execution_count": 147,
   "id": "ccd5a5ef",
   "metadata": {},
   "outputs": [
    {
     "name": "stdout",
     "output_type": "stream",
     "text": [
      "J'aime Monty python\n"
     ]
    }
   ],
   "source": [
    "print(\"J'aime Monty python\")"
   ]
  },
  {
   "cell_type": "code",
   "execution_count": null,
   "id": "6851aa9c",
   "metadata": {},
   "outputs": [],
   "source": [
    "print('Je suis belle')"
   ]
  },
  {
   "cell_type": "code",
   "execution_count": 28,
   "id": "6b62f794",
   "metadata": {},
   "outputs": [],
   "source": [
    "Moi==('belle')"
   ]
  },
  {
   "cell_type": "code",
   "execution_count": 31,
   "id": "5e81325f",
   "metadata": {},
   "outputs": [
    {
     "data": {
      "text/plain": [
       "False"
      ]
     },
     "execution_count": 31,
     "metadata": {},
     "output_type": "execute_result"
    }
   ],
   "source": [
    "Moi==0"
   ]
  },
  {
   "cell_type": "code",
   "execution_count": 32,
   "id": "871a0286",
   "metadata": {},
   "outputs": [],
   "source": [
    "Moi=(\"Toujours heureuse\")"
   ]
  },
  {
   "cell_type": "code",
   "execution_count": 33,
   "id": "43ac1807",
   "metadata": {},
   "outputs": [
    {
     "name": "stdout",
     "output_type": "stream",
     "text": [
      "\n"
     ]
    }
   ],
   "source": [
    "print()"
   ]
  },
  {
   "cell_type": "code",
   "execution_count": 34,
   "id": "0ea1fa11",
   "metadata": {},
   "outputs": [
    {
     "data": {
      "text/plain": [
       "'Toujours heureuse'"
      ]
     },
     "execution_count": 34,
     "metadata": {},
     "output_type": "execute_result"
    }
   ],
   "source": [
    "Moi"
   ]
  },
  {
   "cell_type": "code",
   "execution_count": 36,
   "id": "77e76d38",
   "metadata": {},
   "outputs": [],
   "source": [
    "Moi= (\"J'aime Monty python\")"
   ]
  },
  {
   "cell_type": "code",
   "execution_count": 37,
   "id": "e29c976f",
   "metadata": {},
   "outputs": [
    {
     "data": {
      "text/plain": [
       "\"J'aime Monty python\""
      ]
     },
     "execution_count": 37,
     "metadata": {},
     "output_type": "execute_result"
    }
   ],
   "source": [
    "Moi"
   ]
  },
  {
   "cell_type": "code",
   "execution_count": 42,
   "id": "1dcdd38e",
   "metadata": {},
   "outputs": [
    {
     "name": "stdout",
     "output_type": "stream",
     "text": [
      "27\n"
     ]
    }
   ],
   "source": [
    "print(54//2 )"
   ]
  },
  {
   "cell_type": "code",
   "execution_count": 43,
   "id": "29a3122d",
   "metadata": {},
   "outputs": [
    {
     "name": "stdout",
     "output_type": "stream",
     "text": [
      "27.0\n"
     ]
    }
   ],
   "source": [
    "print(54/2)"
   ]
  },
  {
   "cell_type": "code",
   "execution_count": 44,
   "id": "b4bb0cd2",
   "metadata": {},
   "outputs": [
    {
     "name": "stdout",
     "output_type": "stream",
     "text": [
      "7\n"
     ]
    }
   ],
   "source": [
    "print(5+2)"
   ]
  },
  {
   "cell_type": "code",
   "execution_count": 57,
   "id": "f6d014ec",
   "metadata": {},
   "outputs": [
    {
     "name": "stdout",
     "output_type": "stream",
     "text": [
      "18\n"
     ]
    }
   ],
   "source": [
    "print(12+6)"
   ]
  },
  {
   "cell_type": "code",
   "execution_count": 54,
   "id": "f4721742",
   "metadata": {},
   "outputs": [
    {
     "name": "stdout",
     "output_type": "stream",
     "text": [
      "Bonjour Bonjour \n"
     ]
    }
   ],
   "source": [
    "print(\"Bonjour \"*2)"
   ]
  },
  {
   "cell_type": "code",
   "execution_count": 56,
   "id": "941d8f0a",
   "metadata": {},
   "outputs": [
    {
     "name": "stdout",
     "output_type": "stream",
     "text": [
      "Bonjour Bonjour  Vini\n"
     ]
    }
   ],
   "source": [
    "print(\"Bonjour \"*2,\"Vini\")"
   ]
  },
  {
   "cell_type": "code",
   "execution_count": 58,
   "id": "0d4468f7",
   "metadata": {},
   "outputs": [
    {
     "name": "stdout",
     "output_type": "stream",
     "text": [
      "8\n"
     ]
    }
   ],
   "source": [
    "print( 2**3)"
   ]
  },
  {
   "cell_type": "code",
   "execution_count": 63,
   "id": "5f34caa9",
   "metadata": {},
   "outputs": [
    {
     "name": "stdout",
     "output_type": "stream",
     "text": [
      "8.0\n"
     ]
    }
   ],
   "source": [
    "print( 2. **3.)"
   ]
  },
  {
   "cell_type": "code",
   "execution_count": 95,
   "id": "22688193",
   "metadata": {},
   "outputs": [
    {
     "name": "stdout",
     "output_type": "stream",
     "text": [
      "1.25\n"
     ]
    }
   ],
   "source": [
    "print( 10/2 **3)"
   ]
  },
  {
   "cell_type": "code",
   "execution_count": 82,
   "id": "3450752e",
   "metadata": {},
   "outputs": [
    {
     "name": "stdout",
     "output_type": "stream",
     "text": [
      "125\n"
     ]
    }
   ],
   "source": [
    "print( (10//2) **3)"
   ]
  },
  {
   "cell_type": "code",
   "execution_count": 96,
   "id": "23dd8536",
   "metadata": {},
   "outputs": [
    {
     "name": "stdout",
     "output_type": "stream",
     "text": [
      "125.0\n"
     ]
    }
   ],
   "source": [
    "print( (10//2)**3.)"
   ]
  },
  {
   "cell_type": "code",
   "execution_count": 90,
   "id": "70c49bfc",
   "metadata": {},
   "outputs": [
    {
     "name": "stdout",
     "output_type": "stream",
     "text": [
      "30\n"
     ]
    }
   ],
   "source": [
    "print( 10 *3)"
   ]
  },
  {
   "cell_type": "code",
   "execution_count": 99,
   "id": "b130bb4d",
   "metadata": {},
   "outputs": [
    {
     "name": "stdout",
     "output_type": "stream",
     "text": [
      "1\n"
     ]
    }
   ],
   "source": [
    "print( 10//2 **3)"
   ]
  },
  {
   "cell_type": "code",
   "execution_count": 106,
   "id": "43eee982",
   "metadata": {
    "scrolled": true
   },
   "outputs": [
    {
     "name": "stdout",
     "output_type": "stream",
     "text": [
      "0\n"
     ]
    }
   ],
   "source": [
    "print(2%2)"
   ]
  },
  {
   "cell_type": "code",
   "execution_count": 107,
   "id": "96441070",
   "metadata": {},
   "outputs": [
    {
     "name": "stdout",
     "output_type": "stream",
     "text": [
      "1.1111111111111112\n"
     ]
    }
   ],
   "source": [
    "print( 10 *3**-2)"
   ]
  },
  {
   "cell_type": "code",
   "execution_count": 108,
   "id": "bdd5c941",
   "metadata": {},
   "outputs": [
    {
     "name": "stdout",
     "output_type": "stream",
     "text": [
      "0.3333333333333333\n"
     ]
    }
   ],
   "source": [
    "print(3**-1)"
   ]
  },
  {
   "cell_type": "code",
   "execution_count": 1,
   "id": "fe0b88f2",
   "metadata": {},
   "outputs": [],
   "source": [
    "Names=(6)"
   ]
  },
  {
   "cell_type": "code",
   "execution_count": 15,
   "id": "e341a902",
   "metadata": {},
   "outputs": [
    {
     "name": "stdout",
     "output_type": "stream",
     "text": [
      "6\n"
     ]
    }
   ],
   "source": [
    "print(Names)"
   ]
  },
  {
   "cell_type": "code",
   "execution_count": 32,
   "id": "5b798380",
   "metadata": {},
   "outputs": [
    {
     "name": "stdout",
     "output_type": "stream",
     "text": [
      "3,5,6\n"
     ]
    }
   ],
   "source": [
    "Jean=3\n",
    "Mari=5\n",
    "Adam=6\n",
    "print(Jean, Mari, Adam, sep=\",\" )"
   ]
  },
  {
   "cell_type": "code",
   "execution_count": 24,
   "id": "fafd01f1",
   "metadata": {},
   "outputs": [],
   "source": [
    "Jean=3\n",
    "Mari=5\n",
    "Adam=6\n",
    "total_apples = Jean + Mari+ Adam\n"
   ]
  },
  {
   "cell_type": "code",
   "execution_count": 25,
   "id": "23207737",
   "metadata": {},
   "outputs": [
    {
     "name": "stdout",
     "output_type": "stream",
     "text": [
      "14\n"
     ]
    }
   ],
   "source": [
    "print(total_apples)"
   ]
  },
  {
   "cell_type": "code",
   "execution_count": 39,
   "id": "a2228a04",
   "metadata": {},
   "outputs": [],
   "source": [
    "U=12\n",
    "F=15\n"
   ]
  },
  {
   "cell_type": "code",
   "execution_count": 69,
   "id": "1e678e46",
   "metadata": {},
   "outputs": [
    {
     "name": "stdout",
     "output_type": "stream",
     "text": [
      "21\n"
     ]
    }
   ],
   "source": [
    "X=2\n",
    "Y= 3*X**3-2*X**2 +3*X-1\n",
    "print(Y)"
   ]
  },
  {
   "cell_type": "code",
   "execution_count": 32,
   "id": "2527d060",
   "metadata": {},
   "outputs": [
    {
     "name": "stdout",
     "output_type": "stream",
     "text": [
      "100 Money\n"
     ]
    }
   ],
   "source": [
    "Vini=\"100\"\n",
    "print(Vini + ' Money')"
   ]
  },
  {
   "cell_type": "code",
   "execution_count": 56,
   "id": "c79dc3ee",
   "metadata": {},
   "outputs": [
    {
     "name": "stdout",
     "output_type": "stream",
     "text": [
      "Good morning Vini Vini I love you\n"
     ]
    }
   ],
   "source": [
    "print( \"Good morning \"+ 'Vini '*2 +\"I love you\" )"
   ]
  },
  {
   "cell_type": "code",
   "execution_count": 90,
   "id": "e4934521",
   "metadata": {},
   "outputs": [
    {
     "name": "stdout",
     "output_type": "stream",
     "text": [
      "43\n"
     ]
    }
   ],
   "source": [
    "a=\"4\"\n",
    "b=\"3\"\n",
    "print(a+b)"
   ]
  },
  {
   "cell_type": "code",
   "execution_count": 101,
   "id": "7a17d258",
   "metadata": {},
   "outputs": [
    {
     "name": "stdout",
     "output_type": "stream",
     "text": [
      "1\n"
     ]
    }
   ],
   "source": [
    "a=2\n",
    "b=5\n",
    "b//= 2*a\n",
    "print(b)"
   ]
  },
  {
   "cell_type": "code",
   "execution_count": 6,
   "id": "62cb18dc",
   "metadata": {},
   "outputs": [
    {
     "name": "stdout",
     "output_type": "stream",
     "text": [
      "bonjour, bonsoir\n"
     ]
    }
   ],
   "source": [
    "bonjour=9\n",
    "bonsoir=1\n",
    "print( 'bonjour, bonsoir')"
   ]
  },
  {
   "cell_type": "code",
   "execution_count": 5,
   "id": "8845e868",
   "metadata": {},
   "outputs": [
    {
     "name": "stdout",
     "output_type": "stream",
     "text": [
      "bonjour, bonsoir\n"
     ]
    }
   ],
   "source": [
    "print( 'bonjour, bonsoir')"
   ]
  },
  {
   "cell_type": "code",
   "execution_count": 3,
   "id": "f0c14765",
   "metadata": {},
   "outputs": [
    {
     "name": "stdout",
     "output_type": "stream",
     "text": [
      "bonjour, bonsoir\n"
     ]
    }
   ],
   "source": [
    "print( 'bonjour, bonsoir')"
   ]
  },
  {
   "cell_type": "code",
   "execution_count": 10,
   "id": "de9d2ebf",
   "metadata": {},
   "outputs": [],
   "source": [
    "def mult(num):\n",
    "    for i in range(5):\n",
    "            print( f\"{num}*{i}={num *i} \")"
   ]
  },
  {
   "cell_type": "code",
   "execution_count": 11,
   "id": "03a8cf54",
   "metadata": {},
   "outputs": [
    {
     "name": "stdout",
     "output_type": "stream",
     "text": [
      "5*0=0 \n",
      "5*1=5 \n",
      "5*2=10 \n",
      "5*3=15 \n",
      "5*4=20 \n"
     ]
    }
   ],
   "source": [
    "mult(5)"
   ]
  },
  {
   "cell_type": "code",
   "execution_count": 16,
   "id": "cb1cd1c9",
   "metadata": {},
   "outputs": [],
   "source": [
    "   def nam(num): \n",
    "    for i in range(6):\n",
    "            print(f'{num}**{i}= {num**i} ')"
   ]
  },
  {
   "cell_type": "code",
   "execution_count": 17,
   "id": "37e4c6e1",
   "metadata": {},
   "outputs": [
    {
     "name": "stdout",
     "output_type": "stream",
     "text": [
      "2**0= 1 \n",
      "2**1= 2 \n",
      "2**2= 4 \n",
      "2**3= 8 \n",
      "2**4= 16 \n",
      "2**5= 32 \n"
     ]
    }
   ],
   "source": [
    "nam(2)"
   ]
  },
  {
   "cell_type": "code",
   "execution_count": 29,
   "id": "3a6baa8c",
   "metadata": {},
   "outputs": [],
   "source": [
    "def my(elt):\n",
    "    for i in range(1,6):\n",
    "        print(f'{elt}/ i= {elt/i} ')"
   ]
  },
  {
   "cell_type": "code",
   "execution_count": 30,
   "id": "ad07f888",
   "metadata": {},
   "outputs": [
    {
     "name": "stdout",
     "output_type": "stream",
     "text": [
      "8/ i= 8.0 \n",
      "8/ i= 4.0 \n",
      "8/ i= 2.6666666666666665 \n",
      "8/ i= 2.0 \n",
      "8/ i= 1.6 \n"
     ]
    }
   ],
   "source": [
    "my(8)"
   ]
  },
  {
   "cell_type": "code",
   "execution_count": 31,
   "id": "ef385201",
   "metadata": {},
   "outputs": [],
   "source": [
    "def my(elt):\n",
    "    for i in range(1,6):\n",
    "        print(f'{elt}// i= {elt//i} ')"
   ]
  },
  {
   "cell_type": "code",
   "execution_count": 32,
   "id": "072893ac",
   "metadata": {},
   "outputs": [
    {
     "name": "stdout",
     "output_type": "stream",
     "text": [
      "10// i= 10 \n",
      "10// i= 5 \n",
      "10// i= 3 \n",
      "10// i= 2 \n",
      "10// i= 2 \n"
     ]
    }
   ],
   "source": [
    "my(10)"
   ]
  },
  {
   "cell_type": "code",
   "execution_count": 41,
   "id": "50455378",
   "metadata": {},
   "outputs": [],
   "source": [
    "def my(elt):\n",
    "    for i in range(1,6):\n",
    "        print(f'{elt}// i= {elt%i} ')"
   ]
  },
  {
   "cell_type": "code",
   "execution_count": 42,
   "id": "598784c4",
   "metadata": {},
   "outputs": [
    {
     "name": "stdout",
     "output_type": "stream",
     "text": [
      "10// i= 0 \n",
      "10// i= 0 \n",
      "10// i= 1 \n",
      "10// i= 2 \n",
      "10// i= 0 \n"
     ]
    }
   ],
   "source": [
    "my (10)"
   ]
  },
  {
   "cell_type": "code",
   "execution_count": 45,
   "id": "5087cdd5",
   "metadata": {},
   "outputs": [],
   "source": [
    "def my(elt):\n",
    "    for i in range(1,6):\n",
    "        print(f'{elt}/ i= {elt*i} ')"
   ]
  },
  {
   "cell_type": "code",
   "execution_count": 46,
   "id": "1c55eb36",
   "metadata": {},
   "outputs": [
    {
     "name": "stdout",
     "output_type": "stream",
     "text": [
      "10/ i= 10 \n",
      "10/ i= 20 \n",
      "10/ i= 30 \n",
      "10/ i= 40 \n",
      "10/ i= 50 \n"
     ]
    }
   ],
   "source": [
    "my(10)"
   ]
  },
  {
   "cell_type": "code",
   "execution_count": 51,
   "id": "2ec03866",
   "metadata": {},
   "outputs": [],
   "source": [
    "def my(elt):\n",
    "    for i in range(1,6):\n",
    "        print(f'{elt}/i= {elt%i} ')"
   ]
  },
  {
   "cell_type": "code",
   "execution_count": 52,
   "id": "7cf6f336",
   "metadata": {},
   "outputs": [
    {
     "name": "stdout",
     "output_type": "stream",
     "text": [
      "10/i= 0 \n",
      "10/i= 0 \n",
      "10/i= 1 \n",
      "10/i= 2 \n",
      "10/i= 0 \n"
     ]
    }
   ],
   "source": [
    "my(10)"
   ]
  },
  {
   "cell_type": "code",
   "execution_count": 3,
   "id": "7bdbd5f6",
   "metadata": {},
   "outputs": [],
   "source": [
    "int=('vini'+'10')"
   ]
  },
  {
   "cell_type": "code",
   "execution_count": 4,
   "id": "e4bfe4de",
   "metadata": {},
   "outputs": [
    {
     "name": "stdout",
     "output_type": "stream",
     "text": [
      "vini10\n"
     ]
    }
   ],
   "source": [
    "print(int)"
   ]
  },
  {
   "cell_type": "code",
   "execution_count": 1,
   "id": "c92fd5d3",
   "metadata": {},
   "outputs": [],
   "source": [
    "float=('vini' + '10')"
   ]
  },
  {
   "cell_type": "code",
   "execution_count": 2,
   "id": "f6611339",
   "metadata": {},
   "outputs": [
    {
     "name": "stdout",
     "output_type": "stream",
     "text": [
      "vini10\n"
     ]
    }
   ],
   "source": [
    "print(float)"
   ]
  },
  {
   "cell_type": "code",
   "execution_count": null,
   "id": "69680088",
   "metadata": {},
   "outputs": [],
   "source": []
  }
 ],
 "metadata": {
  "kernelspec": {
   "display_name": "Python 3 (ipykernel)",
   "language": "python",
   "name": "python3"
  },
  "language_info": {
   "codemirror_mode": {
    "name": "ipython",
    "version": 3
   },
   "file_extension": ".py",
   "mimetype": "text/x-python",
   "name": "python",
   "nbconvert_exporter": "python",
   "pygments_lexer": "ipython3",
   "version": "3.11.5"
  }
 },
 "nbformat": 4,
 "nbformat_minor": 5
}
