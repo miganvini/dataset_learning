{
 "cells": [
  {
   "cell_type": "code",
   "execution_count": null,
   "id": "135e01ff",
   "metadata": {},
   "outputs": [],
   "source": [
    "revenu = float(input('entrez le revenu annuel'))"
   ]
  },
  {
   "cell_type": "code",
   "execution_count": null,
   "id": "82de73a3",
   "metadata": {},
   "outputs": [],
   "source": [
    "if revenu< 85528:\n",
    "        impot = revenu *0,18 -556,02"
   ]
  },
  {
   "cell_type": "code",
   "execution_count": 15,
   "id": "5f831310",
   "metadata": {},
   "outputs": [],
   "source": [
    "revenu= 20000"
   ]
  },
  {
   "cell_type": "code",
   "execution_count": 16,
   "id": "b238e062",
   "metadata": {},
   "outputs": [
    {
     "data": {
      "text/plain": [
       "True"
      ]
     },
     "execution_count": 16,
     "metadata": {},
     "output_type": "execute_result"
    }
   ],
   "source": [
    "revenu<85528"
   ]
  },
  {
   "cell_type": "code",
   "execution_count": 7,
   "id": "989f805c",
   "metadata": {},
   "outputs": [
    {
     "name": "stdout",
     "output_type": "stream",
     "text": [
      " la taxe est:  200000 thalers\n"
     ]
    }
   ],
   "source": [
    " revenu=200000\n",
    " print (\" la taxe est: \" ,revenu, \"thalers\")"
   ]
  },
  {
   "cell_type": "code",
   "execution_count": null,
   "id": "e76ffaac",
   "metadata": {},
   "outputs": [],
   "source": [
    "mens= float( input(\"entrez votre revenu mensuel:\"))"
   ]
  },
  {
   "cell_type": "code",
   "execution_count": 2,
   "id": "7ef3c235",
   "metadata": {},
   "outputs": [],
   "source": [
    "mens=45000\n",
    "if  mens < 85528:\n",
    "    tax= mens*0,18-556,0o2\n",
    "else:\n",
    "    tax= 14839,0o2+(mens-85528)*0,32\n",
    "if  tax== 0:\n",
    "    tax =0,0\n",
    "    tax= round(tax, 0)"
   ]
  },
  {
   "cell_type": "code",
   "execution_count": 3,
   "id": "fe4fe210",
   "metadata": {},
   "outputs": [
    {
     "name": "stdout",
     "output_type": "stream",
     "text": [
      " la tax est: (0, -538, 2) thalers\n"
     ]
    }
   ],
   "source": [
    " print(\" la tax est:\" ,tax,\"thalers\")"
   ]
  },
  {
   "cell_type": "code",
   "execution_count": 4,
   "id": "315d2a10",
   "metadata": {},
   "outputs": [],
   "source": [
    "## l'année"
   ]
  },
  {
   "cell_type": "code",
   "execution_count": null,
   "id": "0cbe3be1",
   "metadata": {},
   "outputs": [],
   "source": [
    "année=int(input( \"entrez une année\"))"
   ]
  },
  {
   "cell_type": "code",
   "execution_count": 4,
   "id": "db643161",
   "metadata": {},
   "outputs": [
    {
     "name": "stdout",
     "output_type": "stream",
     "text": [
      "1798\n"
     ]
    }
   ],
   "source": [
    "année=1798\n",
    "print(année)"
   ]
  },
  {
   "cell_type": "code",
   "execution_count": 1,
   "id": "70ecb8f2",
   "metadata": {},
   "outputs": [],
   "source": [
    "def A(num):\n",
    "    if num %4==0:\n",
    "        print('année commune')\n",
    "    elif num//100 !=0 :\n",
    "             print(\"année bisse\")\n",
    "    else:\n",
    "        num//100==0\n",
    "        print('année commune')"
   ]
  },
  {
   "cell_type": "code",
   "execution_count": 2,
   "id": "52c9cf79",
   "metadata": {},
   "outputs": [
    {
     "name": "stdout",
     "output_type": "stream",
     "text": [
      "année bisse\n"
     ]
    }
   ],
   "source": [
    "A(1578)"
   ]
  },
  {
   "cell_type": "code",
   "execution_count": 3,
   "id": "2d7ed58a",
   "metadata": {},
   "outputs": [
    {
     "name": "stdout",
     "output_type": "stream",
     "text": [
      "année commune\n"
     ]
    }
   ],
   "source": [
    "A(2012)"
   ]
  },
  {
   "cell_type": "code",
   "execution_count": 4,
   "id": "d5bdf218",
   "metadata": {},
   "outputs": [
    {
     "name": "stdout",
     "output_type": "stream",
     "text": [
      "année bisse\n"
     ]
    }
   ],
   "source": [
    "A(1999)"
   ]
  },
  {
   "cell_type": "code",
   "execution_count": 14,
   "id": "560123d7",
   "metadata": {},
   "outputs": [],
   "source": [
    "## j'aimerais écrire un programme qui permet d'acheter dans un supermarket quand on a la carte warrie "
   ]
  },
  {
   "cell_type": "code",
   "execution_count": 4,
   "id": "1baf4ff9",
   "metadata": {},
   "outputs": [],
   "source": [
    "def name_carte(nam):\n",
    "    while  nam != 'warrie':\n",
    "        print( \"Désolé, Vous n'êtes pas autorisés pour cette action \")\n",
    "        break\n",
    "    else : \n",
    "        print(\"Entrez et bon marché à vous!\")"
   ]
  },
  {
   "cell_type": "code",
   "execution_count": 5,
   "id": "97010efb",
   "metadata": {},
   "outputs": [
    {
     "name": "stdout",
     "output_type": "stream",
     "text": [
      "Désolé, Vous n'êtes pas autorisés pour cette action \n"
     ]
    }
   ],
   "source": [
    "name_carte(\"ecobank\")"
   ]
  },
  {
   "cell_type": "code",
   "execution_count": 6,
   "id": "57b47ff2",
   "metadata": {},
   "outputs": [
    {
     "name": "stdout",
     "output_type": "stream",
     "text": [
      "Entrez et bon marché à vous!\n"
     ]
    }
   ],
   "source": [
    "name_carte(\"warrie\")"
   ]
  },
  {
   "cell_type": "code",
   "execution_count": null,
   "id": "3f1b967d",
   "metadata": {},
   "outputs": [],
   "source": [
    "# le jeune magicien, je dois trouver le numero secret"
   ]
  },
  {
   "cell_type": "code",
   "execution_count": null,
   "id": "e66ee945",
   "metadata": {},
   "outputs": [],
   "source": [
    " num_secret= int(input('num_secret'))"
   ]
  },
  {
   "cell_type": "code",
   "execution_count": 1,
   "id": "8ff6bf23",
   "metadata": {},
   "outputs": [
    {
     "name": "stdout",
     "output_type": "stream",
     "text": [
      "25\n"
     ]
    }
   ],
   "source": [
    "num_secret=25\n",
    "print(num_secret)"
   ]
  },
  {
   "cell_type": "code",
   "execution_count": 2,
   "id": "eede7e00",
   "metadata": {},
   "outputs": [],
   "source": [
    " def magi(num):\n",
    "    while num !=num_secret :\n",
    "        print('ha ha! Tu es coincé dans ma boucle!')\n",
    "        break\n",
    "    else: \n",
    "            print('Bravo, tu es libre maintenant.')\n",
    "    "
   ]
  },
  {
   "cell_type": "code",
   "execution_count": 3,
   "id": "639fef38",
   "metadata": {},
   "outputs": [
    {
     "name": "stdout",
     "output_type": "stream",
     "text": [
      "ha ha! Tu es coincé dans ma boucle!\n"
     ]
    }
   ],
   "source": [
    "magi(12)"
   ]
  },
  {
   "cell_type": "code",
   "execution_count": 4,
   "id": "92c3fecc",
   "metadata": {},
   "outputs": [
    {
     "name": "stdout",
     "output_type": "stream",
     "text": [
      "Bravo, tu es libre maintenant.\n"
     ]
    }
   ],
   "source": [
    "magi(25)"
   ]
  },
  {
   "cell_type": "code",
   "execution_count": 5,
   "id": "aacd0644",
   "metadata": {},
   "outputs": [
    {
     "name": "stdout",
     "output_type": "stream",
     "text": [
      "ha ha! Tu es coincé dans ma boucle!\n"
     ]
    }
   ],
   "source": [
    "magi(16)"
   ]
  },
  {
   "cell_type": "code",
   "execution_count": 6,
   "id": "0057db85",
   "metadata": {},
   "outputs": [
    {
     "name": "stdout",
     "output_type": "stream",
     "text": [
      "ha ha! Tu es coincé dans ma boucle!\n"
     ]
    }
   ],
   "source": [
    "magi(18)"
   ]
  },
  {
   "cell_type": "code",
   "execution_count": 7,
   "id": "c3a039e9",
   "metadata": {},
   "outputs": [
    {
     "name": "stdout",
     "output_type": "stream",
     "text": [
      "Bravo, tu es libre maintenant.\n"
     ]
    }
   ],
   "source": [
    "magi(25)"
   ]
  },
  {
   "cell_type": "code",
   "execution_count": 2,
   "id": "8c809f4f",
   "metadata": {},
   "outputs": [
    {
     "name": "stdout",
     "output_type": "stream",
     "text": [
      "False\n"
     ]
    }
   ],
   "source": [
    "success=100\n",
    "print(not(success))"
   ]
  },
  {
   "cell_type": "code",
   "execution_count": 8,
   "id": "445b6e23",
   "metadata": {},
   "outputs": [
    {
     "name": "stdout",
     "output_type": "stream",
     "text": [
      "False\n"
     ]
    }
   ],
   "source": [
    "var=12\n",
    "print(not(var))"
   ]
  },
  {
   "cell_type": "code",
   "execution_count": 12,
   "id": "c89392c6",
   "metadata": {},
   "outputs": [
    {
     "name": "stdout",
     "output_type": "stream",
     "text": [
      "True\n"
     ]
    }
   ],
   "source": [
    "var !=12\n",
    "    \n",
    "print(not(var==12))"
   ]
  },
  {
   "cell_type": "code",
   "execution_count": 21,
   "id": "495d3740",
   "metadata": {},
   "outputs": [
    {
     "name": "stdout",
     "output_type": "stream",
     "text": [
      "True\n"
     ]
    }
   ],
   "source": [
    "var =12\n",
    "print(not(var !=12))"
   ]
  },
  {
   "cell_type": "code",
   "execution_count": 28,
   "id": "c8dd1396",
   "metadata": {},
   "outputs": [
    {
     "name": "stdout",
     "output_type": "stream",
     "text": [
      "True\n"
     ]
    }
   ],
   "source": [
    "win='good'\n",
    "print(not(win !=\"good\"))"
   ]
  },
  {
   "cell_type": "code",
   "execution_count": 16,
   "id": "b4a1876f",
   "metadata": {},
   "outputs": [
    {
     "name": "stdout",
     "output_type": "stream",
     "text": [
      "False\n"
     ]
    }
   ],
   "source": [
    " print(not(win=='good'))"
   ]
  },
  {
   "cell_type": "code",
   "execution_count": 38,
   "id": "67c2e16c",
   "metadata": {},
   "outputs": [],
   "source": [
    "def win(num):\n",
    "    if num ==15:\n",
    "        print( not(num ==15))\n",
    "        \n",
    "    else :\n",
    "        print('Congrat!!!')"
   ]
  },
  {
   "cell_type": "code",
   "execution_count": 39,
   "id": "65b82c86",
   "metadata": {},
   "outputs": [
    {
     "name": "stdout",
     "output_type": "stream",
     "text": [
      "False\n"
     ]
    }
   ],
   "source": [
    "win(15)"
   ]
  },
  {
   "cell_type": "code",
   "execution_count": 35,
   "id": "ff7596e0",
   "metadata": {},
   "outputs": [
    {
     "name": "stdout",
     "output_type": "stream",
     "text": [
      "Congrat!!!\n"
     ]
    }
   ],
   "source": [
    "win(18)"
   ]
  },
  {
   "cell_type": "code",
   "execution_count": 40,
   "id": "0a840b8b",
   "metadata": {},
   "outputs": [],
   "source": [
    "def win(num):\n",
    "    if num ==15:\n",
    "        print( not(num !=15))\n",
    "        \n",
    "    else :\n",
    "        print('Congrat!!!')"
   ]
  },
  {
   "cell_type": "code",
   "execution_count": 41,
   "id": "9db1f80a",
   "metadata": {},
   "outputs": [
    {
     "name": "stdout",
     "output_type": "stream",
     "text": [
      "Congrat!!!\n"
     ]
    }
   ],
   "source": [
    "win(45)"
   ]
  },
  {
   "cell_type": "code",
   "execution_count": 42,
   "id": "e3459d9a",
   "metadata": {},
   "outputs": [
    {
     "name": "stdout",
     "output_type": "stream",
     "text": [
      "True\n"
     ]
    }
   ],
   "source": [
    "win(15)"
   ]
  },
  {
   "cell_type": "code",
   "execution_count": 9,
   "id": "7c2d7fe5",
   "metadata": {},
   "outputs": [],
   "source": [
    "def win(num):\n",
    "    if num ==15:\n",
    "        print( not(num))\n",
    "        \n",
    "    else :\n",
    "        print('Congrat!!!')"
   ]
  },
  {
   "cell_type": "code",
   "execution_count": 10,
   "id": "b351efee",
   "metadata": {},
   "outputs": [
    {
     "name": "stdout",
     "output_type": "stream",
     "text": [
      "False\n"
     ]
    }
   ],
   "source": [
    "win(15)"
   ]
  },
  {
   "cell_type": "code",
   "execution_count": 17,
   "id": "9e26ba33",
   "metadata": {},
   "outputs": [],
   "source": [
    "my_list=[1,3,4,6,7]\n",
    "my_list[2]=3"
   ]
  },
  {
   "cell_type": "code",
   "execution_count": 18,
   "id": "5fb62f7a",
   "metadata": {},
   "outputs": [
    {
     "data": {
      "text/plain": [
       "[1, 3, 3, 6, 7]"
      ]
     },
     "execution_count": 18,
     "metadata": {},
     "output_type": "execute_result"
    }
   ],
   "source": [
    "my_list"
   ]
  },
  {
   "cell_type": "code",
   "execution_count": 19,
   "id": "09dcff52",
   "metadata": {},
   "outputs": [],
   "source": [
    "my_list[0]=9"
   ]
  },
  {
   "cell_type": "code",
   "execution_count": 24,
   "id": "b85ca7d8",
   "metadata": {},
   "outputs": [
    {
     "data": {
      "text/plain": [
       "[9, 3, 3, 6, 7]"
      ]
     },
     "execution_count": 24,
     "metadata": {},
     "output_type": "execute_result"
    }
   ],
   "source": [
    "my_list"
   ]
  },
  {
   "cell_type": "code",
   "execution_count": 35,
   "id": "ab3c1963",
   "metadata": {},
   "outputs": [
    {
     "data": {
      "text/plain": [
       "5"
      ]
     },
     "execution_count": 35,
     "metadata": {},
     "output_type": "execute_result"
    }
   ],
   "source": [
    "len(my_list)"
   ]
  },
  {
   "cell_type": "code",
   "execution_count": null,
   "id": "36ebea49",
   "metadata": {},
   "outputs": [],
   "source": []
  },
  {
   "cell_type": "code",
   "execution_count": null,
   "id": "9eede6f1",
   "metadata": {},
   "outputs": [],
   "source": []
  },
  {
   "cell_type": "code",
   "execution_count": null,
   "id": "867345cf",
   "metadata": {},
   "outputs": [],
   "source": []
  }
 ],
 "metadata": {
  "kernelspec": {
   "display_name": "Python 3 (ipykernel)",
   "language": "python",
   "name": "python3"
  },
  "language_info": {
   "codemirror_mode": {
    "name": "ipython",
    "version": 3
   },
   "file_extension": ".py",
   "mimetype": "text/x-python",
   "name": "python",
   "nbconvert_exporter": "python",
   "pygments_lexer": "ipython3",
   "version": "3.11.5"
  }
 },
 "nbformat": 4,
 "nbformat_minor": 5
}
