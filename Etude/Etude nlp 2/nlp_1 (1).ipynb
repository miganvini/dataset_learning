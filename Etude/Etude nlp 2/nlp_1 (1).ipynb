{
 "cells": [
  {
   "cell_type": "markdown",
   "id": "32761d3a",
   "metadata": {},
   "source": [
    "## NLP:Natural Language Preprocessing"
   ]
  },
  {
   "cell_type": "code",
   "execution_count": 1,
   "id": "04d6daf1",
   "metadata": {},
   "outputs": [],
   "source": [
    "#pip install wordcloud"
   ]
  },
  {
   "cell_type": "code",
   "execution_count": 2,
   "id": "2767f0e4",
   "metadata": {},
   "outputs": [],
   "source": [
    "import math\n",
    "import nltk\n",
    "from nltk.stem import WordNetLemmatizer\n",
    "from nltk.stem import PorterStemmer\n",
    "from nltk.corpus import stopwords\n",
    "from nltk.tokenize import word_tokenize\n",
    "from wordcloud import  WordCloud\n",
    "import pandas as pd\n",
    "import numpy as np\n",
    "import matplotlib.pyplot as plt\n",
    "from sklearn.feature_extraction.text import TfidfVectorizer\n",
    "from sklearn.metrics.pairwise import cosine_similarity,cosine_distances\n",
    "from sklearn.decomposition import TruncatedSVD"
   ]
  },
  {
   "cell_type": "code",
   "execution_count": 3,
   "id": "32f3c666",
   "metadata": {},
   "outputs": [],
   "source": [
    "#nltk.download(\"stopwords\")\n",
    "#nltk.download('punkt')\n",
    "#nltk.download('wordnet')\n",
    "#nltk.download('omw-1.4')"
   ]
  },
  {
   "cell_type": "code",
   "execution_count": 4,
   "id": "e449491f",
   "metadata": {},
   "outputs": [],
   "source": [
    "corpus_0=\"\"\"The beneficiaries of the Women AI and Data Academy program are Amazons.\n",
    "They are currently learning data visualization, machine learning,deep learning,\n",
    "web scraping as well as all the concepts of data and AI. \n",
    "They learn how algs work up to the implementation of models,\n",
    "of course taking into account the recovery of data, \n",
    "the storage of the latter and streaming allowing visualizations for BI purpose.\"\"\""
   ]
  },
  {
   "cell_type": "code",
   "execution_count": 5,
   "id": "731b7205",
   "metadata": {},
   "outputs": [],
   "source": [
    "#corpus=\"\"\"\"Les bénéficiaires du programme de Women IA et Data Academy sont des amazones.\n",
    "#Elles sont entrain d'apprendre la data visualisation,le machine learning,le web scraping et aussi tous les concepts de la data et de l'IA.\n",
    "#Elles apprennent du fonctionnement des algs jusqu'à la mise en place des modèles en passant bien sûr compte de la récupération des données,le stockages de ces dernières et le streaming permettant d'avoir des visualistaions à des fins bi\"\"\""
   ]
  },
  {
   "cell_type": "code",
   "execution_count": 6,
   "id": "cdb0c1ea",
   "metadata": {},
   "outputs": [],
   "source": [
    "corpus=corpus_0.lower()"
   ]
  },
  {
   "cell_type": "code",
   "execution_count": 7,
   "id": "b16c9a56",
   "metadata": {},
   "outputs": [
    {
     "data": {
      "text/plain": [
       "'The beneficiaries of the Women AI and Data Academy program are Amazons.\\nThey are currently learning data visualization, machine learning,deep learning,\\nweb scraping as well as all the concepts of data and AI. \\nThey learn how algs work up to the implementation of models,\\nof course taking into account the recovery of data, \\nthe storage of the latter and streaming allowing visualizations for BI purpose.'"
      ]
     },
     "execution_count": 7,
     "metadata": {},
     "output_type": "execute_result"
    }
   ],
   "source": [
    "corpus_0"
   ]
  },
  {
   "cell_type": "code",
   "execution_count": 8,
   "id": "0748be79",
   "metadata": {},
   "outputs": [],
   "source": [
    "corpus=corpus_0.replace(\".\",'').replace(\",\",\"\").replace('\\n',\"\")"
   ]
  },
  {
   "cell_type": "code",
   "execution_count": 9,
   "id": "63dce62a",
   "metadata": {},
   "outputs": [
    {
     "data": {
      "text/plain": [
       "'The beneficiaries of the Women AI and Data Academy program are AmazonsThey are currently learning data visualization machine learningdeep learningweb scraping as well as all the concepts of data and AI They learn how algs work up to the implementation of modelsof course taking into account the recovery of data the storage of the latter and streaming allowing visualizations for BI purpose'"
      ]
     },
     "execution_count": 9,
     "metadata": {},
     "output_type": "execute_result"
    }
   ],
   "source": [
    "corpus"
   ]
  },
  {
   "cell_type": "code",
   "execution_count": 10,
   "id": "86cd3585",
   "metadata": {},
   "outputs": [],
   "source": [
    "stop_w=stopwords.words(\"english\")"
   ]
  },
  {
   "cell_type": "code",
   "execution_count": 11,
   "id": "aedf4d99",
   "metadata": {},
   "outputs": [
    {
     "data": {
      "text/plain": [
       "['i',\n",
       " 'me',\n",
       " 'my',\n",
       " 'myself',\n",
       " 'we',\n",
       " 'our',\n",
       " 'ours',\n",
       " 'ourselves',\n",
       " 'you',\n",
       " \"you're\",\n",
       " \"you've\",\n",
       " \"you'll\",\n",
       " \"you'd\",\n",
       " 'your',\n",
       " 'yours',\n",
       " 'yourself',\n",
       " 'yourselves',\n",
       " 'he',\n",
       " 'him',\n",
       " 'his',\n",
       " 'himself',\n",
       " 'she',\n",
       " \"she's\",\n",
       " 'her',\n",
       " 'hers',\n",
       " 'herself',\n",
       " 'it',\n",
       " \"it's\",\n",
       " 'its',\n",
       " 'itself',\n",
       " 'they',\n",
       " 'them',\n",
       " 'their',\n",
       " 'theirs',\n",
       " 'themselves',\n",
       " 'what',\n",
       " 'which',\n",
       " 'who',\n",
       " 'whom',\n",
       " 'this',\n",
       " 'that',\n",
       " \"that'll\",\n",
       " 'these',\n",
       " 'those',\n",
       " 'am',\n",
       " 'is',\n",
       " 'are',\n",
       " 'was',\n",
       " 'were',\n",
       " 'be',\n",
       " 'been',\n",
       " 'being',\n",
       " 'have',\n",
       " 'has',\n",
       " 'had',\n",
       " 'having',\n",
       " 'do',\n",
       " 'does',\n",
       " 'did',\n",
       " 'doing',\n",
       " 'a',\n",
       " 'an',\n",
       " 'the',\n",
       " 'and',\n",
       " 'but',\n",
       " 'if',\n",
       " 'or',\n",
       " 'because',\n",
       " 'as',\n",
       " 'until',\n",
       " 'while',\n",
       " 'of',\n",
       " 'at',\n",
       " 'by',\n",
       " 'for',\n",
       " 'with',\n",
       " 'about',\n",
       " 'against',\n",
       " 'between',\n",
       " 'into',\n",
       " 'through',\n",
       " 'during',\n",
       " 'before',\n",
       " 'after',\n",
       " 'above',\n",
       " 'below',\n",
       " 'to',\n",
       " 'from',\n",
       " 'up',\n",
       " 'down',\n",
       " 'in',\n",
       " 'out',\n",
       " 'on',\n",
       " 'off',\n",
       " 'over',\n",
       " 'under',\n",
       " 'again',\n",
       " 'further',\n",
       " 'then',\n",
       " 'once',\n",
       " 'here',\n",
       " 'there',\n",
       " 'when',\n",
       " 'where',\n",
       " 'why',\n",
       " 'how',\n",
       " 'all',\n",
       " 'any',\n",
       " 'both',\n",
       " 'each',\n",
       " 'few',\n",
       " 'more',\n",
       " 'most',\n",
       " 'other',\n",
       " 'some',\n",
       " 'such',\n",
       " 'no',\n",
       " 'nor',\n",
       " 'not',\n",
       " 'only',\n",
       " 'own',\n",
       " 'same',\n",
       " 'so',\n",
       " 'than',\n",
       " 'too',\n",
       " 'very',\n",
       " 's',\n",
       " 't',\n",
       " 'can',\n",
       " 'will',\n",
       " 'just',\n",
       " 'don',\n",
       " \"don't\",\n",
       " 'should',\n",
       " \"should've\",\n",
       " 'now',\n",
       " 'd',\n",
       " 'll',\n",
       " 'm',\n",
       " 'o',\n",
       " 're',\n",
       " 've',\n",
       " 'y',\n",
       " 'ain',\n",
       " 'aren',\n",
       " \"aren't\",\n",
       " 'couldn',\n",
       " \"couldn't\",\n",
       " 'didn',\n",
       " \"didn't\",\n",
       " 'doesn',\n",
       " \"doesn't\",\n",
       " 'hadn',\n",
       " \"hadn't\",\n",
       " 'hasn',\n",
       " \"hasn't\",\n",
       " 'haven',\n",
       " \"haven't\",\n",
       " 'isn',\n",
       " \"isn't\",\n",
       " 'ma',\n",
       " 'mightn',\n",
       " \"mightn't\",\n",
       " 'mustn',\n",
       " \"mustn't\",\n",
       " 'needn',\n",
       " \"needn't\",\n",
       " 'shan',\n",
       " \"shan't\",\n",
       " 'shouldn',\n",
       " \"shouldn't\",\n",
       " 'wasn',\n",
       " \"wasn't\",\n",
       " 'weren',\n",
       " \"weren't\",\n",
       " 'won',\n",
       " \"won't\",\n",
       " 'wouldn',\n",
       " \"wouldn't\"]"
      ]
     },
     "execution_count": 11,
     "metadata": {},
     "output_type": "execute_result"
    }
   ],
   "source": [
    "stop_w"
   ]
  },
  {
   "cell_type": "code",
   "execution_count": 12,
   "id": "0ae26d1c",
   "metadata": {},
   "outputs": [
    {
     "data": {
      "text/plain": [
       "['The',\n",
       " 'beneficiaries',\n",
       " 'of',\n",
       " 'the',\n",
       " 'Women',\n",
       " 'AI',\n",
       " 'and',\n",
       " 'Data',\n",
       " 'Academy',\n",
       " 'program',\n",
       " 'are',\n",
       " 'AmazonsThey',\n",
       " 'are',\n",
       " 'currently',\n",
       " 'learning',\n",
       " 'data',\n",
       " 'visualization',\n",
       " 'machine',\n",
       " 'learningdeep',\n",
       " 'learningweb',\n",
       " 'scraping',\n",
       " 'as',\n",
       " 'well',\n",
       " 'as',\n",
       " 'all',\n",
       " 'the',\n",
       " 'concepts',\n",
       " 'of',\n",
       " 'data',\n",
       " 'and',\n",
       " 'AI',\n",
       " 'They',\n",
       " 'learn',\n",
       " 'how',\n",
       " 'algs',\n",
       " 'work',\n",
       " 'up',\n",
       " 'to',\n",
       " 'the',\n",
       " 'implementation',\n",
       " 'of',\n",
       " 'modelsof',\n",
       " 'course',\n",
       " 'taking',\n",
       " 'into',\n",
       " 'account',\n",
       " 'the',\n",
       " 'recovery',\n",
       " 'of',\n",
       " 'data',\n",
       " 'the',\n",
       " 'storage',\n",
       " 'of',\n",
       " 'the',\n",
       " 'latter',\n",
       " 'and',\n",
       " 'streaming',\n",
       " 'allowing',\n",
       " 'visualizations',\n",
       " 'for',\n",
       " 'BI',\n",
       " 'purpose']"
      ]
     },
     "execution_count": 12,
     "metadata": {},
     "output_type": "execute_result"
    }
   ],
   "source": [
    "tokens=word_tokenize(corpus)\n",
    "tokens"
   ]
  },
  {
   "cell_type": "code",
   "execution_count": 13,
   "id": "ea50ca46",
   "metadata": {},
   "outputs": [
    {
     "data": {
      "text/plain": [
       "['of',\n",
       " 'the',\n",
       " 'and',\n",
       " 'are',\n",
       " 'are',\n",
       " 'as',\n",
       " 'as',\n",
       " 'all',\n",
       " 'the',\n",
       " 'of',\n",
       " 'and',\n",
       " 'how',\n",
       " 'up',\n",
       " 'to',\n",
       " 'the',\n",
       " 'of',\n",
       " 'into',\n",
       " 'the',\n",
       " 'of',\n",
       " 'the',\n",
       " 'of',\n",
       " 'the',\n",
       " 'and',\n",
       " 'for']"
      ]
     },
     "execution_count": 13,
     "metadata": {},
     "output_type": "execute_result"
    }
   ],
   "source": [
    "stop_w_corpus = [ elt for elt in tokens if elt in stop_w]\n",
    "stop_w_corpus "
   ]
  },
  {
   "cell_type": "code",
   "execution_count": 14,
   "id": "7c67caa2",
   "metadata": {},
   "outputs": [
    {
     "data": {
      "text/plain": [
       "['The',\n",
       " 'beneficiaries',\n",
       " 'Women',\n",
       " 'AI',\n",
       " 'Data',\n",
       " 'Academy',\n",
       " 'program',\n",
       " 'AmazonsThey',\n",
       " 'currently',\n",
       " 'learning',\n",
       " 'data',\n",
       " 'visualization',\n",
       " 'machine',\n",
       " 'learningdeep',\n",
       " 'learningweb',\n",
       " 'scraping',\n",
       " 'well',\n",
       " 'concepts',\n",
       " 'data',\n",
       " 'AI',\n",
       " 'They',\n",
       " 'learn',\n",
       " 'algs',\n",
       " 'work',\n",
       " 'implementation',\n",
       " 'modelsof',\n",
       " 'course',\n",
       " 'taking',\n",
       " 'account',\n",
       " 'recovery',\n",
       " 'data',\n",
       " 'storage',\n",
       " 'latter',\n",
       " 'streaming',\n",
       " 'allowing',\n",
       " 'visualizations',\n",
       " 'BI',\n",
       " 'purpose']"
      ]
     },
     "execution_count": 14,
     "metadata": {},
     "output_type": "execute_result"
    }
   ],
   "source": [
    "tokens=[elt for elt in tokens if elt not in stop_w]\n",
    "tokens"
   ]
  },
  {
   "cell_type": "code",
   "execution_count": 15,
   "id": "a8b9ca9a",
   "metadata": {},
   "outputs": [
    {
     "data": {
      "text/plain": [
       "['The',\n",
       " 'beneficiary',\n",
       " 'Women',\n",
       " 'AI',\n",
       " 'Data',\n",
       " 'Academy',\n",
       " 'program',\n",
       " 'AmazonsThey',\n",
       " 'currently',\n",
       " 'learning',\n",
       " 'data',\n",
       " 'visualization',\n",
       " 'machine',\n",
       " 'learningdeep',\n",
       " 'learningweb',\n",
       " 'scraping',\n",
       " 'well',\n",
       " 'concept',\n",
       " 'data',\n",
       " 'AI',\n",
       " 'They',\n",
       " 'learn',\n",
       " 'algs',\n",
       " 'work',\n",
       " 'implementation',\n",
       " 'modelsof',\n",
       " 'course',\n",
       " 'taking',\n",
       " 'account',\n",
       " 'recovery',\n",
       " 'data',\n",
       " 'storage',\n",
       " 'latter',\n",
       " 'streaming',\n",
       " 'allowing',\n",
       " 'visualization',\n",
       " 'BI',\n",
       " 'purpose']"
      ]
     },
     "execution_count": 15,
     "metadata": {},
     "output_type": "execute_result"
    }
   ],
   "source": [
    "lemmatizer=WordNetLemmatizer()\n",
    "tokens=[lemmatizer.lemmatize(k) for k in tokens]\n",
    "tokens"
   ]
  },
  {
   "cell_type": "code",
   "execution_count": 16,
   "id": "e8e510d3",
   "metadata": {},
   "outputs": [
    {
     "data": {
      "text/plain": [
       "'eating'"
      ]
     },
     "execution_count": 16,
     "metadata": {},
     "output_type": "execute_result"
    }
   ],
   "source": [
    "lemmatizer.lemmatize(\"eating\")"
   ]
  },
  {
   "cell_type": "code",
   "execution_count": 17,
   "id": "56b2217f",
   "metadata": {},
   "outputs": [
    {
     "data": {
      "text/plain": [
       "'scrape'"
      ]
     },
     "execution_count": 17,
     "metadata": {},
     "output_type": "execute_result"
    }
   ],
   "source": [
    "elt=PorterStemmer()\n",
    "elt.stem(\"scraping\")"
   ]
  },
  {
   "cell_type": "code",
   "execution_count": 18,
   "id": "a149e349",
   "metadata": {},
   "outputs": [
    {
     "data": {
      "text/plain": [
       "'invit'"
      ]
     },
     "execution_count": 18,
     "metadata": {},
     "output_type": "execute_result"
    }
   ],
   "source": [
    "elt.stem(\"invited\")"
   ]
  },
  {
   "cell_type": "code",
   "execution_count": 19,
   "id": "a23a800f",
   "metadata": {},
   "outputs": [
    {
     "data": {
      "text/plain": [
       "{'The': 1,\n",
       " 'beneficiary': 1,\n",
       " 'Women': 1,\n",
       " 'AI': 2,\n",
       " 'Data': 1,\n",
       " 'Academy': 1,\n",
       " 'program': 1,\n",
       " 'AmazonsThey': 1,\n",
       " 'currently': 1,\n",
       " 'learning': 1,\n",
       " 'data': 3,\n",
       " 'visualization': 2,\n",
       " 'machine': 1,\n",
       " 'learningdeep': 1,\n",
       " 'learningweb': 1,\n",
       " 'scraping': 1,\n",
       " 'well': 1,\n",
       " 'concept': 1,\n",
       " 'They': 1,\n",
       " 'learn': 1,\n",
       " 'algs': 1,\n",
       " 'work': 1,\n",
       " 'implementation': 1,\n",
       " 'modelsof': 1,\n",
       " 'course': 1,\n",
       " 'taking': 1,\n",
       " 'account': 1,\n",
       " 'recovery': 1,\n",
       " 'storage': 1,\n",
       " 'latter': 1,\n",
       " 'streaming': 1,\n",
       " 'allowing': 1,\n",
       " 'BI': 1,\n",
       " 'purpose': 1}"
      ]
     },
     "execution_count": 19,
     "metadata": {},
     "output_type": "execute_result"
    }
   ],
   "source": [
    "dict_infos={k:tokens.count(k) for k in tokens}\n",
    "dict_infos"
   ]
  },
  {
   "cell_type": "code",
   "execution_count": 20,
   "id": "43aeda60",
   "metadata": {},
   "outputs": [],
   "source": [
    "data = pd.DataFrame.from_dict(dict_infos,orient=\"index\",columns=[\"Frequency\"])"
   ]
  },
  {
   "cell_type": "code",
   "execution_count": 21,
   "id": "da2ae96c",
   "metadata": {},
   "outputs": [
    {
     "data": {
      "text/html": [
       "<div>\n",
       "<style scoped>\n",
       "    .dataframe tbody tr th:only-of-type {\n",
       "        vertical-align: middle;\n",
       "    }\n",
       "\n",
       "    .dataframe tbody tr th {\n",
       "        vertical-align: top;\n",
       "    }\n",
       "\n",
       "    .dataframe thead th {\n",
       "        text-align: right;\n",
       "    }\n",
       "</style>\n",
       "<table border=\"1\" class=\"dataframe\">\n",
       "  <thead>\n",
       "    <tr style=\"text-align: right;\">\n",
       "      <th></th>\n",
       "      <th>Frequency</th>\n",
       "    </tr>\n",
       "  </thead>\n",
       "  <tbody>\n",
       "    <tr>\n",
       "      <th>The</th>\n",
       "      <td>1</td>\n",
       "    </tr>\n",
       "    <tr>\n",
       "      <th>beneficiary</th>\n",
       "      <td>1</td>\n",
       "    </tr>\n",
       "    <tr>\n",
       "      <th>Women</th>\n",
       "      <td>1</td>\n",
       "    </tr>\n",
       "    <tr>\n",
       "      <th>AI</th>\n",
       "      <td>2</td>\n",
       "    </tr>\n",
       "    <tr>\n",
       "      <th>Data</th>\n",
       "      <td>1</td>\n",
       "    </tr>\n",
       "    <tr>\n",
       "      <th>Academy</th>\n",
       "      <td>1</td>\n",
       "    </tr>\n",
       "    <tr>\n",
       "      <th>program</th>\n",
       "      <td>1</td>\n",
       "    </tr>\n",
       "    <tr>\n",
       "      <th>AmazonsThey</th>\n",
       "      <td>1</td>\n",
       "    </tr>\n",
       "    <tr>\n",
       "      <th>currently</th>\n",
       "      <td>1</td>\n",
       "    </tr>\n",
       "    <tr>\n",
       "      <th>learning</th>\n",
       "      <td>1</td>\n",
       "    </tr>\n",
       "    <tr>\n",
       "      <th>data</th>\n",
       "      <td>3</td>\n",
       "    </tr>\n",
       "    <tr>\n",
       "      <th>visualization</th>\n",
       "      <td>2</td>\n",
       "    </tr>\n",
       "    <tr>\n",
       "      <th>machine</th>\n",
       "      <td>1</td>\n",
       "    </tr>\n",
       "    <tr>\n",
       "      <th>learningdeep</th>\n",
       "      <td>1</td>\n",
       "    </tr>\n",
       "    <tr>\n",
       "      <th>learningweb</th>\n",
       "      <td>1</td>\n",
       "    </tr>\n",
       "    <tr>\n",
       "      <th>scraping</th>\n",
       "      <td>1</td>\n",
       "    </tr>\n",
       "    <tr>\n",
       "      <th>well</th>\n",
       "      <td>1</td>\n",
       "    </tr>\n",
       "    <tr>\n",
       "      <th>concept</th>\n",
       "      <td>1</td>\n",
       "    </tr>\n",
       "    <tr>\n",
       "      <th>They</th>\n",
       "      <td>1</td>\n",
       "    </tr>\n",
       "    <tr>\n",
       "      <th>learn</th>\n",
       "      <td>1</td>\n",
       "    </tr>\n",
       "    <tr>\n",
       "      <th>algs</th>\n",
       "      <td>1</td>\n",
       "    </tr>\n",
       "    <tr>\n",
       "      <th>work</th>\n",
       "      <td>1</td>\n",
       "    </tr>\n",
       "    <tr>\n",
       "      <th>implementation</th>\n",
       "      <td>1</td>\n",
       "    </tr>\n",
       "    <tr>\n",
       "      <th>modelsof</th>\n",
       "      <td>1</td>\n",
       "    </tr>\n",
       "    <tr>\n",
       "      <th>course</th>\n",
       "      <td>1</td>\n",
       "    </tr>\n",
       "    <tr>\n",
       "      <th>taking</th>\n",
       "      <td>1</td>\n",
       "    </tr>\n",
       "    <tr>\n",
       "      <th>account</th>\n",
       "      <td>1</td>\n",
       "    </tr>\n",
       "    <tr>\n",
       "      <th>recovery</th>\n",
       "      <td>1</td>\n",
       "    </tr>\n",
       "    <tr>\n",
       "      <th>storage</th>\n",
       "      <td>1</td>\n",
       "    </tr>\n",
       "    <tr>\n",
       "      <th>latter</th>\n",
       "      <td>1</td>\n",
       "    </tr>\n",
       "    <tr>\n",
       "      <th>streaming</th>\n",
       "      <td>1</td>\n",
       "    </tr>\n",
       "    <tr>\n",
       "      <th>allowing</th>\n",
       "      <td>1</td>\n",
       "    </tr>\n",
       "    <tr>\n",
       "      <th>BI</th>\n",
       "      <td>1</td>\n",
       "    </tr>\n",
       "    <tr>\n",
       "      <th>purpose</th>\n",
       "      <td>1</td>\n",
       "    </tr>\n",
       "  </tbody>\n",
       "</table>\n",
       "</div>"
      ],
      "text/plain": [
       "                Frequency\n",
       "The                     1\n",
       "beneficiary             1\n",
       "Women                   1\n",
       "AI                      2\n",
       "Data                    1\n",
       "Academy                 1\n",
       "program                 1\n",
       "AmazonsThey             1\n",
       "currently               1\n",
       "learning                1\n",
       "data                    3\n",
       "visualization           2\n",
       "machine                 1\n",
       "learningdeep            1\n",
       "learningweb             1\n",
       "scraping                1\n",
       "well                    1\n",
       "concept                 1\n",
       "They                    1\n",
       "learn                   1\n",
       "algs                    1\n",
       "work                    1\n",
       "implementation          1\n",
       "modelsof                1\n",
       "course                  1\n",
       "taking                  1\n",
       "account                 1\n",
       "recovery                1\n",
       "storage                 1\n",
       "latter                  1\n",
       "streaming               1\n",
       "allowing                1\n",
       "BI                      1\n",
       "purpose                 1"
      ]
     },
     "execution_count": 21,
     "metadata": {},
     "output_type": "execute_result"
    }
   ],
   "source": [
    "data"
   ]
  },
  {
   "cell_type": "code",
   "execution_count": 22,
   "id": "1bfcc29d",
   "metadata": {},
   "outputs": [],
   "source": [
    "def get_stem(word):\n",
    "    stemmer = PorterStemmer()\n",
    "    return stemmer.stem(word)\n",
    "def get_lemme(word):\n",
    "    lemmatizer = WordNetLemmatizer()\n",
    "    return lemmatizer.lemmatize(word)"
   ]
  },
  {
   "cell_type": "code",
   "execution_count": 23,
   "id": "2ea67574",
   "metadata": {},
   "outputs": [
    {
     "data": {
      "text/plain": [
       "'morn'"
      ]
     },
     "execution_count": 23,
     "metadata": {},
     "output_type": "execute_result"
    }
   ],
   "source": [
    "get_stem(\"morning\")"
   ]
  },
  {
   "cell_type": "code",
   "execution_count": 24,
   "id": "f0810dbf",
   "metadata": {},
   "outputs": [
    {
     "data": {
      "text/plain": [
       "'morning'"
      ]
     },
     "execution_count": 24,
     "metadata": {},
     "output_type": "execute_result"
    }
   ],
   "source": [
    "get_lemme(\"morning\")"
   ]
  },
  {
   "cell_type": "code",
   "execution_count": 25,
   "id": "7310890a",
   "metadata": {},
   "outputs": [
    {
     "data": {
      "text/plain": [
       "['The',\n",
       " 'beneficiary',\n",
       " 'Women',\n",
       " 'AI',\n",
       " 'Data',\n",
       " 'Academy',\n",
       " 'program',\n",
       " 'AmazonsThey',\n",
       " 'currently',\n",
       " 'learning',\n",
       " 'data',\n",
       " 'visualization',\n",
       " 'machine',\n",
       " 'learningdeep',\n",
       " 'learningweb',\n",
       " 'scraping',\n",
       " 'well',\n",
       " 'concept',\n",
       " 'data',\n",
       " 'AI',\n",
       " 'They',\n",
       " 'learn',\n",
       " 'algs',\n",
       " 'work',\n",
       " 'implementation',\n",
       " 'modelsof',\n",
       " 'course',\n",
       " 'taking',\n",
       " 'account',\n",
       " 'recovery',\n",
       " 'data',\n",
       " 'storage',\n",
       " 'latter',\n",
       " 'streaming',\n",
       " 'allowing',\n",
       " 'visualization',\n",
       " 'BI',\n",
       " 'purpose']"
      ]
     },
     "execution_count": 25,
     "metadata": {},
     "output_type": "execute_result"
    }
   ],
   "source": [
    "tokens_1 = [get_lemme(token) for token in tokens]\n",
    "tokens_1"
   ]
  },
  {
   "cell_type": "code",
   "execution_count": 26,
   "id": "0ca6ab8c",
   "metadata": {},
   "outputs": [
    {
     "data": {
      "text/plain": [
       "'The beneficiary Women AI Data Academy program AmazonsThey currently learning data visualization machine learningdeep learningweb scraping well concept data AI They learn algs work implementation modelsof course taking account recovery data storage latter streaming allowing visualization BI purpose'"
      ]
     },
     "execution_count": 26,
     "metadata": {},
     "output_type": "execute_result"
    }
   ],
   "source": [
    "texte = \" \".join(tokens_1)\n",
    "texte"
   ]
  },
  {
   "cell_type": "code",
   "execution_count": 27,
   "id": "3c7467ed",
   "metadata": {},
   "outputs": [
    {
     "data": {
      "text/plain": [
       "<function matplotlib.pyplot.show(close=None, block=None)>"
      ]
     },
     "execution_count": 27,
     "metadata": {},
     "output_type": "execute_result"
    },
    {
     "data": {
      "image/png": "[encoded data removed]",
      "text/plain": [
       "<Figure size 640x480 with 1 Axes>"
      ]
     },
     "metadata": {},
     "output_type": "display_data"
    }
   ],
   "source": [
    "wordcloud = WordCloud().generate(text=texte)\n",
    "plt.imshow(wordcloud)\n",
    "plt.axis(\"off\")\n",
    "plt.show"
   ]
  },
  {
   "cell_type": "markdown",
   "id": "30b31b48",
   "metadata": {},
   "source": [
    "## Vectorization"
   ]
  },
  {
   "cell_type": "code",
   "execution_count": 28,
   "id": "5d526f02",
   "metadata": {},
   "outputs": [],
   "source": [
    "phrase_1=\"Je suis un Data Analyst Data scientist Data Engineer et IA specialiste\"\n",
    "phrase_2=\"Dans la cohorte actuelle de WIADA nous avons des Data Analyst etdes Data Engineer\"\n",
    "phrase_3=\"Stella AGUEMON desire devenir Data Scientist\""
   ]
  },
  {
   "cell_type": "code",
   "execution_count": 29,
   "id": "3c9a7eda",
   "metadata": {},
   "outputs": [],
   "source": [
    "tokens_1=phrase_1.split()\n",
    "tokens_1.extend(phrase_2.split())\n",
    "tokens_1.extend(phrase_3.split())"
   ]
  },
  {
   "cell_type": "code",
   "execution_count": 30,
   "id": "60315bf3",
   "metadata": {},
   "outputs": [],
   "source": [
    "tokens_1.extend(phrase_3.split())"
   ]
  },
  {
   "cell_type": "code",
   "execution_count": 31,
   "id": "eb6540a0",
   "metadata": {},
   "outputs": [
    {
     "data": {
      "text/plain": [
       "['Je',\n",
       " 'suis',\n",
       " 'un',\n",
       " 'Data',\n",
       " 'Analyst',\n",
       " 'Data',\n",
       " 'scientist',\n",
       " 'Data',\n",
       " 'Engineer',\n",
       " 'et',\n",
       " 'IA',\n",
       " 'specialiste',\n",
       " 'Dans',\n",
       " 'la',\n",
       " 'cohorte',\n",
       " 'actuelle',\n",
       " 'de',\n",
       " 'WIADA',\n",
       " 'nous',\n",
       " 'avons',\n",
       " 'des',\n",
       " 'Data',\n",
       " 'Analyst',\n",
       " 'etdes',\n",
       " 'Data',\n",
       " 'Engineer',\n",
       " 'Stella',\n",
       " 'AGUEMON',\n",
       " 'desire',\n",
       " 'devenir',\n",
       " 'Data',\n",
       " 'Scientist',\n",
       " 'Stella',\n",
       " 'AGUEMON',\n",
       " 'desire',\n",
       " 'devenir',\n",
       " 'Data',\n",
       " 'Scientist']"
      ]
     },
     "execution_count": 31,
     "metadata": {},
     "output_type": "execute_result"
    }
   ],
   "source": [
    "tokens_1"
   ]
  },
  {
   "cell_type": "code",
   "execution_count": 32,
   "id": "2b8e2442",
   "metadata": {},
   "outputs": [],
   "source": [
    "tokens_2=list(set([elt for elt in phrase_1.split()+phrase_2.split()+phrase_3.split()]))"
   ]
  },
  {
   "cell_type": "code",
   "execution_count": 33,
   "id": "f67fb9f5",
   "metadata": {},
   "outputs": [
    {
     "data": {
      "text/plain": [
       "['cohorte',\n",
       " 'IA',\n",
       " 'Je',\n",
       " 'Scientist',\n",
       " 'Dans',\n",
       " 'Analyst',\n",
       " 'specialiste',\n",
       " 'avons',\n",
       " 'nous',\n",
       " 'etdes',\n",
       " 'WIADA',\n",
       " 'AGUEMON',\n",
       " 'la',\n",
       " 'scientist',\n",
       " 'Engineer',\n",
       " 'suis',\n",
       " 'de',\n",
       " 'et',\n",
       " 'Data',\n",
       " 'desire',\n",
       " 'actuelle',\n",
       " 'Stella',\n",
       " 'des',\n",
       " 'devenir',\n",
       " 'un']"
      ]
     },
     "execution_count": 33,
     "metadata": {},
     "output_type": "execute_result"
    }
   ],
   "source": [
    "tokens_2"
   ]
  },
  {
   "cell_type": "code",
   "execution_count": 34,
   "id": "7c09c862",
   "metadata": {},
   "outputs": [],
   "source": [
    "vect_1= [phrase_1.count(elt) for elt in tokens_2 ]"
   ]
  },
  {
   "cell_type": "code",
   "execution_count": 35,
   "id": "db2bb49a",
   "metadata": {},
   "outputs": [
    {
     "data": {
      "text/plain": [
       "[0, 1, 1, 0, 0, 1, 1, 0, 0, 0, 0, 0, 0, 1, 1, 1, 0, 1, 3, 0, 0, 0, 0, 0, 1]"
      ]
     },
     "execution_count": 35,
     "metadata": {},
     "output_type": "execute_result"
    }
   ],
   "source": [
    "vect_1"
   ]
  },
  {
   "cell_type": "code",
   "execution_count": 36,
   "id": "bce7553c",
   "metadata": {},
   "outputs": [
    {
     "data": {
      "text/plain": [
       "['cohorte',\n",
       " 'IA',\n",
       " 'Je',\n",
       " 'Scientist',\n",
       " 'Dans',\n",
       " 'Analyst',\n",
       " 'specialiste',\n",
       " 'avons',\n",
       " 'nous',\n",
       " 'etdes',\n",
       " 'WIADA',\n",
       " 'AGUEMON',\n",
       " 'la',\n",
       " 'scientist',\n",
       " 'Engineer',\n",
       " 'suis',\n",
       " 'de',\n",
       " 'et',\n",
       " 'Data',\n",
       " 'desire',\n",
       " 'actuelle',\n",
       " 'Stella',\n",
       " 'des',\n",
       " 'devenir',\n",
       " 'un']"
      ]
     },
     "execution_count": 36,
     "metadata": {},
     "output_type": "execute_result"
    }
   ],
   "source": [
    "tokens_2"
   ]
  },
  {
   "cell_type": "code",
   "execution_count": 37,
   "id": "5d32a107",
   "metadata": {},
   "outputs": [],
   "source": [
    "def vectorize_sentence(sentence,tokens):\n",
    "    return [sentence.split().count(elt) for elt in tokens]"
   ]
  },
  {
   "cell_type": "code",
   "execution_count": 38,
   "id": "764f27b1",
   "metadata": {},
   "outputs": [
    {
     "data": {
      "text/plain": [
       "[0, 1, 1, 0, 0, 1, 1, 0, 0, 0, 0, 0, 0, 1, 1, 1, 0, 1, 3, 0, 0, 0, 0, 0, 1]"
      ]
     },
     "execution_count": 38,
     "metadata": {},
     "output_type": "execute_result"
    }
   ],
   "source": [
    "vect_1=vectorize_sentence(phrase_1,tokens_2)\n",
    "vect_1"
   ]
  },
  {
   "cell_type": "code",
   "execution_count": 39,
   "id": "4dee4f0f",
   "metadata": {},
   "outputs": [
    {
     "data": {
      "text/plain": [
       "'Je suis un Data Analyst Data scientist Data Engineer et IA specialiste'"
      ]
     },
     "execution_count": 39,
     "metadata": {},
     "output_type": "execute_result"
    }
   ],
   "source": [
    "phrase_1"
   ]
  },
  {
   "cell_type": "code",
   "execution_count": 40,
   "id": "31bcfb11",
   "metadata": {},
   "outputs": [
    {
     "data": {
      "text/plain": [
       "[1, 0, 0, 0, 1, 1, 0, 1, 1, 1, 1, 0, 1, 0, 1, 0, 1, 0, 2, 0, 1, 0, 1, 0, 0]"
      ]
     },
     "execution_count": 40,
     "metadata": {},
     "output_type": "execute_result"
    }
   ],
   "source": [
    "vect_2=vectorize_sentence(phrase_2,tokens_2)\n",
    "vect_2"
   ]
  },
  {
   "cell_type": "code",
   "execution_count": 41,
   "id": "1a1b42ac",
   "metadata": {},
   "outputs": [
    {
     "data": {
      "text/plain": [
       "'Dans la cohorte actuelle de WIADA nous avons des Data Analyst etdes Data Engineer'"
      ]
     },
     "execution_count": 41,
     "metadata": {},
     "output_type": "execute_result"
    }
   ],
   "source": [
    "phrase_2"
   ]
  },
  {
   "cell_type": "code",
   "execution_count": 42,
   "id": "f968cc17",
   "metadata": {},
   "outputs": [
    {
     "data": {
      "text/plain": [
       "[0, 0, 0, 1, 0, 0, 0, 0, 0, 0, 0, 1, 0, 0, 0, 0, 0, 0, 1, 1, 0, 1, 0, 1, 0]"
      ]
     },
     "execution_count": 42,
     "metadata": {},
     "output_type": "execute_result"
    }
   ],
   "source": [
    "vect_3=vectorize_sentence(phrase_3,tokens_2)\n",
    "vect_3"
   ]
  },
  {
   "cell_type": "code",
   "execution_count": 43,
   "id": "40bcd361",
   "metadata": {},
   "outputs": [
    {
     "data": {
      "text/plain": [
       "'Stella AGUEMON desire devenir Data Scientist'"
      ]
     },
     "execution_count": 43,
     "metadata": {},
     "output_type": "execute_result"
    }
   ],
   "source": [
    "phrase_3"
   ]
  },
  {
   "cell_type": "code",
   "execution_count": 44,
   "id": "49bdeb31",
   "metadata": {},
   "outputs": [],
   "source": [
    "data=pd.DataFrame([vect_1,vect_2,vect_3],columns=tokens_2, index=[\"phrase_1\",\"phrase_2\",\"phrase_3\"])"
   ]
  },
  {
   "cell_type": "code",
   "execution_count": 45,
   "id": "a4058630",
   "metadata": {},
   "outputs": [
    {
     "data": {
      "text/html": [
       "<div>\n",
       "<style scoped>\n",
       "    .dataframe tbody tr th:only-of-type {\n",
       "        vertical-align: middle;\n",
       "    }\n",
       "\n",
       "    .dataframe tbody tr th {\n",
       "        vertical-align: top;\n",
       "    }\n",
       "\n",
       "    .dataframe thead th {\n",
       "        text-align: right;\n",
       "    }\n",
       "</style>\n",
       "<table border=\"1\" class=\"dataframe\">\n",
       "  <thead>\n",
       "    <tr style=\"text-align: right;\">\n",
       "      <th></th>\n",
       "      <th>cohorte</th>\n",
       "      <th>IA</th>\n",
       "      <th>Je</th>\n",
       "      <th>Scientist</th>\n",
       "      <th>Dans</th>\n",
       "      <th>Analyst</th>\n",
       "      <th>specialiste</th>\n",
       "      <th>avons</th>\n",
       "      <th>nous</th>\n",
       "      <th>etdes</th>\n",
       "      <th>...</th>\n",
       "      <th>suis</th>\n",
       "      <th>de</th>\n",
       "      <th>et</th>\n",
       "      <th>Data</th>\n",
       "      <th>desire</th>\n",
       "      <th>actuelle</th>\n",
       "      <th>Stella</th>\n",
       "      <th>des</th>\n",
       "      <th>devenir</th>\n",
       "      <th>un</th>\n",
       "    </tr>\n",
       "  </thead>\n",
       "  <tbody>\n",
       "    <tr>\n",
       "      <th>phrase_1</th>\n",
       "      <td>0</td>\n",
       "      <td>1</td>\n",
       "      <td>1</td>\n",
       "      <td>0</td>\n",
       "      <td>0</td>\n",
       "      <td>1</td>\n",
       "      <td>1</td>\n",
       "      <td>0</td>\n",
       "      <td>0</td>\n",
       "      <td>0</td>\n",
       "      <td>...</td>\n",
       "      <td>1</td>\n",
       "      <td>0</td>\n",
       "      <td>1</td>\n",
       "      <td>3</td>\n",
       "      <td>0</td>\n",
       "      <td>0</td>\n",
       "      <td>0</td>\n",
       "      <td>0</td>\n",
       "      <td>0</td>\n",
       "      <td>1</td>\n",
       "    </tr>\n",
       "    <tr>\n",
       "      <th>phrase_2</th>\n",
       "      <td>1</td>\n",
       "      <td>0</td>\n",
       "      <td>0</td>\n",
       "      <td>0</td>\n",
       "      <td>1</td>\n",
       "      <td>1</td>\n",
       "      <td>0</td>\n",
       "      <td>1</td>\n",
       "      <td>1</td>\n",
       "      <td>1</td>\n",
       "      <td>...</td>\n",
       "      <td>0</td>\n",
       "      <td>1</td>\n",
       "      <td>0</td>\n",
       "      <td>2</td>\n",
       "      <td>0</td>\n",
       "      <td>1</td>\n",
       "      <td>0</td>\n",
       "      <td>1</td>\n",
       "      <td>0</td>\n",
       "      <td>0</td>\n",
       "    </tr>\n",
       "    <tr>\n",
       "      <th>phrase_3</th>\n",
       "      <td>0</td>\n",
       "      <td>0</td>\n",
       "      <td>0</td>\n",
       "      <td>1</td>\n",
       "      <td>0</td>\n",
       "      <td>0</td>\n",
       "      <td>0</td>\n",
       "      <td>0</td>\n",
       "      <td>0</td>\n",
       "      <td>0</td>\n",
       "      <td>...</td>\n",
       "      <td>0</td>\n",
       "      <td>0</td>\n",
       "      <td>0</td>\n",
       "      <td>1</td>\n",
       "      <td>1</td>\n",
       "      <td>0</td>\n",
       "      <td>1</td>\n",
       "      <td>0</td>\n",
       "      <td>1</td>\n",
       "      <td>0</td>\n",
       "    </tr>\n",
       "  </tbody>\n",
       "</table>\n",
       "<p>3 rows × 25 columns</p>\n",
       "</div>"
      ],
      "text/plain": [
       "          cohorte  IA  Je  Scientist  Dans  Analyst  specialiste  avons  nous  \\\n",
       "phrase_1        0   1   1          0     0        1            1      0     0   \n",
       "phrase_2        1   0   0          0     1        1            0      1     1   \n",
       "phrase_3        0   0   0          1     0        0            0      0     0   \n",
       "\n",
       "          etdes  ...  suis  de  et  Data  desire  actuelle  Stella  des  \\\n",
       "phrase_1      0  ...     1   0   1     3       0         0       0    0   \n",
       "phrase_2      1  ...     0   1   0     2       0         1       0    1   \n",
       "phrase_3      0  ...     0   0   0     1       1         0       1    0   \n",
       "\n",
       "          devenir  un  \n",
       "phrase_1        0   1  \n",
       "phrase_2        0   0  \n",
       "phrase_3        1   0  \n",
       "\n",
       "[3 rows x 25 columns]"
      ]
     },
     "execution_count": 45,
     "metadata": {},
     "output_type": "execute_result"
    }
   ],
   "source": [
    "data"
   ]
  },
  {
   "cell_type": "code",
   "execution_count": 46,
   "id": "059099ef",
   "metadata": {},
   "outputs": [],
   "source": [
    "IDF=[((elt in phrase_1)+(elt in phrase_2)+(elt in phrase_3))/3 for elt in tokens_2]"
   ]
  },
  {
   "cell_type": "code",
   "execution_count": 47,
   "id": "632c3235",
   "metadata": {},
   "outputs": [
    {
     "data": {
      "text/plain": [
       "[0.3333333333333333,\n",
       " 0.6666666666666666,\n",
       " 0.3333333333333333,\n",
       " 0.3333333333333333,\n",
       " 0.3333333333333333,\n",
       " 0.6666666666666666,\n",
       " 0.3333333333333333,\n",
       " 0.3333333333333333,\n",
       " 0.3333333333333333,\n",
       " 0.3333333333333333,\n",
       " 0.3333333333333333,\n",
       " 0.3333333333333333,\n",
       " 0.6666666666666666,\n",
       " 0.3333333333333333,\n",
       " 0.6666666666666666,\n",
       " 0.3333333333333333,\n",
       " 0.6666666666666666,\n",
       " 0.6666666666666666,\n",
       " 1.0,\n",
       " 0.3333333333333333,\n",
       " 0.3333333333333333,\n",
       " 0.3333333333333333,\n",
       " 0.6666666666666666,\n",
       " 0.3333333333333333,\n",
       " 0.3333333333333333]"
      ]
     },
     "execution_count": 47,
     "metadata": {},
     "output_type": "execute_result"
    }
   ],
   "source": [
    "IDF"
   ]
  },
  {
   "cell_type": "code",
   "execution_count": 48,
   "id": "0d700580",
   "metadata": {},
   "outputs": [],
   "source": [
    "data_idf=pd.DataFrame([IDF],columns=tokens_2,index=[\"IDF\"])"
   ]
  },
  {
   "cell_type": "code",
   "execution_count": 49,
   "id": "7d52c125",
   "metadata": {},
   "outputs": [
    {
     "data": {
      "text/html": [
       "<div>\n",
       "<style scoped>\n",
       "    .dataframe tbody tr th:only-of-type {\n",
       "        vertical-align: middle;\n",
       "    }\n",
       "\n",
       "    .dataframe tbody tr th {\n",
       "        vertical-align: top;\n",
       "    }\n",
       "\n",
       "    .dataframe thead th {\n",
       "        text-align: right;\n",
       "    }\n",
       "</style>\n",
       "<table border=\"1\" class=\"dataframe\">\n",
       "  <thead>\n",
       "    <tr style=\"text-align: right;\">\n",
       "      <th></th>\n",
       "      <th>cohorte</th>\n",
       "      <th>IA</th>\n",
       "      <th>Je</th>\n",
       "      <th>Scientist</th>\n",
       "      <th>Dans</th>\n",
       "      <th>Analyst</th>\n",
       "      <th>specialiste</th>\n",
       "      <th>avons</th>\n",
       "      <th>nous</th>\n",
       "      <th>etdes</th>\n",
       "      <th>...</th>\n",
       "      <th>suis</th>\n",
       "      <th>de</th>\n",
       "      <th>et</th>\n",
       "      <th>Data</th>\n",
       "      <th>desire</th>\n",
       "      <th>actuelle</th>\n",
       "      <th>Stella</th>\n",
       "      <th>des</th>\n",
       "      <th>devenir</th>\n",
       "      <th>un</th>\n",
       "    </tr>\n",
       "  </thead>\n",
       "  <tbody>\n",
       "    <tr>\n",
       "      <th>IDF</th>\n",
       "      <td>0.333333</td>\n",
       "      <td>0.666667</td>\n",
       "      <td>0.333333</td>\n",
       "      <td>0.333333</td>\n",
       "      <td>0.333333</td>\n",
       "      <td>0.666667</td>\n",
       "      <td>0.333333</td>\n",
       "      <td>0.333333</td>\n",
       "      <td>0.333333</td>\n",
       "      <td>0.333333</td>\n",
       "      <td>...</td>\n",
       "      <td>0.333333</td>\n",
       "      <td>0.666667</td>\n",
       "      <td>0.666667</td>\n",
       "      <td>1.0</td>\n",
       "      <td>0.333333</td>\n",
       "      <td>0.333333</td>\n",
       "      <td>0.333333</td>\n",
       "      <td>0.666667</td>\n",
       "      <td>0.333333</td>\n",
       "      <td>0.333333</td>\n",
       "    </tr>\n",
       "  </tbody>\n",
       "</table>\n",
       "<p>1 rows × 25 columns</p>\n",
       "</div>"
      ],
      "text/plain": [
       "      cohorte        IA        Je  Scientist      Dans   Analyst  specialiste  \\\n",
       "IDF  0.333333  0.666667  0.333333   0.333333  0.333333  0.666667     0.333333   \n",
       "\n",
       "        avons      nous     etdes  ...      suis        de        et  Data  \\\n",
       "IDF  0.333333  0.333333  0.333333  ...  0.333333  0.666667  0.666667   1.0   \n",
       "\n",
       "       desire  actuelle    Stella       des   devenir        un  \n",
       "IDF  0.333333  0.333333  0.333333  0.666667  0.333333  0.333333  \n",
       "\n",
       "[1 rows x 25 columns]"
      ]
     },
     "execution_count": 49,
     "metadata": {},
     "output_type": "execute_result"
    }
   ],
   "source": [
    "data_idf"
   ]
  },
  {
   "cell_type": "code",
   "execution_count": 50,
   "id": "87993345",
   "metadata": {},
   "outputs": [],
   "source": [
    "TF=[phrase_1.split().count(elt)+phrase_2.split().count(elt)+phrase_3.split().count(elt) for elt in tokens_2]"
   ]
  },
  {
   "cell_type": "code",
   "execution_count": 51,
   "id": "cb587756",
   "metadata": {},
   "outputs": [
    {
     "data": {
      "text/plain": [
       "[1, 1, 1, 1, 1, 2, 1, 1, 1, 1, 1, 1, 1, 1, 2, 1, 1, 1, 6, 1, 1, 1, 1, 1, 1]"
      ]
     },
     "execution_count": 51,
     "metadata": {},
     "output_type": "execute_result"
    }
   ],
   "source": [
    "TF"
   ]
  },
  {
   "cell_type": "code",
   "execution_count": 52,
   "id": "1be2a4f6",
   "metadata": {},
   "outputs": [],
   "source": [
    "data_if=pd.DataFrame([TF],columns=tokens_2,index=[\"TF\"])"
   ]
  },
  {
   "cell_type": "code",
   "execution_count": 53,
   "id": "04320f2f",
   "metadata": {},
   "outputs": [
    {
     "data": {
      "text/html": [
       "<div>\n",
       "<style scoped>\n",
       "    .dataframe tbody tr th:only-of-type {\n",
       "        vertical-align: middle;\n",
       "    }\n",
       "\n",
       "    .dataframe tbody tr th {\n",
       "        vertical-align: top;\n",
       "    }\n",
       "\n",
       "    .dataframe thead th {\n",
       "        text-align: right;\n",
       "    }\n",
       "</style>\n",
       "<table border=\"1\" class=\"dataframe\">\n",
       "  <thead>\n",
       "    <tr style=\"text-align: right;\">\n",
       "      <th></th>\n",
       "      <th>cohorte</th>\n",
       "      <th>IA</th>\n",
       "      <th>Je</th>\n",
       "      <th>Scientist</th>\n",
       "      <th>Dans</th>\n",
       "      <th>Analyst</th>\n",
       "      <th>specialiste</th>\n",
       "      <th>avons</th>\n",
       "      <th>nous</th>\n",
       "      <th>etdes</th>\n",
       "      <th>...</th>\n",
       "      <th>suis</th>\n",
       "      <th>de</th>\n",
       "      <th>et</th>\n",
       "      <th>Data</th>\n",
       "      <th>desire</th>\n",
       "      <th>actuelle</th>\n",
       "      <th>Stella</th>\n",
       "      <th>des</th>\n",
       "      <th>devenir</th>\n",
       "      <th>un</th>\n",
       "    </tr>\n",
       "  </thead>\n",
       "  <tbody>\n",
       "    <tr>\n",
       "      <th>TF</th>\n",
       "      <td>1</td>\n",
       "      <td>1</td>\n",
       "      <td>1</td>\n",
       "      <td>1</td>\n",
       "      <td>1</td>\n",
       "      <td>2</td>\n",
       "      <td>1</td>\n",
       "      <td>1</td>\n",
       "      <td>1</td>\n",
       "      <td>1</td>\n",
       "      <td>...</td>\n",
       "      <td>1</td>\n",
       "      <td>1</td>\n",
       "      <td>1</td>\n",
       "      <td>6</td>\n",
       "      <td>1</td>\n",
       "      <td>1</td>\n",
       "      <td>1</td>\n",
       "      <td>1</td>\n",
       "      <td>1</td>\n",
       "      <td>1</td>\n",
       "    </tr>\n",
       "  </tbody>\n",
       "</table>\n",
       "<p>1 rows × 25 columns</p>\n",
       "</div>"
      ],
      "text/plain": [
       "    cohorte  IA  Je  Scientist  Dans  Analyst  specialiste  avons  nous  \\\n",
       "TF        1   1   1          1     1        2            1      1     1   \n",
       "\n",
       "    etdes  ...  suis  de  et  Data  desire  actuelle  Stella  des  devenir  un  \n",
       "TF      1  ...     1   1   1     6       1         1       1    1        1   1  \n",
       "\n",
       "[1 rows x 25 columns]"
      ]
     },
     "execution_count": 53,
     "metadata": {},
     "output_type": "execute_result"
    }
   ],
   "source": [
    "data_if"
   ]
  },
  {
   "cell_type": "code",
   "execution_count": 54,
   "id": "69a678cf",
   "metadata": {},
   "outputs": [],
   "source": [
    "score=pd.concat([data_idf,data_if])"
   ]
  },
  {
   "cell_type": "code",
   "execution_count": 55,
   "id": "d9824620",
   "metadata": {},
   "outputs": [
    {
     "data": {
      "text/html": [
       "<div>\n",
       "<style scoped>\n",
       "    .dataframe tbody tr th:only-of-type {\n",
       "        vertical-align: middle;\n",
       "    }\n",
       "\n",
       "    .dataframe tbody tr th {\n",
       "        vertical-align: top;\n",
       "    }\n",
       "\n",
       "    .dataframe thead th {\n",
       "        text-align: right;\n",
       "    }\n",
       "</style>\n",
       "<table border=\"1\" class=\"dataframe\">\n",
       "  <thead>\n",
       "    <tr style=\"text-align: right;\">\n",
       "      <th></th>\n",
       "      <th>cohorte</th>\n",
       "      <th>IA</th>\n",
       "      <th>Je</th>\n",
       "      <th>Scientist</th>\n",
       "      <th>Dans</th>\n",
       "      <th>Analyst</th>\n",
       "      <th>specialiste</th>\n",
       "      <th>avons</th>\n",
       "      <th>nous</th>\n",
       "      <th>etdes</th>\n",
       "      <th>...</th>\n",
       "      <th>suis</th>\n",
       "      <th>de</th>\n",
       "      <th>et</th>\n",
       "      <th>Data</th>\n",
       "      <th>desire</th>\n",
       "      <th>actuelle</th>\n",
       "      <th>Stella</th>\n",
       "      <th>des</th>\n",
       "      <th>devenir</th>\n",
       "      <th>un</th>\n",
       "    </tr>\n",
       "  </thead>\n",
       "  <tbody>\n",
       "    <tr>\n",
       "      <th>IDF</th>\n",
       "      <td>0.333333</td>\n",
       "      <td>0.666667</td>\n",
       "      <td>0.333333</td>\n",
       "      <td>0.333333</td>\n",
       "      <td>0.333333</td>\n",
       "      <td>0.666667</td>\n",
       "      <td>0.333333</td>\n",
       "      <td>0.333333</td>\n",
       "      <td>0.333333</td>\n",
       "      <td>0.333333</td>\n",
       "      <td>...</td>\n",
       "      <td>0.333333</td>\n",
       "      <td>0.666667</td>\n",
       "      <td>0.666667</td>\n",
       "      <td>1.0</td>\n",
       "      <td>0.333333</td>\n",
       "      <td>0.333333</td>\n",
       "      <td>0.333333</td>\n",
       "      <td>0.666667</td>\n",
       "      <td>0.333333</td>\n",
       "      <td>0.333333</td>\n",
       "    </tr>\n",
       "    <tr>\n",
       "      <th>TF</th>\n",
       "      <td>1.000000</td>\n",
       "      <td>1.000000</td>\n",
       "      <td>1.000000</td>\n",
       "      <td>1.000000</td>\n",
       "      <td>1.000000</td>\n",
       "      <td>2.000000</td>\n",
       "      <td>1.000000</td>\n",
       "      <td>1.000000</td>\n",
       "      <td>1.000000</td>\n",
       "      <td>1.000000</td>\n",
       "      <td>...</td>\n",
       "      <td>1.000000</td>\n",
       "      <td>1.000000</td>\n",
       "      <td>1.000000</td>\n",
       "      <td>6.0</td>\n",
       "      <td>1.000000</td>\n",
       "      <td>1.000000</td>\n",
       "      <td>1.000000</td>\n",
       "      <td>1.000000</td>\n",
       "      <td>1.000000</td>\n",
       "      <td>1.000000</td>\n",
       "    </tr>\n",
       "  </tbody>\n",
       "</table>\n",
       "<p>2 rows × 25 columns</p>\n",
       "</div>"
      ],
      "text/plain": [
       "      cohorte        IA        Je  Scientist      Dans   Analyst  specialiste  \\\n",
       "IDF  0.333333  0.666667  0.333333   0.333333  0.333333  0.666667     0.333333   \n",
       "TF   1.000000  1.000000  1.000000   1.000000  1.000000  2.000000     1.000000   \n",
       "\n",
       "        avons      nous     etdes  ...      suis        de        et  Data  \\\n",
       "IDF  0.333333  0.333333  0.333333  ...  0.333333  0.666667  0.666667   1.0   \n",
       "TF   1.000000  1.000000  1.000000  ...  1.000000  1.000000  1.000000   6.0   \n",
       "\n",
       "       desire  actuelle    Stella       des   devenir        un  \n",
       "IDF  0.333333  0.333333  0.333333  0.666667  0.333333  0.333333  \n",
       "TF   1.000000  1.000000  1.000000  1.000000  1.000000  1.000000  \n",
       "\n",
       "[2 rows x 25 columns]"
      ]
     },
     "execution_count": 55,
     "metadata": {},
     "output_type": "execute_result"
    }
   ],
   "source": [
    "score"
   ]
  },
  {
   "cell_type": "code",
   "execution_count": 56,
   "id": "f19e20b5",
   "metadata": {},
   "outputs": [],
   "source": [
    "f= lambda x : x[0]*x[1]"
   ]
  },
  {
   "cell_type": "code",
   "execution_count": 57,
   "id": "959c5398",
   "metadata": {},
   "outputs": [],
   "source": [
    "TF_IDF=score.apply(f,axis=0)"
   ]
  },
  {
   "cell_type": "code",
   "execution_count": 58,
   "id": "4d435c7f",
   "metadata": {},
   "outputs": [],
   "source": [
    "TF_IDF=pd.DataFrame(TF_IDF,columns=[\"TF_IDF\"])"
   ]
  },
  {
   "cell_type": "code",
   "execution_count": 59,
   "id": "8468793a",
   "metadata": {},
   "outputs": [
    {
     "data": {
      "text/html": [
       "<div>\n",
       "<style scoped>\n",
       "    .dataframe tbody tr th:only-of-type {\n",
       "        vertical-align: middle;\n",
       "    }\n",
       "\n",
       "    .dataframe tbody tr th {\n",
       "        vertical-align: top;\n",
       "    }\n",
       "\n",
       "    .dataframe thead th {\n",
       "        text-align: right;\n",
       "    }\n",
       "</style>\n",
       "<table border=\"1\" class=\"dataframe\">\n",
       "  <thead>\n",
       "    <tr style=\"text-align: right;\">\n",
       "      <th></th>\n",
       "      <th>TF_IDF</th>\n",
       "    </tr>\n",
       "  </thead>\n",
       "  <tbody>\n",
       "    <tr>\n",
       "      <th>cohorte</th>\n",
       "      <td>0.333333</td>\n",
       "    </tr>\n",
       "    <tr>\n",
       "      <th>IA</th>\n",
       "      <td>0.666667</td>\n",
       "    </tr>\n",
       "    <tr>\n",
       "      <th>Je</th>\n",
       "      <td>0.333333</td>\n",
       "    </tr>\n",
       "    <tr>\n",
       "      <th>Scientist</th>\n",
       "      <td>0.333333</td>\n",
       "    </tr>\n",
       "    <tr>\n",
       "      <th>Dans</th>\n",
       "      <td>0.333333</td>\n",
       "    </tr>\n",
       "    <tr>\n",
       "      <th>Analyst</th>\n",
       "      <td>1.333333</td>\n",
       "    </tr>\n",
       "    <tr>\n",
       "      <th>specialiste</th>\n",
       "      <td>0.333333</td>\n",
       "    </tr>\n",
       "    <tr>\n",
       "      <th>avons</th>\n",
       "      <td>0.333333</td>\n",
       "    </tr>\n",
       "    <tr>\n",
       "      <th>nous</th>\n",
       "      <td>0.333333</td>\n",
       "    </tr>\n",
       "    <tr>\n",
       "      <th>etdes</th>\n",
       "      <td>0.333333</td>\n",
       "    </tr>\n",
       "    <tr>\n",
       "      <th>WIADA</th>\n",
       "      <td>0.333333</td>\n",
       "    </tr>\n",
       "    <tr>\n",
       "      <th>AGUEMON</th>\n",
       "      <td>0.333333</td>\n",
       "    </tr>\n",
       "    <tr>\n",
       "      <th>la</th>\n",
       "      <td>0.666667</td>\n",
       "    </tr>\n",
       "    <tr>\n",
       "      <th>scientist</th>\n",
       "      <td>0.333333</td>\n",
       "    </tr>\n",
       "    <tr>\n",
       "      <th>Engineer</th>\n",
       "      <td>1.333333</td>\n",
       "    </tr>\n",
       "    <tr>\n",
       "      <th>suis</th>\n",
       "      <td>0.333333</td>\n",
       "    </tr>\n",
       "    <tr>\n",
       "      <th>de</th>\n",
       "      <td>0.666667</td>\n",
       "    </tr>\n",
       "    <tr>\n",
       "      <th>et</th>\n",
       "      <td>0.666667</td>\n",
       "    </tr>\n",
       "    <tr>\n",
       "      <th>Data</th>\n",
       "      <td>6.000000</td>\n",
       "    </tr>\n",
       "    <tr>\n",
       "      <th>desire</th>\n",
       "      <td>0.333333</td>\n",
       "    </tr>\n",
       "    <tr>\n",
       "      <th>actuelle</th>\n",
       "      <td>0.333333</td>\n",
       "    </tr>\n",
       "    <tr>\n",
       "      <th>Stella</th>\n",
       "      <td>0.333333</td>\n",
       "    </tr>\n",
       "    <tr>\n",
       "      <th>des</th>\n",
       "      <td>0.666667</td>\n",
       "    </tr>\n",
       "    <tr>\n",
       "      <th>devenir</th>\n",
       "      <td>0.333333</td>\n",
       "    </tr>\n",
       "    <tr>\n",
       "      <th>un</th>\n",
       "      <td>0.333333</td>\n",
       "    </tr>\n",
       "  </tbody>\n",
       "</table>\n",
       "</div>"
      ],
      "text/plain": [
       "               TF_IDF\n",
       "cohorte      0.333333\n",
       "IA           0.666667\n",
       "Je           0.333333\n",
       "Scientist    0.333333\n",
       "Dans         0.333333\n",
       "Analyst      1.333333\n",
       "specialiste  0.333333\n",
       "avons        0.333333\n",
       "nous         0.333333\n",
       "etdes        0.333333\n",
       "WIADA        0.333333\n",
       "AGUEMON      0.333333\n",
       "la           0.666667\n",
       "scientist    0.333333\n",
       "Engineer     1.333333\n",
       "suis         0.333333\n",
       "de           0.666667\n",
       "et           0.666667\n",
       "Data         6.000000\n",
       "desire       0.333333\n",
       "actuelle     0.333333\n",
       "Stella       0.333333\n",
       "des          0.666667\n",
       "devenir      0.333333\n",
       "un           0.333333"
      ]
     },
     "execution_count": 59,
     "metadata": {},
     "output_type": "execute_result"
    }
   ],
   "source": [
    "TF_IDF"
   ]
  },
  {
   "cell_type": "code",
   "execution_count": 60,
   "id": "7488cabc",
   "metadata": {},
   "outputs": [],
   "source": [
    "TF_IDF_score=pd.concat([score,TF_IDF.T])"
   ]
  },
  {
   "cell_type": "code",
   "execution_count": 61,
   "id": "0df52923",
   "metadata": {},
   "outputs": [
    {
     "data": {
      "text/html": [
       "<div>\n",
       "<style scoped>\n",
       "    .dataframe tbody tr th:only-of-type {\n",
       "        vertical-align: middle;\n",
       "    }\n",
       "\n",
       "    .dataframe tbody tr th {\n",
       "        vertical-align: top;\n",
       "    }\n",
       "\n",
       "    .dataframe thead th {\n",
       "        text-align: right;\n",
       "    }\n",
       "</style>\n",
       "<table border=\"1\" class=\"dataframe\">\n",
       "  <thead>\n",
       "    <tr style=\"text-align: right;\">\n",
       "      <th></th>\n",
       "      <th>cohorte</th>\n",
       "      <th>IA</th>\n",
       "      <th>Je</th>\n",
       "      <th>Scientist</th>\n",
       "      <th>Dans</th>\n",
       "      <th>Analyst</th>\n",
       "      <th>specialiste</th>\n",
       "      <th>avons</th>\n",
       "      <th>nous</th>\n",
       "      <th>etdes</th>\n",
       "      <th>...</th>\n",
       "      <th>suis</th>\n",
       "      <th>de</th>\n",
       "      <th>et</th>\n",
       "      <th>Data</th>\n",
       "      <th>desire</th>\n",
       "      <th>actuelle</th>\n",
       "      <th>Stella</th>\n",
       "      <th>des</th>\n",
       "      <th>devenir</th>\n",
       "      <th>un</th>\n",
       "    </tr>\n",
       "  </thead>\n",
       "  <tbody>\n",
       "    <tr>\n",
       "      <th>IDF</th>\n",
       "      <td>0.333333</td>\n",
       "      <td>0.666667</td>\n",
       "      <td>0.333333</td>\n",
       "      <td>0.333333</td>\n",
       "      <td>0.333333</td>\n",
       "      <td>0.666667</td>\n",
       "      <td>0.333333</td>\n",
       "      <td>0.333333</td>\n",
       "      <td>0.333333</td>\n",
       "      <td>0.333333</td>\n",
       "      <td>...</td>\n",
       "      <td>0.333333</td>\n",
       "      <td>0.666667</td>\n",
       "      <td>0.666667</td>\n",
       "      <td>1.0</td>\n",
       "      <td>0.333333</td>\n",
       "      <td>0.333333</td>\n",
       "      <td>0.333333</td>\n",
       "      <td>0.666667</td>\n",
       "      <td>0.333333</td>\n",
       "      <td>0.333333</td>\n",
       "    </tr>\n",
       "    <tr>\n",
       "      <th>TF</th>\n",
       "      <td>1.000000</td>\n",
       "      <td>1.000000</td>\n",
       "      <td>1.000000</td>\n",
       "      <td>1.000000</td>\n",
       "      <td>1.000000</td>\n",
       "      <td>2.000000</td>\n",
       "      <td>1.000000</td>\n",
       "      <td>1.000000</td>\n",
       "      <td>1.000000</td>\n",
       "      <td>1.000000</td>\n",
       "      <td>...</td>\n",
       "      <td>1.000000</td>\n",
       "      <td>1.000000</td>\n",
       "      <td>1.000000</td>\n",
       "      <td>6.0</td>\n",
       "      <td>1.000000</td>\n",
       "      <td>1.000000</td>\n",
       "      <td>1.000000</td>\n",
       "      <td>1.000000</td>\n",
       "      <td>1.000000</td>\n",
       "      <td>1.000000</td>\n",
       "    </tr>\n",
       "    <tr>\n",
       "      <th>TF_IDF</th>\n",
       "      <td>0.333333</td>\n",
       "      <td>0.666667</td>\n",
       "      <td>0.333333</td>\n",
       "      <td>0.333333</td>\n",
       "      <td>0.333333</td>\n",
       "      <td>1.333333</td>\n",
       "      <td>0.333333</td>\n",
       "      <td>0.333333</td>\n",
       "      <td>0.333333</td>\n",
       "      <td>0.333333</td>\n",
       "      <td>...</td>\n",
       "      <td>0.333333</td>\n",
       "      <td>0.666667</td>\n",
       "      <td>0.666667</td>\n",
       "      <td>6.0</td>\n",
       "      <td>0.333333</td>\n",
       "      <td>0.333333</td>\n",
       "      <td>0.333333</td>\n",
       "      <td>0.666667</td>\n",
       "      <td>0.333333</td>\n",
       "      <td>0.333333</td>\n",
       "    </tr>\n",
       "  </tbody>\n",
       "</table>\n",
       "<p>3 rows × 25 columns</p>\n",
       "</div>"
      ],
      "text/plain": [
       "         cohorte        IA        Je  Scientist      Dans   Analyst  \\\n",
       "IDF     0.333333  0.666667  0.333333   0.333333  0.333333  0.666667   \n",
       "TF      1.000000  1.000000  1.000000   1.000000  1.000000  2.000000   \n",
       "TF_IDF  0.333333  0.666667  0.333333   0.333333  0.333333  1.333333   \n",
       "\n",
       "        specialiste     avons      nous     etdes  ...      suis        de  \\\n",
       "IDF        0.333333  0.333333  0.333333  0.333333  ...  0.333333  0.666667   \n",
       "TF         1.000000  1.000000  1.000000  1.000000  ...  1.000000  1.000000   \n",
       "TF_IDF     0.333333  0.333333  0.333333  0.333333  ...  0.333333  0.666667   \n",
       "\n",
       "              et  Data    desire  actuelle    Stella       des   devenir  \\\n",
       "IDF     0.666667   1.0  0.333333  0.333333  0.333333  0.666667  0.333333   \n",
       "TF      1.000000   6.0  1.000000  1.000000  1.000000  1.000000  1.000000   \n",
       "TF_IDF  0.666667   6.0  0.333333  0.333333  0.333333  0.666667  0.333333   \n",
       "\n",
       "              un  \n",
       "IDF     0.333333  \n",
       "TF      1.000000  \n",
       "TF_IDF  0.333333  \n",
       "\n",
       "[3 rows x 25 columns]"
      ]
     },
     "execution_count": 61,
     "metadata": {},
     "output_type": "execute_result"
    }
   ],
   "source": [
    "TF_IDF_score"
   ]
  },
  {
   "cell_type": "code",
   "execution_count": 62,
   "id": "b3ebd978",
   "metadata": {},
   "outputs": [],
   "source": [
    "#u.v=||u||.||v||.cos(u,v)\n",
    "#cos(u,v)=u.v/||u||.||v||"
   ]
  },
  {
   "cell_type": "code",
   "execution_count": 63,
   "id": "1316c36e",
   "metadata": {},
   "outputs": [],
   "source": [
    "#u_norme=np.linalg.norm(u)\n",
    "#v_norme=np.linalg.norm(u)\n",
    "#u_scalaire_v=np.dot(u,v)\n",
    "def scalaire(u,v):\n",
    "    return sum([elt1*elt2 for elt1,elt2 in zip(u,v)])\n",
    "def get_norm(u):\n",
    "    return math.sqrt(sum([elt**2 for elt in u]))"
   ]
  },
  {
   "cell_type": "code",
   "execution_count": 64,
   "id": "9f537722",
   "metadata": {},
   "outputs": [],
   "source": [
    "array1=np.array([1,3,2])\n",
    "array2=np.array([-5,0,1])"
   ]
  },
  {
   "cell_type": "code",
   "execution_count": 65,
   "id": "c34a6861",
   "metadata": {},
   "outputs": [
    {
     "data": {
      "text/plain": [
       "-3"
      ]
     },
     "execution_count": 65,
     "metadata": {},
     "output_type": "execute_result"
    }
   ],
   "source": [
    "scalaire(array1,array2)"
   ]
  },
  {
   "cell_type": "code",
   "execution_count": 66,
   "id": "943579b3",
   "metadata": {},
   "outputs": [
    {
     "data": {
      "text/plain": [
       "3.7416573867739413"
      ]
     },
     "execution_count": 66,
     "metadata": {},
     "output_type": "execute_result"
    }
   ],
   "source": [
    " get_norm(array1)"
   ]
  },
  {
   "cell_type": "code",
   "execution_count": 67,
   "id": "87b7403c",
   "metadata": {},
   "outputs": [],
   "source": [
    "def cosinus(u,v):\n",
    "    return np.dot(u,v)/(np.linalg.norm(u)*np.linalg.norm(v))"
   ]
  },
  {
   "cell_type": "code",
   "execution_count": 68,
   "id": "52066d2c",
   "metadata": {},
   "outputs": [
    {
     "data": {
      "text/plain": [
       "0.47140452079103173"
      ]
     },
     "execution_count": 68,
     "metadata": {},
     "output_type": "execute_result"
    }
   ],
   "source": [
    "cosinus(vect_1,vect_2)"
   ]
  },
  {
   "cell_type": "code",
   "execution_count": 69,
   "id": "331c9766",
   "metadata": {},
   "outputs": [
    {
     "data": {
      "text/plain": [
       "0.2886751345948129"
      ]
     },
     "execution_count": 69,
     "metadata": {},
     "output_type": "execute_result"
    }
   ],
   "source": [
    "cosinus(vect_1,vect_3)"
   ]
  },
  {
   "cell_type": "code",
   "execution_count": 70,
   "id": "7e2fcb24",
   "metadata": {},
   "outputs": [
    {
     "data": {
      "text/plain": [
       "-0.15724272550828775"
      ]
     },
     "execution_count": 70,
     "metadata": {},
     "output_type": "execute_result"
    }
   ],
   "source": [
    "cosinus(array1,array2)"
   ]
  },
  {
   "cell_type": "code",
   "execution_count": 71,
   "id": "6386998c",
   "metadata": {},
   "outputs": [],
   "source": [
    "vectorizer = TfidfVectorizer()"
   ]
  },
  {
   "cell_type": "code",
   "execution_count": 72,
   "id": "2c8bc03d",
   "metadata": {},
   "outputs": [],
   "source": [
    "document=vectorizer.fit_transform([corpus])"
   ]
  },
  {
   "cell_type": "code",
   "execution_count": 73,
   "id": "f51f31a4",
   "metadata": {},
   "outputs": [
    {
     "name": "stdout",
     "output_type": "stream",
     "text": [
      "  (0, 29)\t0.08219949365267865\n",
      "  (0, 11)\t0.08219949365267865\n",
      "  (0, 16)\t0.08219949365267865\n",
      "  (0, 40)\t0.08219949365267865\n",
      "  (0, 5)\t0.08219949365267865\n",
      "  (0, 33)\t0.08219949365267865\n",
      "  (0, 20)\t0.08219949365267865\n",
      "  (0, 32)\t0.08219949365267865\n",
      "  (0, 30)\t0.08219949365267865\n",
      "  (0, 1)\t0.08219949365267865\n",
      "  (0, 19)\t0.08219949365267865\n",
      "  (0, 34)\t0.08219949365267865\n",
      "  (0, 13)\t0.08219949365267865\n",
      "  (0, 26)\t0.08219949365267865\n",
      "  (0, 18)\t0.08219949365267865\n",
      "  (0, 37)\t0.08219949365267865\n",
      "  (0, 38)\t0.08219949365267865\n",
      "  (0, 43)\t0.08219949365267865\n",
      "  (0, 3)\t0.08219949365267865\n",
      "  (0, 17)\t0.08219949365267865\n",
      "  (0, 21)\t0.08219949365267865\n",
      "  (0, 36)\t0.08219949365267865\n",
      "  (0, 12)\t0.08219949365267865\n",
      "  (0, 4)\t0.08219949365267865\n",
      "  (0, 41)\t0.08219949365267865\n",
      "  (0, 9)\t0.1643989873053573\n",
      "  (0, 31)\t0.08219949365267865\n",
      "  (0, 24)\t0.08219949365267865\n",
      "  (0, 23)\t0.08219949365267865\n",
      "  (0, 25)\t0.08219949365267865\n",
      "  (0, 39)\t0.08219949365267865\n",
      "  (0, 22)\t0.08219949365267865\n",
      "  (0, 14)\t0.08219949365267865\n",
      "  (0, 6)\t0.08219949365267865\n",
      "  (0, 8)\t0.1643989873053573\n",
      "  (0, 28)\t0.08219949365267865\n",
      "  (0, 0)\t0.08219949365267865\n",
      "  (0, 15)\t0.3287979746107146\n",
      "  (0, 7)\t0.24659848095803594\n",
      "  (0, 2)\t0.1643989873053573\n",
      "  (0, 42)\t0.08219949365267865\n",
      "  (0, 27)\t0.41099746826339323\n",
      "  (0, 10)\t0.08219949365267865\n",
      "  (0, 35)\t0.5753964555687505\n"
     ]
    }
   ],
   "source": [
    "for elt in document:\n",
    "    print(elt)"
   ]
  },
  {
   "cell_type": "code",
   "execution_count": 74,
   "id": "3e410656",
   "metadata": {},
   "outputs": [],
   "source": [
    "lsa=TruncatedSVD(3)"
   ]
  },
  {
   "cell_type": "code",
   "execution_count": 75,
   "id": "6414e748",
   "metadata": {},
   "outputs": [
    {
     "name": "stderr",
     "output_type": "stream",
     "text": [
      "C:\\Users\\asus\\anaconda33\\lib\\site-packages\\sklearn\\decomposition\\_truncated_svd.py:268: RuntimeWarning: invalid value encountered in divide\n",
      "  self.explained_variance_ratio_ = exp_var / full_var\n"
     ]
    }
   ],
   "source": [
    "lsa_matrix=lsa.fit_transform(document)"
   ]
  },
  {
   "cell_type": "code",
   "execution_count": 76,
   "id": "4670a4b8",
   "metadata": {},
   "outputs": [
    {
     "data": {
      "text/plain": [
       "array([[1.]])"
      ]
     },
     "execution_count": 76,
     "metadata": {},
     "output_type": "execute_result"
    }
   ],
   "source": [
    "lsa_matrix"
   ]
  },
  {
   "cell_type": "code",
   "execution_count": 77,
   "id": "389db275",
   "metadata": {},
   "outputs": [
    {
     "data": {
      "text/plain": [
       "array(['academy', 'account', 'ai', 'algs', 'all', 'allowing',\n",
       "       'amazonsthey', 'and', 'are', 'as', 'beneficiaries', 'bi',\n",
       "       'concepts', 'course', 'currently', 'data', 'for', 'how',\n",
       "       'implementation', 'into', 'latter', 'learn', 'learning',\n",
       "       'learningdeep', 'learningweb', 'machine', 'modelsof', 'of',\n",
       "       'program', 'purpose', 'recovery', 'scraping', 'storage',\n",
       "       'streaming', 'taking', 'the', 'they', 'to', 'up', 'visualization',\n",
       "       'visualizations', 'well', 'women', 'work'], dtype=object)"
      ]
     },
     "execution_count": 77,
     "metadata": {},
     "output_type": "execute_result"
    }
   ],
   "source": [
    "names=vectorizer.get_feature_names_out()\n",
    "names"
   ]
  },
  {
   "cell_type": "code",
   "execution_count": 78,
   "id": "a3e024e0",
   "metadata": {},
   "outputs": [
    {
     "name": "stdout",
     "output_type": "stream",
     "text": [
      "['the', 'of', 'data', 'and', 'as', 'ai', 'are', 'concepts', 'implementation', 'how', 'for', 'currently', 'course', 'work', 'bi', 'beneficiaries', 'latter', 'amazonsthey', 'allowing', 'all', 'algs', 'account', 'into', 'learn', 'women', 'learning', 'well', 'visualizations', 'visualization', 'up', 'to', 'they', 'taking', 'streaming', 'storage', 'scraping', 'recovery', 'purpose', 'program', 'modelsof']\n"
     ]
    }
   ],
   "source": [
    "for i,elt in enumerate(lsa.components_):\n",
    "    print([names[j] for j in elt.argsort()[:3:-1]])"
   ]
  },
  {
   "cell_type": "code",
   "execution_count": 79,
   "id": "d3f7e12e",
   "metadata": {},
   "outputs": [],
   "source": [
    "similary=cosine_similarity(document[0],document)"
   ]
  },
  {
   "cell_type": "code",
   "execution_count": 80,
   "id": "545888f7",
   "metadata": {},
   "outputs": [
    {
     "data": {
      "text/plain": [
       "array([[1.]])"
      ]
     },
     "execution_count": 80,
     "metadata": {},
     "output_type": "execute_result"
    }
   ],
   "source": [
    "similary"
   ]
  },
  {
   "cell_type": "code",
   "execution_count": 81,
   "id": "eee6697a",
   "metadata": {},
   "outputs": [],
   "source": [
    "corpus_1 = [\"Natural language processing (NLP) is a subfield of artificial intelligence (AI) that \",\n",
    "\"focuses on the interaction between computers and humans using natural language. It encompassesvarious\",\n",
    "\"techniques such as sentiment analysis, part-of-speech tagging, and named entity recognition.Sentiment analysis\" ,\n",
    "\"aims to determine the attitude or emotional tone of a piece of text, while namedentity recognition is a technique that classifies named\",\n",
    "         \"Part-of-speech tagging assigns a grammatical category to each word in a sentence, which is crucial\",\n",
    "\"for syntactic parsing, a process involving the analysis of the grammatical structure of sentences\",\n",
    "\"to understand their meaning. Word embedding is another technique used in NLP, representing\",\n",
    "\"words in a continuous vector space, facilitating tasks such as information retrieval and document\",\n",
    "\"summarization.\" ,\n",
    "\"Chatbots are computer programs designed to simulate human conversation using natural language.\",\n",
    "\"They leverage techniques like language modeling and text generation to produce human-like responses.\",\n",
    "\"Information retrieval, on the other hand, involves obtaining relevant information from\",\n",
    "\"a collection of data, often using techniques like topic modeling to discover abstract topics withindocuments.\",\n",
    "\"Dependency parsing is a technique used to analyze the grammatical structure of sentences based on dependencies between words. It plays a crucial role in tasks such as machine translation and text\",\n",
    "\"classification. Word sense disambiguation, another important task, aims to determine the correct\",\n",
    "\"meaning of a word based on its context, facilitating accurate language understanding.\",\n",
    "\"Machine translation is the process of automatically translating text or speech from one language to another. This task often relies on techniques such as named entity recognition and part-ofspeechtagging to preserve the meaning and grammatical structure of the original text. Languagemodeling, which involves predicting the next word in a sequence of text given the previous words,is fundamental to many NLP tasks, including machine translation and text generation.\",\n",
    "\"In summary, NLP encompasses a wide range of techniques and tasks, including sentiment analysis,part-of-speech tagging, named entity recognition, language modeling, and machine translation.\" ,\n",
    "\"These techniques play a vital role in enabling computers to understand and generate human language, paving the way for applications such as chatbots, information retrieval systems, andautomated translation services.\" \n",
    "         ]"
   ]
  },
  {
   "cell_type": "code",
   "execution_count": 82,
   "id": "03f4a076",
   "metadata": {},
   "outputs": [],
   "source": [
    "document_1=vectorizer.fit_transform(corpus_1)"
   ]
  },
  {
   "cell_type": "code",
   "execution_count": 83,
   "id": "b7f9dd54",
   "metadata": {},
   "outputs": [
    {
     "name": "stdout",
     "output_type": "stream",
     "text": [
      "  (0, 133)\t0.3134601852595314\n",
      "  (0, 2)\t0.35733036273472063\n",
      "  (0, 61)\t0.35733036273472063\n",
      "  (0, 11)\t0.35733036273472063\n",
      "  (0, 82)\t0.17288144256514795\n",
      "  (0, 121)\t0.35733036273472063\n",
      "  (0, 65)\t0.22178495410839935\n",
      "  (0, 80)\t0.25819029809698424\n",
      "  (0, 100)\t0.35733036273472063\n",
      "  (0, 68)\t0.19459344403691395\n",
      "  (0, 78)\t0.2823337989872924\n",
      "  (0, 43)\t0.33534762038127225\n",
      "  (0, 66)\t0.29417630902273906\n",
      "  (0, 148)\t0.2649647987341133\n",
      "  (0, 56)\t0.33534762038127225\n",
      "  (0, 6)\t0.18262217601704692\n",
      "  (0, 24)\t0.29417630902273906\n",
      "  (0, 17)\t0.29417630902273906\n",
      "  (0, 62)\t0.33534762038127225\n",
      "  (0, 134)\t0.18262217601704692\n",
      "  (0, 85)\t0.2237934873755801\n",
      "  (0, 46)\t0.33534762038127225\n",
      "  (0, 68)\t0.18262217601704692\n",
      "  (0, 78)\t0.2649647987341133\n",
      "  (0, 104)\t0.22069761506720012\n",
      "  (0, 44)\t0.24133515685377152\n",
      "  (0, 76)\t0.22069761506720012\n",
      "  (0, 127)\t0.24133515685377152\n",
      "  (0, 119)\t0.22069761506720012\n",
      "  (0, 91)\t0.22069761506720012\n",
      "  (0, 4)\t0.48267031370754304\n",
      "  (0, 114)\t0.5358831514212451\n",
      "  (0, 12)\t0.20383551564838356\n",
      "  (0, 122)\t0.20383551564838356\n",
      "  (0, 131)\t0.1895788137288025\n",
      "  (0, 6)\t0.16633587444299563\n",
      "  (0, 82)\t0.1477767458526783\n",
      "  (0, 21)\t0.2661153071579343\n",
      "  (0, 130)\t0.21026297643323474\n",
      "  (0, 77)\t0.2661153071579343\n",
      "  (0, 153)\t0.2661153071579343\n",
      "  (0, 132)\t0.19228254200801334\n",
      "  (0, 93)\t0.2661153071579343\n",
      "  (0, 140)\t0.2661153071579343\n",
      "  (0, 40)\t0.2661153071579343\n",
      "  (0, 87)\t0.23344378810610897\n",
      "  (0, 14)\t0.2661153071579343\n",
      "  (0, 34)\t0.23344378810610897\n",
      "  (0, 139)\t0.12875031899902087\n",
      "  (0, 3)\t0.23344378810610897\n",
      "  (0, 104)\t0.19228254200801334\n",
      "  (0, 76)\t0.19228254200801334\n",
      "  (0, 134)\t0.14491993832958416\n",
      "  (0, 133)\t0.23344378810610897\n",
      "  (0, 82)\t0.25750063799804174\n",
      "  (0, 65)\t0.16517032231425946\n",
      "  (0, 29)\t0.2866541524839302\n",
      "  (0, 152)\t0.2866541524839302\n",
      "  (0, 112)\t0.3267727038497375\n",
      "  (0, 58)\t0.1896064707447158\n",
      "  (0, 156)\t0.21807103593141935\n",
      "  (0, 38)\t0.3267727038497375\n",
      "  (0, 18)\t0.3267727038497375\n",
      "  (0, 53)\t0.2361107552440389\n",
      "  (0, 13)\t0.3267727038497375\n",
      "  (0, 139)\t0.15809721849580533\n",
      "  (0, 127)\t0.2581895872972267\n",
      "  (0, 119)\t0.2361107552440389\n",
      "  (0, 91)\t0.2361107552440389\n",
      "  (0, 82)\t0.15809721849580533\n",
      "  (0, 65)\t0.2028186705785067\n",
      "  (0, 113)\t0.2928761344642484\n",
      "  (0, 120)\t0.26379373063772543\n",
      "  (0, 64)\t0.3338654804845602\n",
      "  (0, 99)\t0.2928761344642484\n",
      "  (0, 90)\t0.2928761344642484\n",
      "  (0, 125)\t0.3338654804845602\n",
      "  (0, 47)\t0.2928761344642484\n",
      "  (0, 53)\t0.2412356657041101\n",
      "  (0, 4)\t0.26379373063772543\n",
      "  (0, 134)\t0.3636300771942038\n",
      "  (0, 82)\t0.32305760667602307\n",
      "  (0, 107)\t0.34636825134373567\n",
      "  (0, 147)\t0.3038439146432984\n",
      "  (0, 8)\t0.27367241759710714\n",
      "  (0, 39)\t0.34636825134373567\n",
      "  (0, 74)\t0.27367241759710714\n",
      "  (0, 135)\t0.34636825134373567\n",
      "  (0, 145)\t0.3038439146432984\n",
      "  (0, 58)\t0.2009765838504786\n",
      "  (0, 156)\t0.23114808089666986\n",
      "  (0, 130)\t0.27367241759710714\n",
      "  (0, 139)\t0.1675778192840772\n",
      "  (0, 65)\t0.2149810784086853\n",
      "  (0, 80)\t0.2502695863328066\n",
      "  (0, 37)\t0.33925746764639425\n",
      "  (0, 109)\t0.26805404651975834\n",
      "  (0, 60)\t0.26805404651975834\n",
      "  (0, 129)\t0.24513166480699788\n",
      "  (0, 45)\t0.2976061363642557\n",
      "  (0, 118)\t0.33925746764639425\n",
      "  (0, 149)\t0.33925746764639425\n",
      "  (0, 26)\t0.33925746764639425\n",
      "  (0, 157)\t0.26805404651975834\n",
      "  (0, 58)\t0.19685062539312242\n",
      "  (0, 12)\t0.22640271523761976\n",
      "  (0, 122)\t0.22640271523761976\n",
      "  (0, 6)\t0.18475138395548127\n",
      "  (0, 123)\t1.0\n",
      "  (0, 27)\t0.33017444824750775\n",
      "  (0, 55)\t0.26087737294089786\n",
      "  (0, 117)\t0.33017444824750775\n",
      "  (0, 33)\t0.33017444824750775\n",
      "  (0, 102)\t0.33017444824750775\n",
      "  (0, 23)\t0.33017444824750775\n",
      "  (0, 10)\t0.33017444824750775\n",
      "  (0, 19)\t0.28963825778349095\n",
      "  (0, 139)\t0.15974303015934152\n",
      "  (0, 148)\t0.26087737294089786\n",
      "  (0, 68)\t0.17980499201286426\n",
      "  (0, 78)\t0.26087737294089786\n",
      "  (0, 108)\t0.30385815575297914\n",
      "  (0, 101)\t0.30385815575297914\n",
      "  (0, 51)\t0.2665528701955265\n",
      "  (0, 75)\t0.2400843488654235\n",
      "  (0, 71)\t0.533105740391053\n",
      "  (0, 70)\t0.30385815575297914\n",
      "  (0, 137)\t0.30385815575297914\n",
      "  (0, 55)\t0.2400843488654235\n",
      "  (0, 132)\t0.2195537687103982\n",
      "  (0, 139)\t0.14701083865285577\n",
      "  (0, 131)\t0.18859625197640437\n",
      "  (0, 6)\t0.16547377775051825\n",
      "  (0, 68)\t0.16547377775051825\n",
      "  (0, 48)\t0.28608338692018304\n",
      "  (0, 105)\t0.32612205705144826\n",
      "  (0, 81)\t0.32612205705144826\n",
      "  (0, 63)\t0.28608338692018304\n",
      "  (0, 54)\t0.32612205705144826\n",
      "  (0, 89)\t0.32612205705144826\n",
      "  (0, 109)\t0.2576754983713542\n",
      "  (0, 60)\t0.5153509967427083\n",
      "  (0, 134)\t0.17759815810882373\n",
      "  (0, 85)\t0.21763682824008893\n",
      "  (0, 155)\t0.3065549445750636\n",
      "  (0, 142)\t0.3065549445750636\n",
      "  (0, 0)\t0.3065549445750636\n",
      "  (0, 36)\t0.3065549445750636\n",
      "  (0, 141)\t0.3065549445750636\n",
      "  (0, 84)\t0.2689185687533174\n",
      "  (0, 30)\t0.3065549445750636\n",
      "  (0, 22)\t0.3065549445750636\n",
      "  (0, 75)\t0.24221513514224158\n",
      "  (0, 71)\t0.2689185687533174\n",
      "  (0, 139)\t0.14831558291888292\n",
      "  (0, 131)\t0.19027007331240448\n",
      "  (0, 148)\t0.24221513514224158\n",
      "  (0, 82)\t0.14831558291888292\n",
      "  (0, 144)\t0.17096903739757266\n",
      "  (0, 72)\t0.18695643559590816\n",
      "  (0, 110)\t0.20756777667980414\n",
      "  (0, 95)\t0.23661783033664752\n",
      "  (0, 31)\t0.23661783033664752\n",
      "  (0, 16)\t0.20756777667980414\n",
      "  (0, 5)\t0.23661783033664752\n",
      "  (0, 32)\t0.23661783033664752\n",
      "  (0, 129)\t0.17096903739757266\n",
      "  (0, 157)\t0.18695643559590816\n",
      "  (0, 147)\t0.20756777667980414\n",
      "  (0, 113)\t0.20756777667980414\n",
      "  (0, 120)\t0.18695643559590816\n",
      "  (0, 90)\t0.20756777667980414\n",
      "  (0, 29)\t0.20756777667980414\n",
      "  (0, 58)\t0.13729504085516878\n",
      "  (0, 53)\t0.17096903739757266\n",
      "  (0, 130)\t0.18695643559590816\n",
      "  (0, 132)\t0.17096903739757266\n",
      "  (0, 139)\t0.11447902588564514\n",
      "  (0, 12)\t0.15790638193906475\n",
      "  (0, 122)\t0.15790638193906475\n",
      "  (0, 66)\t0.20756777667980414\n",
      "  (0, 6)\t0.1288563282822214\n",
      "  (0, 17)\t0.20756777667980414\n",
      "  (0, 134)\t0.1288563282822214\n",
      "  (0, 85)\t0.15790638193906475\n",
      "  (0, 82)\t0.11447902588564514\n",
      "  (0, 65)\t0.1468620641157266\n",
      "  (0, 28)\t0.3350338923983917\n",
      "  (0, 128)\t0.2939010980642237\n",
      "  (0, 57)\t0.3350338923983917\n",
      "  (0, 35)\t0.3350338923983917\n",
      "  (0, 111)\t0.3350338923983917\n",
      "  (0, 20)\t0.3350338923983917\n",
      "  (0, 8)\t0.2647169160392944\n",
      "  (0, 156)\t0.22358412170512648\n",
      "  (0, 34)\t0.2939010980642237\n",
      "  (0, 139)\t0.16209409741385655\n",
      "  (0, 3)\t0.2939010980642237\n",
      "  (0, 134)\t0.18245132737095854\n",
      "  (0, 146)\t0.3631039945854435\n",
      "  (0, 1)\t0.3631039945854435\n",
      "  (0, 25)\t0.3631039945854435\n",
      "  (0, 67)\t0.3631039945854435\n",
      "  (0, 16)\t0.3185249765515368\n",
      "  (0, 45)\t0.3185249765515368\n",
      "  (0, 74)\t0.2868956598991198\n",
      "  (0, 156)\t0.242316641865213\n",
      "  (0, 85)\t0.242316641865213\n",
      "  (0, 82)\t0.17567480665420546\n",
      "  (0, 68)\t0.19773762383130628\n",
      "  (0, 59)\t0.112062518832793\n",
      "  (0, 73)\t0.1277461776216786\n",
      "  (0, 49)\t0.1277461776216786\n",
      "  (0, 98)\t0.1277461776216786\n",
      "  (0, 52)\t0.1277461776216786\n",
      "  (0, 115)\t0.1277461776216786\n",
      "  (0, 79)\t0.1277461776216786\n",
      "  (0, 96)\t0.1277461776216786\n",
      "  (0, 69)\t0.1277461776216786\n",
      "  (0, 88)\t0.1277461776216786\n",
      "  (0, 97)\t0.1277461776216786\n",
      "  (0, 83)\t0.1277461776216786\n",
      "  (0, 106)\t0.1277461776216786\n",
      "  (0, 138)\t0.1277461776216786\n",
      "  (0, 86)\t0.1277461776216786\n",
      "  (0, 143)\t0.1277461776216786\n",
      "  (0, 15)\t0.1277461776216786\n",
      "  (0, 128)\t0.112062518832793\n",
      "  (0, 144)\t0.1846068911047321\n",
      "  (0, 72)\t0.20186957166475036\n",
      "  (0, 84)\t0.112062518832793\n",
      "  (0, 48)\t0.112062518832793\n",
      "  (0, 63)\t0.112062518832793\n",
      "  (0, 51)\t0.112062518832793\n",
      "  (0, 129)\t0.09230344555236605\n",
      "  :\t:\n",
      "  (0, 74)\t0.10093478583237518\n",
      "  (0, 120)\t0.10093478583237518\n",
      "  (0, 99)\t0.112062518832793\n",
      "  (0, 152)\t0.112062518832793\n",
      "  (0, 58)\t0.07412339404307172\n",
      "  (0, 156)\t0.08525112704348956\n",
      "  (0, 53)\t0.09230344555236605\n",
      "  (0, 132)\t0.3692137822094642\n",
      "  (0, 87)\t0.112062518832793\n",
      "  (0, 139)\t0.18541617874617988\n",
      "  (0, 104)\t0.09230344555236605\n",
      "  (0, 44)\t0.10093478583237518\n",
      "  (0, 76)\t0.09230344555236605\n",
      "  (0, 119)\t0.09230344555236605\n",
      "  (0, 91)\t0.09230344555236605\n",
      "  (0, 12)\t0.08525112704348956\n",
      "  (0, 122)\t0.08525112704348956\n",
      "  (0, 131)\t0.0792884767040662\n",
      "  (0, 6)\t0.2087024047638118\n",
      "  (0, 134)\t0.34783734127301974\n",
      "  (0, 85)\t0.08525112704348956\n",
      "  (0, 82)\t0.18541617874617988\n",
      "  (0, 65)\t0.1585769534081324\n",
      "  (0, 80)\t0.09230344555236605\n",
      "  (0, 68)\t0.06956746825460394\n",
      "  (0, 103)\t0.25436056405484914\n",
      "  (0, 154)\t0.25436056405484914\n",
      "  (0, 42)\t0.25436056405484914\n",
      "  (0, 124)\t0.25436056405484914\n",
      "  (0, 59)\t0.22313219878979126\n",
      "  (0, 144)\t0.18378911143969592\n",
      "  (0, 72)\t0.20097532102378518\n",
      "  (0, 75)\t0.20097532102378518\n",
      "  (0, 129)\t0.18378911143969592\n",
      "  (0, 58)\t0.14759007799272122\n",
      "  (0, 104)\t0.18378911143969592\n",
      "  (0, 44)\t0.20097532102378518\n",
      "  (0, 76)\t0.18378911143969592\n",
      "  (0, 127)\t0.20097532102378518\n",
      "  (0, 119)\t0.18378911143969592\n",
      "  (0, 91)\t0.18378911143969592\n",
      "  (0, 4)\t0.20097532102378518\n",
      "  (0, 114)\t0.22313219878979126\n",
      "  (0, 131)\t0.1578744822974143\n",
      "  (0, 6)\t0.27703718098733904\n",
      "  (0, 82)\t0.24612641875122807\n",
      "  (0, 80)\t0.18378911143969592\n",
      "  (0, 68)\t0.13851859049366952\n",
      "  (0, 116)\t0.2237244069086053\n",
      "  (0, 7)\t0.2237244069086053\n",
      "  (0, 126)\t0.2237244069086053\n",
      "  (0, 9)\t0.2237244069086053\n",
      "  (0, 151)\t0.2237244069086053\n",
      "  (0, 92)\t0.2237244069086053\n",
      "  (0, 50)\t0.2237244069086053\n",
      "  (0, 41)\t0.2237244069086053\n",
      "  (0, 150)\t0.2237244069086053\n",
      "  (0, 94)\t0.2237244069086053\n",
      "  (0, 136)\t0.2237244069086053\n",
      "  (0, 144)\t0.16165284939468455\n",
      "  (0, 110)\t0.1962573051445763\n",
      "  (0, 55)\t0.17676908630229826\n",
      "  (0, 19)\t0.1962573051445763\n",
      "  (0, 109)\t0.17676908630229826\n",
      "  (0, 60)\t0.17676908630229826\n",
      "  (0, 145)\t0.1962573051445763\n",
      "  (0, 47)\t0.1962573051445763\n",
      "  (0, 58)\t0.12981376569599123\n",
      "  (0, 139)\t0.10824100674620236\n",
      "  (0, 12)\t0.14930198453826926\n",
      "  (0, 122)\t0.14930198453826926\n",
      "  (0, 131)\t0.13885947709400345\n",
      "  (0, 6)\t0.12183488277424029\n",
      "  (0, 24)\t0.1962573051445763\n",
      "  (0, 134)\t0.12183488277424029\n",
      "  (0, 68)\t0.12183488277424029\n"
     ]
    }
   ],
   "source": [
    "for elt in document_1:\n",
    "    print(elt)"
   ]
  },
  {
   "cell_type": "code",
   "execution_count": 84,
   "id": "2f3b58ae",
   "metadata": {},
   "outputs": [
    {
     "data": {
      "text/plain": [
       "array([[1.        , 0.1103456 , 0.02554786, 0.15432471, 0.0723142 ,\n",
       "        0.05585067, 0.11229675, 0.        , 0.        , 0.10864337,\n",
       "        0.03220011, 0.        , 0.02564101, 0.0523631 , 0.        ,\n",
       "        0.06884936, 0.10459423, 0.11695807, 0.02370827]])"
      ]
     },
     "execution_count": 84,
     "metadata": {},
     "output_type": "execute_result"
    }
   ],
   "source": [
    "similary_1=cosine_similarity(document_1[0],document_1)\n",
    "similary_1"
   ]
  },
  {
   "cell_type": "code",
   "execution_count": 85,
   "id": "b93cf9c4",
   "metadata": {},
   "outputs": [],
   "source": [
    "#cosinus_similarity, plus le cos est proche de 1,plus les phrases sont similaires\n",
    "#cosinus_distances, plus la distance est proche de 0,plus les phrases sont similaires"
   ]
  },
  {
   "cell_type": "code",
   "execution_count": 86,
   "id": "86b000a3",
   "metadata": {},
   "outputs": [
    {
     "data": {
      "text/plain": [
       "array([[0.        , 0.8896544 , 0.97445214, 0.84567529, 0.9276858 ,\n",
       "        0.94414933, 0.88770325, 1.        , 1.        , 0.89135663,\n",
       "        0.96779989, 1.        , 0.97435899, 0.9476369 , 1.        ,\n",
       "        0.93115064, 0.89540577, 0.88304193, 0.97629173]])"
      ]
     },
     "execution_count": 86,
     "metadata": {},
     "output_type": "execute_result"
    }
   ],
   "source": [
    "distance=cosine_distances(document_1[0],document_1)\n",
    "distance"
   ]
  },
  {
   "cell_type": "code",
   "execution_count": 111,
   "id": "79e5b04d",
   "metadata": {},
   "outputs": [
    {
     "name": "stdout",
     "output_type": "stream",
     "text": [
      "Requirement already satisfied: spacy in c:\\users\\asus\\anaconda33\\lib\\site-packages (3.7.3)\n",
      "Requirement already satisfied: requests<3.0.0,>=2.13.0 in c:\\users\\asus\\anaconda33\\lib\\site-packages (from spacy) (2.28.1)\n",
      "Requirement already satisfied: numpy>=1.19.0 in c:\\users\\asus\\anaconda33\\lib\\site-packages (from spacy) (1.23.5)\n",
      "Requirement already satisfied: pydantic!=1.8,!=1.8.1,<3.0.0,>=1.7.4 in c:\\users\\asus\\anaconda33\\lib\\site-packages (from spacy) (2.6.1)\n",
      "Requirement already satisfied: tqdm<5.0.0,>=4.38.0 in c:\\users\\asus\\anaconda33\\lib\\site-packages (from spacy) (4.64.1)\n",
      "Requirement already satisfied: preshed<3.1.0,>=3.0.2 in c:\\users\\asus\\anaconda33\\lib\\site-packages (from spacy) (3.0.9)\n",
      "Requirement already satisfied: cymem<2.1.0,>=2.0.2 in c:\\users\\asus\\anaconda33\\lib\\site-packages (from spacy) (2.0.8)\n",
      "Requirement already satisfied: srsly<3.0.0,>=2.4.3 in c:\\users\\asus\\anaconda33\\lib\\site-packages (from spacy) (2.4.8)\n",
      "Requirement already satisfied: weasel<0.4.0,>=0.1.0 in c:\\users\\asus\\anaconda33\\lib\\site-packages (from spacy) (0.3.4)\n",
      "Requirement already satisfied: langcodes<4.0.0,>=3.2.0 in c:\\users\\asus\\anaconda33\\lib\\site-packages (from spacy) (3.3.0)\n",
      "Requirement already satisfied: spacy-legacy<3.1.0,>=3.0.11 in c:\\users\\asus\\anaconda33\\lib\\site-packages (from spacy) (3.0.12)\n",
      "Requirement already satisfied: jinja2 in c:\\users\\asus\\anaconda33\\lib\\site-packages (from spacy) (3.1.2)\n",
      "Requirement already satisfied: catalogue<2.1.0,>=2.0.6 in c:\\users\\asus\\anaconda33\\lib\\site-packages (from spacy) (2.0.10)\n",
      "Requirement already satisfied: typer<0.10.0,>=0.3.0 in c:\\users\\asus\\anaconda33\\lib\\site-packages (from spacy) (0.9.0)\n",
      "Requirement already satisfied: packaging>=20.0 in c:\\users\\asus\\anaconda33\\lib\\site-packages (from spacy) (22.0)\n",
      "Requirement already satisfied: thinc<8.3.0,>=8.2.2 in c:\\users\\asus\\anaconda33\\lib\\site-packages (from spacy) (8.2.3)\n",
      "Requirement already satisfied: setuptools in c:\\users\\asus\\anaconda33\\lib\\site-packages (from spacy) (65.6.3)\n",
      "Requirement already satisfied: wasabi<1.2.0,>=0.9.1 in c:\\users\\asus\\anaconda33\\lib\\site-packages (from spacy) (1.1.2)\n",
      "Requirement already satisfied: murmurhash<1.1.0,>=0.28.0 in c:\\users\\asus\\anaconda33\\lib\\site-packages (from spacy) (1.0.10)\n",
      "Requirement already satisfied: smart-open<7.0.0,>=5.2.1 in c:\\users\\asus\\anaconda33\\lib\\site-packages (from spacy) (5.2.1)\n",
      "Requirement already satisfied: spacy-loggers<2.0.0,>=1.0.0 in c:\\users\\asus\\anaconda33\\lib\\site-packages (from spacy) (1.0.5)\n",
      "Requirement already satisfied: annotated-types>=0.4.0 in c:\\users\\asus\\anaconda33\\lib\\site-packages (from pydantic!=1.8,!=1.8.1,<3.0.0,>=1.7.4->spacy) (0.6.0)\n",
      "Requirement already satisfied: typing-extensions>=4.6.1 in c:\\users\\asus\\anaconda33\\lib\\site-packages (from pydantic!=1.8,!=1.8.1,<3.0.0,>=1.7.4->spacy) (4.9.0)\n",
      "Requirement already satisfied: pydantic-core==2.16.2 in c:\\users\\asus\\anaconda33\\lib\\site-packages (from pydantic!=1.8,!=1.8.1,<3.0.0,>=1.7.4->spacy) (2.16.2)\n",
      "Requirement already satisfied: certifi>=2017.4.17 in c:\\users\\asus\\anaconda33\\lib\\site-packages (from requests<3.0.0,>=2.13.0->spacy) (2022.12.7)\n",
      "Requirement already satisfied: charset-normalizer<3,>=2 in c:\\users\\asus\\anaconda33\\lib\\site-packages (from requests<3.0.0,>=2.13.0->spacy) (2.0.4)\n",
      "Requirement already satisfied: urllib3<1.27,>=1.21.1 in c:\\users\\asus\\anaconda33\\lib\\site-packages (from requests<3.0.0,>=2.13.0->spacy) (1.26.14)\n",
      "Requirement already satisfied: idna<4,>=2.5 in c:\\users\\asus\\anaconda33\\lib\\site-packages (from requests<3.0.0,>=2.13.0->spacy) (3.4)\n",
      "Requirement already satisfied: confection<1.0.0,>=0.0.1 in c:\\users\\asus\\anaconda33\\lib\\site-packages (from thinc<8.3.0,>=8.2.2->spacy) (0.1.4)\n",
      "Requirement already satisfied: blis<0.8.0,>=0.7.8 in c:\\users\\asus\\anaconda33\\lib\\site-packages (from thinc<8.3.0,>=8.2.2->spacy) (0.7.11)\n",
      "Requirement already satisfied: colorama in c:\\users\\asus\\anaconda33\\lib\\site-packages (from tqdm<5.0.0,>=4.38.0->spacy) (0.4.6)\n",
      "Requirement already satisfied: click<9.0.0,>=7.1.1 in c:\\users\\asus\\anaconda33\\lib\\site-packages (from typer<0.10.0,>=0.3.0->spacy) (8.0.4)\n",
      "Requirement already satisfied: cloudpathlib<0.17.0,>=0.7.0 in c:\\users\\asus\\anaconda33\\lib\\site-packages (from weasel<0.4.0,>=0.1.0->spacy) (0.16.0)\n",
      "Requirement already satisfied: MarkupSafe>=2.0 in c:\\users\\asus\\anaconda33\\lib\\site-packages (from jinja2->spacy) (2.1.1)\n",
      "Note: you may need to restart the kernel to use updated packages.\n"
     ]
    }
   ],
   "source": [
    "#pip install spacy"
   ]
  },
  {
   "cell_type": "code",
   "execution_count": 112,
   "id": "82e1eba5",
   "metadata": {},
   "outputs": [],
   "source": [
    "import spacy"
   ]
  },
  {
   "cell_type": "code",
   "execution_count": 113,
   "id": "54ef1a93",
   "metadata": {},
   "outputs": [
    {
     "data": {
      "text/plain": [
       "'Natural language processing (NLP) is a subfield of artificial intelligence (AI) that '"
      ]
     },
     "execution_count": 113,
     "metadata": {},
     "output_type": "execute_result"
    }
   ],
   "source": [
    "corpus_1[0]"
   ]
  },
  {
   "cell_type": "code",
   "execution_count": 117,
   "id": "8123587e",
   "metadata": {},
   "outputs": [
    {
     "name": "stdout",
     "output_type": "stream",
     "text": [
      "Requirement already satisfied: spacy in c:\\users\\asus\\anaconda33\\lib\\site-packages (3.7.3)Note: you may need to restart the kernel to use updated packages.\n",
      "\n",
      "Requirement already satisfied: thinc<8.3.0,>=8.2.2 in c:\\users\\asus\\anaconda33\\lib\\site-packages (from spacy) (8.2.3)\n",
      "Requirement already satisfied: murmurhash<1.1.0,>=0.28.0 in c:\\users\\asus\\anaconda33\\lib\\site-packages (from spacy) (1.0.10)\n",
      "Requirement already satisfied: typer<0.10.0,>=0.3.0 in c:\\users\\asus\\anaconda33\\lib\\site-packages (from spacy) (0.9.0)\n",
      "Requirement already satisfied: jinja2 in c:\\users\\asus\\anaconda33\\lib\\site-packages (from spacy) (3.1.2)\n",
      "Requirement already satisfied: srsly<3.0.0,>=2.4.3 in c:\\users\\asus\\anaconda33\\lib\\site-packages (from spacy) (2.4.8)\n",
      "Requirement already satisfied: catalogue<2.1.0,>=2.0.6 in c:\\users\\asus\\anaconda33\\lib\\site-packages (from spacy) (2.0.10)\n",
      "Requirement already satisfied: requests<3.0.0,>=2.13.0 in c:\\users\\asus\\anaconda33\\lib\\site-packages (from spacy) (2.28.1)\n",
      "Requirement already satisfied: pydantic!=1.8,!=1.8.1,<3.0.0,>=1.7.4 in c:\\users\\asus\\anaconda33\\lib\\site-packages (from spacy) (2.6.1)\n",
      "Requirement already satisfied: langcodes<4.0.0,>=3.2.0 in c:\\users\\asus\\anaconda33\\lib\\site-packages (from spacy) (3.3.0)\n",
      "Requirement already satisfied: preshed<3.1.0,>=3.0.2 in c:\\users\\asus\\anaconda33\\lib\\site-packages (from spacy) (3.0.9)\n",
      "Requirement already satisfied: tqdm<5.0.0,>=4.38.0 in c:\\users\\asus\\anaconda33\\lib\\site-packages (from spacy) (4.64.1)\n",
      "Requirement already satisfied: cymem<2.1.0,>=2.0.2 in c:\\users\\asus\\anaconda33\\lib\\site-packages (from spacy) (2.0.8)\n",
      "Requirement already satisfied: numpy>=1.19.0 in c:\\users\\asus\\anaconda33\\lib\\site-packages (from spacy) (1.23.5)\n",
      "Requirement already satisfied: setuptools in c:\\users\\asus\\anaconda33\\lib\\site-packages (from spacy) (65.6.3)\n",
      "Requirement already satisfied: spacy-legacy<3.1.0,>=3.0.11 in c:\\users\\asus\\anaconda33\\lib\\site-packages (from spacy) (3.0.12)\n",
      "Requirement already satisfied: wasabi<1.2.0,>=0.9.1 in c:\\users\\asus\\anaconda33\\lib\\site-packages (from spacy) (1.1.2)\n",
      "Requirement already satisfied: spacy-loggers<2.0.0,>=1.0.0 in c:\\users\\asus\\anaconda33\\lib\\site-packages (from spacy) (1.0.5)\n",
      "Requirement already satisfied: smart-open<7.0.0,>=5.2.1 in c:\\users\\asus\\anaconda33\\lib\\site-packages (from spacy) (5.2.1)\n",
      "Requirement already satisfied: weasel<0.4.0,>=0.1.0 in c:\\users\\asus\\anaconda33\\lib\\site-packages (from spacy) (0.3.4)\n",
      "Requirement already satisfied: packaging>=20.0 in c:\\users\\asus\\anaconda33\\lib\\site-packages (from spacy) (22.0)\n",
      "Requirement already satisfied: annotated-types>=0.4.0 in c:\\users\\asus\\anaconda33\\lib\\site-packages (from pydantic!=1.8,!=1.8.1,<3.0.0,>=1.7.4->spacy) (0.6.0)\n",
      "Requirement already satisfied: typing-extensions>=4.6.1 in c:\\users\\asus\\anaconda33\\lib\\site-packages (from pydantic!=1.8,!=1.8.1,<3.0.0,>=1.7.4->spacy) (4.9.0)\n",
      "Requirement already satisfied: pydantic-core==2.16.2 in c:\\users\\asus\\anaconda33\\lib\\site-packages (from pydantic!=1.8,!=1.8.1,<3.0.0,>=1.7.4->spacy) (2.16.2)\n",
      "Requirement already satisfied: urllib3<1.27,>=1.21.1 in c:\\users\\asus\\anaconda33\\lib\\site-packages (from requests<3.0.0,>=2.13.0->spacy) (1.26.14)\n",
      "Requirement already satisfied: certifi>=2017.4.17 in c:\\users\\asus\\anaconda33\\lib\\site-packages (from requests<3.0.0,>=2.13.0->spacy) (2022.12.7)\n",
      "Requirement already satisfied: charset-normalizer<3,>=2 in c:\\users\\asus\\anaconda33\\lib\\site-packages (from requests<3.0.0,>=2.13.0->spacy) (2.0.4)\n",
      "Requirement already satisfied: idna<4,>=2.5 in c:\\users\\asus\\anaconda33\\lib\\site-packages (from requests<3.0.0,>=2.13.0->spacy) (3.4)\n",
      "Requirement already satisfied: blis<0.8.0,>=0.7.8 in c:\\users\\asus\\anaconda33\\lib\\site-packages (from thinc<8.3.0,>=8.2.2->spacy) (0.7.11)\n",
      "Requirement already satisfied: confection<1.0.0,>=0.0.1 in c:\\users\\asus\\anaconda33\\lib\\site-packages (from thinc<8.3.0,>=8.2.2->spacy) (0.1.4)\n",
      "Requirement already satisfied: colorama in c:\\users\\asus\\anaconda33\\lib\\site-packages (from tqdm<5.0.0,>=4.38.0->spacy) (0.4.6)\n",
      "Requirement already satisfied: click<9.0.0,>=7.1.1 in c:\\users\\asus\\anaconda33\\lib\\site-packages (from typer<0.10.0,>=0.3.0->spacy) (8.0.4)\n",
      "Requirement already satisfied: cloudpathlib<0.17.0,>=0.7.0 in c:\\users\\asus\\anaconda33\\lib\\site-packages (from weasel<0.4.0,>=0.1.0->spacy) (0.16.0)\n",
      "Requirement already satisfied: MarkupSafe>=2.0 in c:\\users\\asus\\anaconda33\\lib\\site-packages (from jinja2->spacy) (2.1.1)\n"
     ]
    }
   ],
   "source": [
    "pip install spacy --upgrade"
   ]
  },
  {
   "cell_type": "code",
   "execution_count": 119,
   "id": "e5a4430a",
   "metadata": {},
   "outputs": [],
   "source": [
    "nlp_spacy=spacy.load(\"fr_core_news_sm\")"
   ]
  },
  {
   "cell_type": "code",
   "execution_count": 120,
   "id": "73536751",
   "metadata": {},
   "outputs": [],
   "source": [
    "doc=nlp_spacy(\"Imma Conception estune fille dangereuse vivant au Bénin\")"
   ]
  },
  {
   "cell_type": "code",
   "execution_count": 121,
   "id": "64c1d0a4",
   "metadata": {},
   "outputs": [
    {
     "data": {
      "text/html": [
       "<span class=\"tex2jax_ignore\"><div class=\"entities\" style=\"line-height: 2.5; direction: ltr\">\n",
       "<mark class=\"entity\" style=\"background: #ddd; padding: 0.45em 0.6em; margin: 0 0.25em; line-height: 1; border-radius: 0.35em;\">\n",
       "    Imma Conception\n",
       "    <span style=\"font-size: 0.8em; font-weight: bold; line-height: 1; border-radius: 0.35em; vertical-align: middle; margin-left: 0.5rem\">MISC</span>\n",
       "</mark>\n",
       " estune fille dangereuse vivant au \n",
       "<mark class=\"entity\" style=\"background: #ff9561; padding: 0.45em 0.6em; margin: 0 0.25em; line-height: 1; border-radius: 0.35em;\">\n",
       "    Bénin\n",
       "    <span style=\"font-size: 0.8em; font-weight: bold; line-height: 1; border-radius: 0.35em; vertical-align: middle; margin-left: 0.5rem\">LOC</span>\n",
       "</mark>\n",
       "</div></span>"
      ],
      "text/plain": [
       "<IPython.core.display.HTML object>"
      ]
     },
     "metadata": {},
     "output_type": "display_data"
    }
   ],
   "source": [
    "spacy.displacy.render(doc,'ent')"
   ]
  },
  {
   "cell_type": "code",
   "execution_count": 122,
   "id": "21bfd8af",
   "metadata": {},
   "outputs": [],
   "source": [
    "def get_name_entity(mot):\n",
    "    doc=nlp_spacy(mot)\n",
    "    spacy.displacy.render(doc,'ent')"
   ]
  },
  {
   "cell_type": "code",
   "execution_count": 123,
   "id": "2a9331b8",
   "metadata": {},
   "outputs": [
    {
     "data": {
      "text/html": [
       "<span class=\"tex2jax_ignore\"><div class=\"entities\" style=\"line-height: 2.5; direction: ltr\">\n",
       "<mark class=\"entity\" style=\"background: #ddd; padding: 0.45em 0.6em; margin: 0 0.25em; line-height: 1; border-radius: 0.35em;\">\n",
       "    John\n",
       "    <span style=\"font-size: 0.8em; font-weight: bold; line-height: 1; border-radius: 0.35em; vertical-align: middle; margin-left: 0.5rem\">PER</span>\n",
       "</mark>\n",
       " est un travailleur,il bosse à l'\n",
       "<mark class=\"entity\" style=\"background: #7aecec; padding: 0.45em 0.6em; margin: 0 0.25em; line-height: 1; border-radius: 0.35em;\">\n",
       "    ONU\n",
       "    <span style=\"font-size: 0.8em; font-weight: bold; line-height: 1; border-radius: 0.35em; vertical-align: middle; margin-left: 0.5rem\">ORG</span>\n",
       "</mark>\n",
       "</div></span>"
      ],
      "text/plain": [
       "<IPython.core.display.HTML object>"
      ]
     },
     "metadata": {},
     "output_type": "display_data"
    }
   ],
   "source": [
    "get_name_entity(\"John est un travailleur,il bosse à l'ONU\")\n"
   ]
  },
  {
   "cell_type": "code",
   "execution_count": 124,
   "id": "0fe33b40",
   "metadata": {},
   "outputs": [
    {
     "data": {
      "text/html": [
       "<span class=\"tex2jax_ignore\"><div class=\"entities\" style=\"line-height: 2.5; direction: ltr\">\n",
       "<mark class=\"entity\" style=\"background: #ddd; padding: 0.45em 0.6em; margin: 0 0.25em; line-height: 1; border-radius: 0.35em;\">\n",
       "    John\n",
       "    <span style=\"font-size: 0.8em; font-weight: bold; line-height: 1; border-radius: 0.35em; vertical-align: middle; margin-left: 0.5rem\">PER</span>\n",
       "</mark>\n",
       " est un travailleur. Il vit à \n",
       "<mark class=\"entity\" style=\"background: #ff9561; padding: 0.45em 0.6em; margin: 0 0.25em; line-height: 1; border-radius: 0.35em;\">\n",
       "    Cotonou\n",
       "    <span style=\"font-size: 0.8em; font-weight: bold; line-height: 1; border-radius: 0.35em; vertical-align: middle; margin-left: 0.5rem\">LOC</span>\n",
       "</mark>\n",
       "</div></span>"
      ],
      "text/plain": [
       "<IPython.core.display.HTML object>"
      ]
     },
     "metadata": {},
     "output_type": "display_data"
    }
   ],
   "source": [
    "get_name_entity(\"John est un travailleur. Il vit à Cotonou\")"
   ]
  },
  {
   "cell_type": "code",
   "execution_count": 131,
   "id": "6d627a27",
   "metadata": {},
   "outputs": [
    {
     "data": {
      "text/html": [
       "<span class=\"tex2jax_ignore\"><div class=\"entities\" style=\"line-height: 2.5; direction: ltr\">\n",
       "<mark class=\"entity\" style=\"background: #ddd; padding: 0.45em 0.6em; margin: 0 0.25em; line-height: 1; border-radius: 0.35em;\">\n",
       "    Babatounde\n",
       "    <span style=\"font-size: 0.8em; font-weight: bold; line-height: 1; border-radius: 0.35em; vertical-align: middle; margin-left: 0.5rem\">PER</span>\n",
       "</mark>\n",
       " est un travailleur. Il vit à \n",
       "<mark class=\"entity\" style=\"background: #ff9561; padding: 0.45em 0.6em; margin: 0 0.25em; line-height: 1; border-radius: 0.35em;\">\n",
       "    yong kong\n",
       "    <span style=\"font-size: 0.8em; font-weight: bold; line-height: 1; border-radius: 0.35em; vertical-align: middle; margin-left: 0.5rem\">LOC</span>\n",
       "</mark>\n",
       "</div></span>"
      ],
      "text/plain": [
       "<IPython.core.display.HTML object>"
      ]
     },
     "metadata": {},
     "output_type": "display_data"
    }
   ],
   "source": [
    "get_name_entity(\"Babatounde est un travailleur. Il vit à yong kong\")"
   ]
  }
 ],
 "metadata": {
  "kernelspec": {
   "display_name": "Python 3 (ipykernel)",
   "language": "python",
   "name": "python3"
  },
  "language_info": {
   "codemirror_mode": {
    "name": "ipython",
    "version": 3
   },
   "file_extension": ".py",
   "mimetype": "text/x-python",
   "name": "python",
   "nbconvert_exporter": "python",
   "pygments_lexer": "ipython3",
   "version": "3.10.9"
  }
 },
 "nbformat": 4,
 "nbformat_minor": 5
}
