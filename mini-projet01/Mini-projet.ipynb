{
 "cells": [
  {
   "cell_type": "markdown",
   "id": "12bca85b",
   "metadata": {},
   "source": [
    "## Exercice 1\n",
    "   Affichez les revenus du département \"Provence-Alpes-Côte d'Azur \" issus de la taxe CVAE des entreprises pour toutes les années (si plusieurs revenus CVAE existent pour une année donnée, vous devez additionner tous les revenus CVAE de cette année).\n",
    "Vous devez utiliser un DataFrame Pandas."
   ]
  },
  {
   "cell_type": "code",
   "execution_count": 9,
   "id": "ba7eb29d",
   "metadata": {},
   "outputs": [],
   "source": [
    "import pandas as pd"
   ]
  },
  {
   "cell_type": "code",
   "execution_count": null,
   "id": "1f10c489",
   "metadata": {},
   "outputs": [],
   "source": [
    "my_file= pd.read_csv(\"/home/vini/Downloads/mini-projet01/\")"
   ]
  }
 ],
 "metadata": {
  "kernelspec": {
   "display_name": "Python 3 (ipykernel)",
   "language": "python",
   "name": "python3"
  },
  "language_info": {
   "codemirror_mode": {
    "name": "ipython",
    "version": 3
   },
   "file_extension": ".py",
   "mimetype": "text/x-python",
   "name": "python",
   "nbconvert_exporter": "python",
   "pygments_lexer": "ipython3",
   "version": "3.11.5"
  }
 },
 "nbformat": 4,
 "nbformat_minor": 5
}
