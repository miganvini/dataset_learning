{
 "cells": [
  {
   "cell_type": "markdown",
   "id": "00dd0ab8",
   "metadata": {},
   "source": [
    "## Dataframe and diagrams"
   ]
  },
  {
   "cell_type": "markdown",
   "id": "14302284",
   "metadata": {},
   "source": [
    "C'est une base de donnée open source pour les régions de la france. Elle contient tout les revenus et dépenses pa année de 2012 à 2019."
   ]
  },
  {
   "cell_type": "markdown",
   "id": "7573c5c2",
   "metadata": {},
   "source": [
    "**Exercice 1** \\\n",
    "Affichez les revenus du département \"Provence-Alpes-Côte d'Azur \" issus de la taxe CVAE des entreprises pour toutes les \\\n",
    "années (si plusieurs revenus CVAE existent pour une année donnée, vous devez additionner tous les revenus CVAE de \n",
    "cette année).\\\n",
    "Vous devez utiliser un DataFrame Pandas.\n",
    "\\\n",
    "Exemple:\\\n",
    "Provence-Alpes-Côte d'Azur  CVAE tax :\\\n",
    "2012 -> X euros .\\\n",
    "2013 -> Y euros ."
   ]
  },
  {
   "cell_type": "markdown",
   "id": "300daec7",
   "metadata": {},
   "source": [
    "**Exercice 2**\\\n",
    "-Affichez les pays où les Dépenses d'investissement sont supérieures à la moyenne de chaque année.\\\n",
    "-Affichez le nombre de region ayant les Dépenses d'investissement supérieur à la moyenne de chaque année"
   ]
  },
  {
   "cell_type": "markdown",
   "id": "53668b54",
   "metadata": {},
   "source": [
    "**Exercice 3** \\\n",
    "Faites la même chose que dans l'exercice 1, mais pour toutes les régions de France triées par les taxes pour  toutes  les années. À titre d'exemple, il s'agit d'un tableau croisé dynamique (pivot table) célèbre réalisé avec Excel"
   ]
  },
  {
   "cell_type": "markdown",
   "id": "0a708cf4",
   "metadata": {},
   "source": [
    "**Exercice 4**\\\n",
    "Créez un graphique pour représenter l'exercice 1.\\\n",
    "Vous devez utiliser la bibliothèque Python Seaborn : https://seaborn.pydata.org/tutorial/function_overview.html\n"
   ]
  },
  {
   "cell_type": "markdown",
   "id": "8a9a20c0",
   "metadata": {},
   "source": [
    "**Exercice 5**\\\n",
    "-Créez un graphique des années,les pays et Dépenses d'investissement. Affichez sur les plot les seuils montrant la moyenne des investissement de chaque année.\\\n",
    "-Créer un second graphique pour la question 2 de l'exercice 2."
   ]
  },
  {
   "cell_type": "markdown",
   "id": "b70ea44f",
   "metadata": {},
   "source": [
    "**Exercice 6**\\\n",
    "Créez un graphique à partir de la table pivot de l'exercice 3.\\\n",
    "Comme il est impossible de représenter un graphique avec 3 paramètres différents, trouvez la meilleure solution pratique."
   ]
  }
 ],
 "metadata": {
  "kernelspec": {
   "display_name": "Python 3 (ipykernel)",
   "language": "python",
   "name": "python3"
  },
  "language_info": {
   "codemirror_mode": {
    "name": "ipython",
    "version": 3
   },
   "file_extension": ".py",
   "mimetype": "text/x-python",
   "name": "python",
   "nbconvert_exporter": "python",
   "pygments_lexer": "ipython3",
   "version": "3.11.5"
  }
 },
 "nbformat": 4,
 "nbformat_minor": 5
}
