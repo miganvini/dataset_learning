{
 "cells": [
  {
   "cell_type": "markdown",
   "id": "14840a21",
   "metadata": {},
   "source": [
    "# La méthode format"
   ]
  },
  {
   "cell_type": "code",
   "execution_count": null,
   "id": "eb2ec945",
   "metadata": {},
   "outputs": [],
   "source": [
    "name='Cup Jean'"
   ]
  },
  {
   "cell_type": "code",
   "execution_count": 17,
   "id": "2b8abe05",
   "metadata": {},
   "outputs": [],
   "source": [
    "age=21"
   ]
  },
  {
   "cell_type": "code",
   "execution_count": 18,
   "id": "fccb6a01",
   "metadata": {},
   "outputs": [],
   "source": [
    "school= \"Good Students\""
   ]
  },
  {
   "cell_type": "code",
   "execution_count": 26,
   "id": "20d8f6f7",
   "metadata": {},
   "outputs": [
    {
     "name": "stdout",
     "output_type": "stream",
     "text": [
      "My name is Cup Jean,i'm 21 old and I'm studing at Good Students.\n"
     ]
    }
   ],
   "source": [
    "print (\"My name is {0},i'm {1} old and I'm studing at {2}.\".format (name,age,school) ) "
   ]
  },
  {
   "cell_type": "code",
   "execution_count": 50,
   "id": "344b439b",
   "metadata": {},
   "outputs": [],
   "source": [
    "Date='Samedi 22 nov 1998'\n",
    "heure=\"22:12\""
   ]
  },
  {
   "cell_type": "markdown",
   "id": "5d9dfac7",
   "metadata": {},
   "source": [
    "NB: Il faut respecter les écriture. Sans quoi python ne reconnait pas le travail.\n",
    "Date et non date dans ce cas "
   ]
  },
  {
   "cell_type": "code",
   "execution_count": 51,
   "id": "2b386a3a",
   "metadata": {},
   "outputs": [
    {
     "name": "stdout",
     "output_type": "stream",
     "text": [
      "Cela s'était déroulé le Samedi 22 nov 1998, à 22:12.\n"
     ]
    }
   ],
   "source": [
    "print(\"Cela s'était déroulé le {}, à {}.\".format(Date,heure))"
   ]
  },
  {
   "cell_type": "markdown",
   "id": "962662c8",
   "metadata": {},
   "source": [
    "Il n'est pas possible de concatener deux variables de différentes natures avec Python. Pour ce fait il faut str(int/flot) afin de rendre l'int ou flot un string pour concatener des strings.\n",
    "On appelle str pour convertir un objet en une chaîne de caractères, comme nous avons appelé int pour convertir un objet en\n",
    "entier.(Voir My_python01)"
   ]
  },
  {
   "cell_type": "code",
   "execution_count": 58,
   "id": "995ab8ae",
   "metadata": {},
   "outputs": [
    {
     "name": "stdout",
     "output_type": "stream",
     "text": [
      "J'ai déjà 12\n"
     ]
    }
   ],
   "source": [
    "age=12\n",
    "message=\"J'ai déjà \"\n",
    "print(message + str (age))"
   ]
  },
  {
   "cell_type": "code",
   "execution_count": null,
   "id": "19c23d38",
   "metadata": {},
   "outputs": [],
   "source": []
  }
 ],
 "metadata": {
  "kernelspec": {
   "display_name": "Python 3 (ipykernel)",
   "language": "python",
   "name": "python3"
  },
  "language_info": {
   "codemirror_mode": {
    "name": "ipython",
    "version": 3
   },
   "file_extension": ".py",
   "mimetype": "text/x-python",
   "name": "python",
   "nbconvert_exporter": "python",
   "pygments_lexer": "ipython3",
   "version": "3.11.5"
  }
 },
 "nbformat": 4,
 "nbformat_minor": 5
}
