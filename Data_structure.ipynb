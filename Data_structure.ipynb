{
 "cells": [
  {
   "cell_type": "code",
   "execution_count": 1,
   "id": "0c57927a",
   "metadata": {},
   "outputs": [],
   "source": [
    "my_dict={\"name\":\"marx\",\"age\":23,\"taille\":0.95}"
   ]
  },
  {
   "cell_type": "code",
   "execution_count": 2,
   "id": "2d598792",
   "metadata": {},
   "outputs": [
    {
     "data": {
      "text/plain": [
       "{'name': 'marx', 'age': 23, 'taille': 0.95}"
      ]
     },
     "execution_count": 2,
     "metadata": {},
     "output_type": "execute_result"
    }
   ],
   "source": [
    "my_dict"
   ]
  },
  {
   "cell_type": "code",
   "execution_count": 3,
   "id": "0707dfa5",
   "metadata": {},
   "outputs": [
    {
     "data": {
      "text/plain": [
       "dict_keys(['name', 'age', 'taille'])"
      ]
     },
     "execution_count": 3,
     "metadata": {},
     "output_type": "execute_result"
    }
   ],
   "source": [
    "my_dict.keys()"
   ]
  },
  {
   "cell_type": "code",
   "execution_count": 4,
   "id": "a4456206",
   "metadata": {},
   "outputs": [
    {
     "data": {
      "text/plain": [
       "dict_values(['marx', 23, 0.95])"
      ]
     },
     "execution_count": 4,
     "metadata": {},
     "output_type": "execute_result"
    }
   ],
   "source": [
    "my_dict.values()"
   ]
  },
  {
   "cell_type": "code",
   "execution_count": 5,
   "id": "48b8d907",
   "metadata": {},
   "outputs": [
    {
     "data": {
      "text/plain": [
       "23"
      ]
     },
     "execution_count": 5,
     "metadata": {},
     "output_type": "execute_result"
    }
   ],
   "source": [
    "my_dict[\"age\"]"
   ]
  },
  {
   "cell_type": "code",
   "execution_count": 6,
   "id": "5834a898",
   "metadata": {},
   "outputs": [
    {
     "name": "stdout",
     "output_type": "stream",
     "text": [
      "name marx\n",
      "age 23\n",
      "taille 0.95\n"
     ]
    }
   ],
   "source": [
    "for key, value in my_dict.items():\n",
    "\n",
    "        print(key,value)\n",
    "        "
   ]
  },
  {
   "cell_type": "code",
   "execution_count": 7,
   "id": "162516eb",
   "metadata": {},
   "outputs": [
    {
     "data": {
      "text/plain": [
       "dict_keys(['name', 'age', 'taille'])"
      ]
     },
     "execution_count": 7,
     "metadata": {},
     "output_type": "execute_result"
    }
   ],
   "source": [
    "my_dict.keys()"
   ]
  },
  {
   "cell_type": "code",
   "execution_count": 8,
   "id": "52278416",
   "metadata": {},
   "outputs": [
    {
     "data": {
      "text/plain": [
       "dict_values(['marx', 23, 0.95])"
      ]
     },
     "execution_count": 8,
     "metadata": {},
     "output_type": "execute_result"
    }
   ],
   "source": [
    "my_dict.values()"
   ]
  },
  {
   "cell_type": "code",
   "execution_count": 9,
   "id": "2b2b4668",
   "metadata": {},
   "outputs": [
    {
     "data": {
      "text/plain": [
       "'age'"
      ]
     },
     "execution_count": 9,
     "metadata": {},
     "output_type": "execute_result"
    }
   ],
   "source": [
    "list(my_dict.keys())[list(my_dict.values()).index(23)]"
   ]
  },
  {
   "cell_type": "code",
   "execution_count": 10,
   "id": "d38d24b8",
   "metadata": {},
   "outputs": [
    {
     "data": {
      "text/plain": [
       "['marx', 23, 0.95]"
      ]
     },
     "execution_count": 10,
     "metadata": {},
     "output_type": "execute_result"
    }
   ],
   "source": [
    "list(my_dict.values())"
   ]
  },
  {
   "cell_type": "code",
   "execution_count": 11,
   "id": "bdc3810b",
   "metadata": {},
   "outputs": [
    {
     "data": {
      "text/plain": [
       "'age'"
      ]
     },
     "execution_count": 11,
     "metadata": {},
     "output_type": "execute_result"
    }
   ],
   "source": [
    "list(my_dict.keys())[1]"
   ]
  },
  {
   "cell_type": "code",
   "execution_count": 12,
   "id": "3cd7154a",
   "metadata": {},
   "outputs": [],
   "source": [
    "my_dict[\"age\"]=[23,25,24]"
   ]
  },
  {
   "cell_type": "code",
   "execution_count": 13,
   "id": "f3c516f0",
   "metadata": {},
   "outputs": [
    {
     "data": {
      "text/plain": [
       "{'name': 'marx', 'age': [23, 25, 24], 'taille': 0.95}"
      ]
     },
     "execution_count": 13,
     "metadata": {},
     "output_type": "execute_result"
    }
   ],
   "source": [
    "my_dict"
   ]
  },
  {
   "cell_type": "code",
   "execution_count": 14,
   "id": "d376bc45",
   "metadata": {},
   "outputs": [
    {
     "data": {
      "text/plain": [
       "{'name': 'marx', 'age': [23, 25, 24], 'taille': 0.95}"
      ]
     },
     "execution_count": 14,
     "metadata": {},
     "output_type": "execute_result"
    }
   ],
   "source": [
    "my_dict\n"
   ]
  },
  {
   "cell_type": "code",
   "execution_count": 15,
   "id": "c783b79d",
   "metadata": {},
   "outputs": [],
   "source": [
    "\n",
    "new_dict = {\"Elohim\":18,\"Celsia\":20}"
   ]
  },
  {
   "cell_type": "code",
   "execution_count": 16,
   "id": "9fc3e727",
   "metadata": {},
   "outputs": [
    {
     "data": {
      "text/plain": [
       "{'Elohim': 18, 'Celsia': 20}"
      ]
     },
     "execution_count": 16,
     "metadata": {},
     "output_type": "execute_result"
    }
   ],
   "source": [
    "new_dict"
   ]
  },
  {
   "cell_type": "code",
   "execution_count": 17,
   "id": "a0e3a8a8",
   "metadata": {},
   "outputs": [],
   "source": [
    "my_dict.update(new_dict)"
   ]
  },
  {
   "cell_type": "code",
   "execution_count": 18,
   "id": "1be54afe",
   "metadata": {},
   "outputs": [
    {
     "data": {
      "text/plain": [
       "{'name': 'marx',\n",
       " 'age': [23, 25, 24],\n",
       " 'taille': 0.95,\n",
       " 'Elohim': 18,\n",
       " 'Celsia': 20}"
      ]
     },
     "execution_count": 18,
     "metadata": {},
     "output_type": "execute_result"
    }
   ],
   "source": [
    "my_dict"
   ]
  },
  {
   "cell_type": "code",
   "execution_count": 19,
   "id": "3ca5fabd",
   "metadata": {},
   "outputs": [],
   "source": [
    "my_new_dict= {k:v for k,v in my_dict.items() if type(v)==float or type(v)==int}"
   ]
  },
  {
   "cell_type": "code",
   "execution_count": 20,
   "id": "b0f8ac57",
   "metadata": {},
   "outputs": [],
   "source": [
    "my_new_dict={}\n",
    "for k,v in my_dict.items():\n",
    "    if type(v)==float or type(v)==int:\n",
    "        my_new_dict[k]=v"
   ]
  },
  {
   "cell_type": "code",
   "execution_count": 21,
   "id": "0dfca8e6",
   "metadata": {},
   "outputs": [
    {
     "data": {
      "text/plain": [
       "{'taille': 0.95, 'Elohim': 18, 'Celsia': 20}"
      ]
     },
     "execution_count": 21,
     "metadata": {},
     "output_type": "execute_result"
    }
   ],
   "source": [
    "my_new_dict"
   ]
  },
  {
   "cell_type": "code",
   "execution_count": 22,
   "id": "428ed027",
   "metadata": {},
   "outputs": [],
   "source": [
    "my_lst=my_dict.items()"
   ]
  },
  {
   "cell_type": "code",
   "execution_count": 23,
   "id": "d32dd3f0",
   "metadata": {},
   "outputs": [
    {
     "data": {
      "text/plain": [
       "dict_items([('name', 'marx'), ('age', [23, 25, 24]), ('taille', 0.95), ('Elohim', 18), ('Celsia', 20)])"
      ]
     },
     "execution_count": 23,
     "metadata": {},
     "output_type": "execute_result"
    }
   ],
   "source": [
    "my_lst"
   ]
  },
  {
   "cell_type": "code",
   "execution_count": 24,
   "id": "01490d7d",
   "metadata": {},
   "outputs": [
    {
     "name": "stdout",
     "output_type": "stream",
     "text": [
      "marx\n",
      "[23, 25, 24]\n",
      "0.95\n",
      "18\n",
      "20\n"
     ]
    }
   ],
   "source": [
    "for k,v in my_lst:\n",
    "    print(v)"
   ]
  },
  {
   "cell_type": "code",
   "execution_count": 25,
   "id": "299953ec",
   "metadata": {},
   "outputs": [
    {
     "data": {
      "text/plain": [
       "{'taille': 0.95, 'Elohim': 18, 'Celsia': 20}"
      ]
     },
     "execution_count": 25,
     "metadata": {},
     "output_type": "execute_result"
    }
   ],
   "source": [
    "my_new_dict"
   ]
  },
  {
   "cell_type": "code",
   "execution_count": 26,
   "id": "5017d7c7",
   "metadata": {},
   "outputs": [
    {
     "data": {
      "text/plain": [
       "{'name': 'marx',\n",
       " 'age': [23, 25, 24],\n",
       " 'taille': 0.95,\n",
       " 'Elohim': 18,\n",
       " 'Celsia': 20}"
      ]
     },
     "execution_count": 26,
     "metadata": {},
     "output_type": "execute_result"
    }
   ],
   "source": [
    "my_dict"
   ]
  },
  {
   "cell_type": "code",
   "execution_count": 27,
   "id": "e0ccdb1f",
   "metadata": {},
   "outputs": [
    {
     "data": {
      "text/plain": [
       "{'taille': 0.95, 'Elohim': 18, 'Celsia': 20}"
      ]
     },
     "execution_count": 27,
     "metadata": {},
     "output_type": "execute_result"
    }
   ],
   "source": [
    "my_new_dict"
   ]
  },
  {
   "cell_type": "code",
   "execution_count": 28,
   "id": "d659beea",
   "metadata": {},
   "outputs": [],
   "source": [
    "my_list=[1,2,3,4,5,6,7,8,9]"
   ]
  },
  {
   "cell_type": "code",
   "execution_count": 29,
   "id": "d02f286c",
   "metadata": {},
   "outputs": [
    {
     "data": {
      "text/plain": [
       "[1, 2, 3, 4, 5, 6, 7, 8, 9]"
      ]
     },
     "execution_count": 29,
     "metadata": {},
     "output_type": "execute_result"
    }
   ],
   "source": [
    "my_list"
   ]
  },
  {
   "cell_type": "code",
   "execution_count": 30,
   "id": "342ed2e6",
   "metadata": {},
   "outputs": [],
   "source": [
    "pair=[]\n",
    "impair=[]\n",
    "for elt in my_list:\n",
    "    if elt%2==0:\n",
    "        pair.append(elt)\n",
    "    else: \n",
    "        impair.append(elt)\n",
    "        \n",
    "        "
   ]
  },
  {
   "cell_type": "code",
   "execution_count": 31,
   "id": "c2f2edbe",
   "metadata": {},
   "outputs": [
    {
     "data": {
      "text/plain": [
       "[2, 4, 6, 8]"
      ]
     },
     "execution_count": 31,
     "metadata": {},
     "output_type": "execute_result"
    }
   ],
   "source": [
    "pair"
   ]
  },
  {
   "cell_type": "code",
   "execution_count": 32,
   "id": "4dd3e829",
   "metadata": {},
   "outputs": [
    {
     "data": {
      "text/plain": [
       "[1, 3, 5, 7, 9]"
      ]
     },
     "execution_count": 32,
     "metadata": {},
     "output_type": "execute_result"
    }
   ],
   "source": [
    "impair"
   ]
  },
  {
   "cell_type": "code",
   "execution_count": 33,
   "id": "29eeac5b",
   "metadata": {},
   "outputs": [
    {
     "data": {
      "text/plain": [
       "[2, 4, 6, 8]"
      ]
     },
     "execution_count": 33,
     "metadata": {},
     "output_type": "execute_result"
    }
   ],
   "source": [
    "new_pair=[elt for elt in my_list if elt%2==0]\n",
    "new_pair"
   ]
  },
  {
   "cell_type": "code",
   "execution_count": 34,
   "id": "2acaff3e",
   "metadata": {},
   "outputs": [
    {
     "data": {
      "text/plain": [
       "[1, 3, 5, 7, 9]"
      ]
     },
     "execution_count": 34,
     "metadata": {},
     "output_type": "execute_result"
    }
   ],
   "source": [
    "new_impair=[elt for elt in my_list if elt%2==1]\n",
    "new_impair"
   ]
  },
  {
   "cell_type": "code",
   "execution_count": 35,
   "id": "9ed745de",
   "metadata": {},
   "outputs": [
    {
     "data": {
      "text/plain": [
       "[1, 3, 5, 7, 9]"
      ]
     },
     "execution_count": 35,
     "metadata": {},
     "output_type": "execute_result"
    }
   ],
   "source": [
    "scd_impair=[elt for elt in my_list if elt%2!=0]\n",
    "scd_impair\n"
   ]
  },
  {
   "cell_type": "code",
   "execution_count": 36,
   "id": "cdceb117",
   "metadata": {},
   "outputs": [
    {
     "data": {
      "text/plain": [
       "False"
      ]
     },
     "execution_count": 36,
     "metadata": {},
     "output_type": "execute_result"
    }
   ],
   "source": [
    "not new_pair"
   ]
  },
  {
   "cell_type": "code",
   "execution_count": 37,
   "id": "7b367dfe",
   "metadata": {},
   "outputs": [
    {
     "data": {
      "text/plain": [
       "True"
      ]
     },
     "execution_count": 37,
     "metadata": {},
     "output_type": "execute_result"
    }
   ],
   "source": [
    "not []"
   ]
  },
  {
   "cell_type": "code",
   "execution_count": 38,
   "id": "7bc61ae7",
   "metadata": {},
   "outputs": [
    {
     "data": {
      "text/plain": [
       "[None, None, None, None, None, None, None, None, None]"
      ]
     },
     "execution_count": 38,
     "metadata": {},
     "output_type": "execute_result"
    }
   ],
   "source": [
    "thd_pair=[]\n",
    "thd_impair=[]\n",
    "pair_impair=[thd_pair.append(elt) if  elt%2==0 else thd_impair.append(elt) for elt in my_list]\n",
    "pair_impair"
   ]
  },
  {
   "cell_type": "code",
   "execution_count": 39,
   "id": "f1c1d468",
   "metadata": {},
   "outputs": [
    {
     "data": {
      "text/plain": [
       "[2, 4, 6, 8]"
      ]
     },
     "execution_count": 39,
     "metadata": {},
     "output_type": "execute_result"
    }
   ],
   "source": [
    "thd_pair"
   ]
  },
  {
   "cell_type": "code",
   "execution_count": 40,
   "id": "40c9afd5",
   "metadata": {},
   "outputs": [
    {
     "data": {
      "text/plain": [
       "[1, 3, 5, 7, 9]"
      ]
     },
     "execution_count": 40,
     "metadata": {},
     "output_type": "execute_result"
    }
   ],
   "source": [
    "thd_impair"
   ]
  },
  {
   "cell_type": "code",
   "execution_count": 41,
   "id": "b22b5e16",
   "metadata": {},
   "outputs": [],
   "source": [
    "special_list=[elt+3 if elt%2==0 else elt+2 for elt in my_list]"
   ]
  },
  {
   "cell_type": "code",
   "execution_count": 42,
   "id": "acc03621",
   "metadata": {},
   "outputs": [
    {
     "data": {
      "text/plain": [
       "[3, 5, 5, 7, 7, 9, 9, 11, 11]"
      ]
     },
     "execution_count": 42,
     "metadata": {},
     "output_type": "execute_result"
    }
   ],
   "source": [
    "special_list"
   ]
  },
  {
   "cell_type": "code",
   "execution_count": 43,
   "id": "fafcaf4b",
   "metadata": {},
   "outputs": [],
   "source": [
    "my_list=my_list+[12,23,13,41]"
   ]
  },
  {
   "cell_type": "code",
   "execution_count": 44,
   "id": "7eb12a9e",
   "metadata": {},
   "outputs": [],
   "source": [
    "my_list=my_list+[18,21,42]"
   ]
  },
  {
   "cell_type": "code",
   "execution_count": 45,
   "id": "92903180",
   "metadata": {},
   "outputs": [
    {
     "data": {
      "text/plain": [
       "[1, 2, 3, 4, 5, 6, 7, 8, 9, 12, 23, 13, 41, 18, 21, 42]"
      ]
     },
     "execution_count": 45,
     "metadata": {},
     "output_type": "execute_result"
    }
   ],
   "source": [
    "my_list"
   ]
  },
  {
   "cell_type": "code",
   "execution_count": 46,
   "id": "77c53622",
   "metadata": {},
   "outputs": [
    {
     "data": {
      "text/plain": [
       "[6, 12, 18, 42]"
      ]
     },
     "execution_count": 46,
     "metadata": {},
     "output_type": "execute_result"
    }
   ],
   "source": [
    "big_list=[elt for elt in my_list  if (elt%2==0 and elt%3==0)]\n",
    "big_list"
   ]
  },
  {
   "cell_type": "code",
   "execution_count": 47,
   "id": "cba53225",
   "metadata": {},
   "outputs": [],
   "source": [
    "short_list=[elt for elt in my_list  if elt%2==0 and (elt%3==0 or elt>40)\n",
    "           ]"
   ]
  },
  {
   "cell_type": "code",
   "execution_count": 48,
   "id": "cbe77040",
   "metadata": {},
   "outputs": [
    {
     "data": {
      "text/plain": [
       "[6, 12, 18, 42]"
      ]
     },
     "execution_count": 48,
     "metadata": {},
     "output_type": "execute_result"
    }
   ],
   "source": [
    "short_list"
   ]
  },
  {
   "cell_type": "code",
   "execution_count": 49,
   "id": "51e832d7",
   "metadata": {},
   "outputs": [],
   "source": [
    "my_list = my_list + [342,10052,2002,1992,6543652]\n"
   ]
  },
  {
   "cell_type": "code",
   "execution_count": 50,
   "id": "00cc29cf",
   "metadata": {},
   "outputs": [],
   "source": [
    "fast_list = [elt for elt in my_list if elt%10==2]"
   ]
  },
  {
   "cell_type": "code",
   "execution_count": 51,
   "id": "dc275e38",
   "metadata": {},
   "outputs": [
    {
     "data": {
      "text/plain": [
       "[2, 12, 42, 342, 10052, 2002, 1992, 6543652]"
      ]
     },
     "execution_count": 51,
     "metadata": {},
     "output_type": "execute_result"
    }
   ],
   "source": [
    "fast_list\n"
   ]
  },
  {
   "cell_type": "code",
   "execution_count": 52,
   "id": "26d56adf",
   "metadata": {},
   "outputs": [],
   "source": [
    "my_tuple=(1,2,3,4,5)\n"
   ]
  },
  {
   "cell_type": "code",
   "execution_count": 53,
   "id": "840140e9",
   "metadata": {},
   "outputs": [
    {
     "data": {
      "text/plain": [
       "5"
      ]
     },
     "execution_count": 53,
     "metadata": {},
     "output_type": "execute_result"
    }
   ],
   "source": [
    "my_tuple[-1]"
   ]
  },
  {
   "cell_type": "code",
   "execution_count": 54,
   "id": "8cfc84be",
   "metadata": {},
   "outputs": [
    {
     "data": {
      "text/plain": [
       "(1, 2, 3, 4, 5, 5, 8)"
      ]
     },
     "execution_count": 54,
     "metadata": {},
     "output_type": "execute_result"
    }
   ],
   "source": [
    "new_tuple=my_tuple+(5,8)\n",
    "new_tuple"
   ]
  },
  {
   "cell_type": "code",
   "execution_count": 55,
   "id": "4251b463",
   "metadata": {},
   "outputs": [
    {
     "data": {
      "text/plain": [
       "2"
      ]
     },
     "execution_count": 55,
     "metadata": {},
     "output_type": "execute_result"
    }
   ],
   "source": [
    "new_tuple.count(5)"
   ]
  },
  {
   "cell_type": "code",
   "execution_count": 56,
   "id": "d9ee8059",
   "metadata": {},
   "outputs": [
    {
     "data": {
      "text/plain": [
       "1"
      ]
     },
     "execution_count": 56,
     "metadata": {},
     "output_type": "execute_result"
    }
   ],
   "source": [
    "new_tuple.index(2)"
   ]
  },
  {
   "cell_type": "code",
   "execution_count": 57,
   "id": "910b377a",
   "metadata": {},
   "outputs": [
    {
     "data": {
      "text/plain": [
       "7"
      ]
     },
     "execution_count": 57,
     "metadata": {},
     "output_type": "execute_result"
    }
   ],
   "source": [
    "len(new_tuple)"
   ]
  },
  {
   "cell_type": "code",
   "execution_count": 58,
   "id": "d5d951b7",
   "metadata": {},
   "outputs": [
    {
     "ename": "ValueError",
     "evalue": "tuple.index(x): x not in tuple",
     "output_type": "error",
     "traceback": [
      "\u001b[1;31m---------------------------------------------------------------------------\u001b[0m",
      "\u001b[1;31mValueError\u001b[0m                                Traceback (most recent call last)",
      "Cell \u001b[1;32mIn[58], line 1\u001b[0m\n\u001b[1;32m----> 1\u001b[0m new_tuple\u001b[38;5;241m.\u001b[39mindex(\u001b[38;5;241m6\u001b[39m,\u001b[38;5;241m5\u001b[39m)\n",
      "\u001b[1;31mValueError\u001b[0m: tuple.index(x): x not in tuple"
     ]
    }
   ],
   "source": [
    "new_tuple.index(6,5)"
   ]
  },
  {
   "cell_type": "code",
   "execution_count": null,
   "id": "721cb98f",
   "metadata": {},
   "outputs": [],
   "source": [
    "new_tuple"
   ]
  },
  {
   "cell_type": "code",
   "execution_count": null,
   "id": "d87cee99",
   "metadata": {},
   "outputs": [],
   "source": [
    "new_tuple.index(5,new_tuple.index(5)+1\n",
    "               )"
   ]
  },
  {
   "cell_type": "code",
   "execution_count": null,
   "id": "7a0f735c",
   "metadata": {},
   "outputs": [],
   "source": [
    "sd_tuple=new_tuple[3:]"
   ]
  },
  {
   "cell_type": "code",
   "execution_count": null,
   "id": "ef155f8c",
   "metadata": {},
   "outputs": [],
   "source": [
    "sd_tuple"
   ]
  },
  {
   "cell_type": "code",
   "execution_count": null,
   "id": "278aad57",
   "metadata": {},
   "outputs": [],
   "source": [
    "sd_tuple.index(2)"
   ]
  },
  {
   "cell_type": "code",
   "execution_count": null,
   "id": "30fa2267",
   "metadata": {},
   "outputs": [],
   "source": [
    "my_set={5,6,8}"
   ]
  },
  {
   "cell_type": "code",
   "execution_count": null,
   "id": "eb0795c7",
   "metadata": {},
   "outputs": [],
   "source": [
    "my_set.add(9)"
   ]
  },
  {
   "cell_type": "code",
   "execution_count": null,
   "id": "53dcc2d2",
   "metadata": {},
   "outputs": [],
   "source": [
    "my_set"
   ]
  },
  {
   "cell_type": "code",
   "execution_count": null,
   "id": "984215a5",
   "metadata": {},
   "outputs": [],
   "source": [
    "scd_set={10,15,20}"
   ]
  },
  {
   "cell_type": "code",
   "execution_count": null,
   "id": "ebebd141",
   "metadata": {},
   "outputs": [],
   "source": [
    "my_set.union(scd_set)"
   ]
  },
  {
   "cell_type": "code",
   "execution_count": null,
   "id": "45a53fa6",
   "metadata": {},
   "outputs": [],
   "source": [
    "my_set"
   ]
  },
  {
   "cell_type": "code",
   "execution_count": null,
   "id": "9746cb98",
   "metadata": {},
   "outputs": [],
   "source": [
    "my_set.intersection(scd_set)"
   ]
  },
  {
   "cell_type": "code",
   "execution_count": null,
   "id": "924a7f30",
   "metadata": {},
   "outputs": [],
   "source": [
    "my_set.update(scd_set)"
   ]
  },
  {
   "cell_type": "code",
   "execution_count": null,
   "id": "1ac76200",
   "metadata": {},
   "outputs": [],
   "source": [
    "my_set"
   ]
  },
  {
   "cell_type": "code",
   "execution_count": null,
   "id": "61ea7fd1",
   "metadata": {},
   "outputs": [],
   "source": [
    "my_set.pop()"
   ]
  },
  {
   "cell_type": "code",
   "execution_count": null,
   "id": "bee25e9b",
   "metadata": {},
   "outputs": [],
   "source": [
    "my_set.pop()"
   ]
  },
  {
   "cell_type": "code",
   "execution_count": null,
   "id": "ef819eaa",
   "metadata": {},
   "outputs": [],
   "source": [
    "my_set"
   ]
  },
  {
   "cell_type": "code",
   "execution_count": null,
   "id": "0aeef44a",
   "metadata": {},
   "outputs": [],
   "source": [
    "my_set.pop()"
   ]
  },
  {
   "cell_type": "code",
   "execution_count": null,
   "id": "a8557272",
   "metadata": {},
   "outputs": [],
   "source": [
    "my_set.remove(100)"
   ]
  },
  {
   "cell_type": "code",
   "execution_count": null,
   "id": "82beb175",
   "metadata": {},
   "outputs": [],
   "source": [
    "my_set"
   ]
  },
  {
   "cell_type": "code",
   "execution_count": null,
   "id": "9d699cfc",
   "metadata": {},
   "outputs": [],
   "source": [
    "my_set.discard(100)"
   ]
  },
  {
   "cell_type": "code",
   "execution_count": null,
   "id": "85d9a275",
   "metadata": {},
   "outputs": [],
   "source": [
    "my_tuple"
   ]
  },
  {
   "cell_type": "code",
   "execution_count": null,
   "id": "f5307374",
   "metadata": {},
   "outputs": [],
   "source": [
    "one,two=my_tuple\n"
   ]
  },
  {
   "cell_type": "code",
   "execution_count": null,
   "id": "c6f71987",
   "metadata": {},
   "outputs": [],
   "source": [
    "my_set.isdisjoint(scd_set)"
   ]
  },
  {
   "cell_type": "code",
   "execution_count": 63,
   "id": "f737e5a8",
   "metadata": {},
   "outputs": [],
   "source": [
    "(one,*two)=my_tuple"
   ]
  },
  {
   "cell_type": "code",
   "execution_count": 64,
   "id": "5e210785",
   "metadata": {},
   "outputs": [
    {
     "data": {
      "text/plain": [
       "1"
      ]
     },
     "execution_count": 64,
     "metadata": {},
     "output_type": "execute_result"
    }
   ],
   "source": [
    "one"
   ]
  },
  {
   "cell_type": "code",
   "execution_count": 65,
   "id": "a686e52a",
   "metadata": {},
   "outputs": [
    {
     "data": {
      "text/plain": [
       "[2, 3, 4, 5]"
      ]
     },
     "execution_count": 65,
     "metadata": {},
     "output_type": "execute_result"
    }
   ],
   "source": [
    "two"
   ]
  },
  {
   "cell_type": "code",
   "execution_count": 66,
   "id": "6d187452",
   "metadata": {},
   "outputs": [],
   "source": [
    "a=5\n",
    "b=6"
   ]
  },
  {
   "cell_type": "code",
   "execution_count": 67,
   "id": "3ba13061",
   "metadata": {},
   "outputs": [
    {
     "data": {
      "text/plain": [
       "5"
      ]
     },
     "execution_count": 67,
     "metadata": {},
     "output_type": "execute_result"
    }
   ],
   "source": [
    "a"
   ]
  },
  {
   "cell_type": "code",
   "execution_count": 68,
   "id": "0d8065ec",
   "metadata": {},
   "outputs": [
    {
     "data": {
      "text/plain": [
       "6"
      ]
     },
     "execution_count": 68,
     "metadata": {},
     "output_type": "execute_result"
    }
   ],
   "source": [
    "b"
   ]
  },
  {
   "cell_type": "code",
   "execution_count": 69,
   "id": "b9c1f573",
   "metadata": {},
   "outputs": [],
   "source": [
    "b,a=a,b"
   ]
  },
  {
   "cell_type": "code",
   "execution_count": 70,
   "id": "5c60c076",
   "metadata": {},
   "outputs": [
    {
     "data": {
      "text/plain": [
       "6"
      ]
     },
     "execution_count": 70,
     "metadata": {},
     "output_type": "execute_result"
    }
   ],
   "source": [
    "a"
   ]
  },
  {
   "cell_type": "code",
   "execution_count": 71,
   "id": "88048e16",
   "metadata": {},
   "outputs": [
    {
     "data": {
      "text/plain": [
       "5"
      ]
     },
     "execution_count": 71,
     "metadata": {},
     "output_type": "execute_result"
    }
   ],
   "source": [
    "b"
   ]
  },
  {
   "cell_type": "code",
   "execution_count": 75,
   "id": "778a841c",
   "metadata": {},
   "outputs": [
    {
     "name": "stdout",
     "output_type": "stream",
     "text": [
      "7 x 0 = 0\n",
      "7 x 1 = 7\n",
      "7 x 2 = 14\n",
      "7 x 3 = 21\n",
      "7 x 4 = 28\n",
      "7 x 5 = 35\n",
      "7 x 6 = 42\n",
      "7 x 7 = 49\n",
      "7 x 8 = 56\n",
      "7 x 9 = 63\n",
      "7 x 10 = 70\n",
      "7 x 11 = 77\n",
      "7 x 12 = 84\n"
     ]
    }
   ],
   "source": [
    "for i in range(13):\n",
    "    resultat=7*i\n",
    "    print(\"7 x\",i,\"=\",resultat)"
   ]
  },
  {
   "cell_type": "code",
   "execution_count": 77,
   "id": "bc2f0ad7",
   "metadata": {},
   "outputs": [
    {
     "name": "stdout",
     "output_type": "stream",
     "text": [
      "0 x 7= 0\n",
      "1 x 7= 7\n",
      "2 x 7= 14\n",
      "3 x 7= 21\n",
      "4 x 7= 28\n",
      "5 x 7= 35\n",
      "6 x 7= 42\n",
      "7 x 7= 49\n",
      "8 x 7= 56\n",
      "9 x 7= 63\n",
      "10 x 7= 70\n",
      "11 x 7= 77\n",
      "12 x 7= 84\n"
     ]
    }
   ],
   "source": [
    "for i in range(13):\n",
    "    print(i,\"x 7=\",i*7)"
   ]
  },
  {
   "cell_type": "code",
   "execution_count": 84,
   "id": "95297c83",
   "metadata": {},
   "outputs": [],
   "source": [
    "def multiplication(nbre):\n",
    "    for i in range(13):\n",
    "        print(f\"{nbre} x {i} = {i*nbre}\")"
   ]
  },
  {
   "cell_type": "code",
   "execution_count": 88,
   "id": "f15d6eb9",
   "metadata": {},
   "outputs": [
    {
     "name": "stdout",
     "output_type": "stream",
     "text": [
      "6 x 0 = 0\n",
      "6 x 1 = 6\n",
      "6 x 2 = 12\n",
      "6 x 3 = 18\n",
      "6 x 4 = 24\n",
      "6 x 5 = 30\n",
      "6 x 6 = 36\n",
      "6 x 7 = 42\n",
      "6 x 8 = 48\n",
      "6 x 9 = 54\n",
      "6 x 10 = 60\n",
      "6 x 11 = 66\n",
      "6 x 12 = 72\n"
     ]
    }
   ],
   "source": [
    "table_6=multiplication(6)\n"
   ]
  },
  {
   "cell_type": "code",
   "execution_count": 89,
   "id": "a928e1d4",
   "metadata": {},
   "outputs": [],
   "source": [
    "table_6"
   ]
  },
  {
   "cell_type": "code",
   "execution_count": 90,
   "id": "47c73dea",
   "metadata": {},
   "outputs": [],
   "source": [
    "def multiplication(nbre):\n",
    "    for i in range(13):\n",
    "        return f\"{nbre} x {i} = {i*nbre}\""
   ]
  },
  {
   "cell_type": "code",
   "execution_count": 93,
   "id": "27258c30",
   "metadata": {},
   "outputs": [
    {
     "data": {
      "text/plain": [
       "'8 x 0 = 0'"
      ]
     },
     "execution_count": 93,
     "metadata": {},
     "output_type": "execute_result"
    }
   ],
   "source": [
    "multiplication(8)"
   ]
  },
  {
   "cell_type": "code",
   "execution_count": 92,
   "id": "195412ea",
   "metadata": {},
   "outputs": [
    {
     "data": {
      "text/plain": [
       "'8 x 0 = 0'"
      ]
     },
     "execution_count": 92,
     "metadata": {},
     "output_type": "execute_result"
    }
   ],
   "source": [
    "table_8"
   ]
  },
  {
   "cell_type": "code",
   "execution_count": 94,
   "id": "1773e4cf",
   "metadata": {},
   "outputs": [],
   "source": [
    "def carre(a):\n",
    "    return a**2"
   ]
  },
  {
   "cell_type": "code",
   "execution_count": 96,
   "id": "ae306afe",
   "metadata": {},
   "outputs": [
    {
     "data": {
      "text/plain": [
       "4"
      ]
     },
     "execution_count": 96,
     "metadata": {},
     "output_type": "execute_result"
    }
   ],
   "source": [
    "carre(2)"
   ]
  },
  {
   "cell_type": "code",
   "execution_count": 97,
   "id": "93369d81",
   "metadata": {},
   "outputs": [],
   "source": [
    "two_square=carre(2)"
   ]
  },
  {
   "cell_type": "code",
   "execution_count": 99,
   "id": "2c739dec",
   "metadata": {},
   "outputs": [
    {
     "data": {
      "text/plain": [
       "4"
      ]
     },
     "execution_count": 99,
     "metadata": {},
     "output_type": "execute_result"
    }
   ],
   "source": [
    "two_square"
   ]
  },
  {
   "cell_type": "code",
   "execution_count": 102,
   "id": "9a014d28",
   "metadata": {},
   "outputs": [],
   "source": [
    "def puissance(a,n):\n",
    "    return a**n"
   ]
  },
  {
   "cell_type": "code",
   "execution_count": 103,
   "id": "b3eb97cc",
   "metadata": {},
   "outputs": [
    {
     "data": {
      "text/plain": [
       "9"
      ]
     },
     "execution_count": 103,
     "metadata": {},
     "output_type": "execute_result"
    }
   ],
   "source": [
    "puissance(3,2)"
   ]
  },
  {
   "cell_type": "code",
   "execution_count": 106,
   "id": "da131d4d",
   "metadata": {},
   "outputs": [],
   "source": [
    "import math "
   ]
  },
  {
   "cell_type": "code",
   "execution_count": 107,
   "id": "8ab7648e",
   "metadata": {},
   "outputs": [
    {
     "data": {
      "text/plain": [
       "9.0"
      ]
     },
     "execution_count": 107,
     "metadata": {},
     "output_type": "execute_result"
    }
   ],
   "source": [
    "math.pow(3,2)"
   ]
  },
  {
   "cell_type": "code",
   "execution_count": 108,
   "id": "f66e8573",
   "metadata": {},
   "outputs": [],
   "source": [
    "from math import pow"
   ]
  },
  {
   "cell_type": "code",
   "execution_count": 109,
   "id": "d787ab23",
   "metadata": {},
   "outputs": [
    {
     "data": {
      "text/plain": [
       "9.0"
      ]
     },
     "execution_count": 109,
     "metadata": {},
     "output_type": "execute_result"
    }
   ],
   "source": [
    "pow(3,2)"
   ]
  },
  {
   "cell_type": "code",
   "execution_count": 111,
   "id": "688fad6d",
   "metadata": {},
   "outputs": [],
   "source": [
    "import math as m"
   ]
  },
  {
   "cell_type": "code",
   "execution_count": 112,
   "id": "1e3d6d80",
   "metadata": {},
   "outputs": [
    {
     "data": {
      "text/plain": [
       "5.0"
      ]
     },
     "execution_count": 112,
     "metadata": {},
     "output_type": "execute_result"
    }
   ],
   "source": [
    "m.sqrt(25)"
   ]
  },
  {
   "cell_type": "code",
   "execution_count": 115,
   "id": "5b4b38c5",
   "metadata": {},
   "outputs": [],
   "source": [
    "genre=\"M\""
   ]
  },
  {
   "cell_type": "code",
   "execution_count": 117,
   "id": "c6135b6d",
   "metadata": {},
   "outputs": [],
   "source": [
    "top=f\"je suis un {genre}\""
   ]
  },
  {
   "cell_type": "code",
   "execution_count": 118,
   "id": "7514d519",
   "metadata": {},
   "outputs": [
    {
     "data": {
      "text/plain": [
       "'je suis un M'"
      ]
     },
     "execution_count": 118,
     "metadata": {},
     "output_type": "execute_result"
    }
   ],
   "source": [
    "top"
   ]
  },
  {
   "cell_type": "code",
   "execution_count": 119,
   "id": "30b55c9e",
   "metadata": {},
   "outputs": [
    {
     "data": {
      "text/plain": [
       "'je suis un m'"
      ]
     },
     "execution_count": 119,
     "metadata": {},
     "output_type": "execute_result"
    }
   ],
   "source": [
    "top.lower()"
   ]
  },
  {
   "cell_type": "code",
   "execution_count": 120,
   "id": "d9cb6386",
   "metadata": {},
   "outputs": [
    {
     "data": {
      "text/plain": [
       "'JE SUIS UN M'"
      ]
     },
     "execution_count": 120,
     "metadata": {},
     "output_type": "execute_result"
    }
   ],
   "source": [
    "top.upper()"
   ]
  },
  {
   "cell_type": "code",
   "execution_count": 121,
   "id": "a4d8627a",
   "metadata": {},
   "outputs": [
    {
     "data": {
      "text/plain": [
       "'Je suis un m'"
      ]
     },
     "execution_count": 121,
     "metadata": {},
     "output_type": "execute_result"
    }
   ],
   "source": [
    "top.capitalize()"
   ]
  },
  {
   "cell_type": "code",
   "execution_count": 122,
   "id": "0131dacf",
   "metadata": {},
   "outputs": [
    {
     "data": {
      "text/plain": [
       "False"
      ]
     },
     "execution_count": 122,
     "metadata": {},
     "output_type": "execute_result"
    }
   ],
   "source": [
    "top.isnumeric()"
   ]
  },
  {
   "cell_type": "code",
   "execution_count": 123,
   "id": "5a286500",
   "metadata": {},
   "outputs": [
    {
     "data": {
      "text/plain": [
       "True"
      ]
     },
     "execution_count": 123,
     "metadata": {},
     "output_type": "execute_result"
    }
   ],
   "source": [
    "\"5\".isnumeric()"
   ]
  },
  {
   "cell_type": "code",
   "execution_count": 124,
   "id": "3ba92f37",
   "metadata": {},
   "outputs": [
    {
     "data": {
      "text/plain": [
       "False"
      ]
     },
     "execution_count": 124,
     "metadata": {},
     "output_type": "execute_result"
    }
   ],
   "source": [
    "\"5\".isalpha()"
   ]
  },
  {
   "cell_type": "code",
   "execution_count": 125,
   "id": "39cde0df",
   "metadata": {},
   "outputs": [
    {
     "data": {
      "text/plain": [
       "True"
      ]
     },
     "execution_count": 125,
     "metadata": {},
     "output_type": "execute_result"
    }
   ],
   "source": [
    "\"a\".isalpha()"
   ]
  },
  {
   "cell_type": "code",
   "execution_count": 128,
   "id": "1d96d09b",
   "metadata": {},
   "outputs": [
    {
     "data": {
      "text/plain": [
       "False"
      ]
     },
     "execution_count": 128,
     "metadata": {},
     "output_type": "execute_result"
    }
   ],
   "source": [
    "\"@\".isalnum()"
   ]
  },
  {
   "cell_type": "code",
   "execution_count": 130,
   "id": "4535e156",
   "metadata": {},
   "outputs": [],
   "source": [
    "texte=\"je suis un champion et j'aime python\""
   ]
  },
  {
   "cell_type": "code",
   "execution_count": 137,
   "id": "55e055e3",
   "metadata": {},
   "outputs": [
    {
     "data": {
      "text/plain": [
       "'champion'"
      ]
     },
     "execution_count": 137,
     "metadata": {},
     "output_type": "execute_result"
    }
   ],
   "source": [
    "texte[11:19]"
   ]
  },
  {
   "cell_type": "code",
   "execution_count": 140,
   "id": "cc5c3b33",
   "metadata": {},
   "outputs": [
    {
     "data": {
      "text/plain": [
       "['je suis un champion ', \" j'aime python\"]"
      ]
     },
     "execution_count": 140,
     "metadata": {},
     "output_type": "execute_result"
    }
   ],
   "source": [
    "texte.split(\"et\")"
   ]
  },
  {
   "cell_type": "code",
   "execution_count": 144,
   "id": "b4fa955e",
   "metadata": {},
   "outputs": [],
   "source": [
    " mail=\"mafoya1er@gmail.com\""
   ]
  },
  {
   "cell_type": "code",
   "execution_count": 145,
   "id": "af486950",
   "metadata": {},
   "outputs": [
    {
     "data": {
      "text/plain": [
       "['mafoya1er', 'gmail.com']"
      ]
     },
     "execution_count": 145,
     "metadata": {},
     "output_type": "execute_result"
    }
   ],
   "source": [
    "mail.split(\"@\")"
   ]
  },
  {
   "cell_type": "code",
   "execution_count": null,
   "id": "6a46506a",
   "metadata": {},
   "outputs": [],
   "source": []
  }
 ],
 "metadata": {
  "kernelspec": {
   "display_name": "Python 3 (ipykernel)",
   "language": "python",
   "name": "python3"
  },
  "language_info": {
   "codemirror_mode": {
    "name": "ipython",
    "version": 3
   },
   "file_extension": ".py",
   "mimetype": "text/x-python",
   "name": "python",
   "nbconvert_exporter": "python",
   "pygments_lexer": "ipython3",
   "version": "3.11.5"
  }
 },
 "nbformat": 4,
 "nbformat_minor": 5
}
