{
 "cells": [
  {
   "cell_type": "code",
   "execution_count": 64,
   "id": "bed12bda",
   "metadata": {},
   "outputs": [],
   "source": [
    "import numpy as np\n",
    "import matplotlib.pyplot as plt"
   ]
  },
  {
   "cell_type": "code",
   "execution_count": 3,
   "id": "b91a0287",
   "metadata": {},
   "outputs": [
    {
     "data": {
      "text/plain": [
       "array([2, 5, 6, 8])"
      ]
     },
     "execution_count": 3,
     "metadata": {},
     "output_type": "execute_result"
    }
   ],
   "source": [
    "my_array=np.array([2,5,6,8])\n",
    "my_array"
   ]
  },
  {
   "cell_type": "code",
   "execution_count": 4,
   "id": "d523ae81",
   "metadata": {},
   "outputs": [
    {
     "data": {
      "text/plain": [
       "array(['elo', 'marx', 'abello'], dtype='<U6')"
      ]
     },
     "execution_count": 4,
     "metadata": {},
     "output_type": "execute_result"
    }
   ],
   "source": [
    "my_array1=np.array([\"elo\",\"marx\",\"abello\"])\n",
    "my_array1"
   ]
  },
  {
   "cell_type": "code",
   "execution_count": 5,
   "id": "9d5d3e38",
   "metadata": {},
   "outputs": [
    {
     "data": {
      "text/plain": [
       "dtype('int32')"
      ]
     },
     "execution_count": 5,
     "metadata": {},
     "output_type": "execute_result"
    }
   ],
   "source": [
    "my_array.dtype"
   ]
  },
  {
   "cell_type": "code",
   "execution_count": 6,
   "id": "bec27baa",
   "metadata": {},
   "outputs": [
    {
     "data": {
      "text/plain": [
       "dtype('<U6')"
      ]
     },
     "execution_count": 6,
     "metadata": {},
     "output_type": "execute_result"
    }
   ],
   "source": [
    "my_array1.dtype"
   ]
  },
  {
   "cell_type": "code",
   "execution_count": 7,
   "id": "26233a9d",
   "metadata": {},
   "outputs": [],
   "source": [
    "my_list=[\"elo\",\"marx\",\"abello\"]"
   ]
  },
  {
   "cell_type": "code",
   "execution_count": 8,
   "id": "72631421",
   "metadata": {},
   "outputs": [
    {
     "data": {
      "text/plain": [
       "array(['elo', 'marx', 'abello'], dtype='<U6')"
      ]
     },
     "execution_count": 8,
     "metadata": {},
     "output_type": "execute_result"
    }
   ],
   "source": [
    "my_second_array=np.array(my_list)\n",
    "my_second_array"
   ]
  },
  {
   "cell_type": "code",
   "execution_count": 9,
   "id": "a74e511c",
   "metadata": {},
   "outputs": [
    {
     "data": {
      "text/plain": [
       "array([ 2,  5,  6,  8, 10,  8])"
      ]
     },
     "execution_count": 9,
     "metadata": {},
     "output_type": "execute_result"
    }
   ],
   "source": [
    "extended_array=np.append(my_array,[10,8])\n",
    "extended_array"
   ]
  },
  {
   "cell_type": "code",
   "execution_count": 10,
   "id": "21344be3",
   "metadata": {},
   "outputs": [
    {
     "data": {
      "text/plain": [
       "array([ 2,  5,  6,  8,  8, 10])"
      ]
     },
     "execution_count": 10,
     "metadata": {},
     "output_type": "execute_result"
    }
   ],
   "source": [
    "sorted_array=np.sort(extended_array)\n",
    "sorted_array"
   ]
  },
  {
   "cell_type": "code",
   "execution_count": 11,
   "id": "a47c2ed6",
   "metadata": {},
   "outputs": [
    {
     "data": {
      "text/plain": [
       "array([ 8, 10,  8,  6,  5,  2])"
      ]
     },
     "execution_count": 11,
     "metadata": {},
     "output_type": "execute_result"
    }
   ],
   "source": [
    "ds_array=np.flip(extended_array)\n",
    "ds_array"
   ]
  },
  {
   "cell_type": "code",
   "execution_count": 12,
   "id": "60ef0bbe",
   "metadata": {},
   "outputs": [
    {
     "data": {
      "text/plain": [
       "array([2, 4, 6, 8])"
      ]
     },
     "execution_count": 12,
     "metadata": {},
     "output_type": "execute_result"
    }
   ],
   "source": [
    "seq=np.arange(2,10,2)\n",
    "seq"
   ]
  },
  {
   "cell_type": "code",
   "execution_count": 13,
   "id": "4f54d6f5",
   "metadata": {},
   "outputs": [
    {
     "data": {
      "text/plain": [
       "array([ 2.,  6., 10.])"
      ]
     },
     "execution_count": 13,
     "metadata": {},
     "output_type": "execute_result"
    }
   ],
   "source": [
    "seq2=np.linspace(2,10,3)\n",
    "seq2"
   ]
  },
  {
   "cell_type": "code",
   "execution_count": 14,
   "id": "05a79c8d",
   "metadata": {},
   "outputs": [
    {
     "data": {
      "text/plain": [
       "array([ 2,  5,  6,  8, 10,  8])"
      ]
     },
     "execution_count": 14,
     "metadata": {},
     "output_type": "execute_result"
    }
   ],
   "source": [
    "extended_array"
   ]
  },
  {
   "cell_type": "code",
   "execution_count": 15,
   "id": "61b3ca27",
   "metadata": {},
   "outputs": [
    {
     "data": {
      "text/plain": [
       "array([ 2,  5,  6,  8,  8, 10])"
      ]
     },
     "execution_count": 15,
     "metadata": {},
     "output_type": "execute_result"
    }
   ],
   "source": [
    "descending_array=np.sort(extended_array)\n",
    "descending_array"
   ]
  },
  {
   "cell_type": "code",
   "execution_count": 16,
   "id": "1b7136a4",
   "metadata": {},
   "outputs": [
    {
     "data": {
      "text/plain": [
       "array([10,  8,  8,  6,  5])"
      ]
     },
     "execution_count": 16,
     "metadata": {},
     "output_type": "execute_result"
    }
   ],
   "source": [
    "descending_array=np.sort(extended_array)[:0:-1]\n",
    "descending_array"
   ]
  },
  {
   "cell_type": "code",
   "execution_count": 17,
   "id": "8e7e09e2",
   "metadata": {},
   "outputs": [
    {
     "data": {
      "text/plain": [
       "array([5, 8, 8])"
      ]
     },
     "execution_count": 17,
     "metadata": {},
     "output_type": "execute_result"
    }
   ],
   "source": [
    "extended_array[1::2]"
   ]
  },
  {
   "cell_type": "code",
   "execution_count": 18,
   "id": "8df6b403",
   "metadata": {},
   "outputs": [
    {
     "data": {
      "text/plain": [
       "array([2, 5, 6, 8])"
      ]
     },
     "execution_count": 18,
     "metadata": {},
     "output_type": "execute_result"
    }
   ],
   "source": [
    "my_array"
   ]
  },
  {
   "cell_type": "code",
   "execution_count": 19,
   "id": "9317ccea",
   "metadata": {},
   "outputs": [
    {
     "data": {
      "text/plain": [
       "array([16, 20,  5,  1])"
      ]
     },
     "execution_count": 19,
     "metadata": {},
     "output_type": "execute_result"
    }
   ],
   "source": [
    "\n",
    "my_second_array=np.array([16,20,5,1])\n",
    "my_second_array"
   ]
  },
  {
   "cell_type": "code",
   "execution_count": 20,
   "id": "3cb6089b",
   "metadata": {},
   "outputs": [
    {
     "data": {
      "text/plain": [
       "array([18, 22,  7,  3])"
      ]
     },
     "execution_count": 20,
     "metadata": {},
     "output_type": "execute_result"
    }
   ],
   "source": [
    "my_second_array+2"
   ]
  },
  {
   "cell_type": "code",
   "execution_count": 21,
   "id": "9391161d",
   "metadata": {},
   "outputs": [
    {
     "data": {
      "text/plain": [
       "array([32, 40, 10,  2])"
      ]
     },
     "execution_count": 21,
     "metadata": {},
     "output_type": "execute_result"
    }
   ],
   "source": [
    "my_second_array*2"
   ]
  },
  {
   "cell_type": "code",
   "execution_count": 22,
   "id": "c6172fc1",
   "metadata": {},
   "outputs": [
    {
     "data": {
      "text/plain": [
       "array([2, 5, 6, 8])"
      ]
     },
     "execution_count": 22,
     "metadata": {},
     "output_type": "execute_result"
    }
   ],
   "source": [
    "my_array"
   ]
  },
  {
   "cell_type": "code",
   "execution_count": 23,
   "id": "fe97448a",
   "metadata": {},
   "outputs": [
    {
     "data": {
      "text/plain": [
       "array([18, 25, 11,  9])"
      ]
     },
     "execution_count": 23,
     "metadata": {},
     "output_type": "execute_result"
    }
   ],
   "source": [
    "my_second_array+my_array"
   ]
  },
  {
   "cell_type": "code",
   "execution_count": 24,
   "id": "2914978f",
   "metadata": {},
   "outputs": [
    {
     "data": {
      "text/plain": [
       "array([32, 40, 10,  2,  8,  6])"
      ]
     },
     "execution_count": 24,
     "metadata": {},
     "output_type": "execute_result"
    }
   ],
   "source": [
    "my_third=np.array([32, 40, 10,  2,8,6])\n",
    "my_third"
   ]
  },
  {
   "cell_type": "code",
   "execution_count": 25,
   "id": "73dba07d",
   "metadata": {},
   "outputs": [
    {
     "ename": "ValueError",
     "evalue": "operands could not be broadcast together with shapes (4,) (6,) ",
     "output_type": "error",
     "traceback": [
      "\u001b[1;31m---------------------------------------------------------------------------\u001b[0m",
      "\u001b[1;31mValueError\u001b[0m                                Traceback (most recent call last)",
      "\u001b[1;32m~\\AppData\\Local\\Temp\\ipykernel_21896\\1322510196.py\u001b[0m in \u001b[0;36m<module>\u001b[1;34m\u001b[0m\n\u001b[1;32m----> 1\u001b[1;33m \u001b[0mmy_array\u001b[0m\u001b[1;33m+\u001b[0m\u001b[0mmy_third\u001b[0m\u001b[1;33m\u001b[0m\u001b[1;33m\u001b[0m\u001b[0m\n\u001b[0m",
      "\u001b[1;31mValueError\u001b[0m: operands could not be broadcast together with shapes (4,) (6,) "
     ]
    }
   ],
   "source": [
    "my_array+my_third"
   ]
  },
  {
   "cell_type": "code",
   "execution_count": null,
   "id": "55df4b75",
   "metadata": {},
   "outputs": [],
   "source": [
    "my_reshape=my_third.reshape(3,2)"
   ]
  },
  {
   "cell_type": "code",
   "execution_count": null,
   "id": "682ea789",
   "metadata": {},
   "outputs": [],
   "source": [
    "my_reshape"
   ]
  },
  {
   "cell_type": "code",
   "execution_count": null,
   "id": "636cc167",
   "metadata": {},
   "outputs": [],
   "source": [
    "my_four=np.array([5,8])\n",
    "my_four"
   ]
  },
  {
   "cell_type": "code",
   "execution_count": null,
   "id": "da7e3c4c",
   "metadata": {},
   "outputs": [],
   "source": [
    "my_reshape+my_four"
   ]
  },
  {
   "cell_type": "code",
   "execution_count": null,
   "id": "74c4d50e",
   "metadata": {},
   "outputs": [],
   "source": [
    "my_five=np.array([my_four,my_four,my_four])\n",
    "my_five"
   ]
  },
  {
   "cell_type": "code",
   "execution_count": null,
   "id": "0c3a9180",
   "metadata": {},
   "outputs": [],
   "source": [
    "my_reshape+my_five"
   ]
  },
  {
   "cell_type": "code",
   "execution_count": null,
   "id": "f479ef3a",
   "metadata": {},
   "outputs": [],
   "source": [
    "my_reshape+my_four"
   ]
  },
  {
   "cell_type": "code",
   "execution_count": null,
   "id": "143305ab",
   "metadata": {},
   "outputs": [],
   "source": [
    "my_four"
   ]
  },
  {
   "cell_type": "code",
   "execution_count": null,
   "id": "31b7c9a3",
   "metadata": {},
   "outputs": [],
   "source": [
    "my_reshape"
   ]
  },
  {
   "cell_type": "code",
   "execution_count": null,
   "id": "8c2b4a8f",
   "metadata": {},
   "outputs": [],
   "source": [
    "my_reshape*my_four"
   ]
  },
  {
   "cell_type": "code",
   "execution_count": null,
   "id": "383acac3",
   "metadata": {},
   "outputs": [],
   "source": [
    "arr1 = np.array([[1,2,3],[4,5,6]])"
   ]
  },
  {
   "cell_type": "code",
   "execution_count": null,
   "id": "8cd23a3a",
   "metadata": {},
   "outputs": [],
   "source": [
    "arr1\n"
   ]
  },
  {
   "cell_type": "code",
   "execution_count": null,
   "id": "0adaca15",
   "metadata": {},
   "outputs": [],
   "source": [
    "arr2 = np.array([[7,8,9,10],[11,12,13,14],[15,16,17,18]])"
   ]
  },
  {
   "cell_type": "code",
   "execution_count": null,
   "id": "0647f059",
   "metadata": {},
   "outputs": [],
   "source": [
    "arr2"
   ]
  },
  {
   "cell_type": "code",
   "execution_count": null,
   "id": "0880ab72",
   "metadata": {},
   "outputs": [],
   "source": [
    "np.dot(arr1,arr2)"
   ]
  },
  {
   "cell_type": "code",
   "execution_count": null,
   "id": "3b83886b",
   "metadata": {},
   "outputs": [],
   "source": [
    "my_ones=np.ones(3)"
   ]
  },
  {
   "cell_type": "code",
   "execution_count": null,
   "id": "7c657d63",
   "metadata": {},
   "outputs": [],
   "source": [
    "my_ones"
   ]
  },
  {
   "cell_type": "code",
   "execution_count": null,
   "id": "67b6842b",
   "metadata": {},
   "outputs": [],
   "source": [
    "my_ones=np.ones((3,3))"
   ]
  },
  {
   "cell_type": "code",
   "execution_count": null,
   "id": "d396d974",
   "metadata": {},
   "outputs": [],
   "source": [
    "my_ones"
   ]
  },
  {
   "cell_type": "code",
   "execution_count": null,
   "id": "92f9c8b7",
   "metadata": {},
   "outputs": [],
   "source": [
    "my_zero=np.zeros(3)\n",
    "my_zero"
   ]
  },
  {
   "cell_type": "code",
   "execution_count": null,
   "id": "d5fb9d20",
   "metadata": {},
   "outputs": [],
   "source": [
    "my_zero=np.zeros((3,3))\n",
    "my_zero"
   ]
  },
  {
   "cell_type": "code",
   "execution_count": null,
   "id": "6af48f17",
   "metadata": {},
   "outputs": [],
   "source": [
    "my_zero[0][0]=1"
   ]
  },
  {
   "cell_type": "code",
   "execution_count": null,
   "id": "aad2ff3f",
   "metadata": {},
   "outputs": [],
   "source": [
    "my_zero"
   ]
  },
  {
   "cell_type": "code",
   "execution_count": null,
   "id": "263f0f47",
   "metadata": {},
   "outputs": [],
   "source": [
    "my_zero[1][1]=1\n",
    "my_zero[2][2]=1\n"
   ]
  },
  {
   "cell_type": "code",
   "execution_count": null,
   "id": "f54ccb34",
   "metadata": {},
   "outputs": [],
   "source": [
    "my_zero"
   ]
  },
  {
   "cell_type": "code",
   "execution_count": null,
   "id": "b56ce170",
   "metadata": {},
   "outputs": [],
   "source": [
    "my_eyes=np.eye(3)"
   ]
  },
  {
   "cell_type": "code",
   "execution_count": null,
   "id": "0de5a1bd",
   "metadata": {},
   "outputs": [],
   "source": [
    "my_eyes"
   ]
  },
  {
   "cell_type": "code",
   "execution_count": 27,
   "id": "21c19fc5",
   "metadata": {},
   "outputs": [],
   "source": [
    "idf=np.identity(3)"
   ]
  },
  {
   "cell_type": "code",
   "execution_count": 28,
   "id": "b2179e45",
   "metadata": {},
   "outputs": [
    {
     "data": {
      "text/plain": [
       "array([[1., 0., 0.],\n",
       "       [0., 1., 0.],\n",
       "       [0., 0., 1.]])"
      ]
     },
     "execution_count": 28,
     "metadata": {},
     "output_type": "execute_result"
    }
   ],
   "source": [
    "idf"
   ]
  },
  {
   "cell_type": "code",
   "execution_count": 30,
   "id": "812830f5",
   "metadata": {},
   "outputs": [],
   "source": [
    "a =idf[1]"
   ]
  },
  {
   "cell_type": "code",
   "execution_count": 31,
   "id": "3f9166a7",
   "metadata": {},
   "outputs": [
    {
     "data": {
      "text/plain": [
       "array([0., 1., 0.])"
      ]
     },
     "execution_count": 31,
     "metadata": {},
     "output_type": "execute_result"
    }
   ],
   "source": [
    "a"
   ]
  },
  {
   "cell_type": "code",
   "execution_count": 32,
   "id": "38199776",
   "metadata": {},
   "outputs": [
    {
     "data": {
      "text/plain": [
       "(3,)"
      ]
     },
     "execution_count": 32,
     "metadata": {},
     "output_type": "execute_result"
    }
   ],
   "source": [
    "a.shape\n"
   ]
  },
  {
   "cell_type": "code",
   "execution_count": 33,
   "id": "a10cf306",
   "metadata": {},
   "outputs": [],
   "source": [
    "b =np.array([[0,1,0]])"
   ]
  },
  {
   "cell_type": "code",
   "execution_count": 34,
   "id": "50984989",
   "metadata": {},
   "outputs": [
    {
     "data": {
      "text/plain": [
       "array([[0, 1, 0]])"
      ]
     },
     "execution_count": 34,
     "metadata": {},
     "output_type": "execute_result"
    }
   ],
   "source": [
    "b\n"
   ]
  },
  {
   "cell_type": "code",
   "execution_count": 35,
   "id": "ae54b977",
   "metadata": {},
   "outputs": [
    {
     "data": {
      "text/plain": [
       "(1, 3)"
      ]
     },
     "execution_count": 35,
     "metadata": {},
     "output_type": "execute_result"
    }
   ],
   "source": [
    "b.shape"
   ]
  },
  {
   "cell_type": "code",
   "execution_count": 36,
   "id": "f44bfd9a",
   "metadata": {},
   "outputs": [
    {
     "data": {
      "text/plain": [
       "array([0., 1., 0.])"
      ]
     },
     "execution_count": 36,
     "metadata": {},
     "output_type": "execute_result"
    }
   ],
   "source": [
    "a"
   ]
  },
  {
   "cell_type": "code",
   "execution_count": 37,
   "id": "5feb6dfc",
   "metadata": {},
   "outputs": [
    {
     "data": {
      "text/plain": [
       "array([0., 1., 0.])"
      ]
     },
     "execution_count": 37,
     "metadata": {},
     "output_type": "execute_result"
    }
   ],
   "source": [
    "a.T"
   ]
  },
  {
   "cell_type": "code",
   "execution_count": 39,
   "id": "5bc040c2",
   "metadata": {},
   "outputs": [
    {
     "data": {
      "text/plain": [
       "(3, 1)"
      ]
     },
     "execution_count": 39,
     "metadata": {},
     "output_type": "execute_result"
    }
   ],
   "source": [
    "b.T.shape"
   ]
  },
  {
   "cell_type": "code",
   "execution_count": 40,
   "id": "7bdf9891",
   "metadata": {},
   "outputs": [
    {
     "data": {
      "text/plain": [
       "array([[0, 1, 0]])"
      ]
     },
     "execution_count": 40,
     "metadata": {},
     "output_type": "execute_result"
    }
   ],
   "source": [
    "b"
   ]
  },
  {
   "cell_type": "code",
   "execution_count": 41,
   "id": "7508fbbf",
   "metadata": {},
   "outputs": [
    {
     "data": {
      "text/plain": [
       "2"
      ]
     },
     "execution_count": 41,
     "metadata": {},
     "output_type": "execute_result"
    }
   ],
   "source": [
    "b.ndim"
   ]
  },
  {
   "cell_type": "code",
   "execution_count": 42,
   "id": "142c4c9c",
   "metadata": {},
   "outputs": [
    {
     "data": {
      "text/plain": [
       "1"
      ]
     },
     "execution_count": 42,
     "metadata": {},
     "output_type": "execute_result"
    }
   ],
   "source": [
    "a.ndim"
   ]
  },
  {
   "cell_type": "code",
   "execution_count": 43,
   "id": "70d0d23f",
   "metadata": {},
   "outputs": [
    {
     "data": {
      "text/plain": [
       "3"
      ]
     },
     "execution_count": 43,
     "metadata": {},
     "output_type": "execute_result"
    }
   ],
   "source": [
    "a.size"
   ]
  },
  {
   "cell_type": "code",
   "execution_count": 44,
   "id": "9d07e85c",
   "metadata": {},
   "outputs": [
    {
     "data": {
      "text/plain": [
       "3"
      ]
     },
     "execution_count": 44,
     "metadata": {},
     "output_type": "execute_result"
    }
   ],
   "source": [
    "b.size"
   ]
  },
  {
   "cell_type": "code",
   "execution_count": 49,
   "id": "7b9dc25b",
   "metadata": {},
   "outputs": [],
   "source": [
    "arr1 = np.array([[1,2,3],[4,5,6]])\n",
    "arr2 = np.array([[-1,-3],[1,4],[-2,6\n",
    "                               \n",
    "                               \n",
    "                               ]])"
   ]
  },
  {
   "cell_type": "code",
   "execution_count": 50,
   "id": "c56fd521",
   "metadata": {},
   "outputs": [
    {
     "data": {
      "text/plain": [
       "array([[ -5,  23],\n",
       "       [-11,  44]])"
      ]
     },
     "execution_count": 50,
     "metadata": {},
     "output_type": "execute_result"
    }
   ],
   "source": [
    "arr1.dot(arr2\n",
    "        )"
   ]
  },
  {
   "cell_type": "code",
   "execution_count": null,
   "id": "7304fe5d",
   "metadata": {},
   "outputs": [],
   "source": [
    " y = a*X + b"
   ]
  },
  {
   "cell_type": "code",
   "execution_count": 93,
   "id": "aef7a91a",
   "metadata": {},
   "outputs": [],
   "source": [
    "X=2+np.random.rand(1000,1) #generer des valeurs aléatoire\n",
    "y=3+4*X+np.random.randn(1000,1)"
   ]
  },
  {
   "cell_type": "code",
   "execution_count": 94,
   "id": "00e05009",
   "metadata": {},
   "outputs": [
    {
     "data": {
      "text/plain": [
       "array([[2.9562377 ],\n",
       "       [2.565299  ],\n",
       "       [2.84012298],\n",
       "       [2.65715314],\n",
       "       [2.79365862],\n",
       "       [2.66662881],\n",
       "       [2.54353221],\n",
       "       [2.89023088],\n",
       "       [2.17977694],\n",
       "       [2.45529181],\n",
       "       [2.08224594],\n",
       "       [2.05380484],\n",
       "       [2.7846802 ],\n",
       "       [2.55953462],\n",
       "       [2.24414074],\n",
       "       [2.13617394],\n",
       "       [2.05701315],\n",
       "       [2.84012092],\n",
       "       [2.58631839],\n",
       "       [2.5718946 ],\n",
       "       [2.47319672],\n",
       "       [2.06198958],\n",
       "       [2.11205489],\n",
       "       [2.74068059],\n",
       "       [2.35128318],\n",
       "       [2.43989911],\n",
       "       [2.04013226],\n",
       "       [2.68710808],\n",
       "       [2.30284859],\n",
       "       [2.38026777],\n",
       "       [2.34263388],\n",
       "       [2.3835851 ],\n",
       "       [2.01825134],\n",
       "       [2.88607761],\n",
       "       [2.02047836],\n",
       "       [2.48944033],\n",
       "       [2.85156131],\n",
       "       [2.14165998],\n",
       "       [2.98818078],\n",
       "       [2.60859927],\n",
       "       [2.45968866],\n",
       "       [2.09314677],\n",
       "       [2.22037815],\n",
       "       [2.36429382],\n",
       "       [2.89206233],\n",
       "       [2.5300101 ],\n",
       "       [2.30167039],\n",
       "       [2.14751846],\n",
       "       [2.2831409 ],\n",
       "       [2.75360753],\n",
       "       [2.39448968],\n",
       "       [2.6728891 ],\n",
       "       [2.50947861],\n",
       "       [2.31261099],\n",
       "       [2.52886317],\n",
       "       [2.70306039],\n",
       "       [2.65056339],\n",
       "       [2.90233478],\n",
       "       [2.18377941],\n",
       "       [2.84555553],\n",
       "       [2.96509773],\n",
       "       [2.44475258],\n",
       "       [2.7742226 ],\n",
       "       [2.66849229],\n",
       "       [2.25477498],\n",
       "       [2.68244967],\n",
       "       [2.42613128],\n",
       "       [2.38292193],\n",
       "       [2.81702715],\n",
       "       [2.85707795],\n",
       "       [2.23668621],\n",
       "       [2.33508567],\n",
       "       [2.14622125],\n",
       "       [2.02163565],\n",
       "       [2.87352036],\n",
       "       [2.92637431],\n",
       "       [2.39987836],\n",
       "       [2.11671075],\n",
       "       [2.30806809],\n",
       "       [2.98115621],\n",
       "       [2.73270531],\n",
       "       [2.26233516],\n",
       "       [2.03740148],\n",
       "       [2.14783132],\n",
       "       [2.64635524],\n",
       "       [2.94269183],\n",
       "       [2.49747109],\n",
       "       [2.07370349],\n",
       "       [2.73349214],\n",
       "       [2.49153157],\n",
       "       [2.55105377],\n",
       "       [2.27602865],\n",
       "       [2.56411084],\n",
       "       [2.99721053],\n",
       "       [2.13006955],\n",
       "       [2.51114774],\n",
       "       [2.2385696 ],\n",
       "       [2.05747318],\n",
       "       [2.68224839],\n",
       "       [2.17325435],\n",
       "       [2.62573646],\n",
       "       [2.80982457],\n",
       "       [2.64876482],\n",
       "       [2.14428329],\n",
       "       [2.98322634],\n",
       "       [2.67304716],\n",
       "       [2.04612426],\n",
       "       [2.6355344 ],\n",
       "       [2.8370071 ],\n",
       "       [2.97283967],\n",
       "       [2.75316153],\n",
       "       [2.05940545],\n",
       "       [2.56182673],\n",
       "       [2.67283984],\n",
       "       [2.30443828],\n",
       "       [2.16786252],\n",
       "       [2.33856471],\n",
       "       [2.52696346],\n",
       "       [2.54923923],\n",
       "       [2.66414312],\n",
       "       [2.73192094],\n",
       "       [2.36577104],\n",
       "       [2.21361094],\n",
       "       [2.74068626],\n",
       "       [2.41887536],\n",
       "       [2.75946027],\n",
       "       [2.97222885],\n",
       "       [2.73811386],\n",
       "       [2.29673657],\n",
       "       [2.41421511],\n",
       "       [2.11754882],\n",
       "       [2.01657795],\n",
       "       [2.13521152],\n",
       "       [2.3553391 ],\n",
       "       [2.36531282],\n",
       "       [2.96371074],\n",
       "       [2.11066919],\n",
       "       [2.71546488],\n",
       "       [2.00826449],\n",
       "       [2.73718322],\n",
       "       [2.18397903],\n",
       "       [2.52301236],\n",
       "       [2.32662831],\n",
       "       [2.35829636],\n",
       "       [2.81294469],\n",
       "       [2.30859975],\n",
       "       [2.23238431],\n",
       "       [2.97305426],\n",
       "       [2.88564213],\n",
       "       [2.69599964],\n",
       "       [2.69899323],\n",
       "       [2.55407445],\n",
       "       [2.91767474],\n",
       "       [2.1344712 ],\n",
       "       [2.46768013],\n",
       "       [2.11992355],\n",
       "       [2.30801692],\n",
       "       [2.04399716],\n",
       "       [2.13633774],\n",
       "       [2.41474411],\n",
       "       [2.53863261],\n",
       "       [2.85429749],\n",
       "       [2.15500766],\n",
       "       [2.88397695],\n",
       "       [2.68365216],\n",
       "       [2.63625716],\n",
       "       [2.00496654],\n",
       "       [2.92188195],\n",
       "       [2.94826662],\n",
       "       [2.5800246 ],\n",
       "       [2.91255363],\n",
       "       [2.23079273],\n",
       "       [2.30625708],\n",
       "       [2.28570408],\n",
       "       [2.5127405 ],\n",
       "       [2.51840101],\n",
       "       [2.0627179 ],\n",
       "       [2.04060257],\n",
       "       [2.88528245],\n",
       "       [2.76333947],\n",
       "       [2.32559304],\n",
       "       [2.12494958],\n",
       "       [2.61275613],\n",
       "       [2.61689022],\n",
       "       [2.58144472],\n",
       "       [2.35407974],\n",
       "       [2.58092576],\n",
       "       [2.83535365],\n",
       "       [2.27687267],\n",
       "       [2.66563884],\n",
       "       [2.43644268],\n",
       "       [2.27309377],\n",
       "       [2.82967759],\n",
       "       [2.30918977],\n",
       "       [2.97266153],\n",
       "       [2.89564121],\n",
       "       [2.45056048],\n",
       "       [2.68324283],\n",
       "       [2.37308396],\n",
       "       [2.03303135],\n",
       "       [2.40264151],\n",
       "       [2.93590623],\n",
       "       [2.46271856],\n",
       "       [2.4961066 ],\n",
       "       [2.21253016],\n",
       "       [2.43608426],\n",
       "       [2.57442471],\n",
       "       [2.2720108 ],\n",
       "       [2.73651498],\n",
       "       [2.47729896],\n",
       "       [2.43010155],\n",
       "       [2.50128706],\n",
       "       [2.91744676],\n",
       "       [2.69708774],\n",
       "       [2.70074571],\n",
       "       [2.74526535],\n",
       "       [2.08197798],\n",
       "       [2.54365064],\n",
       "       [2.07064256],\n",
       "       [2.35961964],\n",
       "       [2.76208557],\n",
       "       [2.61097914],\n",
       "       [2.74699987],\n",
       "       [2.73099664],\n",
       "       [2.27287746],\n",
       "       [2.53123076],\n",
       "       [2.98255757],\n",
       "       [2.04747214],\n",
       "       [2.36992711],\n",
       "       [2.69860378],\n",
       "       [2.34004463],\n",
       "       [2.21851779],\n",
       "       [2.83026922],\n",
       "       [2.02622892],\n",
       "       [2.29703381],\n",
       "       [2.47566915],\n",
       "       [2.45312332],\n",
       "       [2.98077869],\n",
       "       [2.04717256],\n",
       "       [2.62854744],\n",
       "       [2.01721993],\n",
       "       [2.54892863],\n",
       "       [2.38898353],\n",
       "       [2.68070731],\n",
       "       [2.83567816],\n",
       "       [2.51847611],\n",
       "       [2.30580144],\n",
       "       [2.3773116 ],\n",
       "       [2.82153591],\n",
       "       [2.85620728],\n",
       "       [2.39412877],\n",
       "       [2.83845422],\n",
       "       [2.98701337],\n",
       "       [2.81169585],\n",
       "       [2.0817427 ],\n",
       "       [2.7846482 ],\n",
       "       [2.48777145],\n",
       "       [2.21409774],\n",
       "       [2.45427538],\n",
       "       [2.20838485],\n",
       "       [2.56713046],\n",
       "       [2.46449579],\n",
       "       [2.2880191 ],\n",
       "       [2.57720233],\n",
       "       [2.6971184 ],\n",
       "       [2.58497558],\n",
       "       [2.7733161 ],\n",
       "       [2.07354796],\n",
       "       [2.67348444],\n",
       "       [2.88921911],\n",
       "       [2.4980148 ],\n",
       "       [2.0833344 ],\n",
       "       [2.78808867],\n",
       "       [2.55286362],\n",
       "       [2.26164743],\n",
       "       [2.05520066],\n",
       "       [2.48608064],\n",
       "       [2.13144728],\n",
       "       [2.69916531],\n",
       "       [2.90616736],\n",
       "       [2.72405856],\n",
       "       [2.88933569],\n",
       "       [2.31279056],\n",
       "       [2.31356501],\n",
       "       [2.44639592],\n",
       "       [2.89108481],\n",
       "       [2.91672078],\n",
       "       [2.19771605],\n",
       "       [2.90649657],\n",
       "       [2.0875718 ],\n",
       "       [2.52879472],\n",
       "       [2.24743075],\n",
       "       [2.36706048],\n",
       "       [2.01958591],\n",
       "       [2.49436128],\n",
       "       [2.71139006],\n",
       "       [2.59688161],\n",
       "       [2.69615291],\n",
       "       [2.17761545],\n",
       "       [2.4350904 ],\n",
       "       [2.82560717],\n",
       "       [2.64263066],\n",
       "       [2.33408157],\n",
       "       [2.51111878],\n",
       "       [2.20901102],\n",
       "       [2.44363444],\n",
       "       [2.5860086 ],\n",
       "       [2.76314499],\n",
       "       [2.22802229],\n",
       "       [2.07461763],\n",
       "       [2.39043464],\n",
       "       [2.08042384],\n",
       "       [2.31599398],\n",
       "       [2.8029254 ],\n",
       "       [2.08910009],\n",
       "       [2.55515975],\n",
       "       [2.77651851],\n",
       "       [2.55147018],\n",
       "       [2.28023165],\n",
       "       [2.96290133],\n",
       "       [2.8726029 ],\n",
       "       [2.58541696],\n",
       "       [2.13980915],\n",
       "       [2.66523547],\n",
       "       [2.82634121],\n",
       "       [2.69335225],\n",
       "       [2.59972359],\n",
       "       [2.28338808],\n",
       "       [2.17268982],\n",
       "       [2.97558407],\n",
       "       [2.40511792],\n",
       "       [2.56799695],\n",
       "       [2.03858858],\n",
       "       [2.61790418],\n",
       "       [2.41043645],\n",
       "       [2.05316599],\n",
       "       [2.21633988],\n",
       "       [2.48277144],\n",
       "       [2.75378934],\n",
       "       [2.1350305 ],\n",
       "       [2.98389903],\n",
       "       [2.92132673],\n",
       "       [2.4956602 ],\n",
       "       [2.36294646],\n",
       "       [2.54159803],\n",
       "       [2.85555013],\n",
       "       [2.9905626 ],\n",
       "       [2.50565482],\n",
       "       [2.58600541],\n",
       "       [2.60663695],\n",
       "       [2.20684063],\n",
       "       [2.54869564],\n",
       "       [2.27787396],\n",
       "       [2.16810238],\n",
       "       [2.32626669],\n",
       "       [2.26275927],\n",
       "       [2.18451313],\n",
       "       [2.12630393],\n",
       "       [2.53775456],\n",
       "       [2.52866769],\n",
       "       [2.67962542],\n",
       "       [2.51950454],\n",
       "       [2.24209641],\n",
       "       [2.93539583],\n",
       "       [2.26417522],\n",
       "       [2.38057063],\n",
       "       [2.89404366],\n",
       "       [2.45396037],\n",
       "       [2.44672982],\n",
       "       [2.10376463],\n",
       "       [2.735303  ],\n",
       "       [2.97359672],\n",
       "       [2.44033962],\n",
       "       [2.37721594],\n",
       "       [2.99908974],\n",
       "       [2.77145476],\n",
       "       [2.35109611],\n",
       "       [2.51094719],\n",
       "       [2.60685354],\n",
       "       [2.42732733],\n",
       "       [2.82529356],\n",
       "       [2.31413046],\n",
       "       [2.3127911 ],\n",
       "       [2.28151153],\n",
       "       [2.7950815 ],\n",
       "       [2.75757979],\n",
       "       [2.39317104],\n",
       "       [2.5438794 ],\n",
       "       [2.11041964],\n",
       "       [2.88548514],\n",
       "       [2.86379215],\n",
       "       [2.18102093],\n",
       "       [2.98484257],\n",
       "       [2.54822502],\n",
       "       [2.40954135],\n",
       "       [2.94234804],\n",
       "       [2.87296118],\n",
       "       [2.23742809],\n",
       "       [2.4591766 ],\n",
       "       [2.57236242],\n",
       "       [2.67891872],\n",
       "       [2.02203851],\n",
       "       [2.38177055],\n",
       "       [2.25965615],\n",
       "       [2.41789043],\n",
       "       [2.798886  ],\n",
       "       [2.43158818],\n",
       "       [2.68168556],\n",
       "       [2.97356476],\n",
       "       [2.35189903],\n",
       "       [2.73480318],\n",
       "       [2.63082933],\n",
       "       [2.27619226],\n",
       "       [2.27729771],\n",
       "       [2.83815054],\n",
       "       [2.15491021],\n",
       "       [2.45373454],\n",
       "       [2.62542371],\n",
       "       [2.17295402],\n",
       "       [2.33995879],\n",
       "       [2.04332595],\n",
       "       [2.17974574],\n",
       "       [2.20300897],\n",
       "       [2.64882869],\n",
       "       [2.22622884],\n",
       "       [2.10167151],\n",
       "       [2.19221043],\n",
       "       [2.20831474],\n",
       "       [2.17130999],\n",
       "       [2.20525683],\n",
       "       [2.59788528],\n",
       "       [2.60977437],\n",
       "       [2.53191958],\n",
       "       [2.3377104 ],\n",
       "       [2.32569827],\n",
       "       [2.55554191],\n",
       "       [2.46035273],\n",
       "       [2.56987852],\n",
       "       [2.01990149],\n",
       "       [2.1819204 ],\n",
       "       [2.34389224],\n",
       "       [2.44153858],\n",
       "       [2.66306868],\n",
       "       [2.6712256 ],\n",
       "       [2.08662595],\n",
       "       [2.43609209],\n",
       "       [2.23014355],\n",
       "       [2.95622162],\n",
       "       [2.10698749],\n",
       "       [2.59495028],\n",
       "       [2.10642905],\n",
       "       [2.41322646],\n",
       "       [2.32499003],\n",
       "       [2.42557943],\n",
       "       [2.49217508],\n",
       "       [2.80112789],\n",
       "       [2.53998201],\n",
       "       [2.77449289],\n",
       "       [2.48942785],\n",
       "       [2.05026539],\n",
       "       [2.67321987],\n",
       "       [2.60274756],\n",
       "       [2.56438392],\n",
       "       [2.08207893],\n",
       "       [2.68935866],\n",
       "       [2.36945343],\n",
       "       [2.01921626],\n",
       "       [2.72925597],\n",
       "       [2.61417841],\n",
       "       [2.90571365],\n",
       "       [2.1930048 ],\n",
       "       [2.03064013],\n",
       "       [2.91010457],\n",
       "       [2.76042199],\n",
       "       [2.63086482],\n",
       "       [2.5234047 ],\n",
       "       [2.32738419],\n",
       "       [2.12550576],\n",
       "       [2.10768852],\n",
       "       [2.11269898],\n",
       "       [2.90477434],\n",
       "       [2.5432275 ],\n",
       "       [2.74955963],\n",
       "       [2.45123464],\n",
       "       [2.88595299],\n",
       "       [2.47603808],\n",
       "       [2.56578059],\n",
       "       [2.34617049],\n",
       "       [2.55007594],\n",
       "       [2.08325177],\n",
       "       [2.84943104],\n",
       "       [2.90587584],\n",
       "       [2.23869081],\n",
       "       [2.87100444],\n",
       "       [2.57250324],\n",
       "       [2.88720589],\n",
       "       [2.92551529],\n",
       "       [2.85523625],\n",
       "       [2.59311051],\n",
       "       [2.51094149],\n",
       "       [2.52095729],\n",
       "       [2.34485462],\n",
       "       [2.59316112],\n",
       "       [2.51430661],\n",
       "       [2.60670202],\n",
       "       [2.0963288 ],\n",
       "       [2.72389985],\n",
       "       [2.51514571],\n",
       "       [2.05208712],\n",
       "       [2.42824385],\n",
       "       [2.815938  ],\n",
       "       [2.32175657],\n",
       "       [2.39754108],\n",
       "       [2.9761964 ],\n",
       "       [2.84042578],\n",
       "       [2.76168004],\n",
       "       [2.52007432],\n",
       "       [2.33309041],\n",
       "       [2.77825227],\n",
       "       [2.64721666],\n",
       "       [2.75993716],\n",
       "       [2.23318953],\n",
       "       [2.75854072],\n",
       "       [2.25796555],\n",
       "       [2.357526  ],\n",
       "       [2.88480474],\n",
       "       [2.40855825],\n",
       "       [2.9535554 ],\n",
       "       [2.80528377],\n",
       "       [2.40900471],\n",
       "       [2.185681  ],\n",
       "       [2.62085108],\n",
       "       [2.23340106],\n",
       "       [2.22374615],\n",
       "       [2.15670946],\n",
       "       [2.14944592],\n",
       "       [2.19879172],\n",
       "       [2.13164775],\n",
       "       [2.87802453],\n",
       "       [2.27512767],\n",
       "       [2.85287354],\n",
       "       [2.96320318],\n",
       "       [2.09254897],\n",
       "       [2.60447604],\n",
       "       [2.94351204],\n",
       "       [2.24033508],\n",
       "       [2.10035772],\n",
       "       [2.95311461],\n",
       "       [2.67254504],\n",
       "       [2.01599886],\n",
       "       [2.98810501],\n",
       "       [2.60125901],\n",
       "       [2.6945619 ],\n",
       "       [2.96911636],\n",
       "       [2.53008053],\n",
       "       [2.9746284 ],\n",
       "       [2.79418251],\n",
       "       [2.55675553],\n",
       "       [2.06490833],\n",
       "       [2.86028208],\n",
       "       [2.04246741],\n",
       "       [2.77838172],\n",
       "       [2.76136128],\n",
       "       [2.35987851],\n",
       "       [2.23920959],\n",
       "       [2.99029582],\n",
       "       [2.06981486],\n",
       "       [2.36084816],\n",
       "       [2.24922806],\n",
       "       [2.62548898],\n",
       "       [2.27935395],\n",
       "       [2.51814714],\n",
       "       [2.32384848],\n",
       "       [2.11474131],\n",
       "       [2.26981217],\n",
       "       [2.89753712],\n",
       "       [2.29828429],\n",
       "       [2.71064425],\n",
       "       [2.83683211],\n",
       "       [2.33534178],\n",
       "       [2.38767144],\n",
       "       [2.27364636],\n",
       "       [2.37957353],\n",
       "       [2.56435107],\n",
       "       [2.67360418],\n",
       "       [2.72680476],\n",
       "       [2.66433784],\n",
       "       [2.33479397],\n",
       "       [2.18199335],\n",
       "       [2.02488699],\n",
       "       [2.76855956],\n",
       "       [2.2525532 ],\n",
       "       [2.59852605],\n",
       "       [2.4902093 ],\n",
       "       [2.91537998],\n",
       "       [2.79033795],\n",
       "       [2.72965451],\n",
       "       [2.27181014],\n",
       "       [2.38929326],\n",
       "       [2.06883455],\n",
       "       [2.49088264],\n",
       "       [2.46369347],\n",
       "       [2.75772993],\n",
       "       [2.23876281],\n",
       "       [2.61480398],\n",
       "       [2.56020242],\n",
       "       [2.13449265],\n",
       "       [2.24369071],\n",
       "       [2.9825242 ],\n",
       "       [2.32797752],\n",
       "       [2.2466539 ],\n",
       "       [2.77605704],\n",
       "       [2.81637535],\n",
       "       [2.9104036 ],\n",
       "       [2.06682393],\n",
       "       [2.24079649],\n",
       "       [2.63451444],\n",
       "       [2.01374263],\n",
       "       [2.97260462],\n",
       "       [2.07453226],\n",
       "       [2.29881343],\n",
       "       [2.46790529],\n",
       "       [2.29824336],\n",
       "       [2.64207222],\n",
       "       [2.35601224],\n",
       "       [2.95166231],\n",
       "       [2.14597307],\n",
       "       [2.19717759],\n",
       "       [2.54598873],\n",
       "       [2.80538113],\n",
       "       [2.08812876],\n",
       "       [2.87688878],\n",
       "       [2.27451661],\n",
       "       [2.51138574],\n",
       "       [2.07898459],\n",
       "       [2.15649881],\n",
       "       [2.2248608 ],\n",
       "       [2.01218003],\n",
       "       [2.27500044],\n",
       "       [2.34178628],\n",
       "       [2.3230052 ],\n",
       "       [2.23645188],\n",
       "       [2.99056871],\n",
       "       [2.42532708],\n",
       "       [2.22034619],\n",
       "       [2.42145671],\n",
       "       [2.22853553],\n",
       "       [2.92559027],\n",
       "       [2.26666272],\n",
       "       [2.42872939],\n",
       "       [2.62804785],\n",
       "       [2.06067601],\n",
       "       [2.25748024],\n",
       "       [2.0710951 ],\n",
       "       [2.53841833],\n",
       "       [2.75792338],\n",
       "       [2.35751008],\n",
       "       [2.78186224],\n",
       "       [2.41751775],\n",
       "       [2.33038669],\n",
       "       [2.17862014],\n",
       "       [2.14050136],\n",
       "       [2.28598537],\n",
       "       [2.70416326],\n",
       "       [2.9306272 ],\n",
       "       [2.79577817],\n",
       "       [2.27072174],\n",
       "       [2.36846607],\n",
       "       [2.04142144],\n",
       "       [2.26389688],\n",
       "       [2.44280065],\n",
       "       [2.86952701],\n",
       "       [2.27974929],\n",
       "       [2.97888956],\n",
       "       [2.49720412],\n",
       "       [2.32518427],\n",
       "       [2.82219286],\n",
       "       [2.4887627 ],\n",
       "       [2.25261803],\n",
       "       [2.28302952],\n",
       "       [2.1528222 ],\n",
       "       [2.86487201],\n",
       "       [2.58896962],\n",
       "       [2.6794346 ],\n",
       "       [2.10900926],\n",
       "       [2.69312382],\n",
       "       [2.80285399],\n",
       "       [2.13877085],\n",
       "       [2.88785928],\n",
       "       [2.74691452],\n",
       "       [2.47417932],\n",
       "       [2.38898208],\n",
       "       [2.41975295],\n",
       "       [2.81065716],\n",
       "       [2.33113471],\n",
       "       [2.87838736],\n",
       "       [2.07762559],\n",
       "       [2.9430883 ],\n",
       "       [2.62093129],\n",
       "       [2.6026539 ],\n",
       "       [2.39169878],\n",
       "       [2.65655751],\n",
       "       [2.57834426],\n",
       "       [2.86253601],\n",
       "       [2.76975645],\n",
       "       [2.48677442],\n",
       "       [2.11184802],\n",
       "       [2.69201208],\n",
       "       [2.2241306 ],\n",
       "       [2.70850183],\n",
       "       [2.66983655],\n",
       "       [2.36198406],\n",
       "       [2.39052866],\n",
       "       [2.69521054],\n",
       "       [2.6943581 ],\n",
       "       [2.24586551],\n",
       "       [2.14254379],\n",
       "       [2.81977509],\n",
       "       [2.59402194],\n",
       "       [2.34263193],\n",
       "       [2.72797189],\n",
       "       [2.90689003],\n",
       "       [2.81951789],\n",
       "       [2.00213458],\n",
       "       [2.78560142],\n",
       "       [2.47009871],\n",
       "       [2.19027719],\n",
       "       [2.8450256 ],\n",
       "       [2.36454486],\n",
       "       [2.15122419],\n",
       "       [2.71810215],\n",
       "       [2.46797141],\n",
       "       [2.17276087],\n",
       "       [2.0773491 ],\n",
       "       [2.50361343],\n",
       "       [2.65443808],\n",
       "       [2.38040151],\n",
       "       [2.53414773],\n",
       "       [2.94879983],\n",
       "       [2.42575533],\n",
       "       [2.51786488],\n",
       "       [2.33597088],\n",
       "       [2.08603379],\n",
       "       [2.2931505 ],\n",
       "       [2.12450738],\n",
       "       [2.4448532 ],\n",
       "       [2.21666162],\n",
       "       [2.33772307],\n",
       "       [2.16097957],\n",
       "       [2.97756695],\n",
       "       [2.60851638],\n",
       "       [2.55079346],\n",
       "       [2.04076965],\n",
       "       [2.02982913],\n",
       "       [2.74672528],\n",
       "       [2.44151561],\n",
       "       [2.56307721],\n",
       "       [2.65024101],\n",
       "       [2.55080634],\n",
       "       [2.01746397],\n",
       "       [2.05938064],\n",
       "       [2.40439095],\n",
       "       [2.31979129],\n",
       "       [2.73363769],\n",
       "       [2.1489257 ],\n",
       "       [2.52562007],\n",
       "       [2.85190893],\n",
       "       [2.12395535],\n",
       "       [2.66664352],\n",
       "       [2.28201927],\n",
       "       [2.38119241],\n",
       "       [2.77732265],\n",
       "       [2.59553885],\n",
       "       [2.52431368],\n",
       "       [2.637016  ],\n",
       "       [2.48817309],\n",
       "       [2.13889223],\n",
       "       [2.40988394],\n",
       "       [2.00045311],\n",
       "       [2.25695381],\n",
       "       [2.14913873],\n",
       "       [2.27462642],\n",
       "       [2.27747185],\n",
       "       [2.38609046],\n",
       "       [2.23112358],\n",
       "       [2.70381696],\n",
       "       [2.89237447],\n",
       "       [2.43977919],\n",
       "       [2.30236554],\n",
       "       [2.77758502],\n",
       "       [2.10835107],\n",
       "       [2.35011288],\n",
       "       [2.256209  ],\n",
       "       [2.83889899],\n",
       "       [2.72681354],\n",
       "       [2.47238276],\n",
       "       [2.5792074 ],\n",
       "       [2.96443168],\n",
       "       [2.31512225],\n",
       "       [2.79583876],\n",
       "       [2.33113578],\n",
       "       [2.15448931],\n",
       "       [2.87137585],\n",
       "       [2.9109152 ],\n",
       "       [2.62863357],\n",
       "       [2.3240423 ],\n",
       "       [2.56871761],\n",
       "       [2.60458708],\n",
       "       [2.1554506 ],\n",
       "       [2.5070609 ],\n",
       "       [2.20245004],\n",
       "       [2.44399548],\n",
       "       [2.6525183 ],\n",
       "       [2.2683571 ],\n",
       "       [2.02532322],\n",
       "       [2.32627103],\n",
       "       [2.76198224],\n",
       "       [2.70157003],\n",
       "       [2.41762873],\n",
       "       [2.78527053],\n",
       "       [2.37635062],\n",
       "       [2.56090956],\n",
       "       [2.92899175],\n",
       "       [2.54184142],\n",
       "       [2.59085939],\n",
       "       [2.032304  ],\n",
       "       [2.12764495],\n",
       "       [2.39310037],\n",
       "       [2.61256349],\n",
       "       [2.01414849],\n",
       "       [2.64955294],\n",
       "       [2.2709989 ],\n",
       "       [2.47110473],\n",
       "       [2.4175874 ],\n",
       "       [2.87016967],\n",
       "       [2.55595539],\n",
       "       [2.50649495],\n",
       "       [2.82764823],\n",
       "       [2.50337227],\n",
       "       [2.20794227],\n",
       "       [2.70140886],\n",
       "       [2.85277986],\n",
       "       [2.22463335],\n",
       "       [2.60131907],\n",
       "       [2.78155188],\n",
       "       [2.9471375 ],\n",
       "       [2.77102346],\n",
       "       [2.80358427],\n",
       "       [2.41581441],\n",
       "       [2.67598612],\n",
       "       [2.65794924],\n",
       "       [2.5963801 ],\n",
       "       [2.01055387],\n",
       "       [2.84356696],\n",
       "       [2.07527633],\n",
       "       [2.44382756],\n",
       "       [2.93973333],\n",
       "       [2.08496265],\n",
       "       [2.88744836],\n",
       "       [2.64205026],\n",
       "       [2.68123839],\n",
       "       [2.67104094],\n",
       "       [2.90136323],\n",
       "       [2.79275818],\n",
       "       [2.28926947],\n",
       "       [2.28522396],\n",
       "       [2.84201229],\n",
       "       [2.99810459],\n",
       "       [2.21874433],\n",
       "       [2.42284037],\n",
       "       [2.65547257],\n",
       "       [2.51888123],\n",
       "       [2.1273669 ],\n",
       "       [2.99066983],\n",
       "       [2.40491314],\n",
       "       [2.3047442 ],\n",
       "       [2.46626229],\n",
       "       [2.24739181],\n",
       "       [2.32258769],\n",
       "       [2.34157616],\n",
       "       [2.77310501],\n",
       "       [2.32464546],\n",
       "       [2.49037962],\n",
       "       [2.35751406],\n",
       "       [2.56400447],\n",
       "       [2.78526235],\n",
       "       [2.41847728],\n",
       "       [2.87972924],\n",
       "       [2.77909007],\n",
       "       [2.72060639],\n",
       "       [2.39408408],\n",
       "       [2.77032197],\n",
       "       [2.05718306],\n",
       "       [2.26595134],\n",
       "       [2.44114846],\n",
       "       [2.8650618 ],\n",
       "       [2.26808834],\n",
       "       [2.25913077],\n",
       "       [2.99585565],\n",
       "       [2.04734576],\n",
       "       [2.90085443],\n",
       "       [2.30893763],\n",
       "       [2.48125323],\n",
       "       [2.19354096],\n",
       "       [2.87630505],\n",
       "       [2.85473933],\n",
       "       [2.11020646],\n",
       "       [2.67915647],\n",
       "       [2.53506276],\n",
       "       [2.95398218],\n",
       "       [2.0293692 ],\n",
       "       [2.17175766],\n",
       "       [2.79455993],\n",
       "       [2.19178651],\n",
       "       [2.36724656],\n",
       "       [2.85005665],\n",
       "       [2.66453803],\n",
       "       [2.70465735],\n",
       "       [2.41155944],\n",
       "       [2.34300905],\n",
       "       [2.79627046],\n",
       "       [2.70297795],\n",
       "       [2.78358654],\n",
       "       [2.55096873],\n",
       "       [2.09363967],\n",
       "       [2.90443511],\n",
       "       [2.38904696],\n",
       "       [2.68724564],\n",
       "       [2.44514088],\n",
       "       [2.30511128],\n",
       "       [2.33472537],\n",
       "       [2.16216758],\n",
       "       [2.20024719],\n",
       "       [2.34560684],\n",
       "       [2.76326   ],\n",
       "       [2.58276461],\n",
       "       [2.51910525],\n",
       "       [2.62570469],\n",
       "       [2.72867201],\n",
       "       [2.56921264],\n",
       "       [2.09589719],\n",
       "       [2.64942904],\n",
       "       [2.27484829],\n",
       "       [2.60026842],\n",
       "       [2.48441039],\n",
       "       [2.69070253],\n",
       "       [2.40140723],\n",
       "       [2.00197867],\n",
       "       [2.75703465],\n",
       "       [2.59615314],\n",
       "       [2.71778923],\n",
       "       [2.5430556 ],\n",
       "       [2.67286498],\n",
       "       [2.76723517],\n",
       "       [2.75694671],\n",
       "       [2.6213509 ],\n",
       "       [2.80882855],\n",
       "       [2.49780894],\n",
       "       [2.7593579 ],\n",
       "       [2.15118427],\n",
       "       [2.42969318],\n",
       "       [2.63692269],\n",
       "       [2.7999395 ],\n",
       "       [2.65724035],\n",
       "       [2.56722125],\n",
       "       [2.5096928 ],\n",
       "       [2.40299327],\n",
       "       [2.70540344],\n",
       "       [2.97112676],\n",
       "       [2.57127017],\n",
       "       [2.80585386],\n",
       "       [2.9065978 ],\n",
       "       [2.78612422],\n",
       "       [2.25978567],\n",
       "       [2.61823132],\n",
       "       [2.75540016],\n",
       "       [2.1929217 ],\n",
       "       [2.26590027],\n",
       "       [2.46861543],\n",
       "       [2.29912498],\n",
       "       [2.38214727],\n",
       "       [2.5887335 ],\n",
       "       [2.91694148],\n",
       "       [2.4785585 ],\n",
       "       [2.19172404],\n",
       "       [2.70564511],\n",
       "       [2.79629436],\n",
       "       [2.64473851],\n",
       "       [2.1822911 ],\n",
       "       [2.65063354],\n",
       "       [2.17995771],\n",
       "       [2.23240333],\n",
       "       [2.47586752],\n",
       "       [2.96884283],\n",
       "       [2.57206101],\n",
       "       [2.32677975],\n",
       "       [2.57074097],\n",
       "       [2.26572559],\n",
       "       [2.02422268],\n",
       "       [2.65529879]])"
      ]
     },
     "execution_count": 94,
     "metadata": {},
     "output_type": "execute_result"
    }
   ],
   "source": [
    "X"
   ]
  },
  {
   "cell_type": "code",
   "execution_count": 95,
   "id": "2d0ce5aa",
   "metadata": {},
   "outputs": [
    {
     "data": {
      "text/plain": [
       "array([[14.24805884],\n",
       "       [11.85212599],\n",
       "       [16.36487965],\n",
       "       [13.00453583],\n",
       "       [13.7769018 ],\n",
       "       [13.51144931],\n",
       "       [12.6149701 ],\n",
       "       [14.01777807],\n",
       "       [12.51044798],\n",
       "       [12.532964  ],\n",
       "       [10.91833061],\n",
       "       [13.63702045],\n",
       "       [13.83066365],\n",
       "       [12.47066742],\n",
       "       [12.34047622],\n",
       "       [10.47525261],\n",
       "       [ 9.79710917],\n",
       "       [14.42867828],\n",
       "       [12.65089567],\n",
       "       [11.77243849],\n",
       "       [13.88059297],\n",
       "       [12.71487852],\n",
       "       [12.26079248],\n",
       "       [14.73223145],\n",
       "       [11.74285004],\n",
       "       [10.64122056],\n",
       "       [10.94271284],\n",
       "       [14.12092855],\n",
       "       [11.98255723],\n",
       "       [13.70350362],\n",
       "       [12.86646934],\n",
       "       [12.53360477],\n",
       "       [11.31960906],\n",
       "       [13.85342338],\n",
       "       [11.19890311],\n",
       "       [12.4878833 ],\n",
       "       [13.23017529],\n",
       "       [11.63520165],\n",
       "       [15.78227164],\n",
       "       [14.41831351],\n",
       "       [12.48930558],\n",
       "       [10.04135455],\n",
       "       [10.05963499],\n",
       "       [11.97241398],\n",
       "       [14.17041781],\n",
       "       [12.75665004],\n",
       "       [12.53300151],\n",
       "       [12.49538977],\n",
       "       [11.32212595],\n",
       "       [13.40046304],\n",
       "       [12.23217069],\n",
       "       [13.51932539],\n",
       "       [14.4235251 ],\n",
       "       [12.07436872],\n",
       "       [12.43340742],\n",
       "       [14.31620523],\n",
       "       [12.6820806 ],\n",
       "       [15.6403384 ],\n",
       "       [14.21305373],\n",
       "       [13.24644061],\n",
       "       [14.24111893],\n",
       "       [14.3614367 ],\n",
       "       [13.93460643],\n",
       "       [13.38027664],\n",
       "       [14.24204176],\n",
       "       [12.99247582],\n",
       "       [13.11623887],\n",
       "       [12.89863543],\n",
       "       [13.70007781],\n",
       "       [14.82185049],\n",
       "       [11.87742396],\n",
       "       [12.86965243],\n",
       "       [11.94274076],\n",
       "       [11.5694486 ],\n",
       "       [13.95610851],\n",
       "       [14.48468552],\n",
       "       [11.4062543 ],\n",
       "       [11.12574183],\n",
       "       [11.86003683],\n",
       "       [15.13357186],\n",
       "       [12.76660556],\n",
       "       [14.05718078],\n",
       "       [10.88211747],\n",
       "       [10.60232123],\n",
       "       [12.14038178],\n",
       "       [13.77553492],\n",
       "       [12.57733864],\n",
       "       [11.55967705],\n",
       "       [12.7269894 ],\n",
       "       [12.79303681],\n",
       "       [12.58199492],\n",
       "       [12.91899959],\n",
       "       [13.77614151],\n",
       "       [14.75724109],\n",
       "       [10.08238812],\n",
       "       [13.34903109],\n",
       "       [12.009583  ],\n",
       "       [ 9.26440877],\n",
       "       [13.94295153],\n",
       "       [12.19674964],\n",
       "       [14.14664593],\n",
       "       [12.89268927],\n",
       "       [13.72151909],\n",
       "       [12.69558427],\n",
       "       [17.44417522],\n",
       "       [13.15271337],\n",
       "       [12.65978104],\n",
       "       [13.07418529],\n",
       "       [14.33095766],\n",
       "       [13.7318048 ],\n",
       "       [13.55462904],\n",
       "       [10.94655833],\n",
       "       [12.46015227],\n",
       "       [14.58330313],\n",
       "       [12.09718057],\n",
       "       [10.84844671],\n",
       "       [13.34043606],\n",
       "       [11.6470146 ],\n",
       "       [13.83677329],\n",
       "       [13.66896515],\n",
       "       [13.58504655],\n",
       "       [12.23579852],\n",
       "       [12.50216579],\n",
       "       [14.5025538 ],\n",
       "       [ 9.35386851],\n",
       "       [13.48779321],\n",
       "       [14.10910103],\n",
       "       [12.07417032],\n",
       "       [12.27414282],\n",
       "       [13.95356239],\n",
       "       [10.55146807],\n",
       "       [11.94441592],\n",
       "       [11.60629797],\n",
       "       [12.53900051],\n",
       "       [12.41138058],\n",
       "       [16.34219331],\n",
       "       [11.15603468],\n",
       "       [14.21444086],\n",
       "       [11.74739505],\n",
       "       [14.49097559],\n",
       "       [10.35060146],\n",
       "       [12.87995526],\n",
       "       [13.08266606],\n",
       "       [10.33645749],\n",
       "       [14.60509809],\n",
       "       [12.14264784],\n",
       "       [11.32469011],\n",
       "       [15.31568185],\n",
       "       [14.5817629 ],\n",
       "       [13.04897765],\n",
       "       [14.47398841],\n",
       "       [12.26027414],\n",
       "       [16.60667942],\n",
       "       [11.02221578],\n",
       "       [13.36183907],\n",
       "       [11.98342007],\n",
       "       [12.60536533],\n",
       "       [ 9.97232287],\n",
       "       [ 9.09992459],\n",
       "       [11.67240548],\n",
       "       [12.89061403],\n",
       "       [16.42378643],\n",
       "       [11.67843243],\n",
       "       [14.1015864 ],\n",
       "       [12.74588361],\n",
       "       [13.9635474 ],\n",
       "       [12.12631538],\n",
       "       [15.02791337],\n",
       "       [13.71875245],\n",
       "       [14.45033564],\n",
       "       [14.31498792],\n",
       "       [12.45699936],\n",
       "       [11.23346553],\n",
       "       [10.55633203],\n",
       "       [14.30730476],\n",
       "       [13.62466971],\n",
       "       [11.10543543],\n",
       "       [10.09668621],\n",
       "       [14.70537159],\n",
       "       [13.20577103],\n",
       "       [11.81114112],\n",
       "       [11.19092708],\n",
       "       [13.32223769],\n",
       "       [14.40251756],\n",
       "       [13.61437162],\n",
       "       [11.13193688],\n",
       "       [12.74026567],\n",
       "       [15.48724999],\n",
       "       [12.6558834 ],\n",
       "       [12.38999887],\n",
       "       [13.92774224],\n",
       "       [12.39033477],\n",
       "       [15.22090534],\n",
       "       [13.07386956],\n",
       "       [13.04602595],\n",
       "       [14.55717366],\n",
       "       [13.71952775],\n",
       "       [12.7094164 ],\n",
       "       [10.63316944],\n",
       "       [10.96899375],\n",
       "       [12.2732171 ],\n",
       "       [14.10754096],\n",
       "       [15.12255367],\n",
       "       [12.70713965],\n",
       "       [11.60012057],\n",
       "       [13.55416211],\n",
       "       [13.48221841],\n",
       "       [11.4870663 ],\n",
       "       [12.77363051],\n",
       "       [12.53840103],\n",
       "       [12.70047855],\n",
       "       [12.22692953],\n",
       "       [13.88510762],\n",
       "       [14.16008099],\n",
       "       [14.42208492],\n",
       "       [14.86610005],\n",
       "       [10.74895464],\n",
       "       [13.89400229],\n",
       "       [12.01395731],\n",
       "       [11.24841081],\n",
       "       [16.02441501],\n",
       "       [13.9326763 ],\n",
       "       [14.48934356],\n",
       "       [14.7464308 ],\n",
       "       [10.16838887],\n",
       "       [11.31885745],\n",
       "       [16.11505068],\n",
       "       [12.00341817],\n",
       "       [11.7428382 ],\n",
       "       [11.82233772],\n",
       "       [12.79999834],\n",
       "       [11.79512071],\n",
       "       [17.03763005],\n",
       "       [10.75135397],\n",
       "       [12.43641308],\n",
       "       [10.60971679],\n",
       "       [14.02051333],\n",
       "       [14.9183235 ],\n",
       "       [10.81345241],\n",
       "       [14.21018511],\n",
       "       [10.51237994],\n",
       "       [13.35591295],\n",
       "       [13.37537177],\n",
       "       [15.55006552],\n",
       "       [14.57204361],\n",
       "       [11.75644403],\n",
       "       [10.57617843],\n",
       "       [12.93990369],\n",
       "       [15.52184131],\n",
       "       [13.72915649],\n",
       "       [12.01734614],\n",
       "       [13.70014684],\n",
       "       [15.67403977],\n",
       "       [14.42309781],\n",
       "       [10.97113631],\n",
       "       [14.79731741],\n",
       "       [13.15037931],\n",
       "       [ 9.66850024],\n",
       "       [12.13286057],\n",
       "       [11.95959954],\n",
       "       [13.68964105],\n",
       "       [11.85518888],\n",
       "       [12.72261129],\n",
       "       [13.32375357],\n",
       "       [13.15055031],\n",
       "       [12.95528972],\n",
       "       [14.01777034],\n",
       "       [10.71695955],\n",
       "       [12.68197763],\n",
       "       [14.74358703],\n",
       "       [13.3629841 ],\n",
       "       [10.35923651],\n",
       "       [12.6955696 ],\n",
       "       [14.14080678],\n",
       "       [12.42474044],\n",
       "       [11.87931435],\n",
       "       [12.74876483],\n",
       "       [12.11611627],\n",
       "       [15.70544735],\n",
       "       [13.55057872],\n",
       "       [14.43075229],\n",
       "       [13.92095554],\n",
       "       [13.1163793 ],\n",
       "       [12.65669252],\n",
       "       [12.6309966 ],\n",
       "       [14.07163558],\n",
       "       [13.00984393],\n",
       "       [10.32007565],\n",
       "       [13.95958821],\n",
       "       [11.98805283],\n",
       "       [12.08020181],\n",
       "       [11.29023535],\n",
       "       [13.35727813],\n",
       "       [ 9.73368276],\n",
       "       [13.3964077 ],\n",
       "       [14.63511389],\n",
       "       [14.29823662],\n",
       "       [14.32348762],\n",
       "       [11.11783442],\n",
       "       [12.31637091],\n",
       "       [15.31338702],\n",
       "       [12.464712  ],\n",
       "       [12.84569477],\n",
       "       [11.97588304],\n",
       "       [12.17000598],\n",
       "       [12.75822249],\n",
       "       [14.15547066],\n",
       "       [13.66496262],\n",
       "       [11.26921222],\n",
       "       [ 9.7152082 ],\n",
       "       [12.32927493],\n",
       "       [ 9.88615032],\n",
       "       [12.06414694],\n",
       "       [15.67980457],\n",
       "       [11.98031646],\n",
       "       [13.39783204],\n",
       "       [14.63980805],\n",
       "       [12.72374366],\n",
       "       [11.86494639],\n",
       "       [14.10739956],\n",
       "       [14.20669521],\n",
       "       [12.29172814],\n",
       "       [12.27499982],\n",
       "       [11.48668783],\n",
       "       [13.96177702],\n",
       "       [13.40497125],\n",
       "       [13.98626603],\n",
       "       [11.24159615],\n",
       "       [11.57341445],\n",
       "       [13.80422979],\n",
       "       [14.34080561],\n",
       "       [13.43093081],\n",
       "       [11.36246312],\n",
       "       [14.27801109],\n",
       "       [14.18906262],\n",
       "       [10.88565142],\n",
       "       [13.70029268],\n",
       "       [13.4008331 ],\n",
       "       [14.42274552],\n",
       "       [11.4283781 ],\n",
       "       [14.92416051],\n",
       "       [15.45672688],\n",
       "       [12.45830405],\n",
       "       [11.31047733],\n",
       "       [12.95582955],\n",
       "       [14.2913591 ],\n",
       "       [14.8964422 ],\n",
       "       [12.06648383],\n",
       "       [11.99389224],\n",
       "       [14.00029078],\n",
       "       [11.49644944],\n",
       "       [13.58764596],\n",
       "       [11.99920838],\n",
       "       [10.53027147],\n",
       "       [11.66967114],\n",
       "       [12.76816011],\n",
       "       [13.05794476],\n",
       "       [11.30142108],\n",
       "       [15.12538017],\n",
       "       [12.27080063],\n",
       "       [14.47094253],\n",
       "       [14.26520169],\n",
       "       [11.45022441],\n",
       "       [15.49625237],\n",
       "       [11.21184145],\n",
       "       [11.75584333],\n",
       "       [14.86477753],\n",
       "       [13.0301948 ],\n",
       "       [13.9738565 ],\n",
       "       [11.24131528],\n",
       "       [14.63740763],\n",
       "       [16.09972952],\n",
       "       [14.37494902],\n",
       "       [13.58521912],\n",
       "       [16.19133105],\n",
       "       [14.44407247],\n",
       "       [11.88620781],\n",
       "       [12.32302266],\n",
       "       [12.67856099],\n",
       "       [12.81731029],\n",
       "       [14.19430292],\n",
       "       [11.49070577],\n",
       "       [11.17578104],\n",
       "       [13.05846912],\n",
       "       [12.79846166],\n",
       "       [14.69643055],\n",
       "       [10.59924458],\n",
       "       [14.09343493],\n",
       "       [11.61508922],\n",
       "       [15.04712786],\n",
       "       [14.57587935],\n",
       "       [10.57497427],\n",
       "       [15.61698599],\n",
       "       [14.3898325 ],\n",
       "       [11.723371  ],\n",
       "       [15.57511266],\n",
       "       [15.68931631],\n",
       "       [10.78662047],\n",
       "       [12.488434  ],\n",
       "       [14.46472409],\n",
       "       [13.27265642],\n",
       "       [ 8.14158696],\n",
       "       [11.83111799],\n",
       "       [14.26676734],\n",
       "       [12.77327313],\n",
       "       [14.15447593],\n",
       "       [13.26165909],\n",
       "       [14.23143891],\n",
       "       [14.7451735 ],\n",
       "       [12.19277966],\n",
       "       [13.59995266],\n",
       "       [14.18464138],\n",
       "       [13.0440888 ],\n",
       "       [13.36100925],\n",
       "       [15.25204499],\n",
       "       [10.8837524 ],\n",
       "       [13.30142724],\n",
       "       [13.57232487],\n",
       "       [11.4334886 ],\n",
       "       [12.68508806],\n",
       "       [10.53657574],\n",
       "       [10.82823115],\n",
       "       [11.15733672],\n",
       "       [14.18974807],\n",
       "       [11.70253681],\n",
       "       [13.52987006],\n",
       "       [11.74396883],\n",
       "       [10.21803686],\n",
       "       [11.26976676],\n",
       "       [12.74915165],\n",
       "       [13.55490157],\n",
       "       [14.57460156],\n",
       "       [14.51292192],\n",
       "       [11.23013824],\n",
       "       [13.41257461],\n",
       "       [12.9232224 ],\n",
       "       [12.6020366 ],\n",
       "       [12.22351933],\n",
       "       [ 9.56541906],\n",
       "       [12.78697797],\n",
       "       [11.89954852],\n",
       "       [13.03904596],\n",
       "       [11.86745081],\n",
       "       [10.61337836],\n",
       "       [13.31858653],\n",
       "       [12.57457442],\n",
       "       [13.01489042],\n",
       "       [14.32456341],\n",
       "       [12.7451524 ],\n",
       "       [13.7382763 ],\n",
       "       [10.31823939],\n",
       "       [12.50572774],\n",
       "       [11.90073315],\n",
       "       [11.78134327],\n",
       "       [12.81188434],\n",
       "       [14.35218221],\n",
       "       [13.48086193],\n",
       "       [13.3194769 ],\n",
       "       [14.00727331],\n",
       "       [ 9.80754319],\n",
       "       [14.17459712],\n",
       "       [13.65446622],\n",
       "       [13.10570142],\n",
       "       [12.42401208],\n",
       "       [13.90627878],\n",
       "       [11.79480376],\n",
       "       [11.97538635],\n",
       "       [13.6304622 ],\n",
       "       [14.13451822],\n",
       "       [14.2039411 ],\n",
       "       [11.59718779],\n",
       "       [13.55428671],\n",
       "       [14.37405611],\n",
       "       [14.92974839],\n",
       "       [12.77068336],\n",
       "       [11.61279979],\n",
       "       [11.31392623],\n",
       "       [11.80284482],\n",
       "       [11.68483495],\n",
       "       [12.08910283],\n",
       "       [15.11801214],\n",
       "       [11.74099865],\n",
       "       [13.81691884],\n",
       "       [12.33913467],\n",
       "       [14.06726713],\n",
       "       [13.77035022],\n",
       "       [13.17608407],\n",
       "       [13.2348228 ],\n",
       "       [12.95917815],\n",
       "       [12.56827348],\n",
       "       [15.01427327],\n",
       "       [15.19402419],\n",
       "       [10.96932619],\n",
       "       [16.33558638],\n",
       "       [13.37598987],\n",
       "       [14.8802934 ],\n",
       "       [14.79666798],\n",
       "       [13.72044928],\n",
       "       [12.26916692],\n",
       "       [14.10111478],\n",
       "       [12.63030843],\n",
       "       [13.62177783],\n",
       "       [13.36517179],\n",
       "       [13.38953112],\n",
       "       [13.75568938],\n",
       "       [11.80054429],\n",
       "       [14.56685759],\n",
       "       [14.53905583],\n",
       "       [10.74670967],\n",
       "       [12.43060996],\n",
       "       [14.60044384],\n",
       "       [11.29333346],\n",
       "       [12.4254738 ],\n",
       "       [14.93879333],\n",
       "       [14.56427328],\n",
       "       [14.67004391],\n",
       "       [13.72684891],\n",
       "       [13.89124336],\n",
       "       [15.10075232],\n",
       "       [13.5822271 ],\n",
       "       [13.08251866],\n",
       "       [11.454379  ],\n",
       "       [12.55037013],\n",
       "       [13.61587865],\n",
       "       [12.48121242],\n",
       "       [14.81040444],\n",
       "       [12.31811433],\n",
       "       [13.15904277],\n",
       "       [15.19108029],\n",
       "       [11.68845033],\n",
       "       [12.45679476],\n",
       "       [14.78517875],\n",
       "       [11.67105769],\n",
       "       [13.06825294],\n",
       "       [11.85593021],\n",
       "       [11.44722917],\n",
       "       [11.06292781],\n",
       "       [12.96893545],\n",
       "       [14.13583409],\n",
       "       [14.20522228],\n",
       "       [15.30522313],\n",
       "       [14.57761726],\n",
       "       [10.89518457],\n",
       "       [11.84413973],\n",
       "       [15.00002267],\n",
       "       [12.6253097 ],\n",
       "       [11.86663712],\n",
       "       [15.37146902],\n",
       "       [13.11717841],\n",
       "       [11.71614284],\n",
       "       [14.00075103],\n",
       "       [13.42196824],\n",
       "       [12.96417835],\n",
       "       [13.93080117],\n",
       "       [13.0675895 ],\n",
       "       [15.18236064],\n",
       "       [14.10453124],\n",
       "       [12.69417941],\n",
       "       [10.90482409],\n",
       "       [15.02751297],\n",
       "       [11.62677298],\n",
       "       [14.11956559],\n",
       "       [14.54693766],\n",
       "       [11.23183638],\n",
       "       [11.71392212],\n",
       "       [13.24493476],\n",
       "       [10.92451809],\n",
       "       [11.7990104 ],\n",
       "       [11.53731116],\n",
       "       [14.36647138],\n",
       "       [11.65394143],\n",
       "       [13.55466687],\n",
       "       [12.6451566 ],\n",
       "       [12.06383457],\n",
       "       [13.19772562],\n",
       "       [14.98432606],\n",
       "       [11.13820626],\n",
       "       [14.55138641],\n",
       "       [14.72357522],\n",
       "       [10.3990822 ],\n",
       "       [11.98313678],\n",
       "       [12.21178641],\n",
       "       [12.19156203],\n",
       "       [15.43176284],\n",
       "       [14.32184941],\n",
       "       [17.2529879 ],\n",
       "       [14.89675051],\n",
       "       [13.09279487],\n",
       "       [10.6642329 ],\n",
       "       [11.05253115],\n",
       "       [14.49420089],\n",
       "       [10.77509672],\n",
       "       [13.90053341],\n",
       "       [13.433129  ],\n",
       "       [12.49895666],\n",
       "       [15.27545226],\n",
       "       [13.6877443 ],\n",
       "       [ 9.51450529],\n",
       "       [14.08826735],\n",
       "       [10.10094593],\n",
       "       [12.49981875],\n",
       "       [11.77171122],\n",
       "       [13.35346797],\n",
       "       [13.29513756],\n",
       "       [12.66613148],\n",
       "       [12.64009416],\n",
       "       [12.53518799],\n",
       "       [11.90835343],\n",
       "       [14.68011708],\n",
       "       [ 9.6223402 ],\n",
       "       [11.90026447],\n",
       "       [14.61754788],\n",
       "       [14.89578756],\n",
       "       [14.38440823],\n",
       "       [11.96697246],\n",
       "       [10.56116959],\n",
       "       [14.08402935],\n",
       "       [11.68722992],\n",
       "       [14.371029  ],\n",
       "       [10.92813521],\n",
       "       [12.3550463 ],\n",
       "       [13.97987818],\n",
       "       [11.1824131 ],\n",
       "       [13.81993962],\n",
       "       [12.65987442],\n",
       "       [12.90144945],\n",
       "       [11.69458926],\n",
       "       [10.70086688],\n",
       "       [11.65574479],\n",
       "       [13.59561132],\n",
       "       [11.7165339 ],\n",
       "       [12.77435572],\n",
       "       [11.26986321],\n",
       "       [11.21435014],\n",
       "       [10.42797816],\n",
       "       [13.4948165 ],\n",
       "       [13.3628499 ],\n",
       "       [13.20916631],\n",
       "       [13.27590017],\n",
       "       [11.35179271],\n",
       "       [11.69162432],\n",
       "       [11.26425864],\n",
       "       [14.64873736],\n",
       "       [12.61693872],\n",
       "       [14.36266615],\n",
       "       [12.64807484],\n",
       "       [12.34839544],\n",
       "       [14.53245634],\n",
       "       [11.91719256],\n",
       "       [14.84535678],\n",
       "       [13.65358058],\n",
       "       [12.21074973],\n",
       "       [ 9.60824029],\n",
       "       [10.59824945],\n",
       "       [13.26569828],\n",
       "       [16.58086115],\n",
       "       [14.68548729],\n",
       "       [13.91567522],\n",
       "       [11.40760365],\n",
       "       [12.53488795],\n",
       "       [10.46708627],\n",
       "       [10.77898905],\n",
       "       [13.04846484],\n",
       "       [13.77883377],\n",
       "       [13.65510294],\n",
       "       [13.89976688],\n",
       "       [12.99783046],\n",
       "       [12.33301757],\n",
       "       [10.73393999],\n",
       "       [13.62803236],\n",
       "       [13.12487787],\n",
       "       [15.25760201],\n",
       "       [10.72385475],\n",
       "       [16.67386823],\n",
       "       [12.5191503 ],\n",
       "       [12.23442497],\n",
       "       [13.08347419],\n",
       "       [11.99404924],\n",
       "       [11.31503937],\n",
       "       [12.37005516],\n",
       "       [10.83690948],\n",
       "       [15.26634672],\n",
       "       [13.7559395 ],\n",
       "       [13.82173106],\n",
       "       [11.62006468],\n",
       "       [15.19676989],\n",
       "       [14.29209171],\n",
       "       [11.6700151 ],\n",
       "       [15.47019878],\n",
       "       [14.13347605],\n",
       "       [11.18016433],\n",
       "       [12.2030532 ],\n",
       "       [12.07078208],\n",
       "       [13.72169957],\n",
       "       [12.82436191],\n",
       "       [14.92186927],\n",
       "       [12.58275664],\n",
       "       [15.71444639],\n",
       "       [12.26517553],\n",
       "       [14.0891375 ],\n",
       "       [13.99094747],\n",
       "       [13.06564875],\n",
       "       [12.48180539],\n",
       "       [14.45358326],\n",
       "       [15.06358023],\n",
       "       [12.69031518],\n",
       "       [10.10814516],\n",
       "       [15.64406686],\n",
       "       [11.06841288],\n",
       "       [14.39269788],\n",
       "       [14.02362397],\n",
       "       [12.72377746],\n",
       "       [10.82135593],\n",
       "       [13.55560989],\n",
       "       [13.23259944],\n",
       "       [11.14354028],\n",
       "       [10.74095751],\n",
       "       [13.79339272],\n",
       "       [14.66633501],\n",
       "       [13.98809391],\n",
       "       [14.25354134],\n",
       "       [14.63894561],\n",
       "       [15.38214504],\n",
       "       [10.90593392],\n",
       "       [12.91988679],\n",
       "       [14.68773631],\n",
       "       [13.1050422 ],\n",
       "       [14.45491766],\n",
       "       [11.14931871],\n",
       "       [11.75516368],\n",
       "       [14.02425399],\n",
       "       [11.98053614],\n",
       "       [12.02980505],\n",
       "       [10.63105581],\n",
       "       [11.96069317],\n",
       "       [14.47493594],\n",
       "       [13.94999712],\n",
       "       [12.30138756],\n",
       "       [14.28788881],\n",
       "       [14.19760482],\n",
       "       [13.22693351],\n",
       "       [11.31183288],\n",
       "       [12.7552281 ],\n",
       "       [12.73368371],\n",
       "       [13.18734617],\n",
       "       [14.34705081],\n",
       "       [11.22432485],\n",
       "       [11.93860162],\n",
       "       [11.16117337],\n",
       "       [15.07348985],\n",
       "       [14.45001228],\n",
       "       [12.9251899 ],\n",
       "       [10.24526618],\n",
       "       [11.0748756 ],\n",
       "       [13.66820085],\n",
       "       [14.01388947],\n",
       "       [14.17437697],\n",
       "       [13.77048455],\n",
       "       [13.26458225],\n",
       "       [10.88890917],\n",
       "       [11.2709354 ],\n",
       "       [14.24574051],\n",
       "       [13.38584107],\n",
       "       [11.9625396 ],\n",
       "       [12.08514469],\n",
       "       [12.65470595],\n",
       "       [14.02565987],\n",
       "       [ 9.78503133],\n",
       "       [13.53010685],\n",
       "       [11.27348811],\n",
       "       [11.89903775],\n",
       "       [14.10529159],\n",
       "       [11.47707426],\n",
       "       [13.53884453],\n",
       "       [14.19842135],\n",
       "       [13.68624687],\n",
       "       [12.84611585],\n",
       "       [13.92233233],\n",
       "       [11.71222982],\n",
       "       [11.70612736],\n",
       "       [12.12087294],\n",
       "       [13.01104602],\n",
       "       [13.8843726 ],\n",
       "       [13.33766772],\n",
       "       [10.47280716],\n",
       "       [14.35646394],\n",
       "       [13.85600882],\n",
       "       [12.27076928],\n",
       "       [12.02685033],\n",
       "       [13.47793308],\n",
       "       [10.27132492],\n",
       "       [11.60120433],\n",
       "       [11.86538147],\n",
       "       [15.15085961],\n",
       "       [13.6091216 ],\n",
       "       [13.82930124],\n",
       "       [13.80957055],\n",
       "       [14.31967671],\n",
       "       [12.43797606],\n",
       "       [14.87512971],\n",
       "       [12.98893306],\n",
       "       [10.40365129],\n",
       "       [15.28279214],\n",
       "       [14.15102829],\n",
       "       [14.86067491],\n",
       "       [13.16863634],\n",
       "       [13.32222381],\n",
       "       [14.30748233],\n",
       "       [11.16865086],\n",
       "       [13.15616313],\n",
       "       [10.71697438],\n",
       "       [13.79263491],\n",
       "       [13.04965687],\n",
       "       [10.50662731],\n",
       "       [ 8.85322127],\n",
       "       [12.08685089],\n",
       "       [13.53240793],\n",
       "       [15.74820049],\n",
       "       [14.74100684],\n",
       "       [14.50875966],\n",
       "       [13.16038134],\n",
       "       [12.91497919],\n",
       "       [14.36278583],\n",
       "       [13.28177855],\n",
       "       [13.86017508],\n",
       "       [10.68020916],\n",
       "       [10.64288921],\n",
       "       [12.52922806],\n",
       "       [13.79676126],\n",
       "       [13.0852183 ],\n",
       "       [12.81432874],\n",
       "       [13.16649636],\n",
       "       [13.5573618 ],\n",
       "       [11.95203492],\n",
       "       [14.4288021 ],\n",
       "       [13.9425884 ],\n",
       "       [13.83600225],\n",
       "       [15.92522124],\n",
       "       [12.08421061],\n",
       "       [11.63507725],\n",
       "       [14.74303125],\n",
       "       [12.69740719],\n",
       "       [13.24180073],\n",
       "       [15.58422704],\n",
       "       [15.05988381],\n",
       "       [15.03349549],\n",
       "       [14.53784864],\n",
       "       [14.0068812 ],\n",
       "       [13.05537738],\n",
       "       [14.9925446 ],\n",
       "       [12.98235078],\n",
       "       [12.42076918],\n",
       "       [11.3691565 ],\n",
       "       [13.86789931],\n",
       "       [10.04334847],\n",
       "       [13.35471809],\n",
       "       [15.34633445],\n",
       "       [13.27549725],\n",
       "       [15.19566101],\n",
       "       [13.91167141],\n",
       "       [13.23713343],\n",
       "       [13.12965011],\n",
       "       [14.31184957],\n",
       "       [14.38904378],\n",
       "       [12.93286879],\n",
       "       [12.14843077],\n",
       "       [16.05763521],\n",
       "       [13.59174468],\n",
       "       [10.36647356],\n",
       "       [13.71567059],\n",
       "       [15.50066219],\n",
       "       [13.21900302],\n",
       "       [12.35142154],\n",
       "       [15.55468733],\n",
       "       [13.28242416],\n",
       "       [11.6303532 ],\n",
       "       [12.18527113],\n",
       "       [13.57676988],\n",
       "       [11.37536782],\n",
       "       [13.79467947],\n",
       "       [13.26084899],\n",
       "       [13.28864029],\n",
       "       [12.12697286],\n",
       "       [11.61160077],\n",
       "       [13.19871801],\n",
       "       [15.11874533],\n",
       "       [16.18849173],\n",
       "       [16.25828086],\n",
       "       [15.326805  ],\n",
       "       [15.36421329],\n",
       "       [13.98903007],\n",
       "       [14.70754645],\n",
       "       [10.68481163],\n",
       "       [13.23443083],\n",
       "       [13.79579639],\n",
       "       [13.97140929],\n",
       "       [12.95543385],\n",
       "       [10.43443462],\n",
       "       [14.98569409],\n",
       "       [10.3250344 ],\n",
       "       [13.14012619],\n",
       "       [11.97119503],\n",
       "       [12.56961295],\n",
       "       [11.62135533],\n",
       "       [15.99582743],\n",
       "       [14.46383748],\n",
       "       [10.29457044],\n",
       "       [12.19788989],\n",
       "       [11.90315119],\n",
       "       [14.81484592],\n",
       "       [ 9.92584443],\n",
       "       [11.15124056],\n",
       "       [15.1868464 ],\n",
       "       [ 9.57571899],\n",
       "       [11.66143876],\n",
       "       [14.8540166 ],\n",
       "       [13.17799678],\n",
       "       [14.18802029],\n",
       "       [12.42199191],\n",
       "       [11.93921756],\n",
       "       [15.72614009],\n",
       "       [12.89883755],\n",
       "       [12.85974892],\n",
       "       [12.09653876],\n",
       "       [11.02796041],\n",
       "       [14.76948631],\n",
       "       [11.28868994],\n",
       "       [14.62824148],\n",
       "       [12.67690573],\n",
       "       [12.48592006],\n",
       "       [11.45950589],\n",
       "       [12.34810765],\n",
       "       [14.42883599],\n",
       "       [11.70210551],\n",
       "       [13.66882278],\n",
       "       [13.73877315],\n",
       "       [11.75209753],\n",
       "       [13.94616623],\n",
       "       [13.83317699],\n",
       "       [13.27957466],\n",
       "       [13.59710424],\n",
       "       [12.44756543],\n",
       "       [13.83329194],\n",
       "       [11.13072101],\n",
       "       [13.77268203],\n",
       "       [14.06081611],\n",
       "       [12.95343869],\n",
       "       [11.09361746],\n",
       "       [13.22841877],\n",
       "       [13.95595061],\n",
       "       [12.75083896],\n",
       "       [14.34004094],\n",
       "       [15.15810914],\n",
       "       [14.96575554],\n",
       "       [13.38193402],\n",
       "       [13.31745008],\n",
       "       [12.91787401],\n",
       "       [12.98245708],\n",
       "       [15.11632959],\n",
       "       [12.81705375],\n",
       "       [11.64226915],\n",
       "       [13.51965358],\n",
       "       [15.27235386],\n",
       "       [12.54887517],\n",
       "       [13.48234458],\n",
       "       [13.86049238],\n",
       "       [13.16072586],\n",
       "       [14.18589119],\n",
       "       [14.26809522],\n",
       "       [11.77992248],\n",
       "       [14.04642218],\n",
       "       [16.17537108],\n",
       "       [16.10131153],\n",
       "       [10.5431976 ],\n",
       "       [13.40097509],\n",
       "       [12.48359953],\n",
       "       [12.95694289],\n",
       "       [12.43990581],\n",
       "       [12.7447771 ],\n",
       "       [11.44273564],\n",
       "       [13.04001959],\n",
       "       [13.7213502 ],\n",
       "       [14.22397726],\n",
       "       [14.09757886],\n",
       "       [11.83307892],\n",
       "       [14.43121482],\n",
       "       [13.6340124 ],\n",
       "       [13.56068795],\n",
       "       [10.9795099 ],\n",
       "       [14.42428457],\n",
       "       [11.6868088 ],\n",
       "       [11.1604216 ],\n",
       "       [12.01881371],\n",
       "       [14.25573747],\n",
       "       [14.41451534],\n",
       "       [11.58374964],\n",
       "       [13.29359671],\n",
       "       [11.78396997],\n",
       "       [11.99936135],\n",
       "       [14.0689693 ]])"
      ]
     },
     "execution_count": 95,
     "metadata": {},
     "output_type": "execute_result"
    }
   ],
   "source": [
    "y"
   ]
  },
  {
   "cell_type": "code",
   "execution_count": 96,
   "id": "7303e3ab",
   "metadata": {},
   "outputs": [
    {
     "data": {
      "text/plain": [
       "<matplotlib.collections.PathCollection at 0x22a0bacaa00>"
      ]
     },
     "execution_count": 96,
     "metadata": {},
     "output_type": "execute_result"
    },
    {
     "data": {
      "image/png": "[encoded data removed]",
      "text/plain": [
       "<Figure size 640x480 with 1 Axes>"
      ]
     },
     "metadata": {},
     "output_type": "display_data"
    }
   ],
   "source": [
    "plt.scatter(X,y)"
   ]
  },
  {
   "cell_type": "code",
   "execution_count": 97,
   "id": "5cb958e1",
   "metadata": {},
   "outputs": [],
   "source": [
    "arr1=np.array([1,2,3])\n",
    "arr2=np.array([4,5,6])"
   ]
  },
  {
   "cell_type": "code",
   "execution_count": 98,
   "id": "9f01bd20",
   "metadata": {},
   "outputs": [],
   "source": [
    "result=np.c_[arr1,arr2]"
   ]
  },
  {
   "cell_type": "code",
   "execution_count": 99,
   "id": "10183eda",
   "metadata": {},
   "outputs": [
    {
     "data": {
      "text/plain": [
       "array([[1, 4],\n",
       "       [2, 5],\n",
       "       [3, 6]])"
      ]
     },
     "execution_count": 99,
     "metadata": {},
     "output_type": "execute_result"
    }
   ],
   "source": [
    "result"
   ]
  },
  {
   "cell_type": "code",
   "execution_count": 100,
   "id": "b060046e",
   "metadata": {},
   "outputs": [
    {
     "data": {
      "text/plain": [
       "array([[1.        , 2.9562377 ],\n",
       "       [1.        , 2.565299  ],\n",
       "       [1.        , 2.84012298],\n",
       "       ...,\n",
       "       [1.        , 2.26572559],\n",
       "       [1.        , 2.02422268],\n",
       "       [1.        , 2.65529879]])"
      ]
     },
     "execution_count": 100,
     "metadata": {},
     "output_type": "execute_result"
    }
   ],
   "source": [
    "X_b=np.c_[np.ones((1000,1)),X]\n",
    "X_b"
   ]
  },
  {
   "cell_type": "code",
   "execution_count": 101,
   "id": "41c8223a",
   "metadata": {},
   "outputs": [
    {
     "data": {
      "text/plain": [
       "array([[2.80626654],\n",
       "       [4.08411206]])"
      ]
     },
     "execution_count": 101,
     "metadata": {},
     "output_type": "execute_result"
    }
   ],
   "source": [
    "theta_best=np.linalg.inv(X_b.T.dot(X_b)).dot(X_b.T).dot(y)\n",
    "theta_best"
   ]
  },
  {
   "cell_type": "code",
   "execution_count": 108,
   "id": "2887823e",
   "metadata": {},
   "outputs": [],
   "source": [
    "X_new=np.array([[0],[2]])\n",
    "X_new_b=np.c_[np.ones((2,1)),X_new]"
   ]
  },
  {
   "cell_type": "code",
   "execution_count": 109,
   "id": "67139aff",
   "metadata": {},
   "outputs": [],
   "source": [
    "y_pred=X_new_b.dot(theta_best)"
   ]
  },
  {
   "cell_type": "code",
   "execution_count": 110,
   "id": "1ff10b74",
   "metadata": {},
   "outputs": [
    {
     "data": {
      "text/plain": [
       "array([[ 2.80626654],\n",
       "       [10.97449067]])"
      ]
     },
     "execution_count": 110,
     "metadata": {},
     "output_type": "execute_result"
    }
   ],
   "source": [
    "y_pred"
   ]
  },
  {
   "cell_type": "code",
   "execution_count": 122,
   "id": "115fef50",
   "metadata": {},
   "outputs": [
    {
     "data": {
      "text/plain": [
       "[<matplotlib.lines.Line2D at 0x22a0d8ca460>]"
      ]
     },
     "execution_count": 122,
     "metadata": {},
     "output_type": "execute_result"
    },
    {
     "data": {
      "image/png": "[encoded data removed]",
      "text/plain": [
       "<Figure size 640x480 with 1 Axes>"
      ]
     },
     "metadata": {},
     "output_type": "display_data"
    }
   ],
   "source": [
    "plt.plot(X_new,y_pred,\"r-\")\n",
    "plt.plot(X,y,\"b.\")\n"
   ]
  },
  {
   "cell_type": "code",
   "execution_count": null,
   "id": "3691f7a2",
   "metadata": {},
   "outputs": [],
   "source": []
  },
  {
   "cell_type": "code",
   "execution_count": null,
   "id": "d912b4a4",
   "metadata": {},
   "outputs": [],
   "source": []
  }
 ],
 "metadata": {
  "kernelspec": {
   "display_name": "Python 3 (ipykernel)",
   "language": "python",
   "name": "python3"
  },
  "language_info": {
   "codemirror_mode": {
    "name": "ipython",
    "version": 3
   },
   "file_extension": ".py",
   "mimetype": "text/x-python",
   "name": "python",
   "nbconvert_exporter": "python",
   "pygments_lexer": "ipython3",
   "version": "3.11.5"
  }
 },
 "nbformat": 4,
 "nbformat_minor": 5
}
