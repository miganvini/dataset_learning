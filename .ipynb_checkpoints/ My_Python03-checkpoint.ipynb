{
 "cells": [
  {
   "cell_type": "markdown",
   "id": "3c60b170",
   "metadata": {},
   "source": [
    "# Permuations des valeurs"
   ]
  },
  {
   "cell_type": "code",
   "execution_count": 1,
   "id": "96e1d29c",
   "metadata": {},
   "outputs": [],
   "source": [
    "a=2\n",
    "b=3\n",
    "a,b=b,a "
   ]
  },
  {
   "cell_type": "code",
   "execution_count": 2,
   "id": "c594987b",
   "metadata": {},
   "outputs": [
    {
     "data": {
      "text/plain": [
       "3"
      ]
     },
     "execution_count": 2,
     "metadata": {},
     "output_type": "execute_result"
    }
   ],
   "source": [
    "a"
   ]
  },
  {
   "cell_type": "code",
   "execution_count": 3,
   "id": "930e7afd",
   "metadata": {},
   "outputs": [
    {
     "data": {
      "text/plain": [
       "2"
      ]
     },
     "execution_count": 3,
     "metadata": {},
     "output_type": "execute_result"
    }
   ],
   "source": [
    "b"
   ]
  },
  {
   "cell_type": "code",
   "execution_count": 6,
   "id": "2368a542",
   "metadata": {},
   "outputs": [
    {
     "data": {
      "text/plain": [
       "9"
      ]
     },
     "execution_count": 6,
     "metadata": {},
     "output_type": "execute_result"
    }
   ],
   "source": [
    "x=y=9\n",
    "x"
   ]
  },
  {
   "cell_type": "code",
   "execution_count": 7,
   "id": "60ab1ae2",
   "metadata": {},
   "outputs": [
    {
     "data": {
      "text/plain": [
       "9"
      ]
     },
     "execution_count": 7,
     "metadata": {},
     "output_type": "execute_result"
    }
   ],
   "source": [
    "y"
   ]
  },
  {
   "cell_type": "markdown",
   "id": "1a2cdd17",
   "metadata": {},
   "source": [
    "# La fonction type "
   ]
  },
  {
   "cell_type": "code",
   "execution_count": 8,
   "id": "ad113f52",
   "metadata": {},
   "outputs": [
    {
     "data": {
      "text/plain": [
       "int"
      ]
     },
     "execution_count": 8,
     "metadata": {},
     "output_type": "execute_result"
    }
   ],
   "source": [
    "type(12)"
   ]
  },
  {
   "cell_type": "code",
   "execution_count": 9,
   "id": "0a1be573",
   "metadata": {},
   "outputs": [
    {
     "data": {
      "text/plain": [
       "float"
      ]
     },
     "execution_count": 9,
     "metadata": {},
     "output_type": "execute_result"
    }
   ],
   "source": [
    "type(1.2)"
   ]
  },
  {
   "cell_type": "code",
   "execution_count": 10,
   "id": "9e71c799",
   "metadata": {},
   "outputs": [
    {
     "data": {
      "text/plain": [
       "str"
      ]
     },
     "execution_count": 10,
     "metadata": {},
     "output_type": "execute_result"
    }
   ],
   "source": [
    "type(\"bonjour\")"
   ]
  },
  {
   "cell_type": "markdown",
   "id": "c6a6996f",
   "metadata": {},
   "source": [
    "# Affectation de valeurs"
   ]
  },
  {
   "cell_type": "code",
   "execution_count": 12,
   "id": "f6e98fcf",
   "metadata": {},
   "outputs": [
    {
     "name": "stdout",
     "output_type": "stream",
     "text": [
      "a=  b=\n"
     ]
    }
   ],
   "source": [
    "a=2\n",
    "b=3+a\n",
    "print (\"a=\",\" b=\")"
   ]
  },
  {
   "cell_type": "code",
   "execution_count": 13,
   "id": "31ec6362",
   "metadata": {},
   "outputs": [
    {
     "name": "stdout",
     "output_type": "stream",
     "text": [
      "a= 2  b= 5\n"
     ]
    }
   ],
   "source": [
    "a=2\n",
    "b=3+a\n",
    "print (\"a=\",a,\" b=\",b)"
   ]
  },
  {
   "cell_type": "code",
   "execution_count": 18,
   "id": "dac9dffa",
   "metadata": {},
   "outputs": [
    {
     "name": "stdout",
     "output_type": "stream",
     "text": [
      "a= 5  b= 2\n"
     ]
    }
   ],
   "source": [
    "a=2\n",
    "b=3+a\n",
    "print (\"a=\", b,\" b=\",a)"
   ]
  },
  {
   "cell_type": "markdown",
   "id": "aa2d2c6f",
   "metadata": {},
   "source": [
    "# Utilisation des triples guillemets ou des triples apostrophes: \"\"\"==\\n , \n",
    "Et symbolisent les retours à la ligne au moyen de \\n."
   ]
  },
  {
   "cell_type": "code",
   "execution_count": 22,
   "id": "d176b02f",
   "metadata": {},
   "outputs": [
    {
     "data": {
      "text/plain": [
       "\"bonjour à tous ...il est important...de m'écouter\""
      ]
     },
     "execution_count": 22,
     "metadata": {},
     "output_type": "execute_result"
    }
   ],
   "source": [
    "chaine1=\"\"\"bonjour à tous ...il est important...de m'écouter\"\"\"\n",
    "chaine1"
   ]
  },
  {
   "cell_type": "code",
   "execution_count": 23,
   "id": "fdf72475",
   "metadata": {},
   "outputs": [
    {
     "data": {
      "text/plain": [
       "\"bonjour à tous \\n il est important\\n de m'écouter\""
      ]
     },
     "execution_count": 23,
     "metadata": {},
     "output_type": "execute_result"
    }
   ],
   "source": [
    "chaine1=\"\"\"bonjour à tous \n",
    " il est important\n",
    " de m'écouter\"\"\"\n",
    "chaine1"
   ]
  },
  {
   "cell_type": "code",
   "execution_count": 25,
   "id": "2a7701d2",
   "metadata": {},
   "outputs": [
    {
     "data": {
      "text/plain": [
       "\"bonjour à tous \\n...il est important\\n...de m'écouter\""
      ]
     },
     "execution_count": 25,
     "metadata": {},
     "output_type": "execute_result"
    }
   ],
   "source": [
    "chaine1='''bonjour à tous \n",
    "...il est important\n",
    "...de m'écouter'''\n",
    "chaine1"
   ]
  },
  {
   "cell_type": "markdown",
   "id": "3e0ec1b2",
   "metadata": {},
   "source": [
    "# Exercice1\n",
    "Une année est dite bissextile si c'est un multiple de 4, sauf si c'est un multiple de 100. Toutefois, elle est considérée comme bixssextile si c'est un multiple de 400.\n",
    "        \n",
    "   ==> Dons si elle est bissextile si elle est multiple de 4 et de 400 et n'est pas multiple de 100.\n",
    "               Et non, lorsqu'elle est mutliple de 100.\n",
    "   "
   ]
  },
  {
   "cell_type": "code",
   "execution_count": 65,
   "id": "54e2b3ff",
   "metadata": {},
   "outputs": [],
   "source": [
    "def année(num):\n",
    "    if num %4==0 or num%400==0 and num%100 !=0: \n",
    "        print(\"l'année est bissextile\" )\n",
    "    else :\n",
    "        print(\"elle n'est pas bissextile \")"
   ]
  },
  {
   "cell_type": "markdown",
   "id": "e2b1f8da",
   "metadata": {},
   "source": [
    "Cette condition est la même que celle-ci:"
   ]
  },
  {
   "cell_type": "code",
   "execution_count": 72,
   "id": "87a4192a",
   "metadata": {},
   "outputs": [],
   "source": [
    "def année(num):\n",
    "    if num %4==0 or (num%400==0 and num%100 !=0): \n",
    "        print(\"l'année est bissextile\" )\n",
    "    else :\n",
    "        print(\"elle n'est pas bissextile \")"
   ]
  },
  {
   "cell_type": "code",
   "execution_count": 73,
   "id": "fdf3e9b2",
   "metadata": {},
   "outputs": [
    {
     "name": "stdout",
     "output_type": "stream",
     "text": [
      "elle n'est pas bissextile \n"
     ]
    }
   ],
   "source": [
    "année(1978)"
   ]
  },
  {
   "cell_type": "code",
   "execution_count": 74,
   "id": "e6e4ee43",
   "metadata": {},
   "outputs": [
    {
     "name": "stdout",
     "output_type": "stream",
     "text": [
      "l'année est bissextile\n"
     ]
    }
   ],
   "source": [
    "année(1400)"
   ]
  },
  {
   "cell_type": "code",
   "execution_count": 75,
   "id": "bce04b3e",
   "metadata": {},
   "outputs": [
    {
     "name": "stdout",
     "output_type": "stream",
     "text": [
      "elle n'est pas bissextile \n"
     ]
    }
   ],
   "source": [
    "année(2023)"
   ]
  },
  {
   "cell_type": "code",
   "execution_count": 76,
   "id": "13b751ce",
   "metadata": {},
   "outputs": [],
   "source": [
    "def année(num):\n",
    "    if (num %4==0 or num%400==0 )and num%100 !=0: \n",
    "        print(\"l'année est bissextile\" )\n",
    "    else :\n",
    "        print(\"elle n'est pas bissextile \")"
   ]
  },
  {
   "cell_type": "code",
   "execution_count": 77,
   "id": "4eb1e27a",
   "metadata": {},
   "outputs": [
    {
     "name": "stdout",
     "output_type": "stream",
     "text": [
      "elle n'est pas bissextile \n"
     ]
    }
   ],
   "source": [
    "année(1400)"
   ]
  },
  {
   "cell_type": "markdown",
   "id": "2e270e66",
   "metadata": {},
   "source": [
    "# Attention!\n",
    "Ici il met 1400 n'est pas une année bissextile à cause de mes paranthèses.\n",
    "Ici mes parenthèses disent que : Lorsque la condition que l'année soit multiple de 4 n'est pas vérifiée , il faut voir si elle est multiple de 400.Et maintenant si elle n'est pas multiple de 100. Donc elle est bissextile."
   ]
  },
  {
   "cell_type": "code",
   "execution_count": 79,
   "id": "f38ba8c1",
   "metadata": {},
   "outputs": [
    {
     "name": "stdout",
     "output_type": "stream",
     "text": [
      "T\n",
      "o\n",
      "u\n",
      "t\n",
      " \n",
      "m\n",
      "o\n",
      "n\n",
      " \n",
      "b\n",
      "o\n",
      "n\n",
      "h\n",
      "e\n",
      "u\n",
      "r\n"
     ]
    }
   ],
   "source": [
    "chaine2=\"Tout mon bonheur\"\n",
    "for elt in chaine2:\n",
    "    print(elt)"
   ]
  },
  {
   "cell_type": "code",
   "execution_count": 82,
   "id": "e06feacc",
   "metadata": {},
   "outputs": [
    {
     "name": "stdout",
     "output_type": "stream",
     "text": [
      "--\n",
      "--\n",
      "--\n",
      "--\n",
      "--\n",
      "--\n",
      "--\n",
      "--\n",
      "--\n",
      "--\n",
      "--\n",
      "--\n",
      "--\n",
      "--\n",
      "--\n",
      "--\n"
     ]
    }
   ],
   "source": [
    "chaine2=\"Tout mon bonheur\"\n",
    "for lettre in chaine2:\n",
    "    if lettre in 'AIUEOY':# les voyelles majuscules \n",
    "        print(lettre)\n",
    "    else:\n",
    "        print(\"--\")"
   ]
  },
  {
   "cell_type": "code",
   "execution_count": 87,
   "id": "81327ed6",
   "metadata": {},
   "outputs": [
    {
     "name": "stdout",
     "output_type": "stream",
     "text": [
      "--\n",
      "o\n",
      "U\n",
      "--\n",
      "--\n",
      "--\n",
      "O\n",
      "--\n",
      "--\n",
      "--\n",
      "o\n",
      "--\n",
      "--\n",
      "E\n",
      "u\n",
      "--\n"
     ]
    }
   ],
   "source": [
    "chaine2=\"ToUt mOn bonhEur\"\n",
    "for lettre in chaine2:\n",
    "    if lettre in 'AIUEOYaiueoy':# les voyelles majuscules  /& minuscules\n",
    "        print(lettre)\n",
    "    else:\n",
    "        print(\"--\")"
   ]
  },
  {
   "cell_type": "markdown",
   "id": "0aeeed10",
   "metadata": {},
   "source": [
    "# Les boucles"
   ]
  },
  {
   "cell_type": "code",
   "execution_count": 46,
   "id": "7b5d3922",
   "metadata": {},
   "outputs": [],
   "source": [
    "def table(nbr):\n",
    "    a=0\n",
    "    while a<10:\n",
    "        print(a+1,\"*\",nbr,'=',(a+1)*nbr)\n",
    "        break"
   ]
  },
  {
   "cell_type": "code",
   "execution_count": 47,
   "id": "70e3ff7e",
   "metadata": {},
   "outputs": [
    {
     "name": "stdout",
     "output_type": "stream",
     "text": [
      "1 * 15 = 15\n"
     ]
    }
   ],
   "source": [
    "table(15)"
   ]
  },
  {
   "cell_type": "code",
   "execution_count": 48,
   "id": "f0a2b61e",
   "metadata": {},
   "outputs": [
    {
     "name": "stdout",
     "output_type": "stream",
     "text": [
      "1 * 9 = 9\n"
     ]
    }
   ],
   "source": [
    "table(9)"
   ]
  },
  {
   "cell_type": "code",
   "execution_count": 49,
   "id": "3a85c1d0",
   "metadata": {},
   "outputs": [],
   "source": [
    "def table(nbr):\n",
    "    a=0\n",
    "    while a<10:\n",
    "        print(a,\"*\",nbr,'=',(a+1)*nbr)\n",
    "        break"
   ]
  },
  {
   "cell_type": "code",
   "execution_count": 50,
   "id": "20d4c482",
   "metadata": {},
   "outputs": [
    {
     "name": "stdout",
     "output_type": "stream",
     "text": [
      "0 * 3 = 3\n"
     ]
    }
   ],
   "source": [
    "table(3)"
   ]
  },
  {
   "cell_type": "code",
   "execution_count": 54,
   "id": "c6589f35",
   "metadata": {},
   "outputs": [],
   "source": [
    "def table(nbr):\n",
    "    a=0\n",
    "    while a<10:\n",
    "        print(a,\"*\",nbr,'=',(a*nbr))\n",
    "        break"
   ]
  },
  {
   "cell_type": "code",
   "execution_count": 55,
   "id": "8d9b954a",
   "metadata": {},
   "outputs": [
    {
     "name": "stdout",
     "output_type": "stream",
     "text": [
      "0 * 3 = 0\n"
     ]
    }
   ],
   "source": [
    "table(3)"
   ]
  },
  {
   "cell_type": "code",
   "execution_count": 56,
   "id": "8b50244f",
   "metadata": {},
   "outputs": [],
   "source": [
    "def table(nbr):\n",
    "    for a in range(1,10):\n",
    "        while a<10:\n",
    "            print(a+1,\"*\",nbr,'=',(a+1)*nbr)\n",
    "            break"
   ]
  },
  {
   "cell_type": "code",
   "execution_count": 57,
   "id": "09340888",
   "metadata": {},
   "outputs": [
    {
     "name": "stdout",
     "output_type": "stream",
     "text": [
      "2 * 9 = 18\n",
      "3 * 9 = 27\n",
      "4 * 9 = 36\n",
      "5 * 9 = 45\n",
      "6 * 9 = 54\n",
      "7 * 9 = 63\n",
      "8 * 9 = 72\n",
      "9 * 9 = 81\n",
      "10 * 9 = 90\n"
     ]
    }
   ],
   "source": [
    "table(9)"
   ]
  },
  {
   "cell_type": "code",
   "execution_count": 58,
   "id": "8b82dc46",
   "metadata": {},
   "outputs": [
    {
     "name": "stdout",
     "output_type": "stream",
     "text": [
      "2 * 11 = 22\n",
      "3 * 11 = 33\n",
      "4 * 11 = 44\n",
      "5 * 11 = 55\n",
      "6 * 11 = 66\n",
      "7 * 11 = 77\n",
      "8 * 11 = 88\n",
      "9 * 11 = 99\n",
      "10 * 11 = 110\n"
     ]
    }
   ],
   "source": [
    "table(11)"
   ]
  },
  {
   "cell_type": "code",
   "execution_count": 65,
   "id": "536a087f",
   "metadata": {},
   "outputs": [],
   "source": [
    "def table(nbr):\n",
    "    a=0\n",
    "    for nbr in range(1,10):\n",
    "        while a<10:\n",
    "            print(a+1,\"*\",nbr,'=',(a+1)*nbr)\n",
    "            break"
   ]
  },
  {
   "cell_type": "code",
   "execution_count": 66,
   "id": "d2005a06",
   "metadata": {},
   "outputs": [
    {
     "name": "stdout",
     "output_type": "stream",
     "text": [
      "1 * 1 = 1\n",
      "1 * 2 = 2\n",
      "1 * 3 = 3\n",
      "1 * 4 = 4\n",
      "1 * 5 = 5\n",
      "1 * 6 = 6\n",
      "1 * 7 = 7\n",
      "1 * 8 = 8\n",
      "1 * 9 = 9\n"
     ]
    }
   ],
   "source": [
    "table(11)"
   ]
  },
  {
   "cell_type": "code",
   "execution_count": 72,
   "id": "810813e0",
   "metadata": {},
   "outputs": [],
   "source": [
    "def table(nbr):\n",
    "    a=12\n",
    "    for nbr in range(1,10):\n",
    "        while a>10:\n",
    "            print(a+1,\"*\",nbr,'=',(a+1)*nbr)\n",
    "            break"
   ]
  },
  {
   "cell_type": "code",
   "execution_count": 73,
   "id": "618178e7",
   "metadata": {},
   "outputs": [
    {
     "name": "stdout",
     "output_type": "stream",
     "text": [
      "13 * 1 = 13\n",
      "13 * 2 = 26\n",
      "13 * 3 = 39\n",
      "13 * 4 = 52\n",
      "13 * 5 = 65\n",
      "13 * 6 = 78\n",
      "13 * 7 = 91\n",
      "13 * 8 = 104\n",
      "13 * 9 = 117\n"
     ]
    }
   ],
   "source": [
    "table(3)"
   ]
  },
  {
   "cell_type": "code",
   "execution_count": 74,
   "id": "d5667778",
   "metadata": {},
   "outputs": [],
   "source": [
    "def table(nbr):\n",
    "    a=12\n",
    "    for nbr in range(1,10):\n",
    "        while a<10:\n",
    "            print(a+1,\"*\",nbr,'=',(a+1)*nbr)\n",
    "            break"
   ]
  },
  {
   "cell_type": "code",
   "execution_count": 75,
   "id": "5b339166",
   "metadata": {},
   "outputs": [],
   "source": [
    "table(11)"
   ]
  },
  {
   "cell_type": "markdown",
   "id": "8f08cce0",
   "metadata": {},
   "source": [
    "Ceci ne donnera rien car a>10. Donc il n'exécutera rien tant que la condition n'est pas vérifiée."
   ]
  },
  {
   "cell_type": "code",
   "execution_count": 80,
   "id": "04007ca4",
   "metadata": {},
   "outputs": [],
   "source": [
    "def table(nbr):\n",
    "    a=11\n",
    "    for nbr in range(1,10):\n",
    "        while a<10:\n",
    "            print(a+1,\"*\",nbr,'=',(a+1)*nbr)\n",
    "            break\n",
    "        else :\n",
    "            print(\"Opération échouée\")\n",
    "            break"
   ]
  },
  {
   "cell_type": "code",
   "execution_count": 81,
   "id": "94558e5d",
   "metadata": {},
   "outputs": [
    {
     "name": "stdout",
     "output_type": "stream",
     "text": [
      "Opération échouée\n"
     ]
    }
   ],
   "source": [
    "table(5)"
   ]
  },
  {
   "cell_type": "code",
   "execution_count": 82,
   "id": "9d3ac418",
   "metadata": {},
   "outputs": [],
   "source": [
    "def table(nbr):\n",
    "    a=11\n",
    "    for nbr in range(1,10):\n",
    "        while a>10:\n",
    "            print(a+1,\"*\",nbr,'=',(a+1)*nbr)\n",
    "            break\n",
    "        else :\n",
    "            print(\"Opération échouée\")\n",
    "            break"
   ]
  },
  {
   "cell_type": "code",
   "execution_count": 83,
   "id": "0e90a95d",
   "metadata": {},
   "outputs": [
    {
     "name": "stdout",
     "output_type": "stream",
     "text": [
      "12 * 1 = 12\n",
      "12 * 2 = 24\n",
      "12 * 3 = 36\n",
      "12 * 4 = 48\n",
      "12 * 5 = 60\n",
      "12 * 6 = 72\n",
      "12 * 7 = 84\n",
      "12 * 8 = 96\n",
      "12 * 9 = 108\n"
     ]
    }
   ],
   "source": [
    "table(4)"
   ]
  },
  {
   "cell_type": "code",
   "execution_count": 84,
   "id": "21fbc4c8",
   "metadata": {},
   "outputs": [],
   "source": [
    "def table(nbr, max):\n",
    "    a=11\n",
    "    for nbr in range(1,10):\n",
    "        while a>max:\n",
    "            print(a+1,\"*\",nbr,'=',(a+1)*nbr)\n",
    "            break\n",
    "        else :\n",
    "            print(\"Opération échouée\")\n",
    "            break"
   ]
  },
  {
   "cell_type": "code",
   "execution_count": 85,
   "id": "2832b248",
   "metadata": {},
   "outputs": [
    {
     "name": "stdout",
     "output_type": "stream",
     "text": [
      "12 * 1 = 12\n",
      "12 * 2 = 24\n",
      "12 * 3 = 36\n",
      "12 * 4 = 48\n",
      "12 * 5 = 60\n",
      "12 * 6 = 72\n",
      "12 * 7 = 84\n",
      "12 * 8 = 96\n",
      "12 * 9 = 108\n"
     ]
    }
   ],
   "source": [
    "table(4,10)"
   ]
  },
  {
   "cell_type": "markdown",
   "id": "b40e34d6",
   "metadata": {},
   "source": [
    "# Les fonctions lambda"
   ]
  },
  {
   "cell_type": "code",
   "execution_count": 98,
   "id": "b9d956d0",
   "metadata": {},
   "outputs": [
    {
     "data": {
      "text/plain": [
       "4"
      ]
     },
     "execution_count": 98,
     "metadata": {},
     "output_type": "execute_result"
    }
   ],
   "source": [
    "f=lambda x:x*x\n",
    "f(2)"
   ]
  },
  {
   "cell_type": "code",
   "execution_count": 99,
   "id": "24bf2f44",
   "metadata": {},
   "outputs": [
    {
     "data": {
      "text/plain": [
       "144"
      ]
     },
     "execution_count": 99,
     "metadata": {},
     "output_type": "execute_result"
    }
   ],
   "source": [
    "f(-12)"
   ]
  },
  {
   "cell_type": "markdown",
   "id": "8d9c46b2",
   "metadata": {},
   "source": [
    "Ecrire une fonction "
   ]
  },
  {
   "cell_type": "code",
   "execution_count": 100,
   "id": "c95123d2",
   "metadata": {},
   "outputs": [
    {
     "data": {
      "text/plain": [
       "20"
      ]
     },
     "execution_count": 100,
     "metadata": {},
     "output_type": "execute_result"
    }
   ],
   "source": [
    "g=lambda x,y:x//y\n",
    "g(100,5)"
   ]
  },
  {
   "cell_type": "code",
   "execution_count": 115,
   "id": "3eb398bf",
   "metadata": {},
   "outputs": [
    {
     "name": "stdout",
     "output_type": "stream",
     "text": [
      "12 * 1 = 12\n",
      "12 * 2 = 24\n",
      "12 * 3 = 36\n",
      "12 * 4 = 48\n",
      "12 * 5 = 60\n",
      "12 * 6 = 72\n",
      "12 * 7 = 84\n",
      "12 * 8 = 96\n",
      "12 * 9 = 108\n"
     ]
    },
    {
     "name": "stderr",
     "output_type": "stream",
     "text": [
      "sh: 1: pause: not found\n"
     ]
    },
    {
     "data": {
      "text/plain": [
       "32512"
      ]
     },
     "execution_count": 115,
     "metadata": {},
     "output_type": "execute_result"
    }
   ],
   "source": [
    "import math as mt\n",
    "import os \n",
    "from math import *\n",
    "table(2,10)\n",
    "os.system(\"pause\")"
   ]
  },
  {
   "cell_type": "markdown",
   "id": "d2853190",
   "metadata": {},
   "source": [
    "# TP: tous au ZCasino\n",
    "\n",
    "Dans ce chapitre, nous allons essayer de faire un petit programme que nous appellerons ZCasino. Il s'agira d'un petit jeu de roulette très simplifié dans lequel vous pourrez miser une certaine somme et gagner ou perdre de l'argent (telle est la fortune, au\n",
    "casino !). Quand vous n'avez plus d'argent, vous avez perdu.\n",
    "Notre règle du jeu\n",
    "Bon, la roulette, c'est très sympathique comme jeu, mais un peu trop compliqué pour un premier TP. Alors, on va simplifier les\n",
    "règles et je vous présente tout de suite ce que l'on obtient :\n",
    "\n",
    "  *Le joueur mise sur un numéro compris entre 0 et 49 (50 numéros en tout). En choisissant son numéro, il y dépose la somme qu'il souhaite miser.\n",
    "  \n",
    " *La roulette est constituée de 50 cases allant naturellement de 0 à 49. Les numéros pairs sont de couleur noire, les numéros impairs sont de couleur rouge. Le croupier lance la roulette, lâche la bille et quand la roulette s'arrête, relève le numéro de la case dans laquelle la bille s'est arrêtée. Dans notre programme, nous ne reprendrons pas tous ces détails « matériels »\n",
    "mais ces explications sont aussi à l'intention de ceux qui ont eu la chance d'éviter les salles de casino jusqu'ici. \n",
    "Le numéro sur lequel s'est arrêtée la bille est, naturellement, le numéro gagnant.\n",
    "\n",
    " *Si le numéro gagnant est celui sur lequel le joueur a misé (probabilité de 1/50, plutôt faible), le croupier lui remet 3 fois la\n",
    "somme misée.\n",
    "\n",
    " *Sinon, le croupier regarde si le numéro misé par le joueur est de la même couleur que le numéro gagnant (s'ils sont tous les deux pairs ou tous les deux impairs). Si c'est le cas, le croupier lui remet 50 % de la somme misée. \n",
    " *Si ce n'est pas le cas, le joueur perd sa mise.\n",
    " \n",
    "Dans les deux scénarios gagnants vus ci-dessus (le numéro misé et le numéro gagnant sont identiques ou ont la même couleur),\n",
    "le croupier remet au joueur la somme initialement misée avant d'y ajouter ses gains. Cela veut dire que, dans ces deux scénarios,\n",
    "le joueur récupère de l'argent. Il n'y a que dans le troisième cas qu'il perd la somme misée. On utilisera pour devise le dollar $ à la\n",
    "place de l'euro pour des raisons d'encodage sous la console Windows."
   ]
  },
  {
   "cell_type": "code",
   "execution_count": 37,
   "id": "3d1f6813",
   "metadata": {},
   "outputs": [],
   "source": [
    "import math as mt\n",
    "import os "
   ]
  },
  {
   "cell_type": "code",
   "execution_count": 62,
   "id": "005bea16",
   "metadata": {},
   "outputs": [],
   "source": [
    "def num(game):\n",
    "    for i in range(0,50):\n",
    "        if game==NUM :\n",
    "            print(\"vous avez gagnez\" ,som*3)\n",
    "            break\n",
    "        elif (game%2==0 and NUM%2==0)or(game%2!=0 and NUM%2!=0):\n",
    "            print (\"êtes à\",game//2)\n",
    "            break\n",
    "    else:\n",
    "            print(\"vous avez perdu, essayez une fois encore\")"
   ]
  },
  {
   "cell_type": "code",
   "execution_count": 63,
   "id": "1830f252",
   "metadata": {},
   "outputs": [
    {
     "name": "stdout",
     "output_type": "stream",
     "text": [
      "êtes à 18\n"
     ]
    }
   ],
   "source": [
    "NUM=48\n",
    "som=2000\n",
    "num(36)"
   ]
  },
  {
   "cell_type": "code",
   "execution_count": 64,
   "id": "91f0ccbd",
   "metadata": {},
   "outputs": [
    {
     "name": "stdout",
     "output_type": "stream",
     "text": [
      "vous avez gagnez 6000\n"
     ]
    }
   ],
   "source": [
    "NUM=19\n",
    "som=2000\n",
    "num(19)"
   ]
  },
  {
   "cell_type": "code",
   "execution_count": 65,
   "id": "a3db7ca5",
   "metadata": {},
   "outputs": [
    {
     "name": "stdout",
     "output_type": "stream",
     "text": [
      "vous avez perdu, essayez une fois encore\n"
     ]
    }
   ],
   "source": [
    "NUM=13\n",
    "som=5000\n",
    "num(2)"
   ]
  },
  {
   "cell_type": "markdown",
   "id": "e5e5efc8",
   "metadata": {},
   "source": [
    "# Programmation Orientée Objet"
   ]
  },
  {
   "cell_type": "code",
   "execution_count": null,
   "id": "f8c73267",
   "metadata": {},
   "outputs": [],
   "source": []
  }
 ],
 "metadata": {
  "kernelspec": {
   "display_name": "Python 3 (ipykernel)",
   "language": "python",
   "name": "python3"
  },
  "language_info": {
   "codemirror_mode": {
    "name": "ipython",
    "version": 3
   },
   "file_extension": ".py",
   "mimetype": "text/x-python",
   "name": "python",
   "nbconvert_exporter": "python",
   "pygments_lexer": "ipython3",
   "version": "3.11.5"
  }
 },
 "nbformat": 4,
 "nbformat_minor": 5
}
