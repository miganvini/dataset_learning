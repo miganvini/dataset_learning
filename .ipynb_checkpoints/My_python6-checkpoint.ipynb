{
 "cells": [
  {
   "cell_type": "markdown",
   "id": "86c23aec",
   "metadata": {},
   "source": [
    "# Transformation des chaînes de caractères en listes: La méthode split\n",
    "             "
   ]
  },
  {
   "cell_type": "code",
   "execution_count": 3,
   "id": "3beebe59",
   "metadata": {},
   "outputs": [
    {
     "data": {
      "text/plain": [
       "'Good morning class 120'"
      ]
     },
     "execution_count": 3,
     "metadata": {},
     "output_type": "execute_result"
    }
   ],
   "source": [
    "list4= \"Good morning class 120\"\n",
    "list4"
   ]
  },
  {
   "cell_type": "code",
   "execution_count": 7,
   "id": "d08f4283",
   "metadata": {},
   "outputs": [
    {
     "data": {
      "text/plain": [
       "['Good', 'morning', 'class', '120']"
      ]
     },
     "execution_count": 7,
     "metadata": {},
     "output_type": "execute_result"
    }
   ],
   "source": [
    "list4.split(\" \") "
   ]
  },
  {
   "cell_type": "markdown",
   "id": "597485a2",
   "metadata": {},
   "source": [
    " Cela revient au même , car la méthode split a une fonctionnalité possède un paramètre par défaut, un code qui représente les espaces, les tabulations et les sauts de ligne."
   ]
  },
  {
   "cell_type": "code",
   "execution_count": 8,
   "id": "71609201",
   "metadata": {},
   "outputs": [
    {
     "data": {
      "text/plain": [
       "['Good', 'morning', 'class', '120']"
      ]
     },
     "execution_count": 8,
     "metadata": {},
     "output_type": "execute_result"
    }
   ],
   "source": [
    "list4.split() "
   ]
  },
  {
   "cell_type": "markdown",
   "id": "d9d4e86a",
   "metadata": {},
   "source": [
    "# Transformation de listes en chaînes de caractères: la méthode join"
   ]
  },
  {
   "cell_type": "code",
   "execution_count": 17,
   "id": "e21b92a6",
   "metadata": {},
   "outputs": [
    {
     "data": {
      "text/plain": [
       "['bonjour', '132', 'Anna']"
      ]
     },
     "execution_count": 17,
     "metadata": {},
     "output_type": "execute_result"
    }
   ],
   "source": [
    "list5=[\"bonjour\", '132', \"Anna\"]\n",
    "list5"
   ]
  },
  {
   "cell_type": "code",
   "execution_count": 19,
   "id": "0fa04396",
   "metadata": {},
   "outputs": [
    {
     "data": {
      "text/plain": [
       "'bonjour 132 Anna'"
      ]
     },
     "execution_count": 19,
     "metadata": {},
     "output_type": "execute_result"
    }
   ],
   "source": [
    "\" \".join(list5)"
   ]
  },
  {
   "cell_type": "code",
   "execution_count": 20,
   "id": "f15fddbd",
   "metadata": {},
   "outputs": [
    {
     "data": {
      "text/plain": [
       "[12, 45, 20]"
      ]
     },
     "execution_count": 20,
     "metadata": {},
     "output_type": "execute_result"
    }
   ],
   "source": [
    "list6=[12,45,20]\n",
    "list6"
   ]
  },
  {
   "cell_type": "code",
   "execution_count": 21,
   "id": "cfd7128a",
   "metadata": {},
   "outputs": [
    {
     "ename": "TypeError",
     "evalue": "sequence item 0: expected str instance, int found",
     "output_type": "error",
     "traceback": [
      "\u001b[0;31m---------------------------------------------------------------------------\u001b[0m",
      "\u001b[0;31mTypeError\u001b[0m                                 Traceback (most recent call last)",
      "Cell \u001b[0;32mIn[21], line 1\u001b[0m\n\u001b[0;32m----> 1\u001b[0m \u001b[38;5;124m\"\u001b[39m\u001b[38;5;124m \u001b[39m\u001b[38;5;124m\"\u001b[39m\u001b[38;5;241m.\u001b[39mjoin(list6)\n",
      "\u001b[0;31mTypeError\u001b[0m: sequence item 0: expected str instance, int found"
     ]
    }
   ],
   "source": [
    "\" \".join(list6)"
   ]
  },
  {
   "cell_type": "markdown",
   "id": "4f969d29",
   "metadata": {},
   "source": [
    "NB: Nous comprenons alors que la méthode join, peermet de transformer une lisste de chaîne de caractères en strings.\n",
    " Et non une list des int ou float."
   ]
  },
  {
   "cell_type": "code",
   "execution_count": 42,
   "id": "d3066937",
   "metadata": {},
   "outputs": [],
   "source": [
    "list7=[1,2,3,4,5]"
   ]
  },
  {
   "cell_type": "code",
   "execution_count": 38,
   "id": "24e21b5b",
   "metadata": {},
   "outputs": [
    {
     "name": "stdout",
     "output_type": "stream",
     "text": [
      "[1, 2, 3, 4, 5]\n"
     ]
    }
   ],
   "source": [
    "print(list7)"
   ]
  },
  {
   "cell_type": "code",
   "execution_count": 28,
   "id": "d7e72437",
   "metadata": {},
   "outputs": [
    {
     "name": "stdout",
     "output_type": "stream",
     "text": [
      "1 2 3 4 5\n"
     ]
    }
   ],
   "source": [
    "print(*list7)"
   ]
  },
  {
   "cell_type": "code",
   "execution_count": 33,
   "id": "1c97e15e",
   "metadata": {},
   "outputs": [
    {
     "ename": "SyntaxError",
     "evalue": "invalid syntax (2663857073.py, line 1)",
     "output_type": "error",
     "traceback": [
      "\u001b[0;36m  Cell \u001b[0;32mIn[33], line 1\u001b[0;36m\u001b[0m\n\u001b[0;31m    nb *nb for nb in list7   # pour respecter le for il faut ettre la condition en [] caar on veut réafir sur une liste qui donnera une autre liste\u001b[0m\n\u001b[0m           ^\u001b[0m\n\u001b[0;31mSyntaxError\u001b[0m\u001b[0;31m:\u001b[0m invalid syntax\n"
     ]
    }
   ],
   "source": [
    "nb *nb for nb in list7   "
   ]
  },
  {
   "cell_type": "markdown",
   "id": "06d920df",
   "metadata": {},
   "source": [
    "Pour respecter le for il faut ettre la condition en [ ] car on veut réafir sur une liste qui donnera une autre liste\n",
    "c'est une autre utilisation de for."
   ]
  },
  {
   "cell_type": "code",
   "execution_count": 43,
   "id": "6d135be8",
   "metadata": {},
   "outputs": [
    {
     "data": {
      "text/plain": [
       "[1, 4, 9, 16, 25]"
      ]
     },
     "execution_count": 43,
     "metadata": {},
     "output_type": "execute_result"
    }
   ],
   "source": [
    "[nb *nb for nb in list7]"
   ]
  },
  {
   "cell_type": "code",
   "execution_count": 41,
   "id": "df76df0b",
   "metadata": {},
   "outputs": [
    {
     "data": {
      "text/plain": [
       "[2, 4]"
      ]
     },
     "execution_count": 41,
     "metadata": {},
     "output_type": "execute_result"
    }
   ],
   "source": [
    "[nb for nb in list7 if nb%2==0]"
   ]
  },
  {
   "cell_type": "markdown",
   "id": "27e03215",
   "metadata": {},
   "source": [
    "# Les dictionnaires "
   ]
  },
  {
   "cell_type": "markdown",
   "id": "5f98d327",
   "metadata": {},
   "source": [
    "# Les parenthèses délimitent les tuples, les crochets délimitent les listes et les accolades {} délimitent les dictionnaires."
   ]
  },
  {
   "cell_type": "code",
   "execution_count": 80,
   "id": "d8086ada",
   "metadata": {},
   "outputs": [
    {
     "data": {
      "text/plain": [
       "{'name': 'Jean dupont', 'age': 14, 'sex': 'M', 'level': 'Graduated'}"
      ]
     },
     "execution_count": 80,
     "metadata": {},
     "output_type": "execute_result"
    }
   ],
   "source": [
    "dico={\"name\": \"Jean dupont\", \"age\": 14,\"sex\": \"M\", \"level\": \"Graduated\"}\n",
    "dico"
   ]
  },
  {
   "cell_type": "code",
   "execution_count": 81,
   "id": "ff2dec8d",
   "metadata": {},
   "outputs": [],
   "source": [
    "del dico[\"name\"]"
   ]
  },
  {
   "cell_type": "code",
   "execution_count": 82,
   "id": "14c37afd",
   "metadata": {},
   "outputs": [
    {
     "data": {
      "text/plain": [
       "{'age': 14, 'sex': 'M', 'level': 'Graduated'}"
      ]
     },
     "execution_count": 82,
     "metadata": {},
     "output_type": "execute_result"
    }
   ],
   "source": [
    "dico"
   ]
  },
  {
   "cell_type": "code",
   "execution_count": 83,
   "id": "9a4c3d82",
   "metadata": {},
   "outputs": [
    {
     "data": {
      "text/plain": [
       "'M'"
      ]
     },
     "execution_count": 83,
     "metadata": {},
     "output_type": "execute_result"
    }
   ],
   "source": [
    "dico.pop(\"sex\")"
   ]
  },
  {
   "cell_type": "code",
   "execution_count": 84,
   "id": "b08b7589",
   "metadata": {},
   "outputs": [
    {
     "data": {
      "text/plain": [
       "{'age': 14, 'level': 'Graduated'}"
      ]
     },
     "execution_count": 84,
     "metadata": {},
     "output_type": "execute_result"
    }
   ],
   "source": [
    "dico"
   ]
  },
  {
   "cell_type": "markdown",
   "id": "0f493185",
   "metadata": {},
   "source": []
  }
 ],
 "metadata": {
  "kernelspec": {
   "display_name": "Python 3 (ipykernel)",
   "language": "python",
   "name": "python3"
  },
  "language_info": {
   "codemirror_mode": {
    "name": "ipython",
    "version": 3
   },
   "file_extension": ".py",
   "mimetype": "text/x-python",
   "name": "python",
   "nbconvert_exporter": "python",
   "pygments_lexer": "ipython3",
   "version": "3.11.5"
  }
 },
 "nbformat": 4,
 "nbformat_minor": 5
}
