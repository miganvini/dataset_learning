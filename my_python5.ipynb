{
 "cells": [
  {
   "cell_type": "markdown",
   "id": "b0fb7421",
   "metadata": {},
   "source": [
    "# Transformation des chaînes de caractères en listes: La méthode split\n",
    "             "
   ]
  },
  {
   "cell_type": "code",
   "execution_count": 3,
   "id": "3e02a418",
   "metadata": {},
   "outputs": [
    {
     "data": {
      "text/plain": [
       "'Good morning class 120'"
      ]
     },
     "execution_count": 3,
     "metadata": {},
     "output_type": "execute_result"
    }
   ],
   "source": [
    "list4= \"Good morning class 120\"\n",
    "list4"
   ]
  },
  {
   "cell_type": "code",
   "execution_count": 7,
   "id": "7aa37cf7",
   "metadata": {},
   "outputs": [
    {
     "data": {
      "text/plain": [
       "['Good', 'morning', 'class', '120']"
      ]
     },
     "execution_count": 7,
     "metadata": {},
     "output_type": "execute_result"
    }
   ],
   "source": [
    "list4.split(\" \") "
   ]
  },
  {
   "cell_type": "markdown",
   "id": "416dc911",
   "metadata": {},
   "source": [
    " Cela revient au même , car la méthode split a une fonctionnalité possède un paramètre par défaut, un code qui représente les espaces, les tabulations et les sauts de ligne."
   ]
  },
  {
   "cell_type": "code",
   "execution_count": 8,
   "id": "d852bb76",
   "metadata": {},
   "outputs": [
    {
     "data": {
      "text/plain": [
       "['Good', 'morning', 'class', '120']"
      ]
     },
     "execution_count": 8,
     "metadata": {},
     "output_type": "execute_result"
    }
   ],
   "source": [
    "list4.split() "
   ]
  },
  {
   "cell_type": "markdown",
   "id": "947c7e08",
   "metadata": {},
   "source": [
    "# Transformation de listes en chaînes de caractères: la méthode join"
   ]
  },
  {
   "cell_type": "code",
   "execution_count": 17,
   "id": "37bff92e",
   "metadata": {},
   "outputs": [
    {
     "data": {
      "text/plain": [
       "['bonjour', '132', 'Anna']"
      ]
     },
     "execution_count": 17,
     "metadata": {},
     "output_type": "execute_result"
    }
   ],
   "source": [
    "list5=[\"bonjour\", '132', \"Anna\"]\n",
    "list5"
   ]
  },
  {
   "cell_type": "code",
   "execution_count": 19,
   "id": "579e4948",
   "metadata": {},
   "outputs": [
    {
     "data": {
      "text/plain": [
       "'bonjour 132 Anna'"
      ]
     },
     "execution_count": 19,
     "metadata": {},
     "output_type": "execute_result"
    }
   ],
   "source": [
    "\" \".join(list5)"
   ]
  },
  {
   "cell_type": "code",
   "execution_count": 20,
   "id": "e0fe7c5b",
   "metadata": {},
   "outputs": [
    {
     "data": {
      "text/plain": [
       "[12, 45, 20]"
      ]
     },
     "execution_count": 20,
     "metadata": {},
     "output_type": "execute_result"
    }
   ],
   "source": [
    "list6=[12,45,20]\n",
    "list6"
   ]
  },
  {
   "cell_type": "code",
   "execution_count": 21,
   "id": "00ae6e06",
   "metadata": {},
   "outputs": [
    {
     "ename": "TypeError",
     "evalue": "sequence item 0: expected str instance, int found",
     "output_type": "error",
     "traceback": [
      "\u001b[0;31m---------------------------------------------------------------------------\u001b[0m",
      "\u001b[0;31mTypeError\u001b[0m                                 Traceback (most recent call last)",
      "Cell \u001b[0;32mIn[21], line 1\u001b[0m\n\u001b[0;32m----> 1\u001b[0m \u001b[38;5;124m\"\u001b[39m\u001b[38;5;124m \u001b[39m\u001b[38;5;124m\"\u001b[39m\u001b[38;5;241m.\u001b[39mjoin(list6)\n",
      "\u001b[0;31mTypeError\u001b[0m: sequence item 0: expected str instance, int found"
     ]
    }
   ],
   "source": [
    "\" \".join(list6)"
   ]
  },
  {
   "cell_type": "markdown",
   "id": "48580b76",
   "metadata": {},
   "source": [
    "NB: Nous comprenons alors que la méthode join, peermet de transformer une lisste de chaîne de caractères en strings.\n",
    " Et non une list des int ou float."
   ]
  },
  {
   "cell_type": "code",
   "execution_count": 42,
   "id": "bf3b1446",
   "metadata": {},
   "outputs": [],
   "source": [
    "list7=[1,2,3,4,5]"
   ]
  },
  {
   "cell_type": "code",
   "execution_count": 38,
   "id": "562b7cf1",
   "metadata": {},
   "outputs": [
    {
     "name": "stdout",
     "output_type": "stream",
     "text": [
      "[1, 2, 3, 4, 5]\n"
     ]
    }
   ],
   "source": [
    "print(list7)"
   ]
  },
  {
   "cell_type": "code",
   "execution_count": 28,
   "id": "f5bfb769",
   "metadata": {},
   "outputs": [
    {
     "name": "stdout",
     "output_type": "stream",
     "text": [
      "1 2 3 4 5\n"
     ]
    }
   ],
   "source": [
    "print(*list7)"
   ]
  },
  {
   "cell_type": "code",
   "execution_count": 33,
   "id": "399e93ba",
   "metadata": {},
   "outputs": [
    {
     "ename": "SyntaxError",
     "evalue": "invalid syntax (2663857073.py, line 1)",
     "output_type": "error",
     "traceback": [
      "\u001b[0;36m  Cell \u001b[0;32mIn[33], line 1\u001b[0;36m\u001b[0m\n\u001b[0;31m    nb *nb for nb in list7   # pour respecter le for il faut ettre la condition en [] caar on veut réafir sur une liste qui donnera une autre liste\u001b[0m\n\u001b[0m           ^\u001b[0m\n\u001b[0;31mSyntaxError\u001b[0m\u001b[0;31m:\u001b[0m invalid syntax\n"
     ]
    }
   ],
   "source": [
    "nb *nb for nb in list7   "
   ]
  },
  {
   "cell_type": "markdown",
   "id": "45055131",
   "metadata": {},
   "source": [
    "Pour respecter le for il faut ettre la condition en [ ] car on veut réafir sur une liste qui donnera une autre liste\n",
    "c'est une autre utilisation de for."
   ]
  },
  {
   "cell_type": "code",
   "execution_count": 43,
   "id": "9e6eff0a",
   "metadata": {},
   "outputs": [
    {
     "data": {
      "text/plain": [
       "[1, 4, 9, 16, 25]"
      ]
     },
     "execution_count": 43,
     "metadata": {},
     "output_type": "execute_result"
    }
   ],
   "source": [
    "[nb *nb for nb in list7]"
   ]
  },
  {
   "cell_type": "code",
   "execution_count": 41,
   "id": "07eb8b44",
   "metadata": {},
   "outputs": [
    {
     "data": {
      "text/plain": [
       "[2, 4]"
      ]
     },
     "execution_count": 41,
     "metadata": {},
     "output_type": "execute_result"
    }
   ],
   "source": [
    "[nb for nb in list7 if nb%2==0]"
   ]
  },
  {
   "cell_type": "markdown",
   "id": "ba9eac6b",
   "metadata": {},
   "source": [
    "# Les dictionnaires "
   ]
  },
  {
   "cell_type": "markdown",
   "id": "d159a33b",
   "metadata": {},
   "source": [
    "# Les parenthèses délimitent les tuples, les crochets délimitent les listes et les accolades {} délimitent les dictionnaires."
   ]
  },
  {
   "cell_type": "code",
   "execution_count": 2,
   "id": "136a9001",
   "metadata": {},
   "outputs": [
    {
     "data": {
      "text/plain": [
       "{'name': 'Jean dupont', 'age': 14, 'sex': 'M', 'level': 'Graduated'}"
      ]
     },
     "execution_count": 2,
     "metadata": {},
     "output_type": "execute_result"
    }
   ],
   "source": [
    "dico={\"name\": \"Jean dupont\", \"age\": 14,\"sex\": \"M\", \"level\": \"Graduated\"}\n",
    "dico"
   ]
  },
  {
   "cell_type": "code",
   "execution_count": 81,
   "id": "f40c857c",
   "metadata": {},
   "outputs": [],
   "source": [
    "del dico[\"name\"]"
   ]
  },
  {
   "cell_type": "code",
   "execution_count": 82,
   "id": "8ccc925a",
   "metadata": {},
   "outputs": [
    {
     "data": {
      "text/plain": [
       "{'age': 14, 'sex': 'M', 'level': 'Graduated'}"
      ]
     },
     "execution_count": 82,
     "metadata": {},
     "output_type": "execute_result"
    }
   ],
   "source": [
    "dico"
   ]
  },
  {
   "cell_type": "code",
   "execution_count": 83,
   "id": "d1a40605",
   "metadata": {},
   "outputs": [
    {
     "data": {
      "text/plain": [
       "'M'"
      ]
     },
     "execution_count": 83,
     "metadata": {},
     "output_type": "execute_result"
    }
   ],
   "source": [
    "dico.pop(\"sex\")"
   ]
  },
  {
   "cell_type": "code",
   "execution_count": 84,
   "id": "f1c0d5b5",
   "metadata": {},
   "outputs": [
    {
     "data": {
      "text/plain": [
       "{'age': 14, 'level': 'Graduated'}"
      ]
     },
     "execution_count": 84,
     "metadata": {},
     "output_type": "execute_result"
    }
   ],
   "source": [
    "dico"
   ]
  },
  {
   "cell_type": "markdown",
   "id": "22b1f6a9",
   "metadata": {},
   "source": [
    "les méthodes x.pop()  &  le mot-clé del, permettent de supprimer des éléments d'un dictioonaire. La méthode x.pop de dict permet de supprimer un élément mais renvoie d'abord cet élément\n"
   ]
  },
  {
   "cell_type": "code",
   "execution_count": 87,
   "id": "6293d2b6",
   "metadata": {},
   "outputs": [
    {
     "name": "stdout",
     "output_type": "stream",
     "text": [
      "name\n",
      "age\n",
      "sex\n",
      "level\n"
     ]
    }
   ],
   "source": [
    "for key in dico:\n",
    "    print(key)"
   ]
  },
  {
   "cell_type": "markdown",
   "id": "90a627c6",
   "metadata": {},
   "source": [
    " # La méthode x.keys() \n",
    "     &\n",
    " # x.values()"
   ]
  },
  {
   "cell_type": "code",
   "execution_count": 5,
   "id": "272add80",
   "metadata": {},
   "outputs": [
    {
     "name": "stdout",
     "output_type": "stream",
     "text": [
      "name\n",
      "age\n",
      "sex\n",
      "level\n"
     ]
    }
   ],
   "source": [
    "for key in dico.keys():\n",
    "    print(key)"
   ]
  },
  {
   "cell_type": "code",
   "execution_count": 8,
   "id": "50ce70e7",
   "metadata": {},
   "outputs": [
    {
     "name": "stdout",
     "output_type": "stream",
     "text": [
      "Jean dupont\n",
      "14\n",
      "M\n",
      "Graduated\n"
     ]
    }
   ],
   "source": [
    "for values in dico.values():\n",
    "    print(values)"
   ]
  },
  {
   "cell_type": "code",
   "execution_count": 8,
   "id": "f3458588",
   "metadata": {},
   "outputs": [
    {
     "name": "stdout",
     "output_type": "stream",
     "text": [
      "for 0 we have name\n",
      "for 1 we have age\n",
      "for 2 we have sex\n",
      "for 3 we have level\n"
     ]
    }
   ],
   "source": [
    "for keys, values in enumerate(dico):\n",
    "    print(\"for {} we have {}\". format (keys,values))"
   ]
  },
  {
   "cell_type": "markdown",
   "id": "7b00dd9f",
   "metadata": {},
   "source": [
    "NB: on ne peut pas utiliser enumerate pour un dict, car enumarate donne l'indice et sa valeur. D'où ne considère pas les valeurs."
   ]
  },
  {
   "cell_type": "markdown",
   "id": "ade5ed6f",
   "metadata": {},
   "source": [
    "# Pour réaliser ce qui préccede avec les dictionnaires, on utilise la méthode  x. items() pour parcourit les couples clé-valeur)"
   ]
  },
  {
   "cell_type": "code",
   "execution_count": 14,
   "id": "f0b2233b",
   "metadata": {},
   "outputs": [
    {
     "name": "stdout",
     "output_type": "stream",
     "text": [
      "the key name have the value Jean dupont\n",
      "the key age have the value 14\n",
      "the key sex have the value M\n",
      "the key level have the value Graduated\n"
     ]
    }
   ],
   "source": [
    "for keys, values in  dico.items() :\n",
    "    print(\"the key {} have the value {}\". format (keys,values))"
   ]
  },
  {
   "cell_type": "code",
   "execution_count": 3,
   "id": "baf8c194",
   "metadata": {},
   "outputs": [
    {
     "data": {
      "text/plain": [
       "{'name': 'Jean dupont', 'age': 14, 'sex': 'M', 'level': 'Graduated'}"
      ]
     },
     "execution_count": 3,
     "metadata": {},
     "output_type": "execute_result"
    }
   ],
   "source": [
    "dict(dico)"
   ]
  },
  {
   "cell_type": "markdown",
   "id": "cc16c4ac",
   "metadata": {},
   "source": [
    "# On peut complèter un dictionnaire."
   ]
  },
  {
   "cell_type": "code",
   "execution_count": 4,
   "id": "a01db74f",
   "metadata": {},
   "outputs": [
    {
     "data": {
      "text/plain": [
       "{'name': 'Jean dupont',\n",
       " 'age': 14,\n",
       " 'sex': 'M',\n",
       " 'level': 'Graduated',\n",
       " 'size': [1, 60]}"
      ]
     },
     "execution_count": 4,
     "metadata": {},
     "output_type": "execute_result"
    }
   ],
   "source": [
    "dico[\"size\"]=[1,60]\n",
    "dico"
   ]
  }
 ],
 "metadata": {
  "kernelspec": {
   "display_name": "Python 3 (ipykernel)",
   "language": "python",
   "name": "python3"
  },
  "language_info": {
   "codemirror_mode": {
    "name": "ipython",
    "version": 3
   },
   "file_extension": ".py",
   "mimetype": "text/x-python",
   "name": "python",
   "nbconvert_exporter": "python",
   "pygments_lexer": "ipython3",
   "version": "3.11.5"
  }
 },
 "nbformat": 4,
 "nbformat_minor": 5
}
