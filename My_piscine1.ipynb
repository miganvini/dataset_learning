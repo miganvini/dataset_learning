{
 "cells": [
  {
   "cell_type": "markdown",
   "id": "0dd1da1d",
   "metadata": {},
   "source": [
    "# EXERCISE 01\n",
    "\n",
    "Make a function “double_return”.\n",
    "It takes a Dictionary as parameter, and returns two lists. Those returned Lists must contains different values. In the first one, there is the list of the keys and the second the list of the values contained in the Dictionary parameter.\n",
    "For example double_return({“a”: 1, “b”: 2})) returns\n",
    "([‘a’, ‘b’], [1, 2])\n"
   ]
  },
  {
   "cell_type": "code",
   "execution_count": 1,
   "id": "e272b497",
   "metadata": {},
   "outputs": [
    {
     "data": {
      "text/plain": [
       "{'name': 'Alexio', 'age': 21}"
      ]
     },
     "execution_count": 1,
     "metadata": {},
     "output_type": "execute_result"
    }
   ],
   "source": [
    "double_return={\"name\": \"Alexio\",\"age\":21}\n",
    "double_return"
   ]
  },
  {
   "cell_type": "markdown",
   "id": "468af59b",
   "metadata": {},
   "source": [
    "# Transformons les éléments du dictionnaire en des listes."
   ]
  },
  {
   "cell_type": "code",
   "execution_count": 8,
   "id": "6df8fc9f",
   "metadata": {},
   "outputs": [
    {
     "data": {
      "text/plain": [
       "(['name', 'age'], ['Alexio', 21])"
      ]
     },
     "execution_count": 8,
     "metadata": {},
     "output_type": "execute_result"
    }
   ],
   "source": [
    "list(double_return.keys()),list(double_return.values())"
   ]
  },
  {
   "cell_type": "markdown",
   "id": "a16b083b",
   "metadata": {},
   "source": [
    "# Ou faisons la list du dict, list de dict.values()"
   ]
  },
  {
   "cell_type": "code",
   "execution_count": 41,
   "id": "63ee414f",
   "metadata": {},
   "outputs": [
    {
     "data": {
      "text/plain": [
       "['name', 'age']"
      ]
     },
     "execution_count": 41,
     "metadata": {},
     "output_type": "execute_result"
    }
   ],
   "source": [
    "list({\"name\":\"Alexio\",\"age\":21})"
   ]
  },
  {
   "cell_type": "code",
   "execution_count": 39,
   "id": "b3618433",
   "metadata": {},
   "outputs": [
    {
     "data": {
      "text/plain": [
       "(['name', 'age'], ['Alexio', 21])"
      ]
     },
     "execution_count": 39,
     "metadata": {},
     "output_type": "execute_result"
    }
   ],
   "source": [
    "list({\"name\":\"Alexio\",\"age\":21}),list(double_return.values())"
   ]
  },
  {
   "cell_type": "markdown",
   "id": "4f7c91b9",
   "metadata": {},
   "source": [
    "## EXERCISE 02 \n",
    "Create a function “display_all”.\n",
    "It takes a Dictionary as parameters and display every elements of the Dictionary, formated as:\n",
    "\n",
    "“(class: value)” followed by a new line\n",
    "\n",
    "• “[class]”: must be the class of the element.\n",
    "\n",
    "• “[value]”: its value converted into a String\n",
    "\n",
    "For example  display_all({“test”: “hello”, “t”: 43, “pi”: 3.14}) return \\\n",
    "(str: hello)\\\n",
    "(int: 43)\\\n",
    "(float: 3.14)"
   ]
  },
  {
   "cell_type": "code",
   "execution_count": 86,
   "id": "17af0c51",
   "metadata": {},
   "outputs": [
    {
     "data": {
      "text/plain": [
       "{'Class': 'A125', 'somme': 27, 'sex': 'F', 'max_size': 1.72}"
      ]
     },
     "execution_count": 86,
     "metadata": {},
     "output_type": "execute_result"
    }
   ],
   "source": [
    "display_all={'Class': 'A125', 'somme': 27, 'sex': 'F', 'max_size': 1.72}\n",
    "display_all"
   ]
  },
  {
   "cell_type": "code",
   "execution_count": 61,
   "id": "839c71ef",
   "metadata": {},
   "outputs": [
    {
     "data": {
      "text/plain": [
       "(str, int, str, float)"
      ]
     },
     "execution_count": 61,
     "metadata": {},
     "output_type": "execute_result"
    }
   ],
   "source": [
    "type(\"A125\"),type (27),type( \"F\"),type(1.72)"
   ]
  },
  {
   "cell_type": "markdown",
   "id": "2b310765",
   "metadata": {},
   "source": [
    "# Utilisation de f\"({type(value).__name __}:{value/key})\"\n",
    "\n",
    "# Donc il fait : les types qu'on a dans votre dict sont:... les voilà par key/value que vous avez demandé.\n",
    "donc on lui dit si on veut avoir les types des éléments du dict par key &/ou par valeur."
   ]
  },
  {
   "cell_type": "code",
   "execution_count": 92,
   "id": "09967391",
   "metadata": {},
   "outputs": [
    {
     "name": "stdout",
     "output_type": "stream",
     "text": [
      "(str: A125 )\n",
      "(int: 27 )\n",
      "(str: F )\n",
      "(float: 1.72 )\n"
     ]
    }
   ],
   "source": [
    "for key, value in display_all.items():\n",
    "    print(f\"({type(value).__name__}: {value} )\")\n"
   ]
  },
  {
   "cell_type": "markdown",
   "id": "9ff7c9a0",
   "metadata": {},
   "source": [
    "# EXERCISE 03\n",
    "\n",
    "Create a function “display_all”.\n",
    "\n",
    "It takes a Dictionary as parameter and display every element of the Dictionary formated as:\n",
    "\n",
    "“key->(class: value)” followed by a new line\n",
    "\n",
    "For example : display_all({“test”: “hello”, “t”: 43, “pi”: 3.14}) returns\n",
    "test->(str: hello)\n",
    "t->(int: 43)\n",
    "pi->(float: 3.14)\n"
   ]
  },
  {
   "cell_type": "code",
   "execution_count": 93,
   "id": "c26dc1a3",
   "metadata": {},
   "outputs": [
    {
     "data": {
      "text/plain": [
       "{'Class': 'A125', 'somme': 27, 'sex': 'F', 'max_size': 1.72}"
      ]
     },
     "execution_count": 93,
     "metadata": {},
     "output_type": "execute_result"
    }
   ],
   "source": [
    "display_all={'Class': 'A125', 'somme': 27, 'sex': 'F', 'max_size': 1.72}\n",
    "display_all"
   ]
  },
  {
   "cell_type": "code",
   "execution_count": 112,
   "id": "e11cf040",
   "metadata": {},
   "outputs": [
    {
     "name": "stdout",
     "output_type": "stream",
     "text": [
      "{'str'}\n",
      "{'int'}\n",
      "{'str'}\n",
      "{'float'}\n",
      "{'str'}\n",
      "{'str'}\n"
     ]
    }
   ],
   "source": [
    "for key, value in display_all.items():\n",
    "    print({type(value).__name__})"
   ]
  },
  {
   "cell_type": "code",
   "execution_count": 94,
   "id": "1e9b5100",
   "metadata": {},
   "outputs": [
    {
     "name": "stdout",
     "output_type": "stream",
     "text": [
      "Class->str: A125\n",
      "somme->int: 27\n",
      "sex->str: F\n",
      "max_size->float: 1.72\n"
     ]
    }
   ],
   "source": [
    " for key, value in display_all.items():\n",
    "    print(f\"{key}->{type(value).__name__}: {value}\")"
   ]
  },
  {
   "cell_type": "markdown",
   "id": "4739e4fb",
   "metadata": {},
   "source": [
    "# EXERCISE 04\n",
    "\n",
    "Create a function “display_all”.\n",
    "\n",
    "It takes a Dictionary as parameter and displays every element of the Dictionary formated as:\n",
    "\n",
    "“id->(class: value)” followed by a new line\n",
    "\n",
    "“id” is the index, from 0 to the dictionary’s length.\n",
    "Note: “=” is forbidden only for assignations, not for default parameters. Same rule for every following exercise. this means you cannot create or change values of variables/arguments\n",
    "For example : display_all({“test”: “hello”, “t”: 43, “pi”: 3.14}) re\n",
    "0->(str: hello)\n",
    "1->(int: 43)\n",
    "2->(float: 3.14)\n"
   ]
  },
  {
   "cell_type": "code",
   "execution_count": 95,
   "id": "cdf27577",
   "metadata": {},
   "outputs": [
    {
     "data": {
      "text/plain": [
       "{'Class': 'A125',\n",
       " 'somme': 27,\n",
       " 'sex': 'F',\n",
       " 'max_size': 1.72,\n",
       " 'skin_color': 'black',\n",
       " 'hair': ' Long and red'}"
      ]
     },
     "execution_count": 95,
     "metadata": {},
     "output_type": "execute_result"
    }
   ],
   "source": [
    "display_all={'Class': 'A125', 'somme': 27, 'sex': 'F', 'max_size': 1.72, 'skin_color': \"black\",\"hair\":\" Long and red\"}\n",
    "display_all"
   ]
  },
  {
   "cell_type": "code",
   "execution_count": 116,
   "id": "a37f15f7",
   "metadata": {},
   "outputs": [
    {
     "name": "stdout",
     "output_type": "stream",
     "text": [
      "0->str:A125\n",
      "1->int:27\n",
      "2->str:F\n",
      "3->float:1.72\n",
      "4->str:black\n",
      "5->str: Long and red\n"
     ]
    }
   ],
   "source": [
    "for index,(key, value) in enumerate(display_all.items()):\n",
    "     print(f\"{index}->{type(value).__name__}:{value}\")"
   ]
  },
  {
   "cell_type": "markdown",
   "id": "94d83d3a",
   "metadata": {},
   "source": [
    "# EXERCISE 5\n",
    "Mandatory: Use python’s list/dict comprehension capacities\n",
    "Create a function “my_count_words” which takes a list as parameter and returns a dictionnary.\n",
    "The List passed as argument is filled with strings.\n",
    "The returned dictionnary must be formated to respect the following rules:\n",
    "\n",
    "• Every key is a string.\n",
    "• Every value is an integer.\n",
    "• The associated value is the count of occurrences of the key in the dictionary parameter.\n"
   ]
  },
  {
   "cell_type": "markdown",
   "id": "4f586f40",
   "metadata": {},
   "source": [
    "  # Importons d'abord la fonction Counter\n",
    " # *from collections import Counter\n",
    "\n",
    "  \n",
    " Nous allons defini une liste: my_count_words, et demander à avoir un dictionnaire qui contient les éléments compter de la liste.\n",
    " Ce qui nous donne un dict dont on a les elts de la liste et leur numbre: D'où un dict dont les clefs seront les strings de notre my_count_words, et les valeurs seront les nombres de chaque clef"
   ]
  },
  {
   "cell_type": "code",
   "execution_count": 1,
   "id": "2c39f1fb",
   "metadata": {},
   "outputs": [
    {
     "name": "stdout",
     "output_type": "stream",
     "text": [
      "{'table': 3, 'bic': 2, 'noir': 1, 'grand': 2, 'petit': 1}\n"
     ]
    }
   ],
   "source": [
    "from collections import Counter\n",
    "          \n",
    "my_count_words=['table',\"bic\",\"noir\",\"bic\",\"table\",\"grand\",\"petit\",\"table\",'grand']\n",
    "rest= dict (Counter(my_count_words))\n",
    "print(rest)\n"
   ]
  },
  {
   "cell_type": "markdown",
   "id": "ef2bd198",
   "metadata": {},
   "source": [
    "# EXERCISE 6\n",
    "\n",
    "Mandatory: Use reduce from functools\n",
    "Create a python script which will add or subtract the values passed as arguments and based on 3 simple rules:\n",
    "• If there is no arguments, then display 0.\n",
    "• Else, the first value to use is the first argument.\n"
   ]
  },
  {
   "cell_type": "markdown",
   "id": "a043ca41",
   "metadata": {},
   "source": [
    "# Nous allons importer la fonction reduce\n",
    "# *from functools import reduce\n",
    "\n",
    "This script defines a function add_or_subtract that takes variable arguments (*args). If there are no arguments passed (not args), it returns 0. Otherwise, it uses functools.reduce with a lambda function to perform addition of all the values passed as arguments.\n",
    "\n",
    "# functools.reduce is a function within the functools module in Python. It's used for applying a particular function to the items of an iterable (such as a list) and reducing them to a single cumulative value\n",
    "\n",
    "# Else, the first value to use is the first argument means that:\n",
    "you want to use the first argument as the starting point for addition or subtraction. Here's how you can modify the function to do that:\n",
    "\n",
    " if not args:\n",
    "        return 0\n",
    "    else:\n",
    "        # Use the first argument as the initial value\n",
    "        initial_value = args[0]\n",
    "        \n",
    "        # If there are more arguments, perform addition or subtraction based on rules\n",
    "        if len(args) > 1:\n",
    "            result = reduce(lambda x, y: x + y, args[1:], initial_value)\n",
    "            return result\n",
    "        else:\n",
    "            return initial_value"
   ]
  },
  {
   "cell_type": "code",
   "execution_count": 8,
   "id": "a2870af7",
   "metadata": {},
   "outputs": [],
   "source": [
    "from functools import reduce\n",
    "def add_or_subtract(*args):\n",
    "    if not args:\n",
    "        print(0)\n",
    "    else:\n",
    "        result=reduce(lambda x,y: x+y,args)\n",
    "        print(result)"
   ]
  },
  {
   "cell_type": "code",
   "execution_count": 9,
   "id": "64301a98",
   "metadata": {},
   "outputs": [
    {
     "name": "stdout",
     "output_type": "stream",
     "text": [
      "0\n"
     ]
    }
   ],
   "source": [
    "add_or_subtract()"
   ]
  },
  {
   "cell_type": "code",
   "execution_count": 10,
   "id": "45581845",
   "metadata": {},
   "outputs": [
    {
     "name": "stdout",
     "output_type": "stream",
     "text": [
      "-2\n"
     ]
    }
   ],
   "source": [
    "add_or_subtract(12,5,9)"
   ]
  },
  {
   "cell_type": "markdown",
   "id": "f844be24",
   "metadata": {},
   "source": [
    "# EXERCISE 7\n",
    "\n",
    "We define the weight of a string as the sum of the products of the position of each vowel in that string by its rank in the French alphabet. If the string does not contain any vowels, its weight is equal to zero. Note: the vowels are A, E, I, O, U, Y, and their respective ranks are: 1, 5, 9, 15, 21, 25. Example: The string 'BONNE' contains 2 vowels 'O' and 'E,' so its weight is equal to 215 + 5 = 35. The string 'CHANCE' contains 2 vowels 'A' and 'E,' so its weight is equal to 15 + 5 = 10.\n",
    "\n",
    "Write a function that takes a string as an argument and returns its weight.\n"
   ]
  },
  {
   "cell_type": "markdown",
   "id": "884e80a1",
   "metadata": {},
   "source": [
    "# RESOLVE\n",
    "\n",
    "Nous avons une fonction python qui calcule la longueur d'un string\n",
    "# Calculate_weight is a fonction taking a string as an argument and returns its weight.\n",
    "  It iterates through the characters of the string, checking if each character is a vowel (present in the vowel_ranks dictionary). If it's a vowel, it calculates its weight by multiplying its rank by its position in the string (index + 1). The sum of these products is the total weight of the string.\n",
    "  \n",
    "  NB: La variable char représente chaque caractère de la chaîne de caractères fournie à la fonction. La fonction parcourt la chaîne et à chaque itération de la boucle, char contient le caractère à cet index de la chaîne. \n",
    " "
   ]
  },
  {
   "cell_type": "code",
   "execution_count": 1,
   "id": "feb673a7",
   "metadata": {},
   "outputs": [],
   "source": [
    "def Calculate_weight(string):\n",
    "    vowels=[\"A\",'E',\"I\",'O','U','Y']\n",
    "    vowel_ranks = {'A': 1, 'E': 5, 'I': 9, 'O': 15, 'U': 21, 'Y': 25} \n",
    "    weight=0\n",
    "# Calculate the weight of the string:\n",
    "    for index, char in enumerate(string.upper()) :\n",
    "        if char in vowel_ranks:\n",
    "            vowel_ranks= vowels.index(char)+1\n",
    "            weight += (index+1)* vowel_ranks \n",
    "            return weight"
   ]
  },
  {
   "cell_type": "code",
   "execution_count": 2,
   "id": "0354171d",
   "metadata": {},
   "outputs": [
    {
     "data": {
      "text/plain": [
       "8"
      ]
     },
     "execution_count": 2,
     "metadata": {},
     "output_type": "execute_result"
    }
   ],
   "source": [
    "Calculate_weight('bonne')"
   ]
  },
  {
   "cell_type": "markdown",
   "id": "96be30d0",
   "metadata": {},
   "source": [
    "# EXERCISE 8\n",
    "\n",
    "Write a function that, given a list a and two integers i and j, swaps the elements at indices i and j in a.\\\n",
    "\n",
    "For example, swap_index(0, 2, [1, 2, 3, 4, 5]) returns [3, 2, 1, 4, 5].\n"
   ]
  },
  {
   "cell_type": "code",
   "execution_count": 1,
   "id": "fe21cb11",
   "metadata": {},
   "outputs": [],
   "source": [
    "def swap_element_slicing(a,i,j):  \n",
    "    if 0 <= i < len(a) and 0 <= j < len(a):\n",
    "        a[i], a[j] = a[j], a[i]\n",
    "        return a\n",
    "    else:\n",
    "        return 'not valide'"
   ]
  },
  {
   "cell_type": "code",
   "execution_count": 2,
   "id": "8dc0d2cc",
   "metadata": {},
   "outputs": [
    {
     "name": "stdout",
     "output_type": "stream",
     "text": [
      "[8, 6, 3, 5, 7]\n"
     ]
    }
   ],
   "source": [
    "my_list=[3,6,8,5,7]\n",
    "result=swap_element_slicing([3,6,8,5,7],0,2)\n",
    "print(result)"
   ]
  },
  {
   "cell_type": "markdown",
   "id": "369f3609",
   "metadata": {},
   "source": [
    " Explication:\n",
    " # a ==my_list, i==0,j==2\n",
    " l'élément à la position i devient j dans la liste a & l'élément à la position j devient i."
   ]
  },
  {
   "cell_type": "code",
   "execution_count": null,
   "id": "27c3b541",
   "metadata": {},
   "outputs": [],
   "source": []
  }
 ],
 "metadata": {
  "kernelspec": {
   "display_name": "Python 3 (ipykernel)",
   "language": "python",
   "name": "python3"
  },
  "language_info": {
   "codemirror_mode": {
    "name": "ipython",
    "version": 3
   },
   "file_extension": ".py",
   "mimetype": "text/x-python",
   "name": "python",
   "nbconvert_exporter": "python",
   "pygments_lexer": "ipython3",
   "version": "3.11.5"
  }
 },
 "nbformat": 4,
 "nbformat_minor": 5
}
