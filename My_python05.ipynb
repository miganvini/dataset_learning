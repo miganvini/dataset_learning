{
 "cells": [
  {
   "cell_type": "markdown",
   "id": "3f13108d",
   "metadata": {},
   "source": [
    "# Les listes \n",
    "Modifiables après création."
   ]
  },
  {
   "cell_type": "code",
   "execution_count": 156,
   "id": "b9809d24",
   "metadata": {},
   "outputs": [
    {
     "data": {
      "text/plain": [
       "[1, 2, 8]"
      ]
     },
     "execution_count": 156,
     "metadata": {},
     "output_type": "execute_result"
    }
   ],
   "source": [
    "list=[1,2,8]\n",
    "list"
   ]
  },
  {
   "cell_type": "markdown",
   "id": "6b2e10e1",
   "metadata": {},
   "source": [
    "La méthode append"
   ]
  },
  {
   "cell_type": "code",
   "execution_count": 86,
   "id": "1f27b492",
   "metadata": {},
   "outputs": [
    {
     "data": {
      "text/plain": [
       "[1, 2, 8, 'Diana']"
      ]
     },
     "execution_count": 86,
     "metadata": {},
     "output_type": "execute_result"
    }
   ],
   "source": [
    "list.append('Diana')\n",
    "list"
   ]
  },
  {
   "cell_type": "markdown",
   "id": "232a89da",
   "metadata": {},
   "source": [
    "La méthode insert\n",
    "Attention! N'oublions pas que nous appliquons les méthodes à notre liste initiale et non la liste appendée."
   ]
  },
  {
   "cell_type": "code",
   "execution_count": 105,
   "id": "f2b97500",
   "metadata": {},
   "outputs": [
    {
     "data": {
      "text/plain": [
       "[1, 2, 'TOTIN', 8]"
      ]
     },
     "execution_count": 105,
     "metadata": {},
     "output_type": "execute_result"
    }
   ],
   "source": [
    "list.insert(2,\"TOTIN\")  # 8 était à la position 2\n",
    "list"
   ]
  },
  {
   "cell_type": "markdown",
   "id": "a94174dd",
   "metadata": {},
   "source": [
    "La méthode extend: permet la concaténation des listes. Elle est la même chose que + dans la concaténation des str,, ou encore += ."
   ]
  },
  {
   "cell_type": "code",
   "execution_count": 157,
   "id": "4c4a62b6",
   "metadata": {},
   "outputs": [],
   "source": [
    "list1=[12,18,13]"
   ]
  },
  {
   "cell_type": "code",
   "execution_count": 120,
   "id": "da341950",
   "metadata": {},
   "outputs": [
    {
     "data": {
      "text/plain": [
       "[1, 2, 8, 12, 18, 13]"
      ]
     },
     "execution_count": 120,
     "metadata": {},
     "output_type": "execute_result"
    }
   ],
   "source": [
    "list. extend(list1)\n",
    "list"
   ]
  },
  {
   "cell_type": "code",
   "execution_count": 122,
   "id": "0b0a3b4d",
   "metadata": {},
   "outputs": [
    {
     "data": {
      "text/plain": [
       "[1, 2, 8, 12, 18, 13]"
      ]
     },
     "execution_count": 122,
     "metadata": {},
     "output_type": "execute_result"
    }
   ],
   "source": [
    "list +list1\n",
    "list"
   ]
  },
  {
   "cell_type": "code",
   "execution_count": 131,
   "id": "f3e3cb07",
   "metadata": {},
   "outputs": [
    {
     "data": {
      "text/plain": [
       "[1, 2, 8, 12, 18, 13]"
      ]
     },
     "execution_count": 131,
     "metadata": {},
     "output_type": "execute_result"
    }
   ],
   "source": [
    "list += list1\n",
    "list"
   ]
  },
  {
   "cell_type": "markdown",
   "id": "d7da4179",
   "metadata": {},
   "source": [
    "On peut aussi supprimer des éléments de la liste grâce à la # méthode x.remove qui prend en paramètre non pas l'indice de l'élément, contrairement à la méthode del\n",
    "à supprimer, mais l'élément lui-même"
   ]
  },
  {
   "cell_type": "code",
   "execution_count": 140,
   "id": "3191b8c0",
   "metadata": {},
   "outputs": [
    {
     "data": {
      "text/plain": [
       "[12, 13]"
      ]
     },
     "execution_count": 140,
     "metadata": {},
     "output_type": "execute_result"
    }
   ],
   "source": [
    "del list1[1]\n",
    "list1"
   ]
  },
  {
   "cell_type": "code",
   "execution_count": 142,
   "id": "2689445c",
   "metadata": {},
   "outputs": [
    {
     "data": {
      "text/plain": [
       "[2, 8]"
      ]
     },
     "execution_count": 142,
     "metadata": {},
     "output_type": "execute_result"
    }
   ],
   "source": [
    "del list[0]\n",
    "list"
   ]
  },
  {
   "cell_type": "code",
   "execution_count": 152,
   "id": "de472ffc",
   "metadata": {},
   "outputs": [
    {
     "ename": "ValueError",
     "evalue": "list.remove(x): x not in list",
     "output_type": "error",
     "traceback": [
      "\u001b[0;31m---------------------------------------------------------------------------\u001b[0m",
      "\u001b[0;31mValueError\u001b[0m                                Traceback (most recent call last)",
      "Cell \u001b[0;32mIn[152], line 1\u001b[0m\n\u001b[0;32m----> 1\u001b[0m list1\u001b[38;5;241m.\u001b[39mremove(\u001b[38;5;241m14\u001b[39m)\n\u001b[1;32m      2\u001b[0m list1\n",
      "\u001b[0;31mValueError\u001b[0m: list.remove(x): x not in list"
     ]
    }
   ],
   "source": [
    "list1.remove(14)\n",
    "list1"
   ]
  },
  {
   "cell_type": "code",
   "execution_count": 153,
   "id": "0e9a3d5c",
   "metadata": {},
   "outputs": [
    {
     "data": {
      "text/plain": [
       "[18, 13]"
      ]
     },
     "execution_count": 153,
     "metadata": {},
     "output_type": "execute_result"
    }
   ],
   "source": [
    "list1.remove(12)\n",
    "list1"
   ]
  },
  {
   "cell_type": "code",
   "execution_count": 158,
   "id": "971fa71b",
   "metadata": {},
   "outputs": [
    {
     "data": {
      "text/plain": [
       "[1, 2, 8, 12, 18, 13]"
      ]
     },
     "execution_count": 158,
     "metadata": {},
     "output_type": "execute_result"
    }
   ],
   "source": [
    " list2= list+list1\n",
    " list2"
   ]
  },
  {
   "cell_type": "markdown",
   "id": "16fd6dc0",
   "metadata": {},
   "source": [
    "La fonction enumerate"
   ]
  },
  {
   "cell_type": "code",
   "execution_count": 166,
   "id": "c91c312e",
   "metadata": {},
   "outputs": [
    {
     "name": "stdout",
     "output_type": "stream",
     "text": [
      "1\n",
      "2\n",
      "8\n",
      "12\n",
      "18\n",
      "13\n"
     ]
    }
   ],
   "source": [
    "for elt in list2:\n",
    "    print(elt)"
   ]
  },
  {
   "cell_type": "markdown",
   "id": "2caaeec5",
   "metadata": {},
   "source": [
    " La fonction enumerate a besoin de l'élement et de son indice dans la liste afin de la récupérer. Voilà pour quoi nous avons:\n",
    " # for elt in enumerate \n",
    " qui affiche l'indice et l'élément. Donc (a,b)=(indice, élément)"
   ]
  },
  {
   "cell_type": "code",
   "execution_count": 171,
   "id": "38152a2c",
   "metadata": {},
   "outputs": [
    {
     "name": "stdout",
     "output_type": "stream",
     "text": [
      "(0, 1)\n",
      "(1, 2)\n",
      "(2, 8)\n",
      "(3, 12)\n",
      "(4, 18)\n",
      "(5, 13)\n"
     ]
    }
   ],
   "source": [
    "for elt in enumerate(list2):\n",
    "    print(elt)"
   ]
  },
  {
   "cell_type": "code",
   "execution_count": 178,
   "id": "d8b4d157",
   "metadata": {},
   "outputs": [
    {
     "name": "stdout",
     "output_type": "stream",
     "text": [
      "à l'indice 0 se trouve1.\n",
      "à l'indice 1 se trouve2.\n",
      "à l'indice 2 se trouve8.\n",
      "à l'indice 3 se trouve12.\n",
      "à l'indice 4 se trouve18.\n",
      "à l'indice 5 se trouve13.\n"
     ]
    }
   ],
   "source": [
    "for i , elt in enumerate (list2):\n",
    "    print(\"à l'indice {} se trouve{}.\".format(i, elt))"
   ]
  },
  {
   "cell_type": "code",
   "execution_count": 177,
   "id": "9c624869",
   "metadata": {},
   "outputs": [
    {
     "name": "stdout",
     "output_type": "stream",
     "text": [
      "à l'indice 5 se trouve(0, 1).\n",
      "à l'indice 5 se trouve(1, 2).\n",
      "à l'indice 5 se trouve(2, 8).\n",
      "à l'indice 5 se trouve(3, 12).\n",
      "à l'indice 5 se trouve(4, 18).\n",
      "à l'indice 5 se trouve(5, 13).\n"
     ]
    }
   ],
   "source": [
    "for  elt in enumerate (list2):\n",
    "    print(\"à l'indice {} se trouve{}.\".format(i, elt))"
   ]
  },
  {
   "cell_type": "markdown",
   "id": "2afd8d32",
   "metadata": {},
   "source": [
    " NB: Observons attentivement les différences."
   ]
  },
  {
   "cell_type": "code",
   "execution_count": 175,
   "id": "328a79bc",
   "metadata": {},
   "outputs": [
    {
     "name": "stdout",
     "output_type": "stream",
     "text": [
      "à l'indice 0 se trouve1.\n",
      "à l'indice 1 se trouve2.\n",
      "à l'indice 2 se trouve8.\n",
      "à l'indice 3 se trouve12.\n",
      "à l'indice 4 se trouve18.\n",
      "à l'indice 5 se trouve13.\n"
     ]
    }
   ],
   "source": [
    "for a , b in enumerate (list2):\n",
    "    print(\"à l'indice {} se trouve{}.\".format(a, b))"
   ]
  },
  {
   "cell_type": "code",
   "execution_count": 176,
   "id": "6949c9d6",
   "metadata": {},
   "outputs": [
    {
     "name": "stdout",
     "output_type": "stream",
     "text": [
      " se trouve1 à l'indice 0.\n",
      " se trouve2 à l'indice 1.\n",
      " se trouve8 à l'indice 2.\n",
      " se trouve12 à l'indice 3.\n",
      " se trouve18 à l'indice 4.\n",
      " se trouve13 à l'indice 5.\n"
     ]
    }
   ],
   "source": [
    "for a , b in enumerate (list2):\n",
    "    print(\" se trouve{} à l'indice {}.\".format(b, a))"
   ]
  },
  {
   "cell_type": "markdown",
   "id": "d4e0e17c",
   "metadata": {},
   "source": [
    "Quand on parcourt chaque élément de l'objet renvoyé par enumerate, on voit des tuples qui contiennent deux éléments :d'abord l'indice, puis l'objet se trouvant à cet indice dans la liste passée en argument à la fonction enumerate."
   ]
  },
  {
   "cell_type": "markdown",
   "id": "88640c51",
   "metadata": {},
   "source": [
    "# Les tuples\n",
    "Ne sont plus modifiables une fois qu'ils aient été créé"
   ]
  },
  {
   "cell_type": "code",
   "execution_count": null,
   "id": "f075a114",
   "metadata": {},
   "outputs": [],
   "source": []
  },
  {
   "cell_type": "code",
   "execution_count": null,
   "id": "93d21fe6",
   "metadata": {},
   "outputs": [],
   "source": []
  },
  {
   "cell_type": "code",
   "execution_count": null,
   "id": "cf08f7a1",
   "metadata": {},
   "outputs": [],
   "source": []
  },
  {
   "cell_type": "markdown",
   "id": "5edade8b",
   "metadata": {},
   "source": [
    "La méthode  x.upper() & x.lower()"
   ]
  },
  {
   "cell_type": "code",
   "execution_count": 64,
   "id": "f4606b70",
   "metadata": {},
   "outputs": [
    {
     "data": {
      "text/plain": [
       "'DIANA DUPONT'"
      ]
     },
     "execution_count": 64,
     "metadata": {},
     "output_type": "execute_result"
    }
   ],
   "source": [
    "name=\"Diana duPont\"\n",
    "name.upper()"
   ]
  },
  {
   "cell_type": "code",
   "execution_count": 65,
   "id": "f10a3541",
   "metadata": {},
   "outputs": [
    {
     "data": {
      "text/plain": [
       "'diana dupont'"
      ]
     },
     "execution_count": 65,
     "metadata": {},
     "output_type": "execute_result"
    }
   ],
   "source": [
    "name.lower()"
   ]
  },
  {
   "cell_type": "markdown",
   "id": "c4c7f06e",
   "metadata": {},
   "source": [
    "NB: La méthode append ne fonctionne pas avec les str. Il faut donc une concatenation entre les chaînes de caractères"
   ]
  },
  {
   "cell_type": "code",
   "execution_count": 68,
   "id": "2ad702c8",
   "metadata": {},
   "outputs": [
    {
     "data": {
      "text/plain": [
       "'Diana duPont a 18ans'"
      ]
     },
     "execution_count": 68,
     "metadata": {},
     "output_type": "execute_result"
    }
   ],
   "source": [
    "name +  \" a 18ans\""
   ]
  },
  {
   "cell_type": "code",
   "execution_count": null,
   "id": "ebb78a50",
   "metadata": {},
   "outputs": [],
   "source": []
  },
  {
   "cell_type": "markdown",
   "id": "0fc95a7e",
   "metadata": {},
   "source": [
    "Remplacement d'élément par une autre valeur."
   ]
  },
  {
   "cell_type": "code",
   "execution_count": 39,
   "id": "45b955d9",
   "metadata": {},
   "outputs": [
    {
     "data": {
      "text/plain": [
       "'GoGod'"
      ]
     },
     "execution_count": 39,
     "metadata": {},
     "output_type": "execute_result"
    }
   ],
   "source": [
    "mot='God'\n",
    "mot= 'Go'+ mot[0:]\n",
    "mot"
   ]
  },
  {
   "cell_type": "code",
   "execution_count": 40,
   "id": "d3e6fd33",
   "metadata": {},
   "outputs": [
    {
     "data": {
      "text/plain": [
       "'Go God'"
      ]
     },
     "execution_count": 40,
     "metadata": {},
     "output_type": "execute_result"
    }
   ],
   "source": [
    "mot='God'\n",
    "mot= 'Go '+ mot[0:]\n",
    "mot"
   ]
  },
  {
   "cell_type": "code",
   "execution_count": 41,
   "id": "90c104ad",
   "metadata": {},
   "outputs": [
    {
     "data": {
      "text/plain": [
       "'Good'"
      ]
     },
     "execution_count": 41,
     "metadata": {},
     "output_type": "execute_result"
    }
   ],
   "source": [
    "mot='God'\n",
    "mot= 'Go'+ mot[1:]\n",
    "mot"
   ]
  },
  {
   "cell_type": "code",
   "execution_count": null,
   "id": "9663da62",
   "metadata": {},
   "outputs": [],
   "source": []
  }
 ],
 "metadata": {
  "kernelspec": {
   "display_name": "Python 3 (ipykernel)",
   "language": "python",
   "name": "python3"
  },
  "language_info": {
   "codemirror_mode": {
    "name": "ipython",
    "version": 3
   },
   "file_extension": ".py",
   "mimetype": "text/x-python",
   "name": "python",
   "nbconvert_exporter": "python",
   "pygments_lexer": "ipython3",
   "version": "3.11.5"
  }
 },
 "nbformat": 4,
 "nbformat_minor": 5
}
