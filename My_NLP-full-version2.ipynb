{
 "cells": [
  {
   "cell_type": "code",
   "execution_count": 1,
   "id": "791f3b9b",
   "metadata": {},
   "outputs": [
    {
     "name": "stdout",
     "output_type": "stream",
     "text": [
      "Collecting wordcloud\n",
      "  Obtaining dependency information for wordcloud from https://files.pythonhosted.org/packages/40/ad/c22887189c23cc133ae7cbad48c71312f1a962b960fe7f51fd792808a307/wordcloud-1.9.3-cp311-cp311-manylinux_2_17_x86_64.manylinux2014_x86_64.whl.metadata\n",
      "  Downloading wordcloud-1.9.3-cp311-cp311-manylinux_2_17_x86_64.manylinux2014_x86_64.whl.metadata (3.4 kB)\n",
      "Requirement already satisfied: numpy>=1.6.1 in /home/vini/anaconda3/lib/python3.11/site-packages (from wordcloud) (1.24.3)\n",
      "Requirement already satisfied: pillow in /home/vini/anaconda3/lib/python3.11/site-packages (from wordcloud) (9.4.0)\n",
      "Requirement already satisfied: matplotlib in /home/vini/anaconda3/lib/python3.11/site-packages (from wordcloud) (3.7.2)\n",
      "Requirement already satisfied: contourpy>=1.0.1 in /home/vini/anaconda3/lib/python3.11/site-packages (from matplotlib->wordcloud) (1.0.5)\n",
      "Requirement already satisfied: cycler>=0.10 in /home/vini/anaconda3/lib/python3.11/site-packages (from matplotlib->wordcloud) (0.11.0)\n",
      "Requirement already satisfied: fonttools>=4.22.0 in /home/vini/anaconda3/lib/python3.11/site-packages (from matplotlib->wordcloud) (4.25.0)\n",
      "Requirement already satisfied: kiwisolver>=1.0.1 in /home/vini/anaconda3/lib/python3.11/site-packages (from matplotlib->wordcloud) (1.4.4)\n",
      "Requirement already satisfied: packaging>=20.0 in /home/vini/anaconda3/lib/python3.11/site-packages (from matplotlib->wordcloud) (23.1)\n",
      "Requirement already satisfied: pyparsing<3.1,>=2.3.1 in /home/vini/anaconda3/lib/python3.11/site-packages (from matplotlib->wordcloud) (3.0.9)\n",
      "Requirement already satisfied: python-dateutil>=2.7 in /home/vini/anaconda3/lib/python3.11/site-packages (from matplotlib->wordcloud) (2.8.2)\n",
      "Requirement already satisfied: six>=1.5 in /home/vini/anaconda3/lib/python3.11/site-packages (from python-dateutil>=2.7->matplotlib->wordcloud) (1.16.0)\n",
      "Downloading wordcloud-1.9.3-cp311-cp311-manylinux_2_17_x86_64.manylinux2014_x86_64.whl (548 kB)\n",
      "\u001b[2K   \u001b[38;2;114;156;31m━━━━━━━━━━━━━━━━━━━━━━━━━━━━━━━━━━━━━━━\u001b[0m \u001b[32m548.3/548.3 kB\u001b[0m \u001b[31m257.6 kB/s\u001b[0m eta \u001b[36m0:00:00\u001b[0mm eta \u001b[36m0:00:01\u001b[0m[36m0:00:01\u001b[0m\n",
      "\u001b[?25hInstalling collected packages: wordcloud\n",
      "Successfully installed wordcloud-1.9.3\n"
     ]
    }
   ],
   "source": [
    "\n",
    "!pip install wordcloud"
   ]
  },
  {
   "cell_type": "code",
   "execution_count": 1,
   "id": "95da43b5",
   "metadata": {},
   "outputs": [
    {
     "name": "stderr",
     "output_type": "stream",
     "text": [
      "[nltk_data] Downloading package stopwords to /home/vini/nltk_data...\n",
      "[nltk_data]   Package stopwords is already up-to-date!\n",
      "[nltk_data] Downloading package punkt to /home/vini/nltk_data...\n",
      "[nltk_data]   Package punkt is already up-to-date!\n",
      "[nltk_data] Downloading package wordnet to /home/vini/nltk_data...\n",
      "[nltk_data]   Package wordnet is already up-to-date!\n"
     ]
    },
    {
     "data": {
      "text/plain": [
       "True"
      ]
     },
     "execution_count": 1,
     "metadata": {},
     "output_type": "execute_result"
    }
   ],
   "source": [
    "from wordcloud import WordCloud\n",
    "import nltk\n",
    "from nltk.stem import WordNetLemmatizer\n",
    "from nltk.stem import PorterStemmer\n",
    "from nltk.corpus import stopwords\n",
    "from nltk.tokenize import word_tokenize\n",
    "import numpy as np\n",
    "import pandas as pd\n",
    "import matplotlib.pyplot as plt \n",
    "nltk.download(\"stopwords\")\n",
    "nltk.download(\"punkt\")\n",
    "nltk.download('wordnet')"
   ]
  },
  {
   "cell_type": "code",
   "execution_count": 3,
   "id": "5dae6e13",
   "metadata": {},
   "outputs": [],
   "source": [
    "corpus = \"\"\"The beneficiaries of the Women AI and Data Academy program are Amazons. \n",
    "They are currently learning data visualization, machine learning, deep learning, \n",
    "web scraping, as well as all the concepts of data and AI. \n",
    "They are gaining knowledge of the complete functioning of algorithms, \n",
    "from understanding the algorithms to implementing models, \n",
    "taking into account data retrieval, storage, and streaming for BI purposes.\"\"\""
   ]
  },
  {
   "cell_type": "code",
   "execution_count": 4,
   "id": "b7c30fd2",
   "metadata": {},
   "outputs": [],
   "source": [
    "corpus = corpus.lower()"
   ]
  },
  {
   "cell_type": "code",
   "execution_count": 5,
   "id": "43c4669c",
   "metadata": {},
   "outputs": [
    {
     "data": {
      "text/plain": [
       "'the beneficiaries of the women ai and data academy program are amazons. \\nthey are currently learning data visualization, machine learning, deep learning, \\nweb scraping, as well as all the concepts of data and ai. \\nthey are gaining knowledge of the complete functioning of algorithms, \\nfrom understanding the algorithms to implementing models, \\ntaking into account data retrieval, storage, and streaming for bi purposes.'"
      ]
     },
     "execution_count": 5,
     "metadata": {},
     "output_type": "execute_result"
    }
   ],
   "source": [
    "corpus"
   ]
  },
  {
   "cell_type": "code",
   "execution_count": 6,
   "id": "b772d9c1",
   "metadata": {},
   "outputs": [],
   "source": [
    "corpus = corpus.replace(\".\",' ').replace(\",\",\" \").replace('\\n',\" \").replace(\"  \",\" \").replace(\"   \",\" \")"
   ]
  },
  {
   "cell_type": "code",
   "execution_count": 7,
   "id": "589d5b7f",
   "metadata": {},
   "outputs": [
    {
     "data": {
      "text/plain": [
       "'the beneficiaries of the women ai and data academy program are amazons  they are currently learning data visualization machine learning deep learning  web scraping as well as all the concepts of data and ai  they are gaining knowledge of the complete functioning of algorithms  from understanding the algorithms to implementing models  taking into account data retrieval storage and streaming for bi purposes '"
      ]
     },
     "execution_count": 7,
     "metadata": {},
     "output_type": "execute_result"
    }
   ],
   "source": [
    "corpus"
   ]
  },
  {
   "cell_type": "code",
   "execution_count": 8,
   "id": "dd7fc362",
   "metadata": {},
   "outputs": [],
   "source": [
    "stop_w = stopwords.words(\"english\")"
   ]
  },
  {
   "cell_type": "code",
   "execution_count": 9,
   "id": "d16fdc16",
   "metadata": {},
   "outputs": [
    {
     "data": {
      "text/plain": [
       "['i',\n",
       " 'me',\n",
       " 'my',\n",
       " 'myself',\n",
       " 'we',\n",
       " 'our',\n",
       " 'ours',\n",
       " 'ourselves',\n",
       " 'you',\n",
       " \"you're\",\n",
       " \"you've\",\n",
       " \"you'll\",\n",
       " \"you'd\",\n",
       " 'your',\n",
       " 'yours',\n",
       " 'yourself',\n",
       " 'yourselves',\n",
       " 'he',\n",
       " 'him',\n",
       " 'his',\n",
       " 'himself',\n",
       " 'she',\n",
       " \"she's\",\n",
       " 'her',\n",
       " 'hers',\n",
       " 'herself',\n",
       " 'it',\n",
       " \"it's\",\n",
       " 'its',\n",
       " 'itself',\n",
       " 'they',\n",
       " 'them',\n",
       " 'their',\n",
       " 'theirs',\n",
       " 'themselves',\n",
       " 'what',\n",
       " 'which',\n",
       " 'who',\n",
       " 'whom',\n",
       " 'this',\n",
       " 'that',\n",
       " \"that'll\",\n",
       " 'these',\n",
       " 'those',\n",
       " 'am',\n",
       " 'is',\n",
       " 'are',\n",
       " 'was',\n",
       " 'were',\n",
       " 'be',\n",
       " 'been',\n",
       " 'being',\n",
       " 'have',\n",
       " 'has',\n",
       " 'had',\n",
       " 'having',\n",
       " 'do',\n",
       " 'does',\n",
       " 'did',\n",
       " 'doing',\n",
       " 'a',\n",
       " 'an',\n",
       " 'the',\n",
       " 'and',\n",
       " 'but',\n",
       " 'if',\n",
       " 'or',\n",
       " 'because',\n",
       " 'as',\n",
       " 'until',\n",
       " 'while',\n",
       " 'of',\n",
       " 'at',\n",
       " 'by',\n",
       " 'for',\n",
       " 'with',\n",
       " 'about',\n",
       " 'against',\n",
       " 'between',\n",
       " 'into',\n",
       " 'through',\n",
       " 'during',\n",
       " 'before',\n",
       " 'after',\n",
       " 'above',\n",
       " 'below',\n",
       " 'to',\n",
       " 'from',\n",
       " 'up',\n",
       " 'down',\n",
       " 'in',\n",
       " 'out',\n",
       " 'on',\n",
       " 'off',\n",
       " 'over',\n",
       " 'under',\n",
       " 'again',\n",
       " 'further',\n",
       " 'then',\n",
       " 'once',\n",
       " 'here',\n",
       " 'there',\n",
       " 'when',\n",
       " 'where',\n",
       " 'why',\n",
       " 'how',\n",
       " 'all',\n",
       " 'any',\n",
       " 'both',\n",
       " 'each',\n",
       " 'few',\n",
       " 'more',\n",
       " 'most',\n",
       " 'other',\n",
       " 'some',\n",
       " 'such',\n",
       " 'no',\n",
       " 'nor',\n",
       " 'not',\n",
       " 'only',\n",
       " 'own',\n",
       " 'same',\n",
       " 'so',\n",
       " 'than',\n",
       " 'too',\n",
       " 'very',\n",
       " 's',\n",
       " 't',\n",
       " 'can',\n",
       " 'will',\n",
       " 'just',\n",
       " 'don',\n",
       " \"don't\",\n",
       " 'should',\n",
       " \"should've\",\n",
       " 'now',\n",
       " 'd',\n",
       " 'll',\n",
       " 'm',\n",
       " 'o',\n",
       " 're',\n",
       " 've',\n",
       " 'y',\n",
       " 'ain',\n",
       " 'aren',\n",
       " \"aren't\",\n",
       " 'couldn',\n",
       " \"couldn't\",\n",
       " 'didn',\n",
       " \"didn't\",\n",
       " 'doesn',\n",
       " \"doesn't\",\n",
       " 'hadn',\n",
       " \"hadn't\",\n",
       " 'hasn',\n",
       " \"hasn't\",\n",
       " 'haven',\n",
       " \"haven't\",\n",
       " 'isn',\n",
       " \"isn't\",\n",
       " 'ma',\n",
       " 'mightn',\n",
       " \"mightn't\",\n",
       " 'mustn',\n",
       " \"mustn't\",\n",
       " 'needn',\n",
       " \"needn't\",\n",
       " 'shan',\n",
       " \"shan't\",\n",
       " 'shouldn',\n",
       " \"shouldn't\",\n",
       " 'wasn',\n",
       " \"wasn't\",\n",
       " 'weren',\n",
       " \"weren't\",\n",
       " 'won',\n",
       " \"won't\",\n",
       " 'wouldn',\n",
       " \"wouldn't\"]"
      ]
     },
     "execution_count": 9,
     "metadata": {},
     "output_type": "execute_result"
    }
   ],
   "source": [
    "stop_w"
   ]
  },
  {
   "cell_type": "code",
   "execution_count": 10,
   "id": "951af13e",
   "metadata": {},
   "outputs": [],
   "source": [
    "tokens = word_tokenize(corpus)"
   ]
  },
  {
   "cell_type": "code",
   "execution_count": 11,
   "id": "1d3ef694",
   "metadata": {},
   "outputs": [
    {
     "data": {
      "text/plain": [
       "['the',\n",
       " 'beneficiaries',\n",
       " 'of',\n",
       " 'the',\n",
       " 'women',\n",
       " 'ai',\n",
       " 'and',\n",
       " 'data',\n",
       " 'academy',\n",
       " 'program',\n",
       " 'are',\n",
       " 'amazons',\n",
       " 'they',\n",
       " 'are',\n",
       " 'currently',\n",
       " 'learning',\n",
       " 'data',\n",
       " 'visualization',\n",
       " 'machine',\n",
       " 'learning',\n",
       " 'deep',\n",
       " 'learning',\n",
       " 'web',\n",
       " 'scraping',\n",
       " 'as',\n",
       " 'well',\n",
       " 'as',\n",
       " 'all',\n",
       " 'the',\n",
       " 'concepts',\n",
       " 'of',\n",
       " 'data',\n",
       " 'and',\n",
       " 'ai',\n",
       " 'they',\n",
       " 'are',\n",
       " 'gaining',\n",
       " 'knowledge',\n",
       " 'of',\n",
       " 'the',\n",
       " 'complete',\n",
       " 'functioning',\n",
       " 'of',\n",
       " 'algorithms',\n",
       " 'from',\n",
       " 'understanding',\n",
       " 'the',\n",
       " 'algorithms',\n",
       " 'to',\n",
       " 'implementing',\n",
       " 'models',\n",
       " 'taking',\n",
       " 'into',\n",
       " 'account',\n",
       " 'data',\n",
       " 'retrieval',\n",
       " 'storage',\n",
       " 'and',\n",
       " 'streaming',\n",
       " 'for',\n",
       " 'bi',\n",
       " 'purposes']"
      ]
     },
     "execution_count": 11,
     "metadata": {},
     "output_type": "execute_result"
    }
   ],
   "source": [
    "tokens"
   ]
  },
  {
   "cell_type": "code",
   "execution_count": 12,
   "id": "8f516d1c",
   "metadata": {},
   "outputs": [],
   "source": [
    "stop_w_corpus = [ elt for elt in tokens if elt in stop_w]"
   ]
  },
  {
   "cell_type": "code",
   "execution_count": 13,
   "id": "621e14b0",
   "metadata": {},
   "outputs": [],
   "source": [
    "tokens = [ elt for elt in tokens if elt not in stop_w]"
   ]
  },
  {
   "cell_type": "code",
   "execution_count": 14,
   "id": "ea648a16",
   "metadata": {},
   "outputs": [
    {
     "data": {
      "text/plain": [
       "['beneficiaries',\n",
       " 'women',\n",
       " 'ai',\n",
       " 'data',\n",
       " 'academy',\n",
       " 'program',\n",
       " 'amazons',\n",
       " 'currently',\n",
       " 'learning',\n",
       " 'data',\n",
       " 'visualization',\n",
       " 'machine',\n",
       " 'learning',\n",
       " 'deep',\n",
       " 'learning',\n",
       " 'web',\n",
       " 'scraping',\n",
       " 'well',\n",
       " 'concepts',\n",
       " 'data',\n",
       " 'ai',\n",
       " 'gaining',\n",
       " 'knowledge',\n",
       " 'complete',\n",
       " 'functioning',\n",
       " 'algorithms',\n",
       " 'understanding',\n",
       " 'algorithms',\n",
       " 'implementing',\n",
       " 'models',\n",
       " 'taking',\n",
       " 'account',\n",
       " 'data',\n",
       " 'retrieval',\n",
       " 'storage',\n",
       " 'streaming',\n",
       " 'bi',\n",
       " 'purposes']"
      ]
     },
     "execution_count": 14,
     "metadata": {},
     "output_type": "execute_result"
    }
   ],
   "source": [
    "tokens"
   ]
  },
  {
   "cell_type": "code",
   "execution_count": 15,
   "id": "a7e7e5e4",
   "metadata": {},
   "outputs": [
    {
     "data": {
      "text/plain": [
       "['the',\n",
       " 'of',\n",
       " 'the',\n",
       " 'and',\n",
       " 'are',\n",
       " 'they',\n",
       " 'are',\n",
       " 'as',\n",
       " 'as',\n",
       " 'all',\n",
       " 'the',\n",
       " 'of',\n",
       " 'and',\n",
       " 'they',\n",
       " 'are',\n",
       " 'of',\n",
       " 'the',\n",
       " 'of',\n",
       " 'from',\n",
       " 'the',\n",
       " 'to',\n",
       " 'into',\n",
       " 'and',\n",
       " 'for']"
      ]
     },
     "execution_count": 15,
     "metadata": {},
     "output_type": "execute_result"
    }
   ],
   "source": [
    "stop_w_corpus"
   ]
  },
  {
   "cell_type": "code",
   "execution_count": 16,
   "id": "379a94de",
   "metadata": {},
   "outputs": [],
   "source": [
    "lemmatizer =  PorterStemmer()\n",
    "tokens = [PorterStemmer().stem(token) for token in tokens]"
   ]
  },
  {
   "cell_type": "markdown",
   "id": "bda0b79e",
   "metadata": {},
   "source": [
    "### tokens"
   ]
  },
  {
   "cell_type": "code",
   "execution_count": 17,
   "id": "979c96be",
   "metadata": {},
   "outputs": [],
   "source": [
    "dict_infos={k:tokens.count(k) for k in tokens}"
   ]
  },
  {
   "cell_type": "code",
   "execution_count": 18,
   "id": "68f132d3",
   "metadata": {},
   "outputs": [
    {
     "data": {
      "text/plain": [
       "{'beneficiari': 1,\n",
       " 'women': 1,\n",
       " 'ai': 2,\n",
       " 'data': 4,\n",
       " 'academi': 1,\n",
       " 'program': 1,\n",
       " 'amazon': 1,\n",
       " 'current': 1,\n",
       " 'learn': 3,\n",
       " 'visual': 1,\n",
       " 'machin': 1,\n",
       " 'deep': 1,\n",
       " 'web': 1,\n",
       " 'scrape': 1,\n",
       " 'well': 1,\n",
       " 'concept': 1,\n",
       " 'gain': 1,\n",
       " 'knowledg': 1,\n",
       " 'complet': 1,\n",
       " 'function': 1,\n",
       " 'algorithm': 2,\n",
       " 'understand': 1,\n",
       " 'implement': 1,\n",
       " 'model': 1,\n",
       " 'take': 1,\n",
       " 'account': 1,\n",
       " 'retriev': 1,\n",
       " 'storag': 1,\n",
       " 'stream': 1,\n",
       " 'bi': 1,\n",
       " 'purpos': 1}"
      ]
     },
     "execution_count": 18,
     "metadata": {},
     "output_type": "execute_result"
    }
   ],
   "source": [
    "dict_infos"
   ]
  },
  {
   "cell_type": "code",
   "execution_count": 19,
   "id": "8ee71bef",
   "metadata": {},
   "outputs": [
    {
     "data": {
      "text/html": [
       "<div>\n",
       "<style scoped>\n",
       "    .dataframe tbody tr th:only-of-type {\n",
       "        vertical-align: middle;\n",
       "    }\n",
       "\n",
       "    .dataframe tbody tr th {\n",
       "        vertical-align: top;\n",
       "    }\n",
       "\n",
       "    .dataframe thead th {\n",
       "        text-align: right;\n",
       "    }\n",
       "</style>\n",
       "<table border=\"1\" class=\"dataframe\">\n",
       "  <thead>\n",
       "    <tr style=\"text-align: right;\">\n",
       "      <th></th>\n",
       "      <th>beneficiari</th>\n",
       "      <th>women</th>\n",
       "      <th>ai</th>\n",
       "      <th>data</th>\n",
       "      <th>academi</th>\n",
       "      <th>program</th>\n",
       "      <th>amazon</th>\n",
       "      <th>current</th>\n",
       "      <th>learn</th>\n",
       "      <th>visual</th>\n",
       "      <th>...</th>\n",
       "      <th>understand</th>\n",
       "      <th>implement</th>\n",
       "      <th>model</th>\n",
       "      <th>take</th>\n",
       "      <th>account</th>\n",
       "      <th>retriev</th>\n",
       "      <th>storag</th>\n",
       "      <th>stream</th>\n",
       "      <th>bi</th>\n",
       "      <th>purpos</th>\n",
       "    </tr>\n",
       "  </thead>\n",
       "  <tbody>\n",
       "    <tr>\n",
       "      <th>0</th>\n",
       "      <td>1</td>\n",
       "      <td>1</td>\n",
       "      <td>2</td>\n",
       "      <td>4</td>\n",
       "      <td>1</td>\n",
       "      <td>1</td>\n",
       "      <td>1</td>\n",
       "      <td>1</td>\n",
       "      <td>3</td>\n",
       "      <td>1</td>\n",
       "      <td>...</td>\n",
       "      <td>1</td>\n",
       "      <td>1</td>\n",
       "      <td>1</td>\n",
       "      <td>1</td>\n",
       "      <td>1</td>\n",
       "      <td>1</td>\n",
       "      <td>1</td>\n",
       "      <td>1</td>\n",
       "      <td>1</td>\n",
       "      <td>1</td>\n",
       "    </tr>\n",
       "  </tbody>\n",
       "</table>\n",
       "<p>1 rows × 31 columns</p>\n",
       "</div>"
      ],
      "text/plain": [
       "   beneficiari  women  ai  data  academi  program  amazon  current  learn  \\\n",
       "0            1      1   2     4        1        1       1        1      3   \n",
       "\n",
       "   visual  ...  understand  implement  model  take  account  retriev  storag  \\\n",
       "0       1  ...           1          1      1     1        1        1       1   \n",
       "\n",
       "   stream  bi  purpos  \n",
       "0       1   1       1  \n",
       "\n",
       "[1 rows x 31 columns]"
      ]
     },
     "execution_count": 19,
     "metadata": {},
     "output_type": "execute_result"
    }
   ],
   "source": [
    "data = pd.DataFrame([dict_infos])\n",
    "data"
   ]
  },
  {
   "cell_type": "code",
   "execution_count": 20,
   "id": "c06b25b8",
   "metadata": {},
   "outputs": [
    {
     "data": {
      "text/html": [
       "<div>\n",
       "<style scoped>\n",
       "    .dataframe tbody tr th:only-of-type {\n",
       "        vertical-align: middle;\n",
       "    }\n",
       "\n",
       "    .dataframe tbody tr th {\n",
       "        vertical-align: top;\n",
       "    }\n",
       "\n",
       "    .dataframe thead th {\n",
       "        text-align: right;\n",
       "    }\n",
       "</style>\n",
       "<table border=\"1\" class=\"dataframe\">\n",
       "  <thead>\n",
       "    <tr style=\"text-align: right;\">\n",
       "      <th></th>\n",
       "      <th>index</th>\n",
       "      <th>0</th>\n",
       "    </tr>\n",
       "  </thead>\n",
       "  <tbody>\n",
       "    <tr>\n",
       "      <th>0</th>\n",
       "      <td>beneficiari</td>\n",
       "      <td>1</td>\n",
       "    </tr>\n",
       "    <tr>\n",
       "      <th>1</th>\n",
       "      <td>women</td>\n",
       "      <td>1</td>\n",
       "    </tr>\n",
       "    <tr>\n",
       "      <th>2</th>\n",
       "      <td>ai</td>\n",
       "      <td>2</td>\n",
       "    </tr>\n",
       "    <tr>\n",
       "      <th>3</th>\n",
       "      <td>data</td>\n",
       "      <td>4</td>\n",
       "    </tr>\n",
       "    <tr>\n",
       "      <th>4</th>\n",
       "      <td>academi</td>\n",
       "      <td>1</td>\n",
       "    </tr>\n",
       "    <tr>\n",
       "      <th>5</th>\n",
       "      <td>program</td>\n",
       "      <td>1</td>\n",
       "    </tr>\n",
       "    <tr>\n",
       "      <th>6</th>\n",
       "      <td>amazon</td>\n",
       "      <td>1</td>\n",
       "    </tr>\n",
       "    <tr>\n",
       "      <th>7</th>\n",
       "      <td>current</td>\n",
       "      <td>1</td>\n",
       "    </tr>\n",
       "    <tr>\n",
       "      <th>8</th>\n",
       "      <td>learn</td>\n",
       "      <td>3</td>\n",
       "    </tr>\n",
       "    <tr>\n",
       "      <th>9</th>\n",
       "      <td>visual</td>\n",
       "      <td>1</td>\n",
       "    </tr>\n",
       "    <tr>\n",
       "      <th>10</th>\n",
       "      <td>machin</td>\n",
       "      <td>1</td>\n",
       "    </tr>\n",
       "    <tr>\n",
       "      <th>11</th>\n",
       "      <td>deep</td>\n",
       "      <td>1</td>\n",
       "    </tr>\n",
       "    <tr>\n",
       "      <th>12</th>\n",
       "      <td>web</td>\n",
       "      <td>1</td>\n",
       "    </tr>\n",
       "    <tr>\n",
       "      <th>13</th>\n",
       "      <td>scrape</td>\n",
       "      <td>1</td>\n",
       "    </tr>\n",
       "    <tr>\n",
       "      <th>14</th>\n",
       "      <td>well</td>\n",
       "      <td>1</td>\n",
       "    </tr>\n",
       "    <tr>\n",
       "      <th>15</th>\n",
       "      <td>concept</td>\n",
       "      <td>1</td>\n",
       "    </tr>\n",
       "    <tr>\n",
       "      <th>16</th>\n",
       "      <td>gain</td>\n",
       "      <td>1</td>\n",
       "    </tr>\n",
       "    <tr>\n",
       "      <th>17</th>\n",
       "      <td>knowledg</td>\n",
       "      <td>1</td>\n",
       "    </tr>\n",
       "    <tr>\n",
       "      <th>18</th>\n",
       "      <td>complet</td>\n",
       "      <td>1</td>\n",
       "    </tr>\n",
       "    <tr>\n",
       "      <th>19</th>\n",
       "      <td>function</td>\n",
       "      <td>1</td>\n",
       "    </tr>\n",
       "    <tr>\n",
       "      <th>20</th>\n",
       "      <td>algorithm</td>\n",
       "      <td>2</td>\n",
       "    </tr>\n",
       "    <tr>\n",
       "      <th>21</th>\n",
       "      <td>understand</td>\n",
       "      <td>1</td>\n",
       "    </tr>\n",
       "    <tr>\n",
       "      <th>22</th>\n",
       "      <td>implement</td>\n",
       "      <td>1</td>\n",
       "    </tr>\n",
       "    <tr>\n",
       "      <th>23</th>\n",
       "      <td>model</td>\n",
       "      <td>1</td>\n",
       "    </tr>\n",
       "    <tr>\n",
       "      <th>24</th>\n",
       "      <td>take</td>\n",
       "      <td>1</td>\n",
       "    </tr>\n",
       "    <tr>\n",
       "      <th>25</th>\n",
       "      <td>account</td>\n",
       "      <td>1</td>\n",
       "    </tr>\n",
       "    <tr>\n",
       "      <th>26</th>\n",
       "      <td>retriev</td>\n",
       "      <td>1</td>\n",
       "    </tr>\n",
       "    <tr>\n",
       "      <th>27</th>\n",
       "      <td>storag</td>\n",
       "      <td>1</td>\n",
       "    </tr>\n",
       "    <tr>\n",
       "      <th>28</th>\n",
       "      <td>stream</td>\n",
       "      <td>1</td>\n",
       "    </tr>\n",
       "    <tr>\n",
       "      <th>29</th>\n",
       "      <td>bi</td>\n",
       "      <td>1</td>\n",
       "    </tr>\n",
       "    <tr>\n",
       "      <th>30</th>\n",
       "      <td>purpos</td>\n",
       "      <td>1</td>\n",
       "    </tr>\n",
       "  </tbody>\n",
       "</table>\n",
       "</div>"
      ],
      "text/plain": [
       "          index  0\n",
       "0   beneficiari  1\n",
       "1         women  1\n",
       "2            ai  2\n",
       "3          data  4\n",
       "4       academi  1\n",
       "5       program  1\n",
       "6        amazon  1\n",
       "7       current  1\n",
       "8         learn  3\n",
       "9        visual  1\n",
       "10       machin  1\n",
       "11         deep  1\n",
       "12          web  1\n",
       "13       scrape  1\n",
       "14         well  1\n",
       "15      concept  1\n",
       "16         gain  1\n",
       "17     knowledg  1\n",
       "18      complet  1\n",
       "19     function  1\n",
       "20    algorithm  2\n",
       "21   understand  1\n",
       "22    implement  1\n",
       "23        model  1\n",
       "24         take  1\n",
       "25      account  1\n",
       "26      retriev  1\n",
       "27       storag  1\n",
       "28       stream  1\n",
       "29           bi  1\n",
       "30       purpos  1"
      ]
     },
     "execution_count": 20,
     "metadata": {},
     "output_type": "execute_result"
    }
   ],
   "source": [
    "data.T.reset_index()"
   ]
  },
  {
   "cell_type": "code",
   "execution_count": 21,
   "id": "4aca27e5",
   "metadata": {},
   "outputs": [],
   "source": [
    "def get_stem (word):\n",
    "    stemmer = PorterStemmer()\n",
    "    return [PorterStemmer().stem(word) for tokens in word]"
   ]
  },
  {
   "cell_type": "code",
   "execution_count": 22,
   "id": "f2ed1997",
   "metadata": {},
   "outputs": [
    {
     "data": {
      "text/plain": [
       "['learn', 'learn', 'learn', 'learn', 'learn', 'learn', 'learn', 'learn']"
      ]
     },
     "execution_count": 22,
     "metadata": {},
     "output_type": "execute_result"
    }
   ],
   "source": [
    "get_stem(\"learning\")"
   ]
  },
  {
   "cell_type": "code",
   "execution_count": 23,
   "id": "304bee20",
   "metadata": {},
   "outputs": [],
   "source": [
    "def get_lemme(word):\n",
    "    lemmatizer = WordNetLemmatizer()\n",
    "    return lemmatizer.lemmatize(word)"
   ]
  },
  {
   "cell_type": "code",
   "execution_count": 24,
   "id": "a4ea6923",
   "metadata": {},
   "outputs": [
    {
     "data": {
      "text/plain": [
       "'learning'"
      ]
     },
     "execution_count": 24,
     "metadata": {},
     "output_type": "execute_result"
    }
   ],
   "source": [
    "get_lemme(\"learning\")"
   ]
  },
  {
   "cell_type": "code",
   "execution_count": 25,
   "id": "9ce4365b",
   "metadata": {},
   "outputs": [],
   "source": [
    "wordcloud = WordCloud().generate(\" \".join(tokens))"
   ]
  },
  {
   "cell_type": "code",
   "execution_count": 26,
   "id": "a7f31d0f",
   "metadata": {},
   "outputs": [
    {
     "data": {
      "image/png": "[encoded data removed]",
      "text/plain": [
       "<Figure size 640x480 with 1 Axes>"
      ]
     },
     "metadata": {},
     "output_type": "display_data"
    }
   ],
   "source": [
    "plt.imshow(wordcloud, interpolation='bilinear')\n",
    "plt.axis(\"off\")\n",
    "plt.show()"
   ]
  },
  {
   "cell_type": "code",
   "execution_count": 27,
   "id": "20436493",
   "metadata": {},
   "outputs": [],
   "source": [
    "tf_scores = dict_infos.copy()\n",
    "idf_scores = {token :1 for token in tokens}"
   ]
  },
  {
   "cell_type": "code",
   "execution_count": 28,
   "id": "807b8d6c",
   "metadata": {},
   "outputs": [],
   "source": [
    "tfidf_scores = {token:tf_scores[token]*idf_scores[token] for token in tokens}"
   ]
  },
  {
   "cell_type": "code",
   "execution_count": 29,
   "id": "7ec00e6a",
   "metadata": {},
   "outputs": [
    {
     "data": {
      "text/plain": [
       "{'beneficiari': 1,\n",
       " 'women': 1,\n",
       " 'ai': 2,\n",
       " 'data': 4,\n",
       " 'academi': 1,\n",
       " 'program': 1,\n",
       " 'amazon': 1,\n",
       " 'current': 1,\n",
       " 'learn': 3,\n",
       " 'visual': 1,\n",
       " 'machin': 1,\n",
       " 'deep': 1,\n",
       " 'web': 1,\n",
       " 'scrape': 1,\n",
       " 'well': 1,\n",
       " 'concept': 1,\n",
       " 'gain': 1,\n",
       " 'knowledg': 1,\n",
       " 'complet': 1,\n",
       " 'function': 1,\n",
       " 'algorithm': 2,\n",
       " 'understand': 1,\n",
       " 'implement': 1,\n",
       " 'model': 1,\n",
       " 'take': 1,\n",
       " 'account': 1,\n",
       " 'retriev': 1,\n",
       " 'storag': 1,\n",
       " 'stream': 1,\n",
       " 'bi': 1,\n",
       " 'purpos': 1}"
      ]
     },
     "execution_count": 29,
     "metadata": {},
     "output_type": "execute_result"
    }
   ],
   "source": [
    "tfidf_scores"
   ]
  },
  {
   "cell_type": "code",
   "execution_count": 31,
   "id": "b35bf992",
   "metadata": {},
   "outputs": [],
   "source": [
    "# Day 3( Tue,Feb 6)"
   ]
  },
  {
   "cell_type": "code",
   "execution_count": 41,
   "id": "e0902678",
   "metadata": {},
   "outputs": [],
   "source": [
    "phrase1= \"Je suis Vini SENAKPON MIGAN,j'ai étudié la Robotique.Actuellement je suis une formation en Data Science & IA. Je désire vraiment intégrer l'IA en dans le domaine de la communication.Je serai un Data Analyste & IA. With this ideas i would like to help the valorisation of languages using data science. In my country we need Data scientist and IA.I'm currently learning data visualization,machine learning, deep learning\" \n",
    "phrase2= \"j'ai un projet de développement basé sur la technologie agricole\"\n",
    "phrase3= \" Je parle l'anglais et le japonais. Je pourrai traduire de francais vers l'anglais et du japonais vers le fongbé\""
   ]
  },
  {
   "cell_type": "code",
   "execution_count": 42,
   "id": "d04a04dc",
   "metadata": {},
   "outputs": [
    {
     "data": {
      "text/plain": [
       "['Je',\n",
       " 'suis',\n",
       " 'Vini',\n",
       " 'SENAKPON',\n",
       " \"MIGAN,j'ai\",\n",
       " 'étudié',\n",
       " 'la',\n",
       " 'Robotique.Actuellement',\n",
       " 'je',\n",
       " 'suis',\n",
       " 'une',\n",
       " 'formation',\n",
       " 'en',\n",
       " 'Data',\n",
       " 'Science',\n",
       " '&',\n",
       " 'IA.',\n",
       " 'Je',\n",
       " 'désire',\n",
       " 'vraiment',\n",
       " 'intégrer',\n",
       " \"l'IA\",\n",
       " 'en',\n",
       " 'dans',\n",
       " 'le',\n",
       " 'domaine',\n",
       " 'de',\n",
       " 'la',\n",
       " 'communication.Je',\n",
       " 'serai',\n",
       " 'un',\n",
       " 'Data',\n",
       " 'Analyste',\n",
       " '&',\n",
       " 'IA.',\n",
       " 'With',\n",
       " 'this',\n",
       " 'ideas',\n",
       " 'i',\n",
       " 'would',\n",
       " 'like',\n",
       " 'to',\n",
       " 'help',\n",
       " 'the',\n",
       " 'valorisation',\n",
       " 'of',\n",
       " 'languages',\n",
       " 'using',\n",
       " 'data',\n",
       " 'science.',\n",
       " 'In',\n",
       " 'my',\n",
       " 'country',\n",
       " 'we',\n",
       " 'need',\n",
       " 'Data',\n",
       " 'scientist',\n",
       " 'and',\n",
       " \"IA.I'm\",\n",
       " 'currently',\n",
       " 'learning',\n",
       " 'data',\n",
       " 'visualization,machine',\n",
       " 'learning,',\n",
       " 'deep',\n",
       " 'learning']"
      ]
     },
     "execution_count": 42,
     "metadata": {},
     "output_type": "execute_result"
    }
   ],
   "source": [
    "token_1 = phrase1.split()\n",
    "token_1"
   ]
  },
  {
   "cell_type": "code",
   "execution_count": 43,
   "id": "6660557b",
   "metadata": {},
   "outputs": [],
   "source": [
    "token_2=phrase2.split()"
   ]
  },
  {
   "cell_type": "code",
   "execution_count": 44,
   "id": "17781bc3",
   "metadata": {},
   "outputs": [],
   "source": [
    "token_1.extend(phrase2.split())"
   ]
  },
  {
   "cell_type": "code",
   "execution_count": 45,
   "id": "337b445e",
   "metadata": {},
   "outputs": [],
   "source": [
    "token_2.extend(phrase3.split())"
   ]
  },
  {
   "cell_type": "code",
   "execution_count": 46,
   "id": "31c7efda",
   "metadata": {},
   "outputs": [
    {
     "data": {
      "text/plain": [
       "['i',\n",
       " 'In',\n",
       " 'vraiment',\n",
       " 'would',\n",
       " \"IA.I'm\",\n",
       " 'Analyste',\n",
       " 'using',\n",
       " 'le',\n",
       " 'languages',\n",
       " 'technologie',\n",
       " 'japonais',\n",
       " 'Robotique.Actuellement',\n",
       " 'and',\n",
       " 'learning',\n",
       " 'un',\n",
       " 'fongbé',\n",
       " \"l'IA\",\n",
       " 'scientist',\n",
       " 'désire',\n",
       " 'basé',\n",
       " 'vers',\n",
       " '&',\n",
       " 'Vini',\n",
       " 'communication.Je',\n",
       " 'we',\n",
       " 'SENAKPON',\n",
       " 'science.',\n",
       " 'japonais.',\n",
       " 'sur',\n",
       " 'une',\n",
       " 'de',\n",
       " 'visualization,machine',\n",
       " 'je',\n",
       " 'parle',\n",
       " 'francais',\n",
       " 'of',\n",
       " 'Je',\n",
       " 'With',\n",
       " 'learning,',\n",
       " 'the',\n",
       " 'formation',\n",
       " \"MIGAN,j'ai\",\n",
       " 'serai',\n",
       " 'traduire',\n",
       " 'deep',\n",
       " 'projet',\n",
       " 'pourrai',\n",
       " 'dans',\n",
       " 'agricole',\n",
       " 'ideas',\n",
       " \"l'anglais\",\n",
       " 'this',\n",
       " 'la',\n",
       " 'étudié',\n",
       " 'Science',\n",
       " 'domaine',\n",
       " 'help',\n",
       " 'valorisation',\n",
       " 'data',\n",
       " 'need',\n",
       " 'Data',\n",
       " 'IA.',\n",
       " 'like',\n",
       " 'currently',\n",
       " 'développement',\n",
       " 'my',\n",
       " 'et',\n",
       " 'country',\n",
       " 'to',\n",
       " 'du',\n",
       " 'intégrer',\n",
       " 'suis',\n",
       " \"j'ai\",\n",
       " 'en']"
      ]
     },
     "execution_count": 46,
     "metadata": {},
     "output_type": "execute_result"
    }
   ],
   "source": [
    "token_2 = list(set([elt for elt in phrase1.split() +  phrase2.split() +  phrase3.split()]))\n",
    "token_2"
   ]
  },
  {
   "cell_type": "code",
   "execution_count": 47,
   "id": "f5c9679c",
   "metadata": {},
   "outputs": [
    {
     "data": {
      "text/plain": [
       "[34,\n",
       " 1,\n",
       " 1,\n",
       " 1,\n",
       " 1,\n",
       " 1,\n",
       " 1,\n",
       " 5,\n",
       " 1,\n",
       " 0,\n",
       " 0,\n",
       " 1,\n",
       " 1,\n",
       " 3,\n",
       " 4,\n",
       " 0,\n",
       " 1,\n",
       " 1,\n",
       " 1,\n",
       " 0,\n",
       " 0,\n",
       " 2,\n",
       " 1,\n",
       " 1,\n",
       " 1,\n",
       " 1,\n",
       " 1,\n",
       " 0,\n",
       " 0,\n",
       " 1,\n",
       " 3,\n",
       " 1,\n",
       " 1,\n",
       " 0,\n",
       " 0,\n",
       " 1,\n",
       " 3,\n",
       " 1,\n",
       " 1,\n",
       " 1,\n",
       " 1,\n",
       " 1,\n",
       " 1,\n",
       " 0,\n",
       " 1,\n",
       " 0,\n",
       " 0,\n",
       " 1,\n",
       " 0,\n",
       " 1,\n",
       " 0,\n",
       " 1,\n",
       " 3,\n",
       " 1,\n",
       " 1,\n",
       " 1,\n",
       " 1,\n",
       " 1,\n",
       " 2,\n",
       " 1,\n",
       " 3,\n",
       " 3,\n",
       " 1,\n",
       " 1,\n",
       " 0,\n",
       " 1,\n",
       " 0,\n",
       " 1,\n",
       " 1,\n",
       " 0,\n",
       " 1,\n",
       " 2,\n",
       " 1,\n",
       " 8]"
      ]
     },
     "execution_count": 47,
     "metadata": {},
     "output_type": "execute_result"
    }
   ],
   "source": [
    "vec_1=[phrase1.count(elt) for elt in token_2]\n",
    "vec_1"
   ]
  },
  {
   "cell_type": "code",
   "execution_count": 48,
   "id": "a4638ad2",
   "metadata": {},
   "outputs": [],
   "source": [
    "# Une fonction ou on donne juste une phrase pour faire les vecteurs\n",
    "def vectorize_sentence(sentence):\n",
    "    return [sentence.count(elt) for elt in token_2]"
   ]
  },
  {
   "cell_type": "code",
   "execution_count": 49,
   "id": "76eaa081",
   "metadata": {},
   "outputs": [
    {
     "data": {
      "text/plain": [
       "[7,\n",
       " 0,\n",
       " 0,\n",
       " 0,\n",
       " 0,\n",
       " 0,\n",
       " 0,\n",
       " 3,\n",
       " 0,\n",
       " 0,\n",
       " 2,\n",
       " 0,\n",
       " 0,\n",
       " 0,\n",
       " 0,\n",
       " 1,\n",
       " 0,\n",
       " 0,\n",
       " 0,\n",
       " 0,\n",
       " 2,\n",
       " 0,\n",
       " 0,\n",
       " 0,\n",
       " 0,\n",
       " 0,\n",
       " 0,\n",
       " 1,\n",
       " 0,\n",
       " 0,\n",
       " 1,\n",
       " 0,\n",
       " 0,\n",
       " 1,\n",
       " 1,\n",
       " 0,\n",
       " 2,\n",
       " 0,\n",
       " 0,\n",
       " 0,\n",
       " 0,\n",
       " 0,\n",
       " 0,\n",
       " 1,\n",
       " 0,\n",
       " 0,\n",
       " 1,\n",
       " 0,\n",
       " 0,\n",
       " 0,\n",
       " 2,\n",
       " 0,\n",
       " 2,\n",
       " 0,\n",
       " 0,\n",
       " 0,\n",
       " 0,\n",
       " 0,\n",
       " 0,\n",
       " 0,\n",
       " 0,\n",
       " 0,\n",
       " 0,\n",
       " 0,\n",
       " 0,\n",
       " 0,\n",
       " 2,\n",
       " 0,\n",
       " 0,\n",
       " 2,\n",
       " 0,\n",
       " 0,\n",
       " 0,\n",
       " 0]"
      ]
     },
     "execution_count": 49,
     "metadata": {},
     "output_type": "execute_result"
    }
   ],
   "source": [
    "vectorize_sentence(phrase3)"
   ]
  },
  {
   "cell_type": "code",
   "execution_count": 50,
   "id": "559a58b1",
   "metadata": {},
   "outputs": [],
   "source": [
    "def vectorize_sentence(sentence,tokens) :\n",
    "    return [sentence.count(elt) for elt in token_2]\n"
   ]
  },
  {
   "cell_type": "code",
   "execution_count": 51,
   "id": "906b87c7",
   "metadata": {},
   "outputs": [
    {
     "data": {
      "text/plain": [
       "[34,\n",
       " 1,\n",
       " 1,\n",
       " 1,\n",
       " 1,\n",
       " 1,\n",
       " 1,\n",
       " 5,\n",
       " 1,\n",
       " 0,\n",
       " 0,\n",
       " 1,\n",
       " 1,\n",
       " 3,\n",
       " 4,\n",
       " 0,\n",
       " 1,\n",
       " 1,\n",
       " 1,\n",
       " 0,\n",
       " 0,\n",
       " 2,\n",
       " 1,\n",
       " 1,\n",
       " 1,\n",
       " 1,\n",
       " 1,\n",
       " 0,\n",
       " 0,\n",
       " 1,\n",
       " 3,\n",
       " 1,\n",
       " 1,\n",
       " 0,\n",
       " 0,\n",
       " 1,\n",
       " 3,\n",
       " 1,\n",
       " 1,\n",
       " 1,\n",
       " 1,\n",
       " 1,\n",
       " 1,\n",
       " 0,\n",
       " 1,\n",
       " 0,\n",
       " 0,\n",
       " 1,\n",
       " 0,\n",
       " 1,\n",
       " 0,\n",
       " 1,\n",
       " 3,\n",
       " 1,\n",
       " 1,\n",
       " 1,\n",
       " 1,\n",
       " 1,\n",
       " 2,\n",
       " 1,\n",
       " 3,\n",
       " 3,\n",
       " 1,\n",
       " 1,\n",
       " 0,\n",
       " 1,\n",
       " 0,\n",
       " 1,\n",
       " 1,\n",
       " 0,\n",
       " 1,\n",
       " 2,\n",
       " 1,\n",
       " 8]"
      ]
     },
     "execution_count": 51,
     "metadata": {},
     "output_type": "execute_result"
    }
   ],
   "source": [
    "vect_1 =  vectorize_sentence(phrase1,token_2)\n",
    "vect_1"
   ]
  },
  {
   "cell_type": "code",
   "execution_count": 52,
   "id": "2b70271d",
   "metadata": {},
   "outputs": [
    {
     "data": {
      "text/plain": [
       "2"
      ]
     },
     "execution_count": 52,
     "metadata": {},
     "output_type": "execute_result"
    }
   ],
   "source": [
    "phrase2.count(\"d\")"
   ]
  },
  {
   "cell_type": "code",
   "execution_count": 53,
   "id": "940368d0",
   "metadata": {},
   "outputs": [
    {
     "data": {
      "text/plain": [
       "[3,\n",
       " 0,\n",
       " 0,\n",
       " 0,\n",
       " 0,\n",
       " 0,\n",
       " 0,\n",
       " 1,\n",
       " 0,\n",
       " 1,\n",
       " 0,\n",
       " 0,\n",
       " 0,\n",
       " 0,\n",
       " 1,\n",
       " 0,\n",
       " 0,\n",
       " 0,\n",
       " 0,\n",
       " 1,\n",
       " 0,\n",
       " 0,\n",
       " 0,\n",
       " 0,\n",
       " 0,\n",
       " 0,\n",
       " 0,\n",
       " 0,\n",
       " 1,\n",
       " 0,\n",
       " 1,\n",
       " 0,\n",
       " 1,\n",
       " 0,\n",
       " 0,\n",
       " 0,\n",
       " 0,\n",
       " 0,\n",
       " 0,\n",
       " 0,\n",
       " 0,\n",
       " 0,\n",
       " 0,\n",
       " 0,\n",
       " 0,\n",
       " 1,\n",
       " 0,\n",
       " 0,\n",
       " 1,\n",
       " 0,\n",
       " 0,\n",
       " 0,\n",
       " 1,\n",
       " 0,\n",
       " 0,\n",
       " 0,\n",
       " 0,\n",
       " 0,\n",
       " 0,\n",
       " 0,\n",
       " 0,\n",
       " 0,\n",
       " 0,\n",
       " 0,\n",
       " 1,\n",
       " 0,\n",
       " 1,\n",
       " 0,\n",
       " 0,\n",
       " 0,\n",
       " 0,\n",
       " 0,\n",
       " 1,\n",
       " 1]"
      ]
     },
     "execution_count": 53,
     "metadata": {},
     "output_type": "execute_result"
    }
   ],
   "source": [
    "vect_2 =  vectorize_sentence(phrase2,token_2)\n",
    "vect_2"
   ]
  },
  {
   "cell_type": "code",
   "execution_count": 54,
   "id": "9428a1c0",
   "metadata": {},
   "outputs": [
    {
     "data": {
      "text/plain": [
       "[7,\n",
       " 0,\n",
       " 0,\n",
       " 0,\n",
       " 0,\n",
       " 0,\n",
       " 0,\n",
       " 3,\n",
       " 0,\n",
       " 0,\n",
       " 2,\n",
       " 0,\n",
       " 0,\n",
       " 0,\n",
       " 0,\n",
       " 1,\n",
       " 0,\n",
       " 0,\n",
       " 0,\n",
       " 0,\n",
       " 2,\n",
       " 0,\n",
       " 0,\n",
       " 0,\n",
       " 0,\n",
       " 0,\n",
       " 0,\n",
       " 1,\n",
       " 0,\n",
       " 0,\n",
       " 1,\n",
       " 0,\n",
       " 0,\n",
       " 1,\n",
       " 1,\n",
       " 0,\n",
       " 2,\n",
       " 0,\n",
       " 0,\n",
       " 0,\n",
       " 0,\n",
       " 0,\n",
       " 0,\n",
       " 1,\n",
       " 0,\n",
       " 0,\n",
       " 1,\n",
       " 0,\n",
       " 0,\n",
       " 0,\n",
       " 2,\n",
       " 0,\n",
       " 2,\n",
       " 0,\n",
       " 0,\n",
       " 0,\n",
       " 0,\n",
       " 0,\n",
       " 0,\n",
       " 0,\n",
       " 0,\n",
       " 0,\n",
       " 0,\n",
       " 0,\n",
       " 0,\n",
       " 0,\n",
       " 2,\n",
       " 0,\n",
       " 0,\n",
       " 2,\n",
       " 0,\n",
       " 0,\n",
       " 0,\n",
       " 0]"
      ]
     },
     "execution_count": 54,
     "metadata": {},
     "output_type": "execute_result"
    }
   ],
   "source": [
    "vect_3 =  vectorize_sentence(phrase3,token_2)\n",
    "vect_3"
   ]
  },
  {
   "cell_type": "code",
   "execution_count": 55,
   "id": "8a2400ba",
   "metadata": {},
   "outputs": [
    {
     "data": {
      "text/html": [
       "<div>\n",
       "<style scoped>\n",
       "    .dataframe tbody tr th:only-of-type {\n",
       "        vertical-align: middle;\n",
       "    }\n",
       "\n",
       "    .dataframe tbody tr th {\n",
       "        vertical-align: top;\n",
       "    }\n",
       "\n",
       "    .dataframe thead th {\n",
       "        text-align: right;\n",
       "    }\n",
       "</style>\n",
       "<table border=\"1\" class=\"dataframe\">\n",
       "  <thead>\n",
       "    <tr style=\"text-align: right;\">\n",
       "      <th></th>\n",
       "      <th>i</th>\n",
       "      <th>In</th>\n",
       "      <th>vraiment</th>\n",
       "      <th>would</th>\n",
       "      <th>IA.I'm</th>\n",
       "      <th>Analyste</th>\n",
       "      <th>using</th>\n",
       "      <th>le</th>\n",
       "      <th>languages</th>\n",
       "      <th>technologie</th>\n",
       "      <th>...</th>\n",
       "      <th>développement</th>\n",
       "      <th>my</th>\n",
       "      <th>et</th>\n",
       "      <th>country</th>\n",
       "      <th>to</th>\n",
       "      <th>du</th>\n",
       "      <th>intégrer</th>\n",
       "      <th>suis</th>\n",
       "      <th>j'ai</th>\n",
       "      <th>en</th>\n",
       "    </tr>\n",
       "  </thead>\n",
       "  <tbody>\n",
       "    <tr>\n",
       "      <th>phrase1</th>\n",
       "      <td>34</td>\n",
       "      <td>1</td>\n",
       "      <td>1</td>\n",
       "      <td>1</td>\n",
       "      <td>1</td>\n",
       "      <td>1</td>\n",
       "      <td>1</td>\n",
       "      <td>5</td>\n",
       "      <td>1</td>\n",
       "      <td>0</td>\n",
       "      <td>...</td>\n",
       "      <td>0</td>\n",
       "      <td>1</td>\n",
       "      <td>0</td>\n",
       "      <td>1</td>\n",
       "      <td>1</td>\n",
       "      <td>0</td>\n",
       "      <td>1</td>\n",
       "      <td>2</td>\n",
       "      <td>1</td>\n",
       "      <td>8</td>\n",
       "    </tr>\n",
       "    <tr>\n",
       "      <th>phrase2</th>\n",
       "      <td>3</td>\n",
       "      <td>0</td>\n",
       "      <td>0</td>\n",
       "      <td>0</td>\n",
       "      <td>0</td>\n",
       "      <td>0</td>\n",
       "      <td>0</td>\n",
       "      <td>1</td>\n",
       "      <td>0</td>\n",
       "      <td>1</td>\n",
       "      <td>...</td>\n",
       "      <td>1</td>\n",
       "      <td>0</td>\n",
       "      <td>1</td>\n",
       "      <td>0</td>\n",
       "      <td>0</td>\n",
       "      <td>0</td>\n",
       "      <td>0</td>\n",
       "      <td>0</td>\n",
       "      <td>1</td>\n",
       "      <td>1</td>\n",
       "    </tr>\n",
       "    <tr>\n",
       "      <th>phrase3</th>\n",
       "      <td>7</td>\n",
       "      <td>0</td>\n",
       "      <td>0</td>\n",
       "      <td>0</td>\n",
       "      <td>0</td>\n",
       "      <td>0</td>\n",
       "      <td>0</td>\n",
       "      <td>3</td>\n",
       "      <td>0</td>\n",
       "      <td>0</td>\n",
       "      <td>...</td>\n",
       "      <td>0</td>\n",
       "      <td>0</td>\n",
       "      <td>2</td>\n",
       "      <td>0</td>\n",
       "      <td>0</td>\n",
       "      <td>2</td>\n",
       "      <td>0</td>\n",
       "      <td>0</td>\n",
       "      <td>0</td>\n",
       "      <td>0</td>\n",
       "    </tr>\n",
       "  </tbody>\n",
       "</table>\n",
       "<p>3 rows × 74 columns</p>\n",
       "</div>"
      ],
      "text/plain": [
       "          i  In  vraiment  would  IA.I'm  Analyste  using  le  languages  \\\n",
       "phrase1  34   1         1      1       1         1      1   5          1   \n",
       "phrase2   3   0         0      0       0         0      0   1          0   \n",
       "phrase3   7   0         0      0       0         0      0   3          0   \n",
       "\n",
       "         technologie  ...  développement  my  et  country  to  du  intégrer  \\\n",
       "phrase1            0  ...              0   1   0        1   1   0         1   \n",
       "phrase2            1  ...              1   0   1        0   0   0         0   \n",
       "phrase3            0  ...              0   0   2        0   0   2         0   \n",
       "\n",
       "         suis  j'ai  en  \n",
       "phrase1     2     1   8  \n",
       "phrase2     0     1   1  \n",
       "phrase3     0     0   0  \n",
       "\n",
       "[3 rows x 74 columns]"
      ]
     },
     "execution_count": 55,
     "metadata": {},
     "output_type": "execute_result"
    }
   ],
   "source": [
    "import pandas as pd \n",
    "data = pd.DataFrame([vect_1,vect_2,vect_3],columns=token_2,index=[\"phrase1\",\"phrase2\",\"phrase3\"])\n",
    "data"
   ]
  },
  {
   "cell_type": "markdown",
   "id": "a58ec6f1",
   "metadata": {},
   "source": [
    "### Frequence relative de chaque mot (Term frequency)"
   ]
  },
  {
   "cell_type": "markdown",
   "id": "448473b1",
   "metadata": {},
   "source": [
    "#### NB: Ici une phrase constitue un doc"
   ]
  },
  {
   "cell_type": "code",
   "execution_count": 56,
   "id": "b0b702ea",
   "metadata": {},
   "outputs": [
    {
     "data": {
      "text/plain": [
       "True"
      ]
     },
     "execution_count": 56,
     "metadata": {},
     "output_type": "execute_result"
    }
   ],
   "source": [
    "\"Vini\" in phrase1"
   ]
  },
  {
   "cell_type": "code",
   "execution_count": 57,
   "id": "0110fee3",
   "metadata": {},
   "outputs": [
    {
     "data": {
      "text/plain": [
       "False"
      ]
     },
     "execution_count": 57,
     "metadata": {},
     "output_type": "execute_result"
    }
   ],
   "source": [
    "'data' in phrase3"
   ]
  },
  {
   "cell_type": "code",
   "execution_count": 58,
   "id": "dec56c7d",
   "metadata": {},
   "outputs": [
    {
     "data": {
      "text/plain": [
       "1"
      ]
     },
     "execution_count": 58,
     "metadata": {},
     "output_type": "execute_result"
    }
   ],
   "source": [
    "int('Vini'in phrase1)"
   ]
  },
  {
   "cell_type": "code",
   "execution_count": 59,
   "id": "f139a525",
   "metadata": {},
   "outputs": [
    {
     "data": {
      "text/plain": [
       "False"
      ]
     },
     "execution_count": 59,
     "metadata": {},
     "output_type": "execute_result"
    }
   ],
   "source": [
    "'agricole'in phrase3 + \"Vini\"in phrase1+ \"SENAKPON\" in phrase1"
   ]
  },
  {
   "cell_type": "code",
   "execution_count": 60,
   "id": "ec2846d1",
   "metadata": {},
   "outputs": [
    {
     "data": {
      "text/plain": [
       "[1.0,\n",
       " 0.3333333333333333,\n",
       " 0.3333333333333333,\n",
       " 0.3333333333333333,\n",
       " 0.3333333333333333,\n",
       " 0.3333333333333333,\n",
       " 0.3333333333333333,\n",
       " 1.0,\n",
       " 0.3333333333333333,\n",
       " 0.3333333333333333,\n",
       " 0.3333333333333333,\n",
       " 0.3333333333333333,\n",
       " 0.3333333333333333,\n",
       " 0.3333333333333333,\n",
       " 0.6666666666666666,\n",
       " 0.3333333333333333,\n",
       " 0.3333333333333333,\n",
       " 0.3333333333333333,\n",
       " 0.3333333333333333,\n",
       " 0.3333333333333333,\n",
       " 0.3333333333333333,\n",
       " 0.3333333333333333,\n",
       " 0.3333333333333333,\n",
       " 0.3333333333333333,\n",
       " 0.3333333333333333,\n",
       " 0.3333333333333333,\n",
       " 0.3333333333333333,\n",
       " 0.3333333333333333,\n",
       " 0.3333333333333333,\n",
       " 0.3333333333333333,\n",
       " 1.0,\n",
       " 0.3333333333333333,\n",
       " 0.6666666666666666,\n",
       " 0.3333333333333333,\n",
       " 0.3333333333333333,\n",
       " 0.3333333333333333,\n",
       " 0.6666666666666666,\n",
       " 0.3333333333333333,\n",
       " 0.3333333333333333,\n",
       " 0.3333333333333333,\n",
       " 0.3333333333333333,\n",
       " 0.3333333333333333,\n",
       " 0.3333333333333333,\n",
       " 0.3333333333333333,\n",
       " 0.3333333333333333,\n",
       " 0.3333333333333333,\n",
       " 0.3333333333333333,\n",
       " 0.3333333333333333,\n",
       " 0.3333333333333333,\n",
       " 0.3333333333333333,\n",
       " 0.3333333333333333,\n",
       " 0.3333333333333333,\n",
       " 1.0,\n",
       " 0.3333333333333333,\n",
       " 0.3333333333333333,\n",
       " 0.3333333333333333,\n",
       " 0.3333333333333333,\n",
       " 0.3333333333333333,\n",
       " 0.3333333333333333,\n",
       " 0.3333333333333333,\n",
       " 0.3333333333333333,\n",
       " 0.3333333333333333,\n",
       " 0.3333333333333333,\n",
       " 0.3333333333333333,\n",
       " 0.3333333333333333,\n",
       " 0.3333333333333333,\n",
       " 0.6666666666666666,\n",
       " 0.3333333333333333,\n",
       " 0.3333333333333333,\n",
       " 0.3333333333333333,\n",
       " 0.3333333333333333,\n",
       " 0.3333333333333333,\n",
       " 0.6666666666666666,\n",
       " 0.6666666666666666]"
      ]
     },
     "execution_count": 60,
     "metadata": {},
     "output_type": "execute_result"
    }
   ],
   "source": [
    "idf=[((elt in phrase1)+(elt in phrase2)+(elt in phrase3))/3 for elt in token_2] # Nbre total de phrases=3\n",
    "idf"
   ]
  },
  {
   "cell_type": "code",
   "execution_count": 61,
   "id": "a4e2196a",
   "metadata": {},
   "outputs": [
    {
     "data": {
      "text/html": [
       "<div>\n",
       "<style scoped>\n",
       "    .dataframe tbody tr th:only-of-type {\n",
       "        vertical-align: middle;\n",
       "    }\n",
       "\n",
       "    .dataframe tbody tr th {\n",
       "        vertical-align: top;\n",
       "    }\n",
       "\n",
       "    .dataframe thead th {\n",
       "        text-align: right;\n",
       "    }\n",
       "</style>\n",
       "<table border=\"1\" class=\"dataframe\">\n",
       "  <thead>\n",
       "    <tr style=\"text-align: right;\">\n",
       "      <th></th>\n",
       "      <th>i</th>\n",
       "      <th>In</th>\n",
       "      <th>vraiment</th>\n",
       "      <th>would</th>\n",
       "      <th>IA.I'm</th>\n",
       "      <th>Analyste</th>\n",
       "      <th>using</th>\n",
       "      <th>le</th>\n",
       "      <th>languages</th>\n",
       "      <th>technologie</th>\n",
       "      <th>...</th>\n",
       "      <th>développement</th>\n",
       "      <th>my</th>\n",
       "      <th>et</th>\n",
       "      <th>country</th>\n",
       "      <th>to</th>\n",
       "      <th>du</th>\n",
       "      <th>intégrer</th>\n",
       "      <th>suis</th>\n",
       "      <th>j'ai</th>\n",
       "      <th>en</th>\n",
       "    </tr>\n",
       "  </thead>\n",
       "  <tbody>\n",
       "    <tr>\n",
       "      <th>idf</th>\n",
       "      <td>1.0</td>\n",
       "      <td>0.333333</td>\n",
       "      <td>0.333333</td>\n",
       "      <td>0.333333</td>\n",
       "      <td>0.333333</td>\n",
       "      <td>0.333333</td>\n",
       "      <td>0.333333</td>\n",
       "      <td>1.0</td>\n",
       "      <td>0.333333</td>\n",
       "      <td>0.333333</td>\n",
       "      <td>...</td>\n",
       "      <td>0.333333</td>\n",
       "      <td>0.333333</td>\n",
       "      <td>0.666667</td>\n",
       "      <td>0.333333</td>\n",
       "      <td>0.333333</td>\n",
       "      <td>0.333333</td>\n",
       "      <td>0.333333</td>\n",
       "      <td>0.333333</td>\n",
       "      <td>0.666667</td>\n",
       "      <td>0.666667</td>\n",
       "    </tr>\n",
       "  </tbody>\n",
       "</table>\n",
       "<p>1 rows × 74 columns</p>\n",
       "</div>"
      ],
      "text/plain": [
       "       i        In  vraiment     would    IA.I'm  Analyste     using   le  \\\n",
       "idf  1.0  0.333333  0.333333  0.333333  0.333333  0.333333  0.333333  1.0   \n",
       "\n",
       "     languages  technologie  ...  développement        my        et   country  \\\n",
       "idf   0.333333     0.333333  ...       0.333333  0.333333  0.666667  0.333333   \n",
       "\n",
       "           to        du  intégrer      suis      j'ai        en  \n",
       "idf  0.333333  0.333333  0.333333  0.333333  0.666667  0.666667  \n",
       "\n",
       "[1 rows x 74 columns]"
      ]
     },
     "execution_count": 61,
     "metadata": {},
     "output_type": "execute_result"
    }
   ],
   "source": [
    "idf=pd.DataFrame([idf],columns=token_2,index =['idf'])\n",
    "idf"
   ]
  },
  {
   "cell_type": "code",
   "execution_count": 62,
   "id": "a461fb4b",
   "metadata": {},
   "outputs": [
    {
     "data": {
      "text/plain": [
       "[1,\n",
       " 1,\n",
       " 1,\n",
       " 1,\n",
       " 1,\n",
       " 1,\n",
       " 1,\n",
       " 3,\n",
       " 1,\n",
       " 1,\n",
       " 1,\n",
       " 1,\n",
       " 1,\n",
       " 2,\n",
       " 2,\n",
       " 1,\n",
       " 1,\n",
       " 1,\n",
       " 1,\n",
       " 1,\n",
       " 2,\n",
       " 2,\n",
       " 1,\n",
       " 1,\n",
       " 1,\n",
       " 1,\n",
       " 1,\n",
       " 1,\n",
       " 1,\n",
       " 1,\n",
       " 3,\n",
       " 1,\n",
       " 1,\n",
       " 1,\n",
       " 1,\n",
       " 1,\n",
       " 4,\n",
       " 1,\n",
       " 1,\n",
       " 1,\n",
       " 1,\n",
       " 1,\n",
       " 1,\n",
       " 1,\n",
       " 1,\n",
       " 1,\n",
       " 1,\n",
       " 1,\n",
       " 1,\n",
       " 1,\n",
       " 2,\n",
       " 1,\n",
       " 3,\n",
       " 1,\n",
       " 1,\n",
       " 1,\n",
       " 1,\n",
       " 1,\n",
       " 2,\n",
       " 1,\n",
       " 3,\n",
       " 2,\n",
       " 1,\n",
       " 1,\n",
       " 1,\n",
       " 1,\n",
       " 2,\n",
       " 1,\n",
       " 1,\n",
       " 1,\n",
       " 1,\n",
       " 2,\n",
       " 1,\n",
       " 2]"
      ]
     },
     "execution_count": 62,
     "metadata": {},
     "output_type": "execute_result"
    }
   ],
   "source": [
    "tf=[phrase1.split().count(elt)+phrase2.split().count(elt)+phrase3.split().count(elt) for elt in token_2]\n",
    "tf"
   ]
  },
  {
   "cell_type": "code",
   "execution_count": 63,
   "id": "d51fc684",
   "metadata": {},
   "outputs": [
    {
     "data": {
      "text/html": [
       "<div>\n",
       "<style scoped>\n",
       "    .dataframe tbody tr th:only-of-type {\n",
       "        vertical-align: middle;\n",
       "    }\n",
       "\n",
       "    .dataframe tbody tr th {\n",
       "        vertical-align: top;\n",
       "    }\n",
       "\n",
       "    .dataframe thead th {\n",
       "        text-align: right;\n",
       "    }\n",
       "</style>\n",
       "<table border=\"1\" class=\"dataframe\">\n",
       "  <thead>\n",
       "    <tr style=\"text-align: right;\">\n",
       "      <th></th>\n",
       "      <th>i</th>\n",
       "      <th>In</th>\n",
       "      <th>vraiment</th>\n",
       "      <th>would</th>\n",
       "      <th>IA.I'm</th>\n",
       "      <th>Analyste</th>\n",
       "      <th>using</th>\n",
       "      <th>le</th>\n",
       "      <th>languages</th>\n",
       "      <th>technologie</th>\n",
       "      <th>...</th>\n",
       "      <th>développement</th>\n",
       "      <th>my</th>\n",
       "      <th>et</th>\n",
       "      <th>country</th>\n",
       "      <th>to</th>\n",
       "      <th>du</th>\n",
       "      <th>intégrer</th>\n",
       "      <th>suis</th>\n",
       "      <th>j'ai</th>\n",
       "      <th>en</th>\n",
       "    </tr>\n",
       "  </thead>\n",
       "  <tbody>\n",
       "    <tr>\n",
       "      <th>tf</th>\n",
       "      <td>1</td>\n",
       "      <td>1</td>\n",
       "      <td>1</td>\n",
       "      <td>1</td>\n",
       "      <td>1</td>\n",
       "      <td>1</td>\n",
       "      <td>1</td>\n",
       "      <td>3</td>\n",
       "      <td>1</td>\n",
       "      <td>1</td>\n",
       "      <td>...</td>\n",
       "      <td>1</td>\n",
       "      <td>1</td>\n",
       "      <td>2</td>\n",
       "      <td>1</td>\n",
       "      <td>1</td>\n",
       "      <td>1</td>\n",
       "      <td>1</td>\n",
       "      <td>2</td>\n",
       "      <td>1</td>\n",
       "      <td>2</td>\n",
       "    </tr>\n",
       "  </tbody>\n",
       "</table>\n",
       "<p>1 rows × 74 columns</p>\n",
       "</div>"
      ],
      "text/plain": [
       "    i  In  vraiment  would  IA.I'm  Analyste  using  le  languages  \\\n",
       "tf  1   1         1      1       1         1      1   3          1   \n",
       "\n",
       "    technologie  ...  développement  my  et  country  to  du  intégrer  suis  \\\n",
       "tf            1  ...              1   1   2        1   1   1         1     2   \n",
       "\n",
       "    j'ai  en  \n",
       "tf     1   2  \n",
       "\n",
       "[1 rows x 74 columns]"
      ]
     },
     "execution_count": 63,
     "metadata": {},
     "output_type": "execute_result"
    }
   ],
   "source": [
    "tf1= pd.DataFrame([tf],columns=token_2, index=['tf'])\n",
    "tf1"
   ]
  },
  {
   "cell_type": "code",
   "execution_count": 64,
   "id": "170414b8",
   "metadata": {},
   "outputs": [
    {
     "data": {
      "text/html": [
       "<div>\n",
       "<style scoped>\n",
       "    .dataframe tbody tr th:only-of-type {\n",
       "        vertical-align: middle;\n",
       "    }\n",
       "\n",
       "    .dataframe tbody tr th {\n",
       "        vertical-align: top;\n",
       "    }\n",
       "\n",
       "    .dataframe thead th {\n",
       "        text-align: right;\n",
       "    }\n",
       "</style>\n",
       "<table border=\"1\" class=\"dataframe\">\n",
       "  <thead>\n",
       "    <tr style=\"text-align: right;\">\n",
       "      <th></th>\n",
       "      <th>i</th>\n",
       "      <th>In</th>\n",
       "      <th>vraiment</th>\n",
       "      <th>would</th>\n",
       "      <th>IA.I'm</th>\n",
       "      <th>Analyste</th>\n",
       "      <th>using</th>\n",
       "      <th>le</th>\n",
       "      <th>languages</th>\n",
       "      <th>technologie</th>\n",
       "      <th>...</th>\n",
       "      <th>développement</th>\n",
       "      <th>my</th>\n",
       "      <th>et</th>\n",
       "      <th>country</th>\n",
       "      <th>to</th>\n",
       "      <th>du</th>\n",
       "      <th>intégrer</th>\n",
       "      <th>suis</th>\n",
       "      <th>j'ai</th>\n",
       "      <th>en</th>\n",
       "    </tr>\n",
       "  </thead>\n",
       "  <tbody>\n",
       "    <tr>\n",
       "      <th>tf</th>\n",
       "      <td>1.0</td>\n",
       "      <td>1.000000</td>\n",
       "      <td>1.000000</td>\n",
       "      <td>1.000000</td>\n",
       "      <td>1.000000</td>\n",
       "      <td>1.000000</td>\n",
       "      <td>1.000000</td>\n",
       "      <td>3.0</td>\n",
       "      <td>1.000000</td>\n",
       "      <td>1.000000</td>\n",
       "      <td>...</td>\n",
       "      <td>1.000000</td>\n",
       "      <td>1.000000</td>\n",
       "      <td>2.000000</td>\n",
       "      <td>1.000000</td>\n",
       "      <td>1.000000</td>\n",
       "      <td>1.000000</td>\n",
       "      <td>1.000000</td>\n",
       "      <td>2.000000</td>\n",
       "      <td>1.000000</td>\n",
       "      <td>2.000000</td>\n",
       "    </tr>\n",
       "    <tr>\n",
       "      <th>idf</th>\n",
       "      <td>1.0</td>\n",
       "      <td>0.333333</td>\n",
       "      <td>0.333333</td>\n",
       "      <td>0.333333</td>\n",
       "      <td>0.333333</td>\n",
       "      <td>0.333333</td>\n",
       "      <td>0.333333</td>\n",
       "      <td>1.0</td>\n",
       "      <td>0.333333</td>\n",
       "      <td>0.333333</td>\n",
       "      <td>...</td>\n",
       "      <td>0.333333</td>\n",
       "      <td>0.333333</td>\n",
       "      <td>0.666667</td>\n",
       "      <td>0.333333</td>\n",
       "      <td>0.333333</td>\n",
       "      <td>0.333333</td>\n",
       "      <td>0.333333</td>\n",
       "      <td>0.333333</td>\n",
       "      <td>0.666667</td>\n",
       "      <td>0.666667</td>\n",
       "    </tr>\n",
       "  </tbody>\n",
       "</table>\n",
       "<p>2 rows × 74 columns</p>\n",
       "</div>"
      ],
      "text/plain": [
       "       i        In  vraiment     would    IA.I'm  Analyste     using   le  \\\n",
       "tf   1.0  1.000000  1.000000  1.000000  1.000000  1.000000  1.000000  3.0   \n",
       "idf  1.0  0.333333  0.333333  0.333333  0.333333  0.333333  0.333333  1.0   \n",
       "\n",
       "     languages  technologie  ...  développement        my        et   country  \\\n",
       "tf    1.000000     1.000000  ...       1.000000  1.000000  2.000000  1.000000   \n",
       "idf   0.333333     0.333333  ...       0.333333  0.333333  0.666667  0.333333   \n",
       "\n",
       "           to        du  intégrer      suis      j'ai        en  \n",
       "tf   1.000000  1.000000  1.000000  2.000000  1.000000  2.000000  \n",
       "idf  0.333333  0.333333  0.333333  0.333333  0.666667  0.666667  \n",
       "\n",
       "[2 rows x 74 columns]"
      ]
     },
     "execution_count": 64,
     "metadata": {},
     "output_type": "execute_result"
    }
   ],
   "source": [
    "score=pd.concat([tf1,idf])\n",
    "score"
   ]
  },
  {
   "cell_type": "code",
   "execution_count": 65,
   "id": "aeed2ed5",
   "metadata": {},
   "outputs": [],
   "source": [
    "f= lambda x :x[0]+ x[1]"
   ]
  },
  {
   "cell_type": "code",
   "execution_count": 66,
   "id": "b5968bdd",
   "metadata": {},
   "outputs": [
    {
     "data": {
      "text/plain": [
       "i           2.000000\n",
       "In          1.333333\n",
       "vraiment    1.333333\n",
       "would       1.333333\n",
       "IA.I'm      1.333333\n",
       "              ...   \n",
       "du          1.333333\n",
       "intégrer    1.333333\n",
       "suis        2.333333\n",
       "j'ai        1.666667\n",
       "en          2.666667\n",
       "Length: 74, dtype: float64"
      ]
     },
     "execution_count": 66,
     "metadata": {},
     "output_type": "execute_result"
    }
   ],
   "source": [
    "tf_idf= score.apply(f, axis=0)\n",
    "tf_idf"
   ]
  },
  {
   "cell_type": "code",
   "execution_count": 67,
   "id": "aefebea7",
   "metadata": {
    "scrolled": true
   },
   "outputs": [
    {
     "data": {
      "text/html": [
       "<div>\n",
       "<style scoped>\n",
       "    .dataframe tbody tr th:only-of-type {\n",
       "        vertical-align: middle;\n",
       "    }\n",
       "\n",
       "    .dataframe tbody tr th {\n",
       "        vertical-align: top;\n",
       "    }\n",
       "\n",
       "    .dataframe thead th {\n",
       "        text-align: right;\n",
       "    }\n",
       "</style>\n",
       "<table border=\"1\" class=\"dataframe\">\n",
       "  <thead>\n",
       "    <tr style=\"text-align: right;\">\n",
       "      <th></th>\n",
       "      <th>tf-idf</th>\n",
       "    </tr>\n",
       "  </thead>\n",
       "  <tbody>\n",
       "    <tr>\n",
       "      <th>i</th>\n",
       "      <td>2.000000</td>\n",
       "    </tr>\n",
       "    <tr>\n",
       "      <th>In</th>\n",
       "      <td>1.333333</td>\n",
       "    </tr>\n",
       "    <tr>\n",
       "      <th>vraiment</th>\n",
       "      <td>1.333333</td>\n",
       "    </tr>\n",
       "    <tr>\n",
       "      <th>would</th>\n",
       "      <td>1.333333</td>\n",
       "    </tr>\n",
       "    <tr>\n",
       "      <th>IA.I'm</th>\n",
       "      <td>1.333333</td>\n",
       "    </tr>\n",
       "    <tr>\n",
       "      <th>...</th>\n",
       "      <td>...</td>\n",
       "    </tr>\n",
       "    <tr>\n",
       "      <th>du</th>\n",
       "      <td>1.333333</td>\n",
       "    </tr>\n",
       "    <tr>\n",
       "      <th>intégrer</th>\n",
       "      <td>1.333333</td>\n",
       "    </tr>\n",
       "    <tr>\n",
       "      <th>suis</th>\n",
       "      <td>2.333333</td>\n",
       "    </tr>\n",
       "    <tr>\n",
       "      <th>j'ai</th>\n",
       "      <td>1.666667</td>\n",
       "    </tr>\n",
       "    <tr>\n",
       "      <th>en</th>\n",
       "      <td>2.666667</td>\n",
       "    </tr>\n",
       "  </tbody>\n",
       "</table>\n",
       "<p>74 rows × 1 columns</p>\n",
       "</div>"
      ],
      "text/plain": [
       "            tf-idf\n",
       "i         2.000000\n",
       "In        1.333333\n",
       "vraiment  1.333333\n",
       "would     1.333333\n",
       "IA.I'm    1.333333\n",
       "...            ...\n",
       "du        1.333333\n",
       "intégrer  1.333333\n",
       "suis      2.333333\n",
       "j'ai      1.666667\n",
       "en        2.666667\n",
       "\n",
       "[74 rows x 1 columns]"
      ]
     },
     "execution_count": 67,
     "metadata": {},
     "output_type": "execute_result"
    }
   ],
   "source": [
    "tf_idf= pd.DataFrame(tf_idf, columns=['tf-idf'])\n",
    "tf_idf"
   ]
  },
  {
   "cell_type": "code",
   "execution_count": 68,
   "id": "554cde26",
   "metadata": {},
   "outputs": [
    {
     "data": {
      "text/html": [
       "<div>\n",
       "<style scoped>\n",
       "    .dataframe tbody tr th:only-of-type {\n",
       "        vertical-align: middle;\n",
       "    }\n",
       "\n",
       "    .dataframe tbody tr th {\n",
       "        vertical-align: top;\n",
       "    }\n",
       "\n",
       "    .dataframe thead th {\n",
       "        text-align: right;\n",
       "    }\n",
       "</style>\n",
       "<table border=\"1\" class=\"dataframe\">\n",
       "  <thead>\n",
       "    <tr style=\"text-align: right;\">\n",
       "      <th></th>\n",
       "      <th>i</th>\n",
       "      <th>In</th>\n",
       "      <th>vraiment</th>\n",
       "      <th>would</th>\n",
       "      <th>IA.I'm</th>\n",
       "      <th>Analyste</th>\n",
       "      <th>using</th>\n",
       "      <th>le</th>\n",
       "      <th>languages</th>\n",
       "      <th>technologie</th>\n",
       "      <th>...</th>\n",
       "      <th>développement</th>\n",
       "      <th>my</th>\n",
       "      <th>et</th>\n",
       "      <th>country</th>\n",
       "      <th>to</th>\n",
       "      <th>du</th>\n",
       "      <th>intégrer</th>\n",
       "      <th>suis</th>\n",
       "      <th>j'ai</th>\n",
       "      <th>en</th>\n",
       "    </tr>\n",
       "  </thead>\n",
       "  <tbody>\n",
       "    <tr>\n",
       "      <th>tf</th>\n",
       "      <td>1.0</td>\n",
       "      <td>1.000000</td>\n",
       "      <td>1.000000</td>\n",
       "      <td>1.000000</td>\n",
       "      <td>1.000000</td>\n",
       "      <td>1.000000</td>\n",
       "      <td>1.000000</td>\n",
       "      <td>3.0</td>\n",
       "      <td>1.000000</td>\n",
       "      <td>1.000000</td>\n",
       "      <td>...</td>\n",
       "      <td>1.000000</td>\n",
       "      <td>1.000000</td>\n",
       "      <td>2.000000</td>\n",
       "      <td>1.000000</td>\n",
       "      <td>1.000000</td>\n",
       "      <td>1.000000</td>\n",
       "      <td>1.000000</td>\n",
       "      <td>2.000000</td>\n",
       "      <td>1.000000</td>\n",
       "      <td>2.000000</td>\n",
       "    </tr>\n",
       "    <tr>\n",
       "      <th>idf</th>\n",
       "      <td>1.0</td>\n",
       "      <td>0.333333</td>\n",
       "      <td>0.333333</td>\n",
       "      <td>0.333333</td>\n",
       "      <td>0.333333</td>\n",
       "      <td>0.333333</td>\n",
       "      <td>0.333333</td>\n",
       "      <td>1.0</td>\n",
       "      <td>0.333333</td>\n",
       "      <td>0.333333</td>\n",
       "      <td>...</td>\n",
       "      <td>0.333333</td>\n",
       "      <td>0.333333</td>\n",
       "      <td>0.666667</td>\n",
       "      <td>0.333333</td>\n",
       "      <td>0.333333</td>\n",
       "      <td>0.333333</td>\n",
       "      <td>0.333333</td>\n",
       "      <td>0.333333</td>\n",
       "      <td>0.666667</td>\n",
       "      <td>0.666667</td>\n",
       "    </tr>\n",
       "    <tr>\n",
       "      <th>tf-idf</th>\n",
       "      <td>2.0</td>\n",
       "      <td>1.333333</td>\n",
       "      <td>1.333333</td>\n",
       "      <td>1.333333</td>\n",
       "      <td>1.333333</td>\n",
       "      <td>1.333333</td>\n",
       "      <td>1.333333</td>\n",
       "      <td>4.0</td>\n",
       "      <td>1.333333</td>\n",
       "      <td>1.333333</td>\n",
       "      <td>...</td>\n",
       "      <td>1.333333</td>\n",
       "      <td>1.333333</td>\n",
       "      <td>2.666667</td>\n",
       "      <td>1.333333</td>\n",
       "      <td>1.333333</td>\n",
       "      <td>1.333333</td>\n",
       "      <td>1.333333</td>\n",
       "      <td>2.333333</td>\n",
       "      <td>1.666667</td>\n",
       "      <td>2.666667</td>\n",
       "    </tr>\n",
       "  </tbody>\n",
       "</table>\n",
       "<p>3 rows × 74 columns</p>\n",
       "</div>"
      ],
      "text/plain": [
       "          i        In  vraiment     would    IA.I'm  Analyste     using   le  \\\n",
       "tf      1.0  1.000000  1.000000  1.000000  1.000000  1.000000  1.000000  3.0   \n",
       "idf     1.0  0.333333  0.333333  0.333333  0.333333  0.333333  0.333333  1.0   \n",
       "tf-idf  2.0  1.333333  1.333333  1.333333  1.333333  1.333333  1.333333  4.0   \n",
       "\n",
       "        languages  technologie  ...  développement        my        et  \\\n",
       "tf       1.000000     1.000000  ...       1.000000  1.000000  2.000000   \n",
       "idf      0.333333     0.333333  ...       0.333333  0.333333  0.666667   \n",
       "tf-idf   1.333333     1.333333  ...       1.333333  1.333333  2.666667   \n",
       "\n",
       "         country        to        du  intégrer      suis      j'ai        en  \n",
       "tf      1.000000  1.000000  1.000000  1.000000  2.000000  1.000000  2.000000  \n",
       "idf     0.333333  0.333333  0.333333  0.333333  0.333333  0.666667  0.666667  \n",
       "tf-idf  1.333333  1.333333  1.333333  1.333333  2.333333  1.666667  2.666667  \n",
       "\n",
       "[3 rows x 74 columns]"
      ]
     },
     "execution_count": 68,
     "metadata": {},
     "output_type": "execute_result"
    }
   ],
   "source": [
    "tf_idf_score=pd.concat([score, tf_idf.T])\n",
    "tf_idf_score"
   ]
  },
  {
   "cell_type": "code",
   "execution_count": 69,
   "id": "d79a25ff",
   "metadata": {},
   "outputs": [],
   "source": [
    "wordcloud = WordCloud().generate(\" \".join(token_2))"
   ]
  },
  {
   "cell_type": "code",
   "execution_count": 70,
   "id": "9a49c58e",
   "metadata": {},
   "outputs": [],
   "source": [
    "# Fonction pour générer le word cloud\n",
    "def generer_wordcloud(phrase):\n",
    "    tout_texte = ' '.join(phrase)\n",
    "    wordcloud = WordCloud(width=800, height=400, background_color='white').generate(tout_texte)\n",
    "    plt.figure(figsize=(10, 5))\n",
    "    plt.imshow(wordcloud, interpolation='bilinear')\n",
    "    plt.title(\"Phrases\", fontsize=14)\n",
    "    plt.axis('off')\n",
    "    plt.show()"
   ]
  },
  {
   "cell_type": "code",
   "execution_count": 71,
   "id": "c7b1b134",
   "metadata": {},
   "outputs": [
    {
     "data": {
      "image/png": "[encoded data removed]",
      "text/plain": [
       "<Figure size 1000x500 with 1 Axes>"
      ]
     },
     "metadata": {},
     "output_type": "display_data"
    }
   ],
   "source": [
    "generer_wordcloud(phrase1)"
   ]
  },
  {
   "cell_type": "markdown",
   "id": "7260b729",
   "metadata": {},
   "source": [
    "### Produit scalaire(u,v)\n",
    "##### u.v= ||U||.||V||.cos(u.v)\n",
    "##### cos(u,v)=u.v/||U||.||V||"
   ]
  },
  {
   "cell_type": "code",
   "execution_count": 73,
   "id": "3def4b52",
   "metadata": {},
   "outputs": [],
   "source": [
    "def cosinus(u,v):\n",
    "    u_norm= np.linalg.norm(u)\n",
    "    v_norm=np.linalg.norm(v)\n",
    "    u_scalar_v=np.dot(u,v)\n",
    "    return np.dot(u,v)/(np.linalg.norm(u)*np.linalg.norm(v))"
   ]
  },
  {
   "cell_type": "code",
   "execution_count": 74,
   "id": "9771e775",
   "metadata": {},
   "outputs": [],
   "source": [
    "arr1=np.array([1,3,2])\n",
    "arr2=np.array([-5,0,1])"
   ]
  },
  {
   "cell_type": "code",
   "execution_count": 75,
   "id": "aea1959f",
   "metadata": {},
   "outputs": [
    {
     "data": {
      "text/plain": [
       "-3"
      ]
     },
     "execution_count": 75,
     "metadata": {},
     "output_type": "execute_result"
    }
   ],
   "source": [
    "np.dot(arr1,arr2)"
   ]
  },
  {
   "cell_type": "code",
   "execution_count": 77,
   "id": "54c21fbd",
   "metadata": {},
   "outputs": [
    {
     "data": {
      "text/plain": [
       "-0.15724272550828775"
      ]
     },
     "execution_count": 77,
     "metadata": {},
     "output_type": "execute_result"
    }
   ],
   "source": [
    "cosinus(arr1,arr2)"
   ]
  },
  {
   "cell_type": "code",
   "execution_count": 84,
   "id": "ea2f002a",
   "metadata": {},
   "outputs": [],
   "source": [
    "import math\n",
    "def scalar(u,v):\n",
    "    return sum([elt1*elt2  for elt1,elt2 in zip(u,v)])\n",
    "def get_norm(u):\n",
    "    return math.sqrt(sum([elt**2 for elt in u]))"
   ]
  },
  {
   "cell_type": "code",
   "execution_count": 80,
   "id": "755950f6",
   "metadata": {},
   "outputs": [
    {
     "data": {
      "text/plain": [
       "-3"
      ]
     },
     "execution_count": 80,
     "metadata": {},
     "output_type": "execute_result"
    }
   ],
   "source": [
    "scalar(arr1,arr2)"
   ]
  },
  {
   "cell_type": "code",
   "execution_count": 81,
   "id": "ee2c643d",
   "metadata": {},
   "outputs": [
    {
     "data": {
      "text/plain": [
       "3.7416573867739413"
      ]
     },
     "execution_count": 81,
     "metadata": {},
     "output_type": "execute_result"
    }
   ],
   "source": [
    "np.linalg.norm(arr1)"
   ]
  },
  {
   "cell_type": "code",
   "execution_count": 82,
   "id": "beee3c9d",
   "metadata": {},
   "outputs": [
    {
     "data": {
      "text/plain": [
       "3.7416573867739413"
      ]
     },
     "execution_count": 82,
     "metadata": {},
     "output_type": "execute_result"
    }
   ],
   "source": [
    "np.sqrt(14)"
   ]
  },
  {
   "cell_type": "code",
   "execution_count": 85,
   "id": "4e7e3961",
   "metadata": {},
   "outputs": [
    {
     "data": {
      "text/plain": [
       "3.7416573867739413"
      ]
     },
     "execution_count": 85,
     "metadata": {},
     "output_type": "execute_result"
    }
   ],
   "source": [
    "get_norm(arr1)"
   ]
  },
  {
   "cell_type": "code",
   "execution_count": 86,
   "id": "1d6adc2f",
   "metadata": {},
   "outputs": [
    {
     "data": {
      "text/plain": [
       "0.7151894107096806"
      ]
     },
     "execution_count": 86,
     "metadata": {},
     "output_type": "execute_result"
    }
   ],
   "source": [
    "cosinus( vect_1,vect_2)"
   ]
  },
  {
   "cell_type": "markdown",
   "id": "c3a456ad",
   "metadata": {},
   "source": [
    "##### NB\n",
    "##### -Cette technique de nip permet de comprendre le thème d'un text donné sur la base du Wordcloud sans forcément le lire \n",
    "##### -Elle permet également de détecter le sentiment sur la base des mots fréquents présentsdans le corpus\n",
    "##### -Permet d'attribuer par la suite . Chaque mot a une classe données pour faire des recherches avancées après"
   ]
  },
  {
   "cell_type": "code",
   "execution_count": null,
   "id": "e69657ab",
   "metadata": {},
   "outputs": [],
   "source": []
  }
 ],
 "metadata": {
  "kernelspec": {
   "display_name": "Python 3 (ipykernel)",
   "language": "python",
   "name": "python3"
  },
  "language_info": {
   "codemirror_mode": {
    "name": "ipython",
    "version": 3
   },
   "file_extension": ".py",
   "mimetype": "text/x-python",
   "name": "python",
   "nbconvert_exporter": "python",
   "pygments_lexer": "ipython3",
   "version": "3.11.5"
  }
 },
 "nbformat": 4,
 "nbformat_minor": 5
}
