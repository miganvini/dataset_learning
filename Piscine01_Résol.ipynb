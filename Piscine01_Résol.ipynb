{
 "cells": [
  {
   "cell_type": "markdown",
   "id": "92c70998",
   "metadata": {},
   "source": [
    "EXERCISE 01\n",
    "\n",
    "Make a function “double_return”.\n",
    "It takes a Dictionary as parameter, and returns two lists.\n",
    "Those returned Lists must contains different values.\n",
    "In the first one, there is the list of the keys and the second the list of the values contained in the Dictionary\n",
    "parameter."
   ]
  },
  {
   "cell_type": "code",
   "execution_count": 7,
   "id": "6589480d",
   "metadata": {},
   "outputs": [
    {
     "ename": "SyntaxError",
     "evalue": "invalid syntax (3200944312.py, line 1)",
     "output_type": "error",
     "traceback": [
      "\u001b[0;36m  Cell \u001b[0;32mIn[7], line 1\u001b[0;36m\u001b[0m\n\u001b[0;31m    double_return={(\"age\":,\"name\":18,Vini)}\u001b[0m\n\u001b[0m                         ^\u001b[0m\n\u001b[0;31mSyntaxError\u001b[0m\u001b[0;31m:\u001b[0m invalid syntax\n"
     ]
    }
   ],
   "source": [
    "double_return={(\"age\":,\"name\":18,Vini)}"
   ]
  },
  {
   "cell_type": "code",
   "execution_count": null,
   "id": "c594987b",
   "metadata": {},
   "outputs": [],
   "source": []
  },
  {
   "cell_type": "code",
   "execution_count": null,
   "id": "930e7afd",
   "metadata": {},
   "outputs": [],
   "source": []
  }
 ],
 "metadata": {
  "kernelspec": {
   "display_name": "Python 3 (ipykernel)",
   "language": "python",
   "name": "python3"
  },
  "language_info": {
   "codemirror_mode": {
    "name": "ipython",
    "version": 3
   },
   "file_extension": ".py",
   "mimetype": "text/x-python",
   "name": "python",
   "nbconvert_exporter": "python",
   "pygments_lexer": "ipython3",
   "version": "3.11.5"
  }
 },
 "nbformat": 4,
 "nbformat_minor": 5
}
