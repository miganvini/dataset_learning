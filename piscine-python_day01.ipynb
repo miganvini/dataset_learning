{
 "cells": [
  {
   "cell_type": "markdown",
   "id": "3b99070e",
   "metadata": {},
   "source": [
    "## EXERCISE 01\n",
    "\n",
    "Make a function “double_return”.\n",
    "\n",
    "It takes a Dictionary as parameter, and returns two lists.\n",
    "Those returned Lists must contains different values.\n",
    "In the first one, there is the list of the keys and the second the list of the values contained in the Dictionary\n",
    "parameter.\n",
    "\n",
    "For example  double_return({“a”: 1, “b”: 2}))  returns\\\n",
    "([‘a’, ‘b’], [1, 2])"
   ]
  },
  {
   "cell_type": "markdown",
   "id": "3eb81250",
   "metadata": {},
   "source": [
    "## EXERCISE 02 \n",
    "\n",
    "Create a function “display_all”.\n",
    "It takes a Dictionary as parameters and display every elements of the Dictionary, formated as:\n",
    "\n",
    "“(class: value)” followed by a new line\n",
    "\n",
    "• “[class]”: must be the class of the element.\n",
    "\n",
    "• “[value]”: its value converted into a String\n",
    "\n",
    "For example  display_all({“test”: “hello”, “t”: 43, “pi”: 3.14}) return \\\n",
    "(str: hello)\\\n",
    "(int: 43)\\\n",
    "(float: 3.14)"
   ]
  },
  {
   "cell_type": "markdown",
   "id": "7b9c0ff1",
   "metadata": {},
   "source": [
    "## EXERCISE 03\n",
    "\n",
    "Create a function “display_all”.\n",
    "\n",
    "It takes a Dictionary as parameter and display every element of the Dictionary formated as:\n",
    "\n",
    "“key->(class: value)” followed by a new line\n",
    "\n",
    "For example :\n",
    "display_all({“test”: “hello”, “t”: 43, “pi”: 3.14})  returns\\\n",
    "test->(str: hello)\\\n",
    "t->(int: 43)\\\n",
    "pi->(float: 3.14)"
   ]
  },
  {
   "cell_type": "markdown",
   "id": "9a02853f",
   "metadata": {},
   "source": [
    "## EXERCISE 04\n",
    "\n",
    "Create a function “display_all”.\n",
    "\n",
    "It takes a Dictionary as parameter and displays every element of the Dictionary formated as:\n",
    "\n",
    "“id->(class: value)” followed by a new line\n",
    "\n",
    "“id” is the index, from 0 to the dictionary’s length.\n",
    "\n",
    "Note: “=” is forbidden only for assignations, not for default parameters. Same rule for every following exercise. thismeans you cannot create or change values of variables/arguments\n",
    "\n",
    "For example :\n",
    "display_all({“test”: “hello”, “t”: 43, “pi”: 3.14}) re \\\n",
    "0->(str: hello)\\\n",
    "1->(int: 43)\\\n",
    "2->(float: 3.14)"
   ]
  },
  {
   "cell_type": "markdown",
   "id": "85fd686c",
   "metadata": {},
   "source": [
    "## EXERCISE 5 \n",
    "\n",
    "Mandatory: Use python’s list/dict comprehension capacities\n",
    "\n",
    "Create a function “my_count_words” which takes a list as parameter and returns a dictionnary.\\\n",
    "The List passed as argument is filled with strings.\\\n",
    "The returned dictionnary must be formated to respect the following rules:\\\n",
    "• Every key is a string.\\\n",
    "• Every value is an integer.\\\n",
    "• The associated value is the count of occurrences of the key in the dictionary parameter.\n",
    "\n",
    "\n"
   ]
  },
  {
   "cell_type": "markdown",
   "id": "64ad9fd1",
   "metadata": {},
   "source": [
    "## EXERCISE 6\n",
    "\n",
    "Mandatory: Use reduce from functools\\\n",
    "Create a python script which will add or subtract the values passed as arguments and based on 3 simple\n",
    "rules:\\\n",
    "• If there is no arguments, then display 0.\\\n",
    "• Else, the first value to use is the first argument."
   ]
  },
  {
   "cell_type": "markdown",
   "id": "7098bcec",
   "metadata": {},
   "source": [
    "## EXERCISE 7\n",
    "\n",
    "We define the weight of a string as the sum of the products of the position of each vowel in that string by its rank in the French alphabet. If the string does not contain any vowels, its weight is equal to zero. Note: the vowels are A, E, I, O, U, Y, and their respective ranks are: 1, 5, 9, 15, 21, 25. Example: The string 'BONNE' contains 2 vowels 'O' and 'E,' so its weight is equal to 215 + 5 = 35. The string 'CHANCE' contains 2 vowels 'A' and 'E,' so its weight is equal to 15 + 5 = 10.\n",
    "\n",
    "Write a function that takes a string as an argument and returns its weight."
   ]
  },
  {
   "cell_type": "markdown",
   "id": "3b0a6282",
   "metadata": {},
   "source": [
    "## EXERCISE 8\n",
    "\n",
    "Write a function that, given a list a and two integers i and j, swaps the elements at indices i and j in a.\\\n",
    "\n",
    "For example, swap_index(0, 2, [1, 2, 3, 4, 5]) returns [3, 2, 1, 4, 5]."
   ]
  },
  {
   "cell_type": "markdown",
   "id": "067908c9",
   "metadata": {},
   "source": [
    "## EXERCISE 9\n",
    "\n",
    "\n",
    "\"Write a script that displays one of the following messages based on an input value:\n",
    "\n",
    "    \"This number is even.\"\n",
    "    \"This number is odd, but it is a multiple of 3.\"\n",
    "    \"This number is neither even nor a multiple of 3.\""
   ]
  },
  {
   "cell_type": "markdown",
   "id": "b74d36b3",
   "metadata": {},
   "source": [
    "## EXERCISE 10\n",
    "\n",
    "Write a special_mean() function that takes three lists:\\\n",
    "homework, compos and names and returns a dictionary of the form {name1:moy1,name2:moy2......}\n"
   ]
  }
 ],
 "metadata": {
  "kernelspec": {
   "display_name": "Python 3 (ipykernel)",
   "language": "python",
   "name": "python3"
  },
  "language_info": {
   "codemirror_mode": {
    "name": "ipython",
    "version": 3
   },
   "file_extension": ".py",
   "mimetype": "text/x-python",
   "name": "python",
   "nbconvert_exporter": "python",
   "pygments_lexer": "ipython3",
   "version": "3.11.5"
  }
 },
 "nbformat": 4,
 "nbformat_minor": 5
}
